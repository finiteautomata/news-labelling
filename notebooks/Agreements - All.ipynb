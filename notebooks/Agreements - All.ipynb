{
 "cells": [
  {
   "cell_type": "markdown",
   "metadata": {},
   "source": [
    "## Agreements - All Articles\n",
    "\n",
    "Vamos a ver los resultados del primer batch, que está etiquetado completo por dvalado y casi completo por gdamill"
   ]
  },
  {
   "cell_type": "code",
   "execution_count": 1,
   "metadata": {},
   "outputs": [],
   "source": [
    "%load_ext autoreload\n",
    "%autoreload 2\n",
    "import os\n",
    "import sys\n",
    "import django\n",
    "from tqdm.auto import tqdm\n",
    "\n",
    "os.environ[\"DJANGO_ALLOW_ASYNC_UNSAFE\"] = \"true\"\n",
    "\n",
    "sys.path.append(\"..\")\n",
    "os.environ['DJANGO_SETTINGS_MODULE'] = 'news_labelling.settings'\n",
    "django.setup()\n",
    "\n",
    "from api.models import Comment, ArticleLabel, CommentLabel, Article, Batch\n",
    "from django.contrib.auth.models import User"
   ]
  },
  {
   "cell_type": "markdown",
   "metadata": {},
   "source": [
    "Primero, veamos qué usuarios etiquetaron más de 4 artículos..."
   ]
  },
  {
   "cell_type": "code",
   "execution_count": 3,
   "metadata": {},
   "outputs": [],
   "source": [
    "from django.db.models import Count\n",
    "from api.metrics import AgreementCalculator\n",
    "\n",
    "articles = Article.objects.exclude(batch__name__in=[\"demo\", \"training\"])\n",
    "\n",
    "users = [u for u in User.objects.filter(username__in=[\n",
    "    \"asilva\", \n",
    "    \"fdesanctis\", \n",
    "    \"gdamill\", \n",
    "    \"dvalado\", \n",
    "    \"gclerici\",\n",
    "    \"lprats\",\n",
    "])]\n",
    "\n",
    "calculator = AgreementCalculator(articles=articles, users=users)\n",
    "\n"
   ]
  },
  {
   "cell_type": "markdown",
   "metadata": {},
   "source": [
    "## Agreements sobre odio\n",
    "\n",
    "Ahora usamos sólo Alpha que da casi igual que Fleiss"
   ]
  },
  {
   "cell_type": "code",
   "execution_count": 4,
   "metadata": {},
   "outputs": [
    {
     "name": "stdout",
     "output_type": "stream",
     "text": [
      "Alpha HATE para asilva - dvalado - fdesanctis - gclerici - gdamill - lprats: 0.583 (soporte = 13995)\n"
     ]
    }
   ],
   "source": [
    "import krippendorff\n",
    "\n",
    "alpha, support = calculator.get_agreement(\"hate\")\n",
    "\n",
    "print(f\"Alpha HATE para {' - '.join(calculator.usernames)}: {alpha:.3f} (soporte = {support})\")\n"
   ]
  },
  {
   "cell_type": "code",
   "execution_count": 5,
   "metadata": {},
   "outputs": [
    {
     "name": "stdout",
     "output_type": "stream",
     "text": [
      "Cantidad de mensajes etiquetados como odiosos\n"
     ]
    },
    {
     "data": {
      "text/plain": [
       "etiquetador\n",
       "asilva        0.126439\n",
       "dvalado       0.314370\n",
       "fdesanctis    0.306794\n",
       "gclerici      0.114104\n",
       "gdamill       0.140077\n",
       "lprats        0.145361\n",
       "dtype: float64"
      ]
     },
     "execution_count": 5,
     "metadata": {},
     "output_type": "execute_result"
    }
   ],
   "source": [
    "print(\"Cantidad de mensajes etiquetados como odiosos\")\n",
    "\n",
    "calculator.get_bias_towards(\"hate\")"
   ]
  },
  {
   "cell_type": "code",
   "execution_count": 6,
   "metadata": {},
   "outputs": [
    {
     "name": "stdout",
     "output_type": "stream",
     "text": [
      "Cantidad de mensajes etiquetados como odiosos\n",
      "Alpha CALLS para asilva - dvalado - fdesanctis - gclerici - gdamill - lprats: 0.480 (soporte = 3333)\n"
     ]
    }
   ],
   "source": [
    "print(\"Cantidad de mensajes etiquetados como odiosos\")\n",
    "\n",
    "alpha, support = calculator.get_agreement(\"calls\")\n",
    "\n",
    "print(f\"Alpha CALLS para {' - '.join(calculator.usernames)}: {alpha:.3f} (soporte = {support})\")"
   ]
  },
  {
   "cell_type": "markdown",
   "metadata": {},
   "source": [
    "## Alpha Krippendorff"
   ]
  },
  {
   "cell_type": "code",
   "execution_count": 7,
   "metadata": {},
   "outputs": [
    {
     "name": "stdout",
     "output_type": "stream",
     "text": [
      "================================================================================\n",
      "\n",
      "\n",
      "| Categoría      |  Alpha | Support |\n",
      "|----------------|--------|---------|\n",
      "| MUJER          |  0.531 |  1960   |\n",
      "| LGBTI          |  0.555 |  1402   |\n",
      "| RACISMO        |  0.608 |  3858   |\n",
      "| POBREZA        |  0.404 |  1353   |\n",
      "| POLITICA       |  0.509 |  2323   |\n",
      "| DISCAPACIDAD   |  0.596 |  837    |\n",
      "| ASPECTO        |  0.735 |  2264   |\n",
      "| CRIMINAL       |  0.618 |  2432   |\n",
      "Categorías salteadas: OTROS\n"
     ]
    }
   ],
   "source": [
    "import krippendorff\n",
    "\n",
    "\n",
    "skipped_categories = []\n",
    "print(\"=\"*80 + '\\n' * 2)\n",
    "print(\"| Categoría      |  Alpha | Support |\")\n",
    "print(\"|----------------|--------|---------|\")\n",
    "for category in CommentLabel.type_mapping:\n",
    "\n",
    "    alpha, support = calculator.get_agreement(category)\n",
    "    \n",
    "    if support == 0:\n",
    "        skipped_categories.append(category)\n",
    "        continue\n",
    "    print(f\"| {category:<12}   |  {alpha:.3f} |  {support:<6} |\")\n",
    "\n",
    "\n",
    "print(f\"Categorías salteadas: {' - '.join(skipped_categories)}\")"
   ]
  },
  {
   "cell_type": "markdown",
   "metadata": {},
   "source": [
    "================================================================================\n",
    "\n",
    "\n",
    "| Categoría      |  Alpha | Support |\n",
    "|----------------|--------|---------|\n",
    "| MUJER          |  0.783 |  1960   |\n",
    "| LGBTI          |  0.921 |  1402   |\n",
    "| RACISMO        |  0.929 |  3858   |\n",
    "| POBREZA        |  0.707 |  1353   |\n",
    "| POLITICA       |  0.809 |  2323   |\n",
    "| DISCAPACIDAD   |  0.850 |  837    |\n",
    "| ASPECTO        |  0.872 |  2264   |\n",
    "| CRIMINAL       |  0.931 |  2432   |\n",
    "\n",
    "\n",
    "================================================================================\n",
    "\n",
    "\n",
    "| Categoría      |  Alpha | Support |\n",
    "|----------------|--------|---------|\n",
    "| MUJER          |  0.531 |  1960   |\n",
    "| LGBTI          |  0.555 |  1402   |\n",
    "| RACISMO        |  0.608 |  3858   |\n",
    "| POBREZA        |  0.404 |  1353   |\n",
    "| POLITICA       |  0.509 |  2323   |\n",
    "| DISCAPACIDAD   |  0.596 |  837    |\n",
    "| ASPECTO        |  0.735 |  2264   |\n",
    "| CRIMINAL       |  0.618 |  2432   |\n"
   ]
  },
  {
   "cell_type": "markdown",
   "metadata": {},
   "source": [
    "## Disagrees\n"
   ]
  },
  {
   "cell_type": "code",
   "execution_count": 8,
   "metadata": {},
   "outputs": [],
   "source": [
    "report = calculator.get_category_report(\"MUJER\")"
   ]
  },
  {
   "cell_type": "code",
   "execution_count": 10,
   "metadata": {},
   "outputs": [
    {
     "data": {
      "text/plain": [
       "0.7833909491313714"
      ]
     },
     "execution_count": 10,
     "metadata": {},
     "output_type": "execute_result"
    }
   ],
   "source": [
    "report.alpha"
   ]
  },
  {
   "cell_type": "code",
   "execution_count": 8,
   "metadata": {},
   "outputs": [],
   "source": [
    "from collections import defaultdict\n",
    "def show_from_df(df, show=False):\n",
    "    article_to_comments = defaultdict(list)\n",
    "    \n",
    "    for comment_id in df.columns:\n",
    "        comment = Comment.objects.get(id=comment_id)\n",
    "        article_to_comments[comment.article_id].append(comment)\n",
    "        \n",
    "    for article_id, comments in article_to_comments.items():\n",
    "        print(\"=\"*45 + \"\\n\")\n",
    "        article = comments[0].article\n",
    "        print(article.title, \"\\n\")\n",
    "        \n",
    "        for comment in sorted(comments, key=lambda c: sum(df[c.id])):\n",
    "            print(\"\")\n",
    "            print(\"  - \",comment.text, end=\"\")\n",
    "            if show:\n",
    "                yes = [annotator for annotator, v in df[comment.id].items() if v] \n",
    "                no = [annotator for annotator, v in df[comment.id].items() if not v] \n",
    "                print(f\"\\n     - SI: {yes}  NO: {no}\")\n",
    "            else:\n",
    "                print(\"\")"
   ]
  },
  {
   "cell_type": "code",
   "execution_count": 11,
   "metadata": {},
   "outputs": [],
   "source": [
    "\n",
    "\n",
    "\n",
    "report = calculator.get_category_report(\"HATE\")"
   ]
  },
  {
   "cell_type": "code",
   "execution_count": 10,
   "metadata": {},
   "outputs": [
    {
     "ename": "NameError",
     "evalue": "name 'agree_comments' is not defined",
     "output_type": "error",
     "traceback": [
      "\u001b[0;31m---------------------------------------------------------------------------\u001b[0m",
      "\u001b[0;31mNameError\u001b[0m                                 Traceback (most recent call last)",
      "\u001b[0;32m<ipython-input-10-b16170520aac>\u001b[0m in \u001b[0;36m<module>\u001b[0;34m\u001b[0m\n\u001b[0;32m----> 1\u001b[0;31m \u001b[0mprint\u001b[0m\u001b[0;34m(\u001b[0m\u001b[0;34mf\"Agree on {agree_comments.shape[1]}\"\u001b[0m\u001b[0;34m)\u001b[0m\u001b[0;34m\u001b[0m\u001b[0;34m\u001b[0m\u001b[0m\n\u001b[0m\u001b[1;32m      2\u001b[0m \u001b[0mshow_from_df\u001b[0m\u001b[0;34m(\u001b[0m\u001b[0magree_comments\u001b[0m\u001b[0;34m)\u001b[0m\u001b[0;34m\u001b[0m\u001b[0;34m\u001b[0m\u001b[0m\n",
      "\u001b[0;31mNameError\u001b[0m: name 'agree_comments' is not defined"
     ]
    }
   ],
   "source": [
    "print(f\"Agree on {agree_comments.shape[1]}\")\n",
    "show_from_df(agree_comments)"
   ]
  },
  {
   "cell_type": "code",
   "execution_count": 16,
   "metadata": {},
   "outputs": [
    {
     "name": "stdout",
     "output_type": "stream",
     "text": [
      "Disagree on 80\n",
      "=============================================\n",
      "\n",
      "Coronavirus en Argentina: una mujer que violó la cuarentena mordió y les arrojó gas pimienta a tres policías \n",
      "\n",
      "\n",
      "  -  @usuario @usuario Defensores de derechos humanos pueden chuparme bien la pija, a esta mina hay que cagarla bien a trompadas adentro de la comisaría. Buenas noches\n",
      "     - SI: ['asilva']  NO: ['dvalado']\n",
      "\n",
      "  -  @usuario los resultados de la década ganada, PERONIA.\n",
      "     - SI: ['dvalado']  NO: ['asilva']\n",
      "\n",
      "  -  @usuario El policía no da más de caminar , falta entrenamiento y la gorda falta de educación\n",
      "     - SI: ['asilva']  NO: ['dvalado']\n",
      "\n",
      "  -  @usuario Encierren a esa loca en el geriátrico de Belgrano\n",
      "     - SI: ['dvalado']  NO: ['asilva']\n",
      "=============================================\n",
      "\n",
      "Coronavirus: la OMS viaja a China y empieza a estudiar la nueva gripe porcina \n",
      "\n",
      "\n",
      "  -  @usuario son TODOS UNOS HIJOS DE PUTA, TANTO CHINOS, ONU Y OMS. POR LA MATANZA DE BILLONES DE ANIMALES\n",
      "     - SI: ['dvalado']  NO: ['asilva']\n",
      "\n",
      "  -  @usuario Me parece q NU y la OMS ya tendrían q ocuparse seriamente de China. Es un territorio inmenso con 1400 millones de personas q propagan cualquier cosa en días. Con unas costumbres alimenticias q demostraron ser peligrosísimas. No somos mejores pero parece que ahí hay un plus.\n",
      "     - SI: ['dvalado']  NO: ['asilva']\n",
      "=============================================\n",
      "\n",
      "Coronavirus. Eugenio Zaffaroni defendió la liberación de presos: \"Nadie habla de soltar a violadores y homicidas, sino de evitar una masacre\" \n",
      "\n",
      "\n",
      "  -  @usuario NO A LA MIBERTAD DE PRESOS, si evita una masacre adentro, estos saldrán a masacrar gente afuera, xD, dejen de joder.\n",
      "     - SI: ['dvalado']  NO: ['asilva']\n",
      "\n",
      "  -  @usuario Lamentable tu cargo, lamentable tu pensamiento. Salen y hacen el mal afuera. Los presos son presos.\n",
      "     - SI: ['dvalado']  NO: ['asilva']\n",
      "\n",
      "  -  @usuario No estamos hablando un posibilidad, (evitar una masacre), estamos hablando de un hecho concreto, y es que soltaron violadores y asesinos.\n",
      "     - SI: ['dvalado']  NO: ['asilva']\n",
      "\n",
      "  -  @usuario Sos tan mierda cómo los presos asesinos y violadores\n",
      "     - SI: ['asilva']  NO: ['dvalado']\n",
      "\n",
      "  -  @usuario Reemplazar una masacre de presos por una masacre de gente inocente?\n",
      "\n",
      "#EstoPasaEnArgentina\n",
      "     - SI: ['dvalado']  NO: ['asilva']\n",
      "\n",
      "  -  @usuario palabras un tanto huecas...evitar la masacre seria dejarlos presos .\n",
      "     - SI: ['dvalado']  NO: ['asilva']\n",
      "\n",
      "  -  @usuario Ellos trataron de evitar hacer daño a sus victimas?? No les importó. La misma moneda para ellos. Han destruído vidas, familias\n",
      "     - SI: ['dvalado']  NO: ['asilva']\n",
      "\n",
      "  -  @usuario Lo imperfecto no es el sistema judicial, son las LAKRAS que los manejan como este bicho\n",
      "     - SI: ['asilva']  NO: ['dvalado']\n",
      "\n",
      "  -  @usuario Delincuente defendiendo delincuentes, nunca a ciudadanos trabajadores, honestos y honrados. Lo suyo es anarquismo puro.\n",
      "     - SI: ['dvalado']  NO: ['asilva']\n",
      "=============================================\n",
      "\n",
      "Coronavirus en la Argentina: movimientos sociales reclaman asistencia alimentaria en el Obelisco \n",
      "\n",
      "\n",
      "  -  @usuario Pues me parece que mucho hambre no estan pasando,por la foto digo.Prueben con laburar,es saludable y da buenos resultados\n",
      "     - SI: ['asilva']  NO: ['dvalado']\n",
      "\n",
      "  -  @usuario La de cuarentena con hambre , no luce desnutrida precisamente\n",
      "     - SI: ['asilva']  NO: ['dvalado']\n",
      "\n",
      "  -  @usuario Es increible q estas cosas pasen toda la vida en la calle reclamando q alguien se haga cargo de mantenerlos. \n",
      "Viven ofendidos porq nadie les regala plata, y te lo dicen en la cara.\n",
      "     - SI: ['asilva']  NO: ['dvalado']\n",
      "\n",
      "  -  @usuario Basta con el cuento del hambre. Esas son referentes???\n",
      "     - SI: ['asilva']  NO: ['dvalado']\n",
      "\n",
      "  -  @usuario y en plaza 11 regalan palas para trabajar\n",
      "     - SI: ['dvalado']  NO: ['asilva']\n",
      "\n",
      "  -  @usuario Se las nota con mucho hambre, sí.\n",
      "     - SI: ['asilva']  NO: ['dvalado']\n",
      "=============================================\n",
      "\n",
      "El coronavirus podría decretar el final de las ficciones nacionales: ¿se acaba una era en la televisión argentina? \n",
      "\n",
      "\n",
      "  -  @usuario Algo bueno tuvo el virus chino...\n",
      "     - SI: ['asilva']  NO: ['dvalado']\n",
      "=============================================\n",
      "\n",
      "Donald Trump: “China ha causado un gran daño a Estados Unidos y al resto del mundo” \n",
      "\n",
      "\n",
      "  -  @usuario ,..Y NINGUN OTRO PRESIDENTE \n",
      "Ha SIDO CAPAS DE CONDENAR\n",
      "a CHINA por ESTE GRAVE DAÑO\n",
      "al MUNDO .. QUE PAGUEN con DINERO a TODOS los PAÍSES\n",
      "MÁS DAÑADOS por esta #Pandemia🦠\n",
      "     - SI: ['dvalado']  NO: ['asilva']\n",
      "\n",
      "  -  @usuario Si ! Chino y su manía de comer animales! Hdps!\n",
      "     - SI: ['dvalado']  NO: ['asilva']\n",
      "\n",
      "  -  @usuario Claro que si señor!! Hagan lo que deban hacer.\n",
      "     - SI: ['dvalado']  NO: ['asilva']\n",
      "\n",
      "  -  @usuario @usuario Bloqueo a China\n",
      "     - SI: ['dvalado']  NO: ['asilva']\n",
      "\n",
      "  -  @usuario Dios por suerte existe Estados Unidos , imagínate gente como los chinos o los árabes o la banda de Maduro , podrían hacer lo que quieren con el mundo , esteres que piensan si Usa se va de Medio Oriente o del golfo de Corea que pasas ? Los chinos y los iraníes invanden todo\n",
      "     - SI: ['dvalado']  NO: ['asilva']\n",
      "=============================================\n",
      "\n",
      "Un bufete de abogados presentó una demanda colectiva contra el régimen chino por causar la pandemia del COVID-19 \n",
      "\n",
      "\n",
      "  -  @usuario Demanden lo por mi por favor!!!!!!! Que dejen al ecosistema en paz ! Que se coman entre ellos si quieren comer carne\n",
      "     - SI: ['dvalado']  NO: ['asilva']\n",
      "\n",
      "  -  @usuario Y de paso , también por la peste negra ,algún país de África por el Ébola y latinoamerica por el dengue ,y nosotros a ellos por ocultar las bombas nucleares y usarlas en Japón .....buitres\n",
      "     - SI: ['asilva']  NO: ['dvalado']\n",
      "\n",
      "  -  @usuario Que pelotudes ,a menos que comprueben que fue intencional solo sirve para molestar.\n",
      "Y lo digo odiando a los chinos.\n",
      "     - SI: ['asilva']  NO: ['dvalado']\n",
      "\n",
      "  -  @usuario Desde la revolución popular china (1949) hasta la actualidad China sigue siendo una dictadura comunista en el ámbito político que le sigue haciendo daño a toda la humanidad, le miente al mundo y encima no reconoce sus terribles errores.   #bastadecomunismo #chinamiente\n",
      "     - SI: ['dvalado']  NO: ['asilva']\n",
      "\n",
      "  -  @usuario Exclusivamente. China deberia responder por todo el mundo q se enfermo culpa de ellos #angieencuarentena\n",
      "     - SI: ['dvalado']  NO: ['asilva']\n",
      "\n",
      "  -  @usuario @usuario pobres chinitos\n",
      "\n",
      "no fue queriendo\n",
      "     - SI: ['dvalado']  NO: ['asilva']\n",
      "=============================================\n",
      "\n",
      "En plena pandemia, arman un trío con una travesti en un auto y acaban presos \n",
      "\n",
      "\n",
      "  -  @usuario \"Acabaron\" presos??\n",
      "     - SI: ['dvalado']  NO: ['asilva']\n",
      "\n",
      "  -  @usuario Osea acaban presos! 😁😁😁\n",
      "     - SI: ['dvalado']  NO: ['asilva']\n",
      "\n",
      "  -  @usuario Terribles mugrosos\n",
      "     - SI: ['dvalado']  NO: ['asilva']\n",
      "\n",
      "  -  @usuario UNA travesti cronica, no seas tan hijo de puta 😂😂😂\n",
      "     - SI: ['dvalado']  NO: ['asilva']\n",
      "\n",
      "  -  @usuario Acaban presos, o sea tuvo final feliz 🤣🤣🤣\n",
      "     - SI: ['dvalado']  NO: ['asilva']\n",
      "=============================================\n",
      "\n",
      "El ex presidente uruguayo José Mujica renunció al Senado y se retira de la política activa \n",
      "\n",
      "\n",
      "  -  @usuario Uno menos, este no jode más\n",
      "     - SI: ['dvalado']  NO: ['asilva']\n",
      "\n",
      "  -  @usuario Vaaamoo uno menos de esa secta\n",
      "     - SI: ['dvalado']  NO: ['asilva']\n",
      "\n",
      "  -  @usuario era hora, ojala todos los comunistas se retiraran y dejaran de hacer daño a la sociedad\n",
      "     - SI: ['dvalado']  NO: ['asilva']\n",
      "\n",
      "  -  @usuario Uno menos\n",
      "     - SI: ['dvalado']  NO: ['asilva']\n",
      "\n",
      "  -  @usuario Uno menos....\n",
      "     - SI: ['dvalado']  NO: ['asilva']\n",
      "=============================================\n",
      "\n",
      "El Gobierno autorizó la apertura de las escuelas porteñas para las elecciones de Bolivia \n",
      "\n",
      "\n",
      "  -  @usuario Para ver q los estudiantes no tienen educación pero si tienen a un narco asilado, futura Venezuela en Argentina. 🤔\n",
      "     - SI: ['dvalado']  NO: ['asilva']\n",
      "\n",
      "  -  @usuario Que usen el consulado y la embajada! Tambien hay q pagarle las elecciones? Quien cuida las escuelas y limpia despues? No jodamos\n",
      "     - SI: ['dvalado']  NO: ['asilva']\n",
      "\n",
      "  -  @usuario Quieren infectar la CABA.\n",
      "     - SI: ['dvalado']  NO: ['asilva']\n",
      "\n",
      "  -  @usuario Le damos asilo pagado con la nuestra, y ahora le ayudamos con los votos, QUE GOBIERNO DE MIERDA\n",
      "     - SI: ['asilva']  NO: ['dvalado']\n",
      "\n",
      "  -  @usuario Necesitan darle una mano a Evo!!!! Que caraduras!!! Todo cerrado pero para ayudar a otro comunista no hay pandemia!!!\n",
      "     - SI: ['dvalado']  NO: ['asilva']\n",
      "\n",
      "  -  @usuario Pocas escuelas, por unas horas y con protocolos. Publicaron esto varias veces ayer y hoy de nuevo por las dudas algún globoludo no lo haya visto.\n",
      "     - SI: ['dvalado']  NO: ['asilva']\n",
      "\n",
      "  -  @usuario @usuario los ciudadanos extranjeros deben votar en su embajada,mientras tanto siguen creando una sociedad analfabeta para que viva de planes sociales y así pueden perpetuarse en el poder\n",
      "Encerraron y exprimen a la población, destruyeron la economía y targiversan estadísticas\n",
      "     - SI: ['dvalado']  NO: ['asilva']\n",
      "\n",
      "  -  @usuario Aprovechen y censen a todos los ciudadanos bolivianos que viven en el pais, verifiquen si cobran IFE, Asignaciones y demás ayudas s se las suspenden\n",
      "     - SI: ['asilva']  NO: ['dvalado']\n",
      "\n",
      "  -  @usuario Que se haga en su país las elecciones. ¿Qué tienen que andar usando las escuelas argentinas?\n",
      "     - SI: ['dvalado']  NO: ['asilva']\n",
      "\n",
      "  -  @usuario GRATIS ??? te enfermas en bolivia y pagas hasta por todo y aca ALVERSERO y su Troupe de Cientifikos se lo dara gratis??\n",
      "     - SI: ['dvalado']  NO: ['asilva']\n",
      "\n",
      "  -  @usuario 🤢🤦🏻‍♂️\n",
      "     - SI: ['dvalado']  NO: ['asilva']\n",
      "\n",
      "  -  @usuario La idea es facilitarles el  contagio\n",
      "     - SI: ['dvalado']  NO: ['asilva']\n",
      "=============================================\n",
      "\n",
      "“Si no hay justicia, tendremos que salir a cazar gente”: la peligrosa amenaza de un padre ante el pedido de prisión domiciliaria del violador de su hijo \n",
      "\n",
      "\n",
      "  -  @usuario Y que esperaban !! Opino lo mismo !! Peligroso es el delincuente no los dichos de un padre victima de un sistema perverso. Si tanto defienden a los delincuentes porque no los llevan a sus propias casas y viven con ellos.\n",
      "     - SI: ['dvalado']  NO: ['asilva']\n",
      "\n",
      "  -  @usuario Me parece q si seguimos asi se viene una guerra civil xq me esta dando la sensacion con todas las señales q da no querra eso el kirchnerismo peronismo👌\n",
      "     - SI: ['dvalado']  NO: ['asilva']\n",
      "\n",
      "  -  @usuario Justicia por mano propia es la unica que queda\n",
      "     - SI: ['asilva']  NO: ['dvalado']\n",
      "\n",
      "  -  @usuario Tengo armas legales, portación y concurso 27 años en tiro. Lo apoyo6\n",
      "     - SI: ['asilva']  NO: ['dvalado']\n",
      "\n",
      "  -  @usuario Ya que liberan los delincuentes permitan la libre portación de armas\n",
      "     - SI: ['asilva']  NO: ['dvalado']\n",
      "\n",
      "  -  @usuario Desacuerdo. No son gente.\n",
      "     - SI: ['dvalado']  NO: ['asilva']\n",
      "\n",
      "  -  @usuario Peligrosa amenaza? Peligroso es dejar salir a delincuentes, asesinos y violadores. Lamentablemente la gente va a hacer justicia por mano propia, están cansado de que les tomen el pelo.\n",
      "     - SI: ['dvalado']  NO: ['asilva']\n",
      "=============================================\n",
      "\n",
      "Máximo Kirchner: \"Engordaron a la ciudad más rica del país en detrimento del resto\" \n",
      "\n",
      "\n",
      "  -  @usuario O sea q la culpa de la pobreza a nivel país es de #Macri xq hizo durante años una buena gestión con la #capital? Nunca reconocer errores? Nunca reconocer q los lugares donde gobierna el #peronismo desde hace años es pobre xq el dinero se roba y no se invierte?\n",
      "     - SI: ['dvalado']  NO: ['asilva']\n",
      "=============================================\n",
      "\n",
      "Florencia Peña: “No debe ser fácil ser hijo mío, pero como mamá estoy a la altura de la circunstancia” \n",
      "\n",
      "\n",
      "  -  @usuario ¿Está mal escrito? ¿No será \"ningún hombre ha logrado que hiciera lo que yo no quería\"?\n",
      "     - SI: ['dvalado']  NO: ['asilva']\n",
      "\n",
      "  -  @usuario Eso es ser feminista ? Ser militante kirchnerista te atrofia la única neurona que tienen. Qué  gran logro cabeza de termo !!! \n",
      "Ustedes mismas se autoofenden.\n",
      "     - SI: ['dvalado']  NO: ['asilva']\n",
      "\n",
      "  -  @usuario Asi que eso es ser feminista???\n",
      "Mira 🙄\n",
      "     - SI: ['dvalado']  NO: ['asilva']\n",
      "\n",
      "  -  @usuario 🤮🤮🤮🤮🤮🤮\n",
      "     - SI: ['dvalado']  NO: ['asilva']\n",
      "\n",
      "  -  @usuario No se pero el videíto que anda por internet dice todo lo contrario e...\n",
      "     - SI: ['dvalado']  NO: ['asilva']\n",
      "\n",
      "  -  @usuario Hay mujeres que no saben diferenciar de \"hacer lo que ella quiere\" con \"caballerosidad\". Es por eso que algunas mujetes no merecen ser bien tratadas. Porque condunden las cosas.\n",
      "     - SI: ['dvalado']  NO: ['asilva']\n",
      "\n",
      "  -  @usuario Quién paga para publicitar a esta Flor de Peronuda?\n",
      "     - SI: ['dvalado']  NO: ['asilva']\n",
      "\n",
      "  -  @usuario 😳 Que tiene que ver el culo con los dientes 🤦‍♀️\n",
      "     - SI: ['dvalado']  NO: ['asilva']\n",
      "\n",
      "  -  @usuario El Relato del feminismo...\n",
      "     - SI: ['dvalado']  NO: ['asilva']\n",
      "\n",
      "  -  @usuario Usaste por años la peluca rubia de Moni... te quedó ESPANTOSA, y vas y te pones ese color en el pelo? Nunca te diste cuenta? Hueca.\n",
      "     - SI: ['dvalado']  NO: ['asilva']\n",
      "\n",
      "  -  @usuario Eso no es \"ser feminista\"... Una mujer que se respeta y se hace respetar tiene \"DIGNIDAD\"... Se es mejor por ser digno, no por sostener una ideología nefasta...\n",
      "     - SI: ['dvalado']  NO: ['asilva']\n",
      "\n",
      "  -  @usuario Eso de La Pechocha era reeee feminista. Una mujer tomada en cuenta por sus valores e intelecto\n",
      "     - SI: ['dvalado']  NO: ['asilva']\n",
      "\n",
      "  -  @usuario Flor tenes menos feminismo que Cacho Castaño, no podes ser tan falluta...te sacas cartel con el cuento de lo sexistas q son los medios por la forma en que se nos cosifican a las mujeres y después te prestas a hacer publicidades mostrando el tuje para vender motos a los tipos 🤦‍♀️\n",
      "     - SI: ['dvalado']  NO: ['asilva']\n",
      "\n",
      "  -  @usuario pero sale en bolas en las fotos,  simple la deducción\n",
      "     - SI: ['dvalado']  NO: ['asilva']\n",
      "\n",
      "  -  @usuario ???????queeeee? Una feminista ???? Q buen chiste! Sobre todo cuando te prestabas para hacer la oechocha  ...\n",
      "     - SI: ['dvalado']  NO: ['asilva']\n",
      "\n",
      "  -  @usuario Pensé que el feminismo abarcaba otros aspectos....\n",
      "     - SI: ['dvalado']  NO: ['asilva']\n",
      "\n",
      "  -  @usuario El oficio se lo ha permitido con muchos hombres!!!!\n",
      "     - SI: ['dvalado']  NO: ['asilva']\n"
     ]
    }
   ],
   "source": [
    "print(f\"Disagree on {disagree_comments.shape[1]}\")\n",
    "show_from_df(disagree_comments, show=True)"
   ]
  },
  {
   "cell_type": "markdown",
   "metadata": {},
   "source": [
    "## MUJER"
   ]
  },
  {
   "cell_type": "code",
   "execution_count": 16,
   "metadata": {},
   "outputs": [],
   "source": [
    "\n",
    "\n",
    "\n",
    "agree_comments, disagree_comments, non_hateful_comments = calculator.get_agrees_and_disagrees(\"MUJER\")"
   ]
  },
  {
   "cell_type": "code",
   "execution_count": 17,
   "metadata": {},
   "outputs": [
    {
     "name": "stdout",
     "output_type": "stream",
     "text": [
      "=============================================\n",
      "\n",
      "Verónica Magario pidió endurecer la cuarentena: “Debemos frenar la circulación de personas en el AMBA para evitar contagios” \n",
      "\n",
      "\n",
      "  -  @usuario Pero my darling #Magario como vas a hacer para mantener ese color rubio groncho natural que usas en tu pelo? 🙄\n",
      "\n",
      "  -  @usuario Hablo la petera\n",
      "\n",
      "  -  @usuario Que grasa esta, quien le va a hacer el color y la planchita si los peluqueros no pueden trabajar, mas ordinarios no pueden ser...!\n",
      "=============================================\n",
      "\n",
      "“Cristian, mirá lo que hago por vos”: quién es la modelo que se metió en el baúl de un auto para violar la cuarentena \n",
      "\n",
      "\n",
      "  -  @usuario Tantas ganas de pija vas a tener!? Pegate una guitarreada, michifus!!!!!\n",
      "\n",
      "  -  @usuario hot? Es un espanto, una muñeca inflable, por favor\n",
      "\n",
      "  -  @usuario Prostitución no está excluida\n",
      "\n",
      "  -  @usuario A lo mejor tenía que ir a cobrar?\n",
      "\n",
      "  -  @usuario Delivery de trola\n",
      "\n",
      "  -  @usuario Lo único natural que tiene ese gato es el porcentaje de algodón de la ropa que usa. Además que demostró tener la capacidad intelectual de una gaviota.🕊️\n",
      "\n",
      "  -  @usuario Fue a laburar\n",
      "\n",
      "  -  @usuario Lo que se metió es silicona esta mujer y bastante\n",
      "\n",
      "  -  @usuario Mmm ese rodado de gomas es mucho para ese chasis!\n",
      "\n",
      "  -  @usuario Que pinta de trola\n",
      "\n",
      "  -  @usuario Terrible gato. Y fea.\n",
      "\n",
      "  -  @usuario Es traba?....\n",
      "\n",
      "  -  @usuario Que boluda, podía sacar un permiso esencial de visita higiénica amparada por sindicato de las trabajadoras sexuales.\n",
      "\n",
      "  -  @usuario Modelo... de put@usuario\n",
      "\n",
      "  -  @usuario Me parece he visto un lindo gatito...\n",
      "\n",
      "  -  @usuario FLOR DE PUTA...CONSOLADORES MAMI\n",
      "\n",
      "  -  @usuario La silicona le subió al cerebro\n",
      "\n",
      "  -  @usuario la llevan a un YPF Serviclub a inflarse las tetas\n",
      "\n",
      "  -  @usuario Gatazo con virus varios.\n",
      "\n",
      "  -  @usuario Cristian le debe pagar en dólares o euros...\n",
      "\n",
      "  -  @usuario Alguno penso en el petardo que le debe haber hecho al taxista para que la meta en el baúl?\n",
      "\n",
      "  -  @usuario Todo bien que seas trola mamita, pero un poco de amor propio por favor!!!\n",
      "\n",
      "  -  @usuario Metió todo ese material inflamable en el baúl de un taxi con  GNC. Un peligro!!!\n",
      "=============================================\n",
      "\n",
      "Martha Rosenberg: “En situación de pandemia, legalizar el aborto es más urgente que nunca” \n",
      "\n",
      "\n",
      "  -  @usuario Dice eso porque en pandemia las luchonas cogen más, no?\n",
      "\n",
      "  -  @usuario Salieron con todo, sigan participando ranas\n",
      "\n",
      "  -  @usuario Propongo eutanasia a las de pañuelo verde.\n",
      "=============================================\n",
      "\n",
      "Vero Lozano se burló al aire de Nicolás Wiñazki por su reclamo sobre la cuarentena \n",
      "\n",
      "\n",
      "  -  @usuario Nombre: Lacon\n",
      "Apellido: Chuda\n",
      "\n",
      "  -  @usuario Patetica, despues sale con un azquerozo pañuelo verde a hablar de feminismo.\n",
      "Irrespetuosa,maleducada, ignorante!!\n",
      "Das asco!\n",
      "=============================================\n",
      "\n",
      "Julia Mengolini volvió a criticar a Jimena Barón: “Estar buena te sirve solo a vos, no estás haciendo nada por los demás” \n",
      "\n",
      "\n",
      "  -  @usuario Mengolini es una pobre mina, colgada del feminismo para tener un lugar en la nada misma.\n"
     ]
    }
   ],
   "source": [
    "show_from_df(agree_comments)"
   ]
  },
  {
   "cell_type": "markdown",
   "metadata": {},
   "source": [
    "Busquemos dónde hay discrepancias"
   ]
  },
  {
   "cell_type": "code",
   "execution_count": 18,
   "metadata": {},
   "outputs": [
    {
     "name": "stdout",
     "output_type": "stream",
     "text": [
      "=============================================\n",
      "\n",
      "Coronavirus en Argentina: Cristina Kirchner vuelve de Cuba junto a su hija Florencia y permanecerá aislada por 14 días \n",
      "\n",
      "\n",
      "  -  @usuario ¡Que cirujeada esta la supuesta enfermita!  Hipocritas.\n",
      "     - SI: ['gdamill']  NO: ['dvalado']\n",
      "\n",
      "  -  @usuario Tendrían q ir directamente a la cárcel de Ezeiza. Por Truchas, chorras y fieras! 🤮\n",
      "     - SI: ['gdamill']  NO: ['dvalado']\n",
      "\n",
      "  -  @usuario Tan poco?, que aproveche la muchachita y se quede más en su casa, que abandonar a un hijo no se arregla con 14 días o 4 millones de dólares. Que este bien\n",
      "     - SI: ['dvalado']  NO: ['gdamill']\n",
      "\n",
      "  -  @usuario Obvio dejando la grande en Argentina perra cobarde\n",
      "     - SI: ['dvalado']  NO: ['gdamill']\n",
      "=============================================\n",
      "\n",
      "Verónica Magario pidió endurecer la cuarentena: “Debemos frenar la circulación de personas en el AMBA para evitar contagios” \n",
      "\n",
      "\n",
      "  -  @usuario Jajajaaj está cruela tuneada que se ocupe de su reino feudal mejor\n",
      "     - SI: ['gdamill']  NO: ['dvalado']\n",
      "\n",
      "  -  @usuario Magario, si cruzas la General Paz PERSONALMENTE te meto presa.\n",
      "     - SI: ['gdamill']  NO: ['dvalado']\n",
      "\n",
      "  -  @usuario Disfrute lo que le queda de tiempo con la cabeza pegada al cuerpo, señora...\n",
      "     - SI: ['gdamill']  NO: ['dvalado']\n",
      "\n",
      "  -  @usuario Cállate cabeza de termo tenida\n",
      "     - SI: ['dvalado']  NO: ['gdamill']\n",
      "\n",
      "  -  @usuario Podría patrullar en escoba\n",
      "     - SI: ['dvalado']  NO: ['gdamill']\n",
      "=============================================\n",
      "\n",
      "“Cristian, mirá lo que hago por vos”: quién es la modelo que se metió en el baúl de un auto para violar la cuarentena \n",
      "\n",
      "\n",
      "  -  @usuario Que debe calzar Cristian para que esta mina se meta en un baúl!!??\n",
      "     - SI: ['dvalado']  NO: ['gdamill']\n",
      "\n",
      "  -  @usuario Jajaja modelo Hot jaja Telosu!! Mami diría la Moria !! Jaja ridícula tafaldegaver\n",
      "     - SI: ['dvalado']  NO: ['gdamill']\n",
      "\n",
      "  -  @usuario Se le caen los clientes.\n",
      "     - SI: ['dvalado']  NO: ['gdamill']\n",
      "\n",
      "  -  @usuario Bueh lo que hace esta parda por hacerse conocer...\n",
      "     - SI: ['dvalado']  NO: ['gdamill']\n",
      "\n",
      "  -  @usuario Los airbag , en el volante o en el baúl?\n",
      "No entiendo\n",
      "     - SI: ['gdamill']  NO: ['dvalado']\n",
      "=============================================\n",
      "\n",
      "Martha Rosenberg: “En situación de pandemia, legalizar el aborto es más urgente que nunca” \n",
      "\n",
      "\n",
      "  -  @usuario @usuario Haga el delicioso por el orte y se olvida del aborte.\n",
      "     - SI: ['dvalado']  NO: ['gdamill']\n",
      "\n",
      "  -  @usuario La verdad que sí...así se dejan de reproducir!!!\n",
      "     - SI: ['dvalado']  NO: ['gdamill']\n",
      "\n",
      "  -  @usuario Vieja, sucia y con el cerebro de una ameba, así envejecen las féminas sometidas\n",
      "     - SI: ['gdamill']  NO: ['dvalado']\n",
      "=============================================\n",
      "\n",
      "Vero Lozano se burló al aire de Nicolás Wiñazki por su reclamo sobre la cuarentena \n",
      "\n",
      "\n",
      "  -  @usuario una pobre (me refiero a su cerebro) mujer\n",
      "     - SI: ['gdamill']  NO: ['dvalado']\n",
      "\n",
      "  -  @usuario Negra, ordinaria y resentida además de tener a un ex corrupto\n",
      "     - SI: ['gdamill']  NO: ['dvalado']\n",
      "=============================================\n",
      "\n",
      "Julia Mengolini volvió a criticar a Jimena Barón: “Estar buena te sirve solo a vos, no estás haciendo nada por los demás” \n",
      "\n",
      "\n",
      "  -  @usuario Y... Es Julia \"bagayo\" mengolini. Todo envidia.\n",
      "     - SI: ['gdamill']  NO: ['dvalado']\n",
      "\n",
      "  -  @usuario SÓLO SABE SACARSE FOTOS EN BOLA\n",
      "     - SI: ['dvalado']  NO: ['gdamill']\n",
      "\n",
      "  -  @usuario Típico del feminismo y la izquierda. Cuando alguien tiene mas q ellos, o es mejor..  siempre lo acusan, le tiran mierda, le tienen envidia o se victimizan. Son de manual. \n",
      "Igual tampoco me fumo a Varón.\n",
      "     - SI: ['dvalado']  NO: ['gdamill']\n",
      "\n",
      "  -  @usuario Estar buena ???? Si es el 3 de platense !!!!!!!\n",
      "     - SI: ['gdamill']  NO: ['dvalado']\n",
      "\n",
      "  -  @usuario Pelea de IDIOTAS en celo\n",
      "     - SI: ['gdamill']  NO: ['dvalado']\n",
      "\n",
      "  -  @usuario Tampoco esta tan buena....de cara bastante para atrás\n",
      "     - SI: ['gdamill']  NO: ['dvalado']\n",
      "\n",
      "  -  @usuario Imaginate ser un cuco y tampoco hacer nada por los demás...\n",
      "     - SI: ['gdamill']  NO: ['dvalado']\n",
      "\n",
      "  -  @usuario No esta buena..es una chica tunning. Cara de plancha!\n",
      "     - SI: ['gdamill']  NO: ['dvalado']\n",
      "\n",
      "  -  @usuario Típico de concha seca frustrada.\n",
      "     - SI: ['gdamill']  NO: ['dvalado']\n",
      "\n",
      "  -  @usuario La Barón es como la vieja moneda nacional de 10 (centavos o pesos?),  de cara es un caballo y de culo tiene un 10\n",
      "     - SI: ['gdamill']  NO: ['dvalado']\n",
      "\n",
      "  -  @usuario MUJERES CON SÍNDROME DE MISOGINIA!\n",
      "     - SI: ['dvalado']  NO: ['gdamill']\n"
     ]
    }
   ],
   "source": [
    "show_from_df(disagree_comments, show=True)"
   ]
  },
  {
   "cell_type": "code",
   "execution_count": 29,
   "metadata": {},
   "outputs": [],
   "source": [
    "%%capture\n",
    "show_from_df(non_hateful_comments)"
   ]
  },
  {
   "cell_type": "markdown",
   "metadata": {},
   "source": [
    "## RACISMO"
   ]
  },
  {
   "cell_type": "code",
   "execution_count": 33,
   "metadata": {},
   "outputs": [],
   "source": [
    "\n",
    "agree_comments, disagree_comments, non_hateful_comments = get_agrees_and_disagrees(\n",
    "    df_labels, \"RACISMO\", users\n",
    ")"
   ]
  },
  {
   "cell_type": "code",
   "execution_count": 34,
   "metadata": {},
   "outputs": [
    {
     "name": "stdout",
     "output_type": "stream",
     "text": [
      "=============================================\n",
      "\n",
      "Reacción brutal: quisieron quemar 200 murciélagos por miedo al coronavirus en Perú \n",
      "\n",
      "\n",
      "  -  @usuario Quemen a los chinos que no es el primer desastre que desatan, ni seres el último\n",
      "\n",
      "  -  @usuario Porque no salen a quemar chinos?\n",
      "\n",
      "  -  @usuario Que culpa tienen ello quemar jah , deberían quemar a los chinos que siguen comiendo animales vivos ahora que virus liberaran esos hipocratas\n",
      "\n",
      "  -  @usuario Peruanos... ja\n",
      "\n",
      "  -  @usuario No entienden que es a los chinos a los que hay que quemar !\n",
      "\n",
      "  -  @usuario Peruanos 🚬 no lo entenderias\n",
      "\n",
      "  -  @usuario Quemen a los chinos en todo caso\n",
      "\n",
      "  -  @usuario Cuando no los peruanos haciendo cosas de peruanos\n"
     ]
    }
   ],
   "source": [
    "show_from_df(agree_comments)"
   ]
  },
  {
   "cell_type": "code",
   "execution_count": 35,
   "metadata": {},
   "outputs": [
    {
     "name": "stdout",
     "output_type": "stream",
     "text": [
      "=============================================\n",
      "\n",
      "Coronavirus en Argentina: Cristina Kirchner vuelve de Cuba junto a su hija Florencia y permanecerá aislada por 14 días \n",
      "\n",
      "\n",
      "  -  @usuario vienen medicos cubanos... ahhh pero no veo ninguna ayuda norteamericana, quienes ni siquiera les importa, seguro que ellos generaron esto, lacras de mierda\n",
      "     - SI: ['dvalado']  NO: ['gdamill']\n",
      "=============================================\n",
      "\n",
      "Reacción brutal: quisieron quemar 200 murciélagos por miedo al coronavirus en Perú \n",
      "\n",
      "\n",
      "  -  @usuario Viven en un cumpleaños los peruanos 🤷🏻‍♂️\n",
      "     - SI: ['dvalado']  NO: ['gdamill']\n",
      "\n",
      "  -  @usuario Dejen a esos bichos tranquilos . El problema no son los animales el problema son los supuestamente  humanos que comen esos animales . Los que tienen que estar separados del mundo son los chinos por asesinar a esas especies como si fueran un manjar\n",
      "     - SI: ['dvalado']  NO: ['gdamill']\n",
      "\n",
      "  -  @usuario No se los coman y listo peruanos\n",
      "     - SI: ['dvalado']  NO: ['gdamill']\n"
     ]
    }
   ],
   "source": [
    "show_from_df(disagree_comments, show=True)"
   ]
  },
  {
   "cell_type": "code",
   "execution_count": 36,
   "metadata": {},
   "outputs": [],
   "source": [
    "%%capture\n",
    "show_from_df(non_hateful_comments)"
   ]
  },
  {
   "cell_type": "markdown",
   "metadata": {},
   "source": [
    "## POBREZA"
   ]
  },
  {
   "cell_type": "code",
   "execution_count": 37,
   "metadata": {},
   "outputs": [],
   "source": [
    "\n",
    "agree_comments, disagree_comments, non_hateful_comments = get_agrees_and_disagrees(\n",
    "    df_labels, \"POBREZA\", users\n",
    ")"
   ]
  },
  {
   "cell_type": "code",
   "execution_count": 38,
   "metadata": {},
   "outputs": [
    {
     "name": "stdout",
     "output_type": "stream",
     "text": [
      "=============================================\n",
      "\n",
      "Verónica Magario pidió endurecer la cuarentena: “Debemos frenar la circulación de personas en el AMBA para evitar contagios” \n",
      "\n",
      "\n",
      "  -  @usuario La Matanza 💩💩💩💩🤣🤣🤣🤣🤣\n",
      "=============================================\n",
      "\n",
      "El mensaje de El Dipy que lo convirtió en tendencia en las redes: “Piensan que porque salí de un barrio humilde, soy kirchnerista o soy peronista” \n",
      "\n",
      "\n",
      "  -  @usuario No sabia quien era,lo busqué en Google! Lo que pienso de él,que sus letras son horribles,más vulgares no pueden ser. No pensamos que sos peronista,pensamos que sos un pobre tipo que se cree mil. Y para los de la “clase alta” sos un negro más.\n"
     ]
    }
   ],
   "source": [
    "show_from_df(agree_comments)"
   ]
  },
  {
   "cell_type": "code",
   "execution_count": 39,
   "metadata": {},
   "outputs": [
    {
     "name": "stdout",
     "output_type": "stream",
     "text": [
      "=============================================\n",
      "\n",
      "Verónica Magario pidió endurecer la cuarentena: “Debemos frenar la circulación de personas en el AMBA para evitar contagios” \n",
      "\n",
      "\n",
      "  -  @usuario Se te volvió en contra la fábrica de pobres? Ustedes llenaron la provincia de miseria son ustedes los únicos responsables.\n",
      "     - SI: ['dvalado']  NO: ['gdamill']\n",
      "\n",
      "  -  @usuario PROHIBIDO SALIR DE LA MATANZA  SERIA GENIAL PARA EL PAIS A MAGARIO , QUEDATE ADENTRO MATANSERA\n",
      "     - SI: ['gdamill']  NO: ['dvalado']\n",
      "=============================================\n",
      "\n",
      "Alberto Fernández: “Necesitamos construir cárceles porque si el delito crece, más gente será condenada” \n",
      "\n",
      "\n",
      "  -  @usuario Si son planeros suyos..lo dudo\n",
      "     - SI: ['dvalado']  NO: ['gdamill']\n",
      "\n",
      "  -  @usuario Ustedes liberaron a los presos y ahora se lavan las manos ustedes son los q mantienen a las familias con planes y los chicos crecen con padres q dan el ejemplo de no al trabajo y si a la vagancia ,es lo q hacen viven del choreo y planes ustedes CULPABLES\n",
      "     - SI: ['dvalado']  NO: ['gdamill']\n",
      "=============================================\n",
      "\n",
      "El principal gremio docente nacional rechazó el regreso a las clases presenciales \n",
      "\n",
      "\n",
      "  -  @usuario Banda de VAGOS\n",
      "     - SI: ['dvalado']  NO: ['gdamill']\n",
      "\n",
      "  -  @usuario Vagos! Sigan tomando@usuario con Baradel y haciéndole la planchita!\n",
      "     - SI: ['dvalado']  NO: ['gdamill']\n",
      "\n",
      "  -  @usuario Vagos\n",
      "     - SI: ['dvalado']  NO: ['gdamill']\n",
      "\n",
      "  -  @usuario Vayan a laburar vagos, van a esperar q sea nulo el contagio?? Entonces olvidemonos de las clases, nunca empezaran de nuevo. La verdad pidan un prestamo al Fmi endeudense x algo valedero y rajenlos a todos estos vagos sindicalistas. Impresentables.😪😪\n",
      "     - SI: ['dvalado']  NO: ['gdamill']\n",
      "\n",
      "  -  @usuario @usuario @usuario son capaces y hacen cualquier cosa con tal de no trabajar y contribuir a crear una población analfabeta que viva de los planes del gobierno para que puedan perpetuarse en el poder\n",
      "Son nefastos; no tienen valores, ni ética, moral y humildad !!!, vagos...\n",
      "     - SI: ['dvalado']  NO: ['gdamill']\n",
      "\n",
      "  -  @usuario Parásitos caros.\n",
      "     - SI: ['dvalado']  NO: ['gdamill']\n",
      "\n",
      "  -  @usuario Que raro, estos vagos de mierda!!!!\n",
      "     - SI: ['dvalado']  NO: ['gdamill']\n",
      "\n",
      "  -  @usuario Sindicalistas Vagos de Mierda.\n",
      "     - SI: ['dvalado']  NO: ['gdamill']\n",
      "=============================================\n",
      "\n",
      "El mensaje de El Dipy que lo convirtió en tendencia en las redes: “Piensan que porque salí de un barrio humilde, soy kirchnerista o soy peronista” \n",
      "\n",
      "\n",
      "  -  @usuario Jajaja, no entras en ninguna categoría papá!!! Ahhh y hacete bien esos dientes dracu dracu que tenes! Otario\n",
      "     - SI: ['gdamill']  NO: ['dvalado']\n",
      "\n",
      "  -  @usuario pegate un baño dipy q tas flashando mono\n",
      "     - SI: ['gdamill']  NO: ['dvalado']\n"
     ]
    }
   ],
   "source": [
    "show_from_df(disagree_comments, show=True)"
   ]
  },
  {
   "cell_type": "code",
   "execution_count": 40,
   "metadata": {},
   "outputs": [],
   "source": [
    "%%capture\n",
    "show_from_df(non_hateful_comments)"
   ]
  },
  {
   "cell_type": "markdown",
   "metadata": {},
   "source": [
    "## POLITICA"
   ]
  },
  {
   "cell_type": "code",
   "execution_count": 41,
   "metadata": {},
   "outputs": [],
   "source": [
    "agree_comments, disagree_comments, non_hateful_comments = get_agrees_and_disagrees(\n",
    "    df_labels, \"POLITICA\", users\n",
    ")"
   ]
  },
  {
   "cell_type": "code",
   "execution_count": 42,
   "metadata": {},
   "outputs": [
    {
     "name": "stdout",
     "output_type": "stream",
     "text": [
      "=============================================\n",
      "\n",
      "Verónica Magario pidió endurecer la cuarentena: “Debemos frenar la circulación de personas en el AMBA para evitar contagios” \n",
      "\n",
      "\n",
      "  -  @usuario que gente  de mierda estos peronchos\n",
      "\n",
      "  -  @usuario @usuario Hipócrita. LaKra kirchnerista\n",
      "=============================================\n",
      "\n",
      "“El país está tomando todas las medidas para afrontar el coronavirus” \n",
      "\n",
      "\n",
      "  -  @usuario O sea nadie... Porque no decís \"yo como ministro estoy tomando todas las medidas\" sino que seria algo así como \" el que se enferma es un botón\"... Que tipo inmundo vos y los peronchos que los votaron. Bola de idiotas.\n",
      "\n",
      "  -  @usuario Mentiras, mi hija volvio de Brasil, lleno la DDJJ sobre salud y JAMAS se la pidieron, ni habia dnd dejarla! Krapulas mentirosos #GobiernoDeCientificos\n",
      "\n",
      "  -  @usuario Cuanta plata les están poniendo ojalá se les termine a los kukas y desaparezcan son tóxicos\n",
      "=============================================\n",
      "\n",
      "El principal gremio docente nacional rechazó el regreso a las clases presenciales \n",
      "\n",
      "\n",
      "  -  @usuario Educación no, pero fútbol si. \n",
      "El gobierno nacional debería sacar por decreto el comienzo de las clases con el cumplimiento de todos los protocolos. \n",
      "Sindicalistas parásitos, los privados si podemos trabajar con protocolos pero ustedes no? \n",
      "Que país inviable!\n",
      "\n",
      "  -  @usuario Sindicalistas Vagos de Mierda.\n",
      "\n",
      "  -  @usuario Sindicalistas de mierda.\n",
      "=============================================\n",
      "\n",
      "El mensaje de El Dipy que lo convirtió en tendencia en las redes: “Piensan que porque salí de un barrio humilde, soy kirchnerista o soy peronista” \n",
      "\n",
      "\n",
      "  -  @usuario Los forros odiadores solo tienen un lugar en cambiemos,  cuna de lacras desclasadas.\n",
      "=============================================\n",
      "\n",
      "Córdoba: rompieron 5 silo bolsas de maíz en un tambo que estaban destinados para alimentar 500 vacas \n",
      "\n",
      "\n",
      "  -  @usuario La Kamporonga haciendo de las suyas.\n"
     ]
    }
   ],
   "source": [
    "\n",
    "show_from_df(agree_comments)"
   ]
  },
  {
   "cell_type": "code",
   "execution_count": 44,
   "metadata": {},
   "outputs": [
    {
     "name": "stdout",
     "output_type": "stream",
     "text": [
      "=============================================\n",
      "\n",
      "Coronavirus en Argentina: Cristina Kirchner vuelve de Cuba junto a su hija Florencia y permanecerá aislada por 14 días \n",
      "\n",
      "\n",
      "  -  @usuario No se cayó el avion?? Lpm\n",
      "     - SI: ['dvalado']  NO: ['gdamill']\n",
      "\n",
      "  -  @usuario Presas tienen q estar está dos mierdas...presas\n",
      "     - SI: ['dvalado']  NO: ['gdamill']\n",
      "\n",
      "  -  @usuario Tendrían q ir directamente a la cárcel de Ezeiza. Por Truchas, chorras y fieras! 🤮\n",
      "     - SI: ['dvalado']  NO: ['gdamill']\n",
      "\n",
      "  -  @usuario ¿Y cuando las aislan por chorras?\n",
      "     - SI: ['dvalado']  NO: ['gdamill']\n",
      "\n",
      "  -  @usuario Ojalá no salga más cárcel de x vida a esa hdmp\n",
      "     - SI: ['dvalado']  NO: ['gdamill']\n",
      "\n",
      "  -  @usuario Ojalá se caiga el avión...Dios nos tiene que tirar un centro ...estas dos son virus canceroso\n",
      "     - SI: ['dvalado']  NO: ['gdamill']\n",
      "\n",
      "  -  @usuario Que Dios caiga con toda la Justicia Divina Sobre ella.!!!\n",
      "     - SI: ['dvalado']  NO: ['gdamill']\n",
      "=============================================\n",
      "\n",
      "Verónica Magario pidió endurecer la cuarentena: “Debemos frenar la circulación de personas en el AMBA para evitar contagios” \n",
      "\n",
      "\n",
      "  -  @usuario Esoooooo  Que no salgan de la matanza!!!! Quedense ahi para siempre pidanla independencia y vivan felices con elperonismo!!!\n",
      "     - SI: ['dvalado']  NO: ['gdamill']\n",
      "\n",
      "  -  @usuario encierren a los matanceros pelotudos que votaron a esta bataclana\n",
      "     - SI: ['dvalado']  NO: ['gdamill']\n",
      "=============================================\n",
      "\n",
      "“El país está tomando todas las medidas para afrontar el coronavirus” \n",
      "\n",
      "\n",
      "  -  @usuario Inútiles, cínicos, timadores...\n",
      "Son la peor lacra de la historia, el país está en manos de una banda de inservibles y delincuentes.\n",
      "Reitero: mi desprecio a todos los hijos de puta q nos llevaron a esto\n",
      "     - SI: ['dvalado']  NO: ['gdamill']\n",
      "\n",
      "  -  @usuario Te iba a pedir dignidad, pero sos k,  no tenes. \n",
      "#RenunciaGines\n",
      "     - SI: ['dvalado']  NO: ['gdamill']\n",
      "=============================================\n",
      "\n",
      "Tras decir una vulgaridad al aire, Maju Lozano exclamó: “¡Me olvidé que estaba abierto el micrófono!” \n",
      "\n",
      "\n",
      "  -  @usuario Que dijo? Viva Peron?\n",
      "     - SI: ['dvalado']  NO: ['gdamill']\n",
      "=============================================\n",
      "\n",
      "Alberto Fernández: “Necesitamos construir cárceles porque si el delito crece, más gente será condenada” \n",
      "\n",
      "\n",
      "  -  @usuario Ja q idiota obvio q aumento si liberaste cantidad de delincuentes y asesinos kmo uds algunos se hacen otros kmo vos ya se nace asi y eso no tiene cura 🤦‍♂️🤷‍♂️\n",
      "     - SI: ['dvalado']  NO: ['gdamill']\n",
      "=============================================\n",
      "\n",
      "Hebe de Bonafini le mandó una carta a la reina de Inglaterra: “Su país decidió robarle los ahorros en oro a Venezuela” \n",
      "\n",
      "\n",
      "  -  @usuario No te puede creer. Mirá el atrevimiento de esta vieja insolente!!\n",
      "Tanto que abrazan a Maduro, lo mejor que nos podría pasar es mandar a todos los k a Venezuela.\n",
      "     - SI: ['dvalado']  NO: ['gdamill']\n",
      "\n",
      "  -  @usuario Exacto. Y Maduro y los narcos que le son adictos se la van a tener que comer doblada. Los ingleses son expertos en el afano. Y que le afanen a Maduro me encanta. Se lo dieron a Guaidó. Aplauso a estos Robin Hoods.\n",
      "     - SI: ['dvalado']  NO: ['gdamill']\n",
      "\n",
      "  -  @usuario @usuario avÍsele a la reina q esta terrorista, está totalmente loKA, oKuparon el país del cual somos rehenes mas del 52% de los argentinos,no estamos c/el diKtador Maduro, lo único q queremos es vivir en paz, sin terroristas q hablen x nosotros Thank you Mr Kent 🥰🤗\n",
      "     - SI: ['dvalado']  NO: ['gdamill']\n",
      "=============================================\n",
      "\n",
      "El principal gremio docente nacional rechazó el regreso a las clases presenciales \n",
      "\n",
      "\n",
      "  -  @usuario Vagos de m¡erda! Seguro son todos kichneristas zurdos o peronistas.\n",
      "     - SI: ['dvalado']  NO: ['gdamill']\n",
      "\n",
      "  -  @usuario Que les dejen de pagar (cosa que no sucederá) y verán como van a laburar, son sin vergüenzas, no tienen vocación, son Malandras igual a sus jefes políticos.\n",
      "     - SI: ['gdamill']  NO: ['dvalado']\n",
      "\n",
      "  -  @usuario PARASITES Q SI TIENE ALGO POLITICO DEJAN DE DAR CLASES ONLINE\n",
      "     - SI: ['gdamill']  NO: ['dvalado']\n",
      "\n",
      "  -  @usuario Parásitos caros.\n",
      "     - SI: ['gdamill']  NO: ['dvalado']\n",
      "=============================================\n",
      "\n",
      "El mensaje de El Dipy que lo convirtió en tendencia en las redes: “Piensan que porque salí de un barrio humilde, soy kirchnerista o soy peronista” \n",
      "\n",
      "\n",
      "  -  @usuario Excelente tu autocrítica del final dipy! Te describiste en una frase\n",
      "     - SI: ['dvalado']  NO: ['gdamill']\n",
      "\n",
      "  -  @usuario Para nada uno piensa eso. Justamente el producto mejor terminado del Macrismo es el facho pobre aca el fiel ejemplo.\n",
      "     - SI: ['dvalado']  NO: ['gdamill']\n",
      "=============================================\n",
      "\n",
      "Córdoba: rompieron 5 silo bolsas de maíz en un tambo que estaban destinados para alimentar 500 vacas \n",
      "\n",
      "\n",
      "  -  @usuario Fue la Kampora eztoy zeguro zizepuede!!!\n",
      "     - SI: ['dvalado']  NO: ['gdamill']\n",
      "\n",
      "  -  @usuario Bueno,seguramente si no es otra foto vieja,fue una banda de psicóticos macristas neoliberales para culpar a los peronistas...siempre fue así y no va a cambiar...\n",
      "     - SI: ['dvalado']  NO: ['gdamill']\n",
      "\n",
      "  -  @usuario Si esto no es peronismo terrorista q es\n",
      "     - SI: ['dvalado']  NO: ['gdamill']\n",
      "\n",
      "  -  @usuario Esto son los comunistas\n",
      "     - SI: ['dvalado']  NO: ['gdamill']\n",
      "\n",
      "  -  @usuario Peronismo combatiendo al capital,, cuna de bobos!!\n",
      "     - SI: ['dvalado']  NO: ['gdamill']\n",
      "\n",
      "  -  @usuario Estos kirchneristas!!!!\n",
      "     - SI: ['dvalado']  NO: ['gdamill']\n",
      "=============================================\n",
      "\n",
      "Martha Rosenberg: “En situación de pandemia, legalizar el aborto es más urgente que nunca” \n",
      "\n",
      "\n",
      "  -  @usuario Si la muerte de los inocentes será ley que la muerte de los culpables también!!!\n",
      "LEY DE PENA DE MUERTE en Argentina!!\n",
      "Para asesinos, violadores y Korruptos!!!\n",
      "     - SI: ['gdamill']  NO: ['dvalado']\n"
     ]
    }
   ],
   "source": [
    "show_from_df(disagree_comments, show=True)"
   ]
  },
  {
   "cell_type": "code",
   "execution_count": 45,
   "metadata": {},
   "outputs": [],
   "source": [
    "%%capture\n",
    "show_from_df(non_hateful_comments)"
   ]
  },
  {
   "cell_type": "markdown",
   "metadata": {},
   "source": [
    "## ASPECTO"
   ]
  },
  {
   "cell_type": "code",
   "execution_count": 46,
   "metadata": {},
   "outputs": [],
   "source": [
    "agree_comments, disagree_comments, non_hateful_comments = get_agrees_and_disagrees(\n",
    "    df_labels, \"ASPECTO\", users\n",
    ")"
   ]
  },
  {
   "cell_type": "code",
   "execution_count": 47,
   "metadata": {},
   "outputs": [
    {
     "name": "stdout",
     "output_type": "stream",
     "text": [
      "=============================================\n",
      "\n",
      "Verónica Magario pidió endurecer la cuarentena: “Debemos frenar la circulación de personas en el AMBA para evitar contagios” \n",
      "\n",
      "\n",
      "  -  @usuario Jajajaaj está cruela tuneada que se ocupe de su reino feudal mejor\n",
      "=============================================\n",
      "\n",
      "“El país está tomando todas las medidas para afrontar el coronavirus” \n",
      "\n",
      "\n",
      "  -  @usuario Viejo forro presente la renuncia YA\n",
      "=============================================\n",
      "\n",
      "Tras decir una vulgaridad al aire, Maju Lozano exclamó: “¡Me olvidé que estaba abierto el micrófono!” \n",
      "\n",
      "\n",
      "  -  @usuario Gorda edionda 🤮\n",
      "\n",
      "  -  @usuario Gorda de mierda\n",
      "\n",
      "  -  @usuario Gorda ordinaria.\n",
      "\n",
      "  -  @usuario Es un sushi de bagre\n",
      "=============================================\n",
      "\n",
      "Hebe de Bonafini le mandó una carta a la reina de Inglaterra: “Su país decidió robarle los ahorros en oro a Venezuela” \n",
      "\n",
      "\n",
      "  -  @usuario no le den mas microfono a esta ridicula mujer o vieja de mierda, como mas les guste\n",
      "\n",
      "  -  @usuario Por que le dan espacio a la vieja ladrona chorra hdp esa\n",
      "\n",
      "  -  @usuario Caradura esta vieja\n",
      "\n",
      "  -  @usuario Vieja nefasta\n",
      "\n",
      "  -  @usuario No te puede creer. Mirá el atrevimiento de esta vieja insolente!!\n",
      "Tanto que abrazan a Maduro, lo mejor que nos podría pasar es mandar a todos los k a Venezuela.\n",
      "\n",
      "  -  @usuario La pastilla por favor....!\n",
      "\n",
      "  -  @usuario Cómo voy a festejar el día que muera ésta vieja in munda... Lo que más rabia me da es que la mantenemos con nuestros impuestos...\n",
      "\n",
      "  -  @usuario Esta vieja come gratis no sabe ni escribir\n",
      "\n",
      "  -  @usuario Esta vieja está pal siquiatra\n",
      "\n",
      "  -  @usuario En carácter de que está vieja manda una carta ?\n",
      "\n",
      "  -  @usuario la vieja sera senil pero pendeja no es ella sabe \n",
      "que no le toca nada hdpm\n",
      "=============================================\n",
      "\n",
      "El principal gremio docente nacional rechazó el regreso a las clases presenciales \n",
      "\n",
      "\n",
      "  -  @usuario La vieja chota quiere que los chicos sean brutos como ella.y el gordo tambien que no saben ni hablar.igual con los muchos \"docentes\" que tiene el estado puestos por militancia pobres chicos!!!\n",
      "\n",
      "  -  @usuario Tenía que estar la bigotuda metida\n",
      "\n",
      "  -  @usuario Con esa cara quien quiere volver a ver eso\n",
      "\n",
      "  -  @usuario Esta de joda el gordo baradel. No quiere laburar\n",
      "=============================================\n",
      "\n",
      "Martha Rosenberg: “En situación de pandemia, legalizar el aborto es más urgente que nunca” \n",
      "\n",
      "\n",
      "  -  @usuario Pobre! De tener miedo de estar embarazada, vieja hdp\n",
      "\n",
      "  -  @usuario Vieja chota\n",
      "\n",
      "  -  @usuario Vieja chota\n",
      "\n",
      "  -  @usuario Quien es esta vieja?. No debería estar tejiendo?\n",
      "\n",
      "  -  @usuario Que se aborte ella, vieja  bruja y degenerada!!\n",
      "\n",
      "  -  @usuario ¿Primero no era que se estaban muriendo les pobres mediques y que había que fortalecer el sistema de salud? ¿Ahora es el aborto? Vaya a dormir, abuela\n",
      "\n",
      "  -  @usuario Que tiene que ver vieja de mierda\n",
      "\n",
      "  -  @usuario Jajajajajaja qué vieja limada\n",
      "\n",
      "  -  @usuario Vieja, sucia y con el cerebro de una ameba, así envejecen las féminas sometidas\n"
     ]
    }
   ],
   "source": [
    "show_from_df(agree_comments)"
   ]
  },
  {
   "cell_type": "code",
   "execution_count": 48,
   "metadata": {},
   "outputs": [
    {
     "name": "stdout",
     "output_type": "stream",
     "text": [
      "=============================================\n",
      "\n",
      "Coronavirus en Argentina: Cristina Kirchner vuelve de Cuba junto a su hija Florencia y permanecerá aislada por 14 días \n",
      "\n",
      "\n",
      "  -  @usuario ¡Que cirujeada esta la supuesta enfermita!  Hipocritas.\n",
      "     - SI: ['dvalado']  NO: ['gdamill']\n",
      "=============================================\n",
      "\n",
      "Verónica Magario pidió endurecer la cuarentena: “Debemos frenar la circulación de personas en el AMBA para evitar contagios” \n",
      "\n",
      "\n",
      "  -  @usuario Pero my darling #Magario como vas a hacer para mantener ese color rubio groncho natural que usas en tu pelo? 🙄\n",
      "     - SI: ['gdamill']  NO: ['dvalado']\n",
      "=============================================\n",
      "\n",
      "“El país está tomando todas las medidas para afrontar el coronavirus” \n",
      "\n",
      "\n",
      "  -  @usuario Viejo hdp !!! Caradura\n",
      "     - SI: ['dvalado']  NO: ['gdamill']\n",
      "\n",
      "  -  @usuario Ezeiza es un colador, vienen los vuelos de España e Italia y CERO PROTOCOLO, entran como si nada. NO JUEGUES CON LA SALUD PÚBLICA, GORDO DELINCUENTE\n",
      "     - SI: ['gdamill']  NO: ['dvalado']\n",
      "\n",
      "  -  @usuario Esas medidas no alcanzan (lo dice tu panza que en cualquier momento explota de volecterol).\n",
      "     - SI: ['gdamill']  NO: ['dvalado']\n",
      "=============================================\n",
      "\n",
      "Tras decir una vulgaridad al aire, Maju Lozano exclamó: “¡Me olvidé que estaba abierto el micrófono!” \n",
      "\n",
      "\n",
      "  -  @usuario Alguien me explica como este chimpance tiene un programa de tv? Tal nivel de degradacion alcanzamos como pais ( aclaro que no tengo nada en contra de los chimpances)\n",
      "     - SI: ['dvalado']  NO: ['gdamill']\n",
      "=============================================\n",
      "\n",
      "Hebe de Bonafini le mandó una carta a la reina de Inglaterra: “Su país decidió robarle los ahorros en oro a Venezuela” \n",
      "\n",
      "\n",
      "  -  @usuario Devolvé la bolsa de “Sueños compartidos” vieja ladrona!\n",
      "     - SI: ['dvalado']  NO: ['gdamill']\n",
      "\n",
      "  -  @usuario Tan bajo esta cayendo clarín que reproduce boludeces sin sentido? Por lo menos aclaren que la vieja se quedó con los sueños, techo compartidos\n",
      "     - SI: ['dvalado']  NO: ['gdamill']\n",
      "=============================================\n",
      "\n",
      "El principal gremio docente nacional rechazó el regreso a las clases presenciales \n",
      "\n",
      "\n",
      "  -  @usuario Hay que empezar a echar a la mierda y empezar a tomar jóvenes con ganas de trabajar y sacar estos viejos hijos de puta que rompen las pelotas solamente y no dejan progresar a nadie!!! Anoten @usuario para el que venga!! No más sindicalistas!!\n",
      "     - SI: ['dvalado']  NO: ['gdamill']\n",
      "\n",
      "  -  @usuario Vagos! Sigan tomando@usuario con Baradel y haciéndole la planchita!\n",
      "     - SI: ['dvalado']  NO: ['gdamill']\n",
      "=============================================\n",
      "\n",
      "El mensaje de El Dipy que lo convirtió en tendencia en las redes: “Piensan que porque salí de un barrio humilde, soy kirchnerista o soy peronista” \n",
      "\n",
      "\n",
      "  -  @usuario Jajaja, no entras en ninguna categoría papá!!! Ahhh y hacete bien esos dientes dracu dracu que tenes! Otario\n",
      "     - SI: ['dvalado']  NO: ['gdamill']\n",
      "\n",
      "  -  @usuario pegate un baño dipy q tas flashando mono\n",
      "     - SI: ['dvalado']  NO: ['gdamill']\n"
     ]
    }
   ],
   "source": [
    "show_from_df(disagree_comments, show=True)"
   ]
  },
  {
   "cell_type": "code",
   "execution_count": 49,
   "metadata": {},
   "outputs": [],
   "source": [
    "%%capture\n",
    "show_from_df(non_hateful_comments)"
   ]
  },
  {
   "cell_type": "markdown",
   "metadata": {},
   "source": [
    "## CRIMINAL"
   ]
  },
  {
   "cell_type": "code",
   "execution_count": 50,
   "metadata": {},
   "outputs": [],
   "source": [
    "agree_comments, disagree_comments, non_hateful_comments = get_agrees_and_disagrees(\n",
    "    df_labels, \"CRIMINAL\", users\n",
    ")"
   ]
  },
  {
   "cell_type": "code",
   "execution_count": 51,
   "metadata": {},
   "outputs": [],
   "source": [
    "show_from_df(agree_comments)"
   ]
  },
  {
   "cell_type": "code",
   "execution_count": 52,
   "metadata": {},
   "outputs": [
    {
     "name": "stdout",
     "output_type": "stream",
     "text": [
      "=============================================\n",
      "\n",
      "Alberto Fernández: “Necesitamos construir cárceles porque si el delito crece, más gente será condenada” \n",
      "\n",
      "\n",
      "  -  @usuario Compren balas y fusilen  más barato\n",
      "     - SI: ['dvalado']  NO: ['gdamill']\n",
      "=============================================\n",
      "\n",
      "Córdoba: rompieron 5 silo bolsas de maíz en un tambo que estaban destinados para alimentar 500 vacas \n",
      "\n",
      "\n",
      "  -  @usuario Metan bala.\n",
      "Perros.\n",
      "Alarmas.\n",
      "Cámaras.\n",
      "Guardias.\n",
      "Trampas para oso.\n",
      "Algo\n",
      "     - SI: ['dvalado']  NO: ['gdamill']\n",
      "\n",
      "  -  @usuario #Bala y a colgarlos basta!!\n",
      "     - SI: ['dvalado']  NO: ['gdamill']\n",
      "\n",
      "  -  @usuario @usuario Que la próxima los esperen agazapados en la noche con armas y los limpien. Que tiren los cuerpos en una zanja y listo\n",
      "     - SI: ['dvalado']  NO: ['gdamill']\n"
     ]
    }
   ],
   "source": [
    "show_from_df(disagree_comments, show=True)"
   ]
  },
  {
   "cell_type": "code",
   "execution_count": 53,
   "metadata": {},
   "outputs": [],
   "source": [
    "%%capture\n",
    "show_from_df(non_hateful_comments, show=True)"
   ]
  },
  {
   "cell_type": "markdown",
   "metadata": {},
   "source": [
    "## SALUD\n"
   ]
  },
  {
   "cell_type": "code",
   "execution_count": 54,
   "metadata": {},
   "outputs": [],
   "source": [
    "agree_comments, disagree_comments, non_hateful_comments = get_agrees_and_disagrees(\n",
    "    df_labels, \"DISCAPACIDAD\", users\n",
    ")"
   ]
  },
  {
   "cell_type": "code",
   "execution_count": 55,
   "metadata": {},
   "outputs": [
    {
     "name": "stdout",
     "output_type": "stream",
     "text": [
      "=============================================\n",
      "\n",
      "El mensaje de El Dipy que lo convirtió en tendencia en las redes: “Piensan que porque salí de un barrio humilde, soy kirchnerista o soy peronista” \n",
      "\n",
      "\n",
      "  -  @usuario Sos un gran boludo y deja la droga culiao...!!!\n"
     ]
    }
   ],
   "source": [
    "show_from_df(agree_comments)"
   ]
  },
  {
   "cell_type": "code",
   "execution_count": 56,
   "metadata": {},
   "outputs": [
    {
     "name": "stdout",
     "output_type": "stream",
     "text": [
      "=============================================\n",
      "\n",
      "“El país está tomando todas las medidas para afrontar el coronavirus” \n",
      "\n",
      "\n",
      "  -  @usuario Le falta la nariz roja a este hdp\n",
      "     - SI: ['dvalado']  NO: ['gdamill']\n",
      "=============================================\n",
      "\n",
      "Hebe de Bonafini le mandó una carta a la reina de Inglaterra: “Su país decidió robarle los ahorros en oro a Venezuela” \n",
      "\n",
      "\n",
      "  -  @usuario Esta vieja está pal siquiatra\n",
      "     - SI: ['gdamill']  NO: ['dvalado']\n",
      "=============================================\n",
      "\n",
      "Martha Rosenberg: “En situación de pandemia, legalizar el aborto es más urgente que nunca” \n",
      "\n",
      "\n",
      "  -  @usuario Es una desubicada, solo tienen un objetivo,esta gente esta siquiatrica, poco sentido de realidad\n",
      "     - SI: ['gdamill']  NO: ['dvalado']\n"
     ]
    }
   ],
   "source": [
    "show_from_df(disagree_comments, show=True)"
   ]
  },
  {
   "cell_type": "code",
   "execution_count": 57,
   "metadata": {},
   "outputs": [],
   "source": [
    "%%capture\n",
    "show_from_df(non_hateful_comments)"
   ]
  },
  {
   "cell_type": "markdown",
   "metadata": {},
   "source": [
    "## OTROS"
   ]
  },
  {
   "cell_type": "code",
   "execution_count": 59,
   "metadata": {},
   "outputs": [],
   "source": [
    "agree_comments, disagree_comments, non_hateful_comments = get_agrees_and_disagrees(\n",
    "    df_labels, \"OTROS\", users\n",
    ")"
   ]
  },
  {
   "cell_type": "code",
   "execution_count": 60,
   "metadata": {},
   "outputs": [],
   "source": [
    "show_from_df(agree_comments)"
   ]
  },
  {
   "cell_type": "code",
   "execution_count": 61,
   "metadata": {},
   "outputs": [],
   "source": [
    "show_from_df(disagree_comments, show=True)"
   ]
  },
  {
   "cell_type": "markdown",
   "metadata": {},
   "source": [
    "## LLAMADO A LA ACCIÓN\n",
    "\n",
    "Queremos ver:\n",
    "\n",
    "- Aquellas que hayan sido etiquetadas como odiosas\n"
   ]
  },
  {
   "cell_type": "code",
   "execution_count": 99,
   "metadata": {},
   "outputs": [],
   "source": [
    "my_users = users\n",
    "df_calls_for_action = pd.DataFrame({\"name\": my_users})\n",
    "df_calls_for_action.set_index(\"name\", inplace=True)\n",
    "\n",
    "for article_label in article_labels:\n",
    "    for comment_label in article_label.comment_labels.all():\n",
    "        username = comment_label.article_label.user.username\n",
    "        df_calls_for_action.loc[username, comment_label.comment_id] = comment_label.calls_for_action"
   ]
  },
  {
   "cell_type": "code",
   "execution_count": 100,
   "metadata": {},
   "outputs": [
    {
     "data": {
      "text/plain": [
       "(0.3126061841658182, 578)"
      ]
     },
     "execution_count": 100,
     "metadata": {},
     "output_type": "execute_result"
    }
   ],
   "source": [
    "kappa_of(df_calls_for_action, users)"
   ]
  },
  {
   "cell_type": "code",
   "execution_count": 101,
   "metadata": {},
   "outputs": [
    {
     "name": "stdout",
     "output_type": "stream",
     "text": [
      "Kappa gdamill    - dvalado    = (0.3126061841658182, 578)\n"
     ]
    }
   ],
   "source": [
    "for i in range(len(df_calls_for_action)):\n",
    "    user1 = df_calls_for_action.index[i]\n",
    "    for j in range(i+1, len(df_calls_for_action)):\n",
    "        user2 = df_calls_for_action.index[j]\n",
    "        \n",
    "        print(f\"Kappa {user1:<10} - {user2:<10} = {kappa_of(df_calls_for_action, [user1, user2])}\")"
   ]
  },
  {
   "cell_type": "code",
   "execution_count": 102,
   "metadata": {},
   "outputs": [
    {
     "data": {
      "text/plain": [
       "name\n",
       "gdamill    0.006427\n",
       "dvalado    0.036723\n",
       "dtype: float64"
      ]
     },
     "execution_count": 102,
     "metadata": {},
     "output_type": "execute_result"
    }
   ],
   "source": [
    "df_calls_for_action.sum(axis=1) / df_calls_for_action.notna().sum(axis=1)"
   ]
  },
  {
   "cell_type": "code",
   "execution_count": 103,
   "metadata": {},
   "outputs": [
    {
     "data": {
      "text/plain": [
       "name\n",
       "gdamill     5.0\n",
       "dvalado    26.0\n",
       "dtype: float64"
      ]
     },
     "execution_count": 103,
     "metadata": {},
     "output_type": "execute_result"
    }
   ],
   "source": [
    "df = no_null_columns(df_calls_for_action)\n",
    "\n",
    "df.sum(axis=1)"
   ]
  },
  {
   "cell_type": "code",
   "execution_count": 104,
   "metadata": {},
   "outputs": [],
   "source": [
    "\n",
    "agree_comments = df[df.columns[df.all()]]\n",
    "agree_comments.shape\n",
    "\n",
    "no_agree = ~((df.sum() == 0) | (df.sum() == len(users)))\n",
    "no_agree_comments = df[df.columns[no_agree]]"
   ]
  },
  {
   "cell_type": "code",
   "execution_count": 105,
   "metadata": {},
   "outputs": [
    {
     "name": "stdout",
     "output_type": "stream",
     "text": [
      "=============================================\n",
      "\n",
      "Reacción brutal: quisieron quemar 200 murciélagos por miedo al coronavirus en Perú \n",
      "\n",
      "\n",
      "  -  @usuario Quemen a los chinos que no es el primer desastre que desatan, ni seres el último\n",
      "\n",
      "  -  @usuario Porque no salen a quemar chinos?\n",
      "\n",
      "  -  @usuario Que culpa tienen ello quemar jah , deberían quemar a los chinos que siguen comiendo animales vivos ahora que virus liberaran esos hipocratas\n",
      "\n",
      "  -  @usuario No entienden que es a los chinos a los que hay que quemar !\n",
      "\n",
      "  -  @usuario Quemen a los chinos en todo caso\n"
     ]
    }
   ],
   "source": [
    "show_from_df(agree_comments)"
   ]
  },
  {
   "cell_type": "code",
   "execution_count": 106,
   "metadata": {},
   "outputs": [
    {
     "name": "stdout",
     "output_type": "stream",
     "text": [
      "=============================================\n",
      "\n",
      "Coronavirus en Argentina: Cristina Kirchner vuelve de Cuba junto a su hija Florencia y permanecerá aislada por 14 días \n",
      "\n",
      "\n",
      "  -  @usuario Presas tienen q estar está dos mierdas...presas\n",
      "     - SI: ['dvalado']  NO: ['gdamill']\n",
      "\n",
      "  -  @usuario Tendrían q ir directamente a la cárcel de Ezeiza. Por Truchas, chorras y fieras! 🤮\n",
      "     - SI: ['dvalado']  NO: ['gdamill']\n",
      "\n",
      "  -  @usuario Ojalá se caiga el avión...Dios nos tiene que tirar un centro ...estas dos son virus canceroso\n",
      "     - SI: ['dvalado']  NO: ['gdamill']\n",
      "\n",
      "  -  @usuario Que Dios caiga con toda la Justicia Divina Sobre ella.!!!\n",
      "     - SI: ['dvalado']  NO: ['gdamill']\n",
      "=============================================\n",
      "\n",
      "Verónica Magario pidió endurecer la cuarentena: “Debemos frenar la circulación de personas en el AMBA para evitar contagios” \n",
      "\n",
      "\n",
      "  -  @usuario Esoooooo  Que no salgan de la matanza!!!! Quedense ahi para siempre pidanla independencia y vivan felices con elperonismo!!!\n",
      "     - SI: ['dvalado']  NO: ['gdamill']\n",
      "\n",
      "  -  @usuario encierren a los matanceros pelotudos que votaron a esta bataclana\n",
      "     - SI: ['dvalado']  NO: ['gdamill']\n",
      "=============================================\n",
      "\n",
      "“El país está tomando todas las medidas para afrontar el coronavirus” \n",
      "\n",
      "\n",
      "  -  @usuario Viejo forro presente la renuncia YA\n",
      "     - SI: ['dvalado']  NO: ['gdamill']\n",
      "\n",
      "  -  @usuario Cuanta plata les están poniendo ojalá se les termine a los kukas y desaparezcan son tóxicos\n",
      "     - SI: ['dvalado']  NO: ['gdamill']\n",
      "\n",
      "  -  @usuario Te iba a pedir dignidad, pero sos k,  no tenes. \n",
      "#RenunciaGines\n",
      "     - SI: ['dvalado']  NO: ['gdamill']\n",
      "=============================================\n",
      "\n",
      "Reacción brutal: quisieron quemar 200 murciélagos por miedo al coronavirus en Perú \n",
      "\n",
      "\n",
      "  -  @usuario Dejen a esos bichos tranquilos . El problema no son los animales el problema son los supuestamente  humanos que comen esos animales . Los que tienen que estar separados del mundo son los chinos por asesinar a esas especies como si fueran un manjar\n",
      "     - SI: ['dvalado']  NO: ['gdamill']\n",
      "=============================================\n",
      "\n",
      "Alberto Fernández: “Necesitamos construir cárceles porque si el delito crece, más gente será condenada” \n",
      "\n",
      "\n",
      "  -  @usuario Compren balas y fusilen  más barato\n",
      "     - SI: ['dvalado']  NO: ['gdamill']\n",
      "=============================================\n",
      "\n",
      "Hebe de Bonafini le mandó una carta a la reina de Inglaterra: “Su país decidió robarle los ahorros en oro a Venezuela” \n",
      "\n",
      "\n",
      "  -  @usuario no le den mas microfono a esta ridicula mujer o vieja de mierda, como mas les guste\n",
      "     - SI: ['dvalado']  NO: ['gdamill']\n",
      "\n",
      "  -  @usuario No te puede creer. Mirá el atrevimiento de esta vieja insolente!!\n",
      "Tanto que abrazan a Maduro, lo mejor que nos podría pasar es mandar a todos los k a Venezuela.\n",
      "     - SI: ['dvalado']  NO: ['gdamill']\n",
      "\n",
      "  -  @usuario Cómo voy a festejar el día que muera ésta vieja in munda... Lo que más rabia me da es que la mantenemos con nuestros impuestos...\n",
      "     - SI: ['dvalado']  NO: ['gdamill']\n",
      "=============================================\n",
      "\n",
      "Córdoba: rompieron 5 silo bolsas de maíz en un tambo que estaban destinados para alimentar 500 vacas \n",
      "\n",
      "\n",
      "  -  @usuario Metan bala.\n",
      "Perros.\n",
      "Alarmas.\n",
      "Cámaras.\n",
      "Guardias.\n",
      "Trampas para oso.\n",
      "Algo\n",
      "     - SI: ['dvalado']  NO: ['gdamill']\n",
      "\n",
      "  -  @usuario #Bala y a colgarlos basta!!\n",
      "     - SI: ['dvalado']  NO: ['gdamill']\n",
      "\n",
      "  -  @usuario @usuario Que la próxima los esperen agazapados en la noche con armas y los limpien. Que tiren los cuerpos en una zanja y listo\n",
      "     - SI: ['dvalado']  NO: ['gdamill']\n",
      "=============================================\n",
      "\n",
      "Martha Rosenberg: “En situación de pandemia, legalizar el aborto es más urgente que nunca” \n",
      "\n",
      "\n",
      "  -  @usuario @usuario Haga el delicioso por el orte y se olvida del aborte.\n",
      "     - SI: ['dvalado']  NO: ['gdamill']\n",
      "\n",
      "  -  @usuario Que se aborte ella, vieja  bruja y degenerada!!\n",
      "     - SI: ['dvalado']  NO: ['gdamill']\n",
      "\n",
      "  -  @usuario ¿Primero no era que se estaban muriendo les pobres mediques y que había que fortalecer el sistema de salud? ¿Ahora es el aborto? Vaya a dormir, abuela\n",
      "     - SI: ['dvalado']  NO: ['gdamill']\n",
      "\n",
      "  -  @usuario Propongo eutanasia a las de pañuelo verde.\n",
      "     - SI: ['dvalado']  NO: ['gdamill']\n"
     ]
    }
   ],
   "source": [
    "show_from_df(no_agree_comments, show=True)"
   ]
  }
 ],
 "metadata": {
  "interpreter": {
   "hash": "6be54a914195d4ffa4167f28d4156cf3d963506a45c82ce0577b124adb267d02"
  },
  "kernelspec": {
   "display_name": "Python 3.8.12 ('.venv': pipenv)",
   "language": "python",
   "name": "python3"
  },
  "language_info": {
   "codemirror_mode": {
    "name": "ipython",
    "version": 3
   },
   "file_extension": ".py",
   "mimetype": "text/x-python",
   "name": "python",
   "nbconvert_exporter": "python",
   "pygments_lexer": "ipython3",
   "version": "3.8.12"
  }
 },
 "nbformat": 4,
 "nbformat_minor": 4
}
