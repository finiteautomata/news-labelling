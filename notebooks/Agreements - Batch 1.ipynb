{
 "cells": [
  {
   "cell_type": "markdown",
   "metadata": {},
   "source": [
    "## Agreements - Batch 1\n",
    "\n",
    "Vamos a ver los resultados del primer batch, que está etiquetado completo por dvalado y casi completo por gdamill"
   ]
  },
  {
   "cell_type": "code",
   "execution_count": 1,
   "metadata": {},
   "outputs": [],
   "source": [
    "%load_ext autoreload\n",
    "%autoreload 2\n",
    "import os\n",
    "import sys\n",
    "import django\n",
    "from tqdm.auto import tqdm\n",
    "\n",
    "os.environ[\"DJANGO_ALLOW_ASYNC_UNSAFE\"] = \"true\"\n",
    "\n",
    "sys.path.append(\"..\")\n",
    "os.environ['DJANGO_SETTINGS_MODULE'] = 'news_labelling.settings'\n",
    "django.setup()\n",
    "\n",
    "from api.models import Comment, ArticleLabel, CommentLabel, Article, Batch\n",
    "from django.contrib.auth.models import User"
   ]
  },
  {
   "cell_type": "markdown",
   "metadata": {},
   "source": [
    "Primero, veamos qué usuarios etiquetaron más de 4 artículos..."
   ]
  },
  {
   "cell_type": "code",
   "execution_count": 2,
   "metadata": {},
   "outputs": [],
   "source": [
    "from django.db.models import Count\n",
    "from api.metrics import AgreementCalculator\n",
    "\n",
    "batch = Batch.objects.get(name=\"1\")\n",
    "\n",
    "users = [u for u in User.objects.exclude(username=\"jmperez\") if batch.is_assigned_to(u)]\n",
    "\n",
    "calculator = AgreementCalculator(batch=batch, users=users)\n",
    "\n"
   ]
  },
  {
   "cell_type": "markdown",
   "metadata": {},
   "source": [
    "¿Cuántos etiquetamos todes?"
   ]
  },
  {
   "cell_type": "code",
   "execution_count": 3,
   "metadata": {},
   "outputs": [
    {
     "data": {
      "text/plain": [
       "{<User: dvalado>, <User: gdamill>}"
      ]
     },
     "execution_count": 3,
     "metadata": {},
     "output_type": "execute_result"
    }
   ],
   "source": [
    "{label.user for label in calculator.article_labels}"
   ]
  },
  {
   "cell_type": "code",
   "execution_count": 4,
   "metadata": {},
   "outputs": [
    {
     "data": {
      "text/html": [
       "<div>\n",
       "<style scoped>\n",
       "    .dataframe tbody tr th:only-of-type {\n",
       "        vertical-align: middle;\n",
       "    }\n",
       "\n",
       "    .dataframe tbody tr th {\n",
       "        vertical-align: top;\n",
       "    }\n",
       "\n",
       "    .dataframe thead th {\n",
       "        text-align: right;\n",
       "    }\n",
       "</style>\n",
       "<table border=\"1\" class=\"dataframe\">\n",
       "  <thead>\n",
       "    <tr style=\"text-align: right;\">\n",
       "      <th></th>\n",
       "      <th>Coronavirus en Argentina: Cristina Kirchner vuelve de Cuba junto a su hija Florencia y permanecerá aislada por 14 días</th>\n",
       "      <th>La Villa 31 lleva más de una semana sin agua y se disparan los contagios: ya hay 133 casos positivos y una muerte por coronavirus</th>\n",
       "      <th>Verónica Magario pidió endurecer la cuarentena: “Debemos frenar la circulación de personas en el AMBA para evitar contagios”</th>\n",
       "      <th>“El país está tomando todas las medidas para afrontar el coronavirus”</th>\n",
       "      <th>Reacción brutal: quisieron quemar 200 murciélagos por miedo al coronavirus en Perú</th>\n",
       "      <th>La OMS advirtió que “se está acelerando la pandemia y claramente no se llegó al pico”</th>\n",
       "      <th>Tras decir una vulgaridad al aire, Maju Lozano exclamó: “¡Me olvidé que estaba abierto el micrófono!”</th>\n",
       "      <th>Alberto Fernández: “Necesitamos construir cárceles porque si el delito crece, más gente será condenada”</th>\n",
       "      <th>Hebe de Bonafini le mandó una carta a la reina de Inglaterra: “Su país decidió robarle los ahorros en oro a Venezuela”</th>\n",
       "      <th>Corrección del calendario maya revela la fecha del fin del mundo: 21 de junio 2020</th>\n",
       "      <th>El principal gremio docente nacional rechazó el regreso a las clases presenciales</th>\n",
       "      <th>Se realizó un banderazo en contra del gobierno nacional en distintos puntos del país</th>\n",
       "      <th>El mensaje de El Dipy que lo convirtió en tendencia en las redes: “Piensan que porque salí de un barrio humilde, soy kirchnerista o soy peronista”</th>\n",
       "      <th>“Cristian, mirá lo que hago por vos”: quién es la modelo que se metió en el baúl de un auto para violar la cuarentena</th>\n",
       "      <th>Córdoba: rompieron 5 silo bolsas de maíz en un tambo que estaban destinados para alimentar 500 vacas</th>\n",
       "      <th>Argentinos en Dinamarca: cómo es vivir en el país menos corrupto y el segundo más feliz del mundo</th>\n",
       "      <th>Martha Rosenberg: “En situación de pandemia, legalizar el aborto es más urgente que nunca”</th>\n",
       "      <th>Vero Lozano se burló al aire de Nicolás Wiñazki por su reclamo sobre la cuarentena</th>\n",
       "      <th>Un jubilado se enfrentó a tres ladrones que entraron a su casa y mató a balazos a uno de ellos</th>\n",
       "      <th>Julia Mengolini volvió a criticar a Jimena Barón: “Estar buena te sirve solo a vos, no estás haciendo nada por los demás”</th>\n",
       "    </tr>\n",
       "    <tr>\n",
       "      <th>name</th>\n",
       "      <th></th>\n",
       "      <th></th>\n",
       "      <th></th>\n",
       "      <th></th>\n",
       "      <th></th>\n",
       "      <th></th>\n",
       "      <th></th>\n",
       "      <th></th>\n",
       "      <th></th>\n",
       "      <th></th>\n",
       "      <th></th>\n",
       "      <th></th>\n",
       "      <th></th>\n",
       "      <th></th>\n",
       "      <th></th>\n",
       "      <th></th>\n",
       "      <th></th>\n",
       "      <th></th>\n",
       "      <th></th>\n",
       "      <th></th>\n",
       "    </tr>\n",
       "  </thead>\n",
       "  <tbody>\n",
       "    <tr>\n",
       "      <th>dvalado</th>\n",
       "      <td>1.0</td>\n",
       "      <td>0.0</td>\n",
       "      <td>1.0</td>\n",
       "      <td>1.0</td>\n",
       "      <td>1.0</td>\n",
       "      <td>0.0</td>\n",
       "      <td>1.0</td>\n",
       "      <td>1.0</td>\n",
       "      <td>1.0</td>\n",
       "      <td>0.0</td>\n",
       "      <td>1.0</td>\n",
       "      <td>0.0</td>\n",
       "      <td>1.0</td>\n",
       "      <td>1.0</td>\n",
       "      <td>1.0</td>\n",
       "      <td>0.0</td>\n",
       "      <td>1.0</td>\n",
       "      <td>1.0</td>\n",
       "      <td>1.0</td>\n",
       "      <td>1.0</td>\n",
       "    </tr>\n",
       "    <tr>\n",
       "      <th>gdamill</th>\n",
       "      <td>1.0</td>\n",
       "      <td>1.0</td>\n",
       "      <td>1.0</td>\n",
       "      <td>1.0</td>\n",
       "      <td>1.0</td>\n",
       "      <td>1.0</td>\n",
       "      <td>1.0</td>\n",
       "      <td>1.0</td>\n",
       "      <td>1.0</td>\n",
       "      <td>0.0</td>\n",
       "      <td>1.0</td>\n",
       "      <td>1.0</td>\n",
       "      <td>1.0</td>\n",
       "      <td>1.0</td>\n",
       "      <td>1.0</td>\n",
       "      <td>1.0</td>\n",
       "      <td>1.0</td>\n",
       "      <td>1.0</td>\n",
       "      <td>1.0</td>\n",
       "      <td>1.0</td>\n",
       "    </tr>\n",
       "  </tbody>\n",
       "</table>\n",
       "</div>"
      ],
      "text/plain": [
       "         Coronavirus en Argentina: Cristina Kirchner vuelve de Cuba junto a su hija Florencia y permanecerá aislada por 14 días  \\\n",
       "name                                                                                                                              \n",
       "dvalado                                                1.0                                                                        \n",
       "gdamill                                                1.0                                                                        \n",
       "\n",
       "         La Villa 31 lleva más de una semana sin agua y se disparan los contagios: ya hay 133 casos positivos y una muerte por coronavirus  \\\n",
       "name                                                                                                                                         \n",
       "dvalado                                                0.0                                                                                   \n",
       "gdamill                                                1.0                                                                                   \n",
       "\n",
       "         Verónica Magario pidió endurecer la cuarentena: “Debemos frenar la circulación de personas en el AMBA para evitar contagios”  \\\n",
       "name                                                                                                                                    \n",
       "dvalado                                                1.0                                                                              \n",
       "gdamill                                                1.0                                                                              \n",
       "\n",
       "         “El país está tomando todas las medidas para afrontar el coronavirus”  \\\n",
       "name                                                                             \n",
       "dvalado                                                1.0                       \n",
       "gdamill                                                1.0                       \n",
       "\n",
       "         Reacción brutal: quisieron quemar 200 murciélagos por miedo al coronavirus en Perú  \\\n",
       "name                                                                                          \n",
       "dvalado                                                1.0                                    \n",
       "gdamill                                                1.0                                    \n",
       "\n",
       "         La OMS advirtió que “se está acelerando la pandemia y claramente no se llegó al pico”  \\\n",
       "name                                                                                             \n",
       "dvalado                                                0.0                                       \n",
       "gdamill                                                1.0                                       \n",
       "\n",
       "         Tras decir una vulgaridad al aire, Maju Lozano exclamó: “¡Me olvidé que estaba abierto el micrófono!”  \\\n",
       "name                                                                                                             \n",
       "dvalado                                                1.0                                                       \n",
       "gdamill                                                1.0                                                       \n",
       "\n",
       "         Alberto Fernández: “Necesitamos construir cárceles porque si el delito crece, más gente será condenada”  \\\n",
       "name                                                                                                               \n",
       "dvalado                                                1.0                                                         \n",
       "gdamill                                                1.0                                                         \n",
       "\n",
       "         Hebe de Bonafini le mandó una carta a la reina de Inglaterra: “Su país decidió robarle los ahorros en oro a Venezuela”  \\\n",
       "name                                                                                                                              \n",
       "dvalado                                                1.0                                                                        \n",
       "gdamill                                                1.0                                                                        \n",
       "\n",
       "         Corrección del calendario maya revela la fecha del fin del mundo: 21 de junio 2020  \\\n",
       "name                                                                                          \n",
       "dvalado                                                0.0                                    \n",
       "gdamill                                                0.0                                    \n",
       "\n",
       "         El principal gremio docente nacional rechazó el regreso a las clases presenciales  \\\n",
       "name                                                                                         \n",
       "dvalado                                                1.0                                   \n",
       "gdamill                                                1.0                                   \n",
       "\n",
       "         Se realizó un banderazo en contra del gobierno nacional en distintos puntos del país  \\\n",
       "name                                                                                            \n",
       "dvalado                                                0.0                                      \n",
       "gdamill                                                1.0                                      \n",
       "\n",
       "         El mensaje de El Dipy que lo convirtió en tendencia en las redes: “Piensan que porque salí de un barrio humilde, soy kirchnerista o soy peronista”  \\\n",
       "name                                                                                                                                                          \n",
       "dvalado                                                1.0                                                                                                    \n",
       "gdamill                                                1.0                                                                                                    \n",
       "\n",
       "         “Cristian, mirá lo que hago por vos”: quién es la modelo que se metió en el baúl de un auto para violar la cuarentena  \\\n",
       "name                                                                                                                             \n",
       "dvalado                                                1.0                                                                       \n",
       "gdamill                                                1.0                                                                       \n",
       "\n",
       "         Córdoba: rompieron 5 silo bolsas de maíz en un tambo que estaban destinados para alimentar 500 vacas  \\\n",
       "name                                                                                                            \n",
       "dvalado                                                1.0                                                      \n",
       "gdamill                                                1.0                                                      \n",
       "\n",
       "         Argentinos en Dinamarca: cómo es vivir en el país menos corrupto y el segundo más feliz del mundo  \\\n",
       "name                                                                                                         \n",
       "dvalado                                                0.0                                                   \n",
       "gdamill                                                1.0                                                   \n",
       "\n",
       "         Martha Rosenberg: “En situación de pandemia, legalizar el aborto es más urgente que nunca”  \\\n",
       "name                                                                                                  \n",
       "dvalado                                                1.0                                            \n",
       "gdamill                                                1.0                                            \n",
       "\n",
       "         Vero Lozano se burló al aire de Nicolás Wiñazki por su reclamo sobre la cuarentena  \\\n",
       "name                                                                                          \n",
       "dvalado                                                1.0                                    \n",
       "gdamill                                                1.0                                    \n",
       "\n",
       "         Un jubilado se enfrentó a tres ladrones que entraron a su casa y mató a balazos a uno de ellos  \\\n",
       "name                                                                                                      \n",
       "dvalado                                                1.0                                                \n",
       "gdamill                                                1.0                                                \n",
       "\n",
       "         Julia Mengolini volvió a criticar a Jimena Barón: “Estar buena te sirve solo a vos, no estás haciendo nada por los demás”  \n",
       "name                                                                                                                                \n",
       "dvalado                                                1.0                                                                          \n",
       "gdamill                                                1.0                                                                          "
      ]
     },
     "execution_count": 4,
     "metadata": {},
     "output_type": "execute_result"
    }
   ],
   "source": [
    "import pandas as pd\n",
    "\n",
    "pd.options.display.max_columns = 40\n",
    "\n",
    "calculator.get_labelled_articles()"
   ]
  },
  {
   "cell_type": "markdown",
   "metadata": {},
   "source": [
    "## Agreements sobre odio\n",
    "\n",
    "Ahora usamos sólo Alpha que da casi igual que Fleiss"
   ]
  },
  {
   "cell_type": "code",
   "execution_count": 6,
   "metadata": {},
   "outputs": [
    {
     "name": "stdout",
     "output_type": "stream",
     "text": [
      "Alpha para dvalado - gdamill: 0.611 (soporte = 193)\n"
     ]
    }
   ],
   "source": [
    "import krippendorff\n",
    "\n",
    "alpha, support = calculator.get_agreement(\"hate\")\n",
    "\n",
    "print(f\"Alpha para {' - '.join(calculator.usernames)}: {alpha:.3f} (soporte = {support})\")\n"
   ]
  },
  {
   "cell_type": "code",
   "execution_count": 7,
   "metadata": {},
   "outputs": [
    {
     "name": "stdout",
     "output_type": "stream",
     "text": [
      "Cantidad de mensajes etiquetados como odiosos\n"
     ]
    },
    {
     "data": {
      "text/plain": [
       "etiquetador\n",
       "dvalado    0.235876\n",
       "gdamill    0.155286\n",
       "dtype: float64"
      ]
     },
     "execution_count": 7,
     "metadata": {},
     "output_type": "execute_result"
    }
   ],
   "source": [
    "print(\"Cantidad de mensajes etiquetados como odiosos\")\n",
    "\n",
    "calculator.get_bias_towards(\"hate\")"
   ]
  },
  {
   "cell_type": "markdown",
   "metadata": {},
   "source": [
    "## Agreements sobre cada categoría"
   ]
  },
  {
   "cell_type": "markdown",
   "metadata": {},
   "source": [
    "## Alpha Krippendorff"
   ]
  },
  {
   "cell_type": "code",
   "execution_count": 10,
   "metadata": {},
   "outputs": [
    {
     "name": "stdout",
     "output_type": "stream",
     "text": [
      "================================================================================\n",
      "\n",
      "\n",
      "| Etiquetador    |  Alpha | Support |\n",
      "|----------------|--------|---------|\n",
      "| MUJER          |  0.658 |  62     |\n",
      "| RACISMO        |  0.797 |  12     |\n",
      "| POBREZA        |  0.213 |  16     |\n",
      "| POLITICA       |  0.368 |  45     |\n",
      "| DISCAPACIDAD   |  0.331 |  5      |\n",
      "| ASPECTO        |  0.787 |  51     |\n",
      "| CRIMINAL       |  0.492 |  18     |\n",
      "Categorías salteadas: LGBTI - OTROS\n"
     ]
    }
   ],
   "source": [
    "import krippendorff\n",
    "\n",
    "\n",
    "skipped_categories = []\n",
    "print(\"=\"*80 + '\\n' * 2)\n",
    "print(\"| Categoría      |  Alpha | Support |\")\n",
    "print(\"|----------------|--------|---------|\")\n",
    "for category in CommentLabel.type_mapping:\n",
    "\n",
    "    alpha, support = calculator.get_agreement(category)\n",
    "    \n",
    "    if support == 0:\n",
    "        skipped_categories.append(category)\n",
    "        continue\n",
    "    print(f\"| {category:<12}   |  {alpha:.3f} |  {support:<6} |\")\n",
    "\n",
    "\n",
    "print(f\"Categorías salteadas: {' - '.join(skipped_categories)}\")"
   ]
  },
  {
   "cell_type": "markdown",
   "metadata": {},
   "source": [
    "| Etiquetador    |  Alpha | Support |\n",
    "|----------------|--------|---------|\n",
    "| MUJER          |  0.658 |  62     |\n",
    "| RACISMO        |  0.797 |  12     |\n",
    "| POBREZA        |  0.213 |  16     |\n",
    "| POLITICA       |  0.368 |  45     |\n",
    "| DISCAPACIDAD   |  0.331 |  5      |\n",
    "| ASPECTO        |  0.787 |  51     |\n",
    "| CRIMINAL       |  0.492 |  18     |"
   ]
  },
  {
   "cell_type": "markdown",
   "metadata": {},
   "source": [
    "## MUJER\n"
   ]
  },
  {
   "cell_type": "code",
   "execution_count": 25,
   "metadata": {},
   "outputs": [],
   "source": [
    "from collections import defaultdict\n",
    "\n",
    "def no_null_columns(df):\n",
    "    return df[df.columns[df.notna().all()]]\n",
    "\n",
    "            \n",
    "def show_from_df(df, show=False):\n",
    "    article_to_comments = defaultdict(list)\n",
    "    \n",
    "    for comment_id in df.columns:\n",
    "        comment = Comment.objects.get(id=comment_id)\n",
    "        article_to_comments[comment.article_id].append(comment)\n",
    "        \n",
    "    for article_id, comments in article_to_comments.items():\n",
    "        print(\"=\"*45 + \"\\n\")\n",
    "        article = comments[0].article\n",
    "        print(article.title, \"\\n\")\n",
    "        \n",
    "        for comment in sorted(comments, key=lambda c: sum(df[c.id])):\n",
    "            print(\"\")\n",
    "            print(\"  - \",comment.text, end=\"\")\n",
    "            if show:\n",
    "                yes = [annotator for annotator, v in df[comment.id].items() if v] \n",
    "                no = [annotator for annotator, v in df[comment.id].items() if not v] \n",
    "                print(f\"\\n     - SI: {yes}  NO: {no}\")\n",
    "            else:\n",
    "                print(\"\")"
   ]
  },
  {
   "cell_type": "code",
   "execution_count": 26,
   "metadata": {},
   "outputs": [],
   "source": [
    "def get_agrees_and_disagrees(df_labels, category, users):    \n",
    "    category_df = df_labels.loc[category].loc[users]\n",
    "\n",
    "    category_df = no_null_columns(category_df)\n",
    "    agree_comments = category_df[category_df.columns[category_df.all()]]\n",
    "    non_hateful_comments = category_df[category_df.columns[(~category_df.astype(bool)).all()]]\n",
    "    no_agree = ~((category_df.sum() == 0) | (category_df.sum() == len(users)))\n",
    "    \n",
    "    disagree_comments = category_df[category_df.columns[no_agree]]\n",
    "    # Estos son muchos! Filtrar sólo los de aquellos artículos\n",
    "    # donde haya habido algún acuerdo\n",
    "    \n",
    "    allowed_articles = set(\n",
    "        c.article_id for c in Comment.objects.filter(id__in=agree_comments.columns)\n",
    "    )\n",
    "    \n",
    "    allowed_comments = Comment.objects.filter(\n",
    "        id__in=non_hateful_comments.columns,\n",
    "        article_id__in=allowed_articles,\n",
    "    )\n",
    "    \n",
    "    #print(len(allowed_comments))\n",
    "    comment_ids = set(c.id for c in allowed_comments)\n",
    "    \n",
    "    non_hateful_comments = non_hateful_comments[[\n",
    "        c for c in non_hateful_comments.columns if c in comment_ids\n",
    "    ]]\n",
    "    return agree_comments, disagree_comments, non_hateful_comments\n",
    "\n",
    "\n",
    "agree_comments, disagree_comments, non_hateful_comments = get_agrees_and_disagrees(\n",
    "    df_labels, \"MUJER\", users\n",
    ")"
   ]
  },
  {
   "cell_type": "code",
   "execution_count": 27,
   "metadata": {},
   "outputs": [
    {
     "name": "stdout",
     "output_type": "stream",
     "text": [
      "=============================================\n",
      "\n",
      "Verónica Magario pidió endurecer la cuarentena: “Debemos frenar la circulación de personas en el AMBA para evitar contagios” \n",
      "\n",
      "\n",
      "  -  @usuario Pero my darling #Magario como vas a hacer para mantener ese color rubio groncho natural que usas en tu pelo? 🙄\n",
      "\n",
      "  -  @usuario Hablo la petera\n",
      "\n",
      "  -  @usuario Que grasa esta, quien le va a hacer el color y la planchita si los peluqueros no pueden trabajar, mas ordinarios no pueden ser...!\n",
      "=============================================\n",
      "\n",
      "“Cristian, mirá lo que hago por vos”: quién es la modelo que se metió en el baúl de un auto para violar la cuarentena \n",
      "\n",
      "\n",
      "  -  @usuario Tantas ganas de pija vas a tener!? Pegate una guitarreada, michifus!!!!!\n",
      "\n",
      "  -  @usuario hot? Es un espanto, una muñeca inflable, por favor\n",
      "\n",
      "  -  @usuario Prostitución no está excluida\n",
      "\n",
      "  -  @usuario A lo mejor tenía que ir a cobrar?\n",
      "\n",
      "  -  @usuario Delivery de trola\n",
      "\n",
      "  -  @usuario Lo único natural que tiene ese gato es el porcentaje de algodón de la ropa que usa. Además que demostró tener la capacidad intelectual de una gaviota.🕊️\n",
      "\n",
      "  -  @usuario Fue a laburar\n",
      "\n",
      "  -  @usuario Lo que se metió es silicona esta mujer y bastante\n",
      "\n",
      "  -  @usuario Mmm ese rodado de gomas es mucho para ese chasis!\n",
      "\n",
      "  -  @usuario Que pinta de trola\n",
      "\n",
      "  -  @usuario Terrible gato. Y fea.\n",
      "\n",
      "  -  @usuario Es traba?....\n",
      "\n",
      "  -  @usuario Que boluda, podía sacar un permiso esencial de visita higiénica amparada por sindicato de las trabajadoras sexuales.\n",
      "\n",
      "  -  @usuario Modelo... de put@usuario\n",
      "\n",
      "  -  @usuario Me parece he visto un lindo gatito...\n",
      "\n",
      "  -  @usuario FLOR DE PUTA...CONSOLADORES MAMI\n",
      "\n",
      "  -  @usuario La silicona le subió al cerebro\n",
      "\n",
      "  -  @usuario la llevan a un YPF Serviclub a inflarse las tetas\n",
      "\n",
      "  -  @usuario Gatazo con virus varios.\n",
      "\n",
      "  -  @usuario Cristian le debe pagar en dólares o euros...\n",
      "\n",
      "  -  @usuario Alguno penso en el petardo que le debe haber hecho al taxista para que la meta en el baúl?\n",
      "\n",
      "  -  @usuario Todo bien que seas trola mamita, pero un poco de amor propio por favor!!!\n",
      "\n",
      "  -  @usuario Metió todo ese material inflamable en el baúl de un taxi con  GNC. Un peligro!!!\n",
      "=============================================\n",
      "\n",
      "Martha Rosenberg: “En situación de pandemia, legalizar el aborto es más urgente que nunca” \n",
      "\n",
      "\n",
      "  -  @usuario Dice eso porque en pandemia las luchonas cogen más, no?\n",
      "\n",
      "  -  @usuario Salieron con todo, sigan participando ranas\n",
      "\n",
      "  -  @usuario Propongo eutanasia a las de pañuelo verde.\n"
     ]
    }
   ],
   "source": [
    "show_from_df(agree_comments)"
   ]
  },
  {
   "cell_type": "markdown",
   "metadata": {},
   "source": [
    "Busquemos dónde hay discrepancias"
   ]
  },
  {
   "cell_type": "code",
   "execution_count": 28,
   "metadata": {},
   "outputs": [
    {
     "name": "stdout",
     "output_type": "stream",
     "text": [
      "=============================================\n",
      "\n",
      "Coronavirus en Argentina: Cristina Kirchner vuelve de Cuba junto a su hija Florencia y permanecerá aislada por 14 días \n",
      "\n",
      "\n",
      "  -  @usuario ¡Que cirujeada esta la supuesta enfermita!  Hipocritas.\n",
      "     - SI: ['gdamill']  NO: ['dvalado']\n",
      "\n",
      "  -  @usuario Tendrían q ir directamente a la cárcel de Ezeiza. Por Truchas, chorras y fieras! 🤮\n",
      "     - SI: ['gdamill']  NO: ['dvalado']\n",
      "\n",
      "  -  @usuario Tan poco?, que aproveche la muchachita y se quede más en su casa, que abandonar a un hijo no se arregla con 14 días o 4 millones de dólares. Que este bien\n",
      "     - SI: ['dvalado']  NO: ['gdamill']\n",
      "\n",
      "  -  @usuario Obvio dejando la grande en Argentina perra cobarde\n",
      "     - SI: ['dvalado']  NO: ['gdamill']\n",
      "=============================================\n",
      "\n",
      "Verónica Magario pidió endurecer la cuarentena: “Debemos frenar la circulación de personas en el AMBA para evitar contagios” \n",
      "\n",
      "\n",
      "  -  @usuario Jajajaaj está cruela tuneada que se ocupe de su reino feudal mejor\n",
      "     - SI: ['gdamill']  NO: ['dvalado']\n",
      "\n",
      "  -  @usuario Magario, si cruzas la General Paz PERSONALMENTE te meto presa.\n",
      "     - SI: ['gdamill']  NO: ['dvalado']\n",
      "\n",
      "  -  @usuario Disfrute lo que le queda de tiempo con la cabeza pegada al cuerpo, señora...\n",
      "     - SI: ['gdamill']  NO: ['dvalado']\n",
      "\n",
      "  -  @usuario Cállate cabeza de termo tenida\n",
      "     - SI: ['dvalado']  NO: ['gdamill']\n",
      "\n",
      "  -  @usuario Podría patrullar en escoba\n",
      "     - SI: ['dvalado']  NO: ['gdamill']\n",
      "=============================================\n",
      "\n",
      "“Cristian, mirá lo que hago por vos”: quién es la modelo que se metió en el baúl de un auto para violar la cuarentena \n",
      "\n",
      "\n",
      "  -  @usuario Que debe calzar Cristian para que esta mina se meta en un baúl!!??\n",
      "     - SI: ['dvalado']  NO: ['gdamill']\n",
      "\n",
      "  -  @usuario Jajaja modelo Hot jaja Telosu!! Mami diría la Moria !! Jaja ridícula tafaldegaver\n",
      "     - SI: ['dvalado']  NO: ['gdamill']\n",
      "\n",
      "  -  @usuario Se le caen los clientes.\n",
      "     - SI: ['dvalado']  NO: ['gdamill']\n",
      "\n",
      "  -  @usuario Bueh lo que hace esta parda por hacerse conocer...\n",
      "     - SI: ['dvalado']  NO: ['gdamill']\n",
      "\n",
      "  -  @usuario Los airbag , en el volante o en el baúl?\n",
      "No entiendo\n",
      "     - SI: ['gdamill']  NO: ['dvalado']\n",
      "=============================================\n",
      "\n",
      "Martha Rosenberg: “En situación de pandemia, legalizar el aborto es más urgente que nunca” \n",
      "\n",
      "\n",
      "  -  @usuario @usuario Haga el delicioso por el orte y se olvida del aborte.\n",
      "     - SI: ['dvalado']  NO: ['gdamill']\n",
      "\n",
      "  -  @usuario La verdad que sí...así se dejan de reproducir!!!\n",
      "     - SI: ['dvalado']  NO: ['gdamill']\n",
      "\n",
      "  -  @usuario Vieja, sucia y con el cerebro de una ameba, así envejecen las féminas sometidas\n",
      "     - SI: ['gdamill']  NO: ['dvalado']\n"
     ]
    }
   ],
   "source": [
    "show_from_df(disagree_comments, show=True)"
   ]
  },
  {
   "cell_type": "code",
   "execution_count": 29,
   "metadata": {},
   "outputs": [],
   "source": [
    "%%capture\n",
    "show_from_df(non_hateful_comments)"
   ]
  },
  {
   "cell_type": "markdown",
   "metadata": {},
   "source": [
    "## RACISMO"
   ]
  },
  {
   "cell_type": "code",
   "execution_count": 33,
   "metadata": {},
   "outputs": [],
   "source": [
    "\n",
    "agree_comments, disagree_comments, non_hateful_comments = get_agrees_and_disagrees(\n",
    "    df_labels, \"RACISMO\", users\n",
    ")"
   ]
  },
  {
   "cell_type": "code",
   "execution_count": 34,
   "metadata": {},
   "outputs": [
    {
     "name": "stdout",
     "output_type": "stream",
     "text": [
      "=============================================\n",
      "\n",
      "Reacción brutal: quisieron quemar 200 murciélagos por miedo al coronavirus en Perú \n",
      "\n",
      "\n",
      "  -  @usuario Quemen a los chinos que no es el primer desastre que desatan, ni seres el último\n",
      "\n",
      "  -  @usuario Porque no salen a quemar chinos?\n",
      "\n",
      "  -  @usuario Que culpa tienen ello quemar jah , deberían quemar a los chinos que siguen comiendo animales vivos ahora que virus liberaran esos hipocratas\n",
      "\n",
      "  -  @usuario Peruanos... ja\n",
      "\n",
      "  -  @usuario No entienden que es a los chinos a los que hay que quemar !\n",
      "\n",
      "  -  @usuario Peruanos 🚬 no lo entenderias\n",
      "\n",
      "  -  @usuario Quemen a los chinos en todo caso\n",
      "\n",
      "  -  @usuario Cuando no los peruanos haciendo cosas de peruanos\n"
     ]
    }
   ],
   "source": [
    "show_from_df(agree_comments)"
   ]
  },
  {
   "cell_type": "code",
   "execution_count": 35,
   "metadata": {},
   "outputs": [
    {
     "name": "stdout",
     "output_type": "stream",
     "text": [
      "=============================================\n",
      "\n",
      "Coronavirus en Argentina: Cristina Kirchner vuelve de Cuba junto a su hija Florencia y permanecerá aislada por 14 días \n",
      "\n",
      "\n",
      "  -  @usuario vienen medicos cubanos... ahhh pero no veo ninguna ayuda norteamericana, quienes ni siquiera les importa, seguro que ellos generaron esto, lacras de mierda\n",
      "     - SI: ['dvalado']  NO: ['gdamill']\n",
      "=============================================\n",
      "\n",
      "Reacción brutal: quisieron quemar 200 murciélagos por miedo al coronavirus en Perú \n",
      "\n",
      "\n",
      "  -  @usuario Viven en un cumpleaños los peruanos 🤷🏻‍♂️\n",
      "     - SI: ['dvalado']  NO: ['gdamill']\n",
      "\n",
      "  -  @usuario Dejen a esos bichos tranquilos . El problema no son los animales el problema son los supuestamente  humanos que comen esos animales . Los que tienen que estar separados del mundo son los chinos por asesinar a esas especies como si fueran un manjar\n",
      "     - SI: ['dvalado']  NO: ['gdamill']\n",
      "\n",
      "  -  @usuario No se los coman y listo peruanos\n",
      "     - SI: ['dvalado']  NO: ['gdamill']\n"
     ]
    }
   ],
   "source": [
    "show_from_df(disagree_comments, show=True)"
   ]
  },
  {
   "cell_type": "code",
   "execution_count": 36,
   "metadata": {},
   "outputs": [],
   "source": [
    "%%capture\n",
    "show_from_df(non_hateful_comments)"
   ]
  },
  {
   "cell_type": "markdown",
   "metadata": {},
   "source": [
    "## POBREZA"
   ]
  },
  {
   "cell_type": "code",
   "execution_count": 37,
   "metadata": {},
   "outputs": [],
   "source": [
    "\n",
    "agree_comments, disagree_comments, non_hateful_comments = get_agrees_and_disagrees(\n",
    "    df_labels, \"POBREZA\", users\n",
    ")"
   ]
  },
  {
   "cell_type": "code",
   "execution_count": 38,
   "metadata": {},
   "outputs": [
    {
     "name": "stdout",
     "output_type": "stream",
     "text": [
      "=============================================\n",
      "\n",
      "Verónica Magario pidió endurecer la cuarentena: “Debemos frenar la circulación de personas en el AMBA para evitar contagios” \n",
      "\n",
      "\n",
      "  -  @usuario La Matanza 💩💩💩💩🤣🤣🤣🤣🤣\n",
      "=============================================\n",
      "\n",
      "El mensaje de El Dipy que lo convirtió en tendencia en las redes: “Piensan que porque salí de un barrio humilde, soy kirchnerista o soy peronista” \n",
      "\n",
      "\n",
      "  -  @usuario No sabia quien era,lo busqué en Google! Lo que pienso de él,que sus letras son horribles,más vulgares no pueden ser. No pensamos que sos peronista,pensamos que sos un pobre tipo que se cree mil. Y para los de la “clase alta” sos un negro más.\n"
     ]
    }
   ],
   "source": [
    "show_from_df(agree_comments)"
   ]
  },
  {
   "cell_type": "code",
   "execution_count": 39,
   "metadata": {},
   "outputs": [
    {
     "name": "stdout",
     "output_type": "stream",
     "text": [
      "=============================================\n",
      "\n",
      "Verónica Magario pidió endurecer la cuarentena: “Debemos frenar la circulación de personas en el AMBA para evitar contagios” \n",
      "\n",
      "\n",
      "  -  @usuario Se te volvió en contra la fábrica de pobres? Ustedes llenaron la provincia de miseria son ustedes los únicos responsables.\n",
      "     - SI: ['dvalado']  NO: ['gdamill']\n",
      "\n",
      "  -  @usuario PROHIBIDO SALIR DE LA MATANZA  SERIA GENIAL PARA EL PAIS A MAGARIO , QUEDATE ADENTRO MATANSERA\n",
      "     - SI: ['gdamill']  NO: ['dvalado']\n",
      "=============================================\n",
      "\n",
      "Alberto Fernández: “Necesitamos construir cárceles porque si el delito crece, más gente será condenada” \n",
      "\n",
      "\n",
      "  -  @usuario Si son planeros suyos..lo dudo\n",
      "     - SI: ['dvalado']  NO: ['gdamill']\n",
      "\n",
      "  -  @usuario Ustedes liberaron a los presos y ahora se lavan las manos ustedes son los q mantienen a las familias con planes y los chicos crecen con padres q dan el ejemplo de no al trabajo y si a la vagancia ,es lo q hacen viven del choreo y planes ustedes CULPABLES\n",
      "     - SI: ['dvalado']  NO: ['gdamill']\n",
      "=============================================\n",
      "\n",
      "El principal gremio docente nacional rechazó el regreso a las clases presenciales \n",
      "\n",
      "\n",
      "  -  @usuario Banda de VAGOS\n",
      "     - SI: ['dvalado']  NO: ['gdamill']\n",
      "\n",
      "  -  @usuario Vagos! Sigan tomando@usuario con Baradel y haciéndole la planchita!\n",
      "     - SI: ['dvalado']  NO: ['gdamill']\n",
      "\n",
      "  -  @usuario Vagos\n",
      "     - SI: ['dvalado']  NO: ['gdamill']\n",
      "\n",
      "  -  @usuario Vayan a laburar vagos, van a esperar q sea nulo el contagio?? Entonces olvidemonos de las clases, nunca empezaran de nuevo. La verdad pidan un prestamo al Fmi endeudense x algo valedero y rajenlos a todos estos vagos sindicalistas. Impresentables.😪😪\n",
      "     - SI: ['dvalado']  NO: ['gdamill']\n",
      "\n",
      "  -  @usuario @usuario @usuario son capaces y hacen cualquier cosa con tal de no trabajar y contribuir a crear una población analfabeta que viva de los planes del gobierno para que puedan perpetuarse en el poder\n",
      "Son nefastos; no tienen valores, ni ética, moral y humildad !!!, vagos...\n",
      "     - SI: ['dvalado']  NO: ['gdamill']\n",
      "\n",
      "  -  @usuario Parásitos caros.\n",
      "     - SI: ['dvalado']  NO: ['gdamill']\n",
      "\n",
      "  -  @usuario Que raro, estos vagos de mierda!!!!\n",
      "     - SI: ['dvalado']  NO: ['gdamill']\n",
      "\n",
      "  -  @usuario Sindicalistas Vagos de Mierda.\n",
      "     - SI: ['dvalado']  NO: ['gdamill']\n",
      "=============================================\n",
      "\n",
      "El mensaje de El Dipy que lo convirtió en tendencia en las redes: “Piensan que porque salí de un barrio humilde, soy kirchnerista o soy peronista” \n",
      "\n",
      "\n",
      "  -  @usuario Jajaja, no entras en ninguna categoría papá!!! Ahhh y hacete bien esos dientes dracu dracu que tenes! Otario\n",
      "     - SI: ['gdamill']  NO: ['dvalado']\n",
      "\n",
      "  -  @usuario pegate un baño dipy q tas flashando mono\n",
      "     - SI: ['gdamill']  NO: ['dvalado']\n"
     ]
    }
   ],
   "source": [
    "show_from_df(disagree_comments, show=True)"
   ]
  },
  {
   "cell_type": "code",
   "execution_count": 40,
   "metadata": {},
   "outputs": [],
   "source": [
    "%%capture\n",
    "show_from_df(non_hateful_comments)"
   ]
  },
  {
   "cell_type": "markdown",
   "metadata": {},
   "source": [
    "## POLITICA"
   ]
  },
  {
   "cell_type": "code",
   "execution_count": 41,
   "metadata": {},
   "outputs": [],
   "source": [
    "agree_comments, disagree_comments, non_hateful_comments = get_agrees_and_disagrees(\n",
    "    df_labels, \"POLITICA\", users\n",
    ")"
   ]
  },
  {
   "cell_type": "code",
   "execution_count": 42,
   "metadata": {},
   "outputs": [
    {
     "name": "stdout",
     "output_type": "stream",
     "text": [
      "=============================================\n",
      "\n",
      "Verónica Magario pidió endurecer la cuarentena: “Debemos frenar la circulación de personas en el AMBA para evitar contagios” \n",
      "\n",
      "\n",
      "  -  @usuario que gente  de mierda estos peronchos\n",
      "\n",
      "  -  @usuario @usuario Hipócrita. LaKra kirchnerista\n",
      "=============================================\n",
      "\n",
      "“El país está tomando todas las medidas para afrontar el coronavirus” \n",
      "\n",
      "\n",
      "  -  @usuario O sea nadie... Porque no decís \"yo como ministro estoy tomando todas las medidas\" sino que seria algo así como \" el que se enferma es un botón\"... Que tipo inmundo vos y los peronchos que los votaron. Bola de idiotas.\n",
      "\n",
      "  -  @usuario Mentiras, mi hija volvio de Brasil, lleno la DDJJ sobre salud y JAMAS se la pidieron, ni habia dnd dejarla! Krapulas mentirosos #GobiernoDeCientificos\n",
      "\n",
      "  -  @usuario Cuanta plata les están poniendo ojalá se les termine a los kukas y desaparezcan son tóxicos\n",
      "=============================================\n",
      "\n",
      "El principal gremio docente nacional rechazó el regreso a las clases presenciales \n",
      "\n",
      "\n",
      "  -  @usuario Educación no, pero fútbol si. \n",
      "El gobierno nacional debería sacar por decreto el comienzo de las clases con el cumplimiento de todos los protocolos. \n",
      "Sindicalistas parásitos, los privados si podemos trabajar con protocolos pero ustedes no? \n",
      "Que país inviable!\n",
      "\n",
      "  -  @usuario Sindicalistas Vagos de Mierda.\n",
      "\n",
      "  -  @usuario Sindicalistas de mierda.\n",
      "=============================================\n",
      "\n",
      "El mensaje de El Dipy que lo convirtió en tendencia en las redes: “Piensan que porque salí de un barrio humilde, soy kirchnerista o soy peronista” \n",
      "\n",
      "\n",
      "  -  @usuario Los forros odiadores solo tienen un lugar en cambiemos,  cuna de lacras desclasadas.\n",
      "=============================================\n",
      "\n",
      "Córdoba: rompieron 5 silo bolsas de maíz en un tambo que estaban destinados para alimentar 500 vacas \n",
      "\n",
      "\n",
      "  -  @usuario La Kamporonga haciendo de las suyas.\n"
     ]
    }
   ],
   "source": [
    "\n",
    "show_from_df(agree_comments)"
   ]
  },
  {
   "cell_type": "code",
   "execution_count": 44,
   "metadata": {},
   "outputs": [
    {
     "name": "stdout",
     "output_type": "stream",
     "text": [
      "=============================================\n",
      "\n",
      "Coronavirus en Argentina: Cristina Kirchner vuelve de Cuba junto a su hija Florencia y permanecerá aislada por 14 días \n",
      "\n",
      "\n",
      "  -  @usuario No se cayó el avion?? Lpm\n",
      "     - SI: ['dvalado']  NO: ['gdamill']\n",
      "\n",
      "  -  @usuario Presas tienen q estar está dos mierdas...presas\n",
      "     - SI: ['dvalado']  NO: ['gdamill']\n",
      "\n",
      "  -  @usuario Tendrían q ir directamente a la cárcel de Ezeiza. Por Truchas, chorras y fieras! 🤮\n",
      "     - SI: ['dvalado']  NO: ['gdamill']\n",
      "\n",
      "  -  @usuario ¿Y cuando las aislan por chorras?\n",
      "     - SI: ['dvalado']  NO: ['gdamill']\n",
      "\n",
      "  -  @usuario Ojalá no salga más cárcel de x vida a esa hdmp\n",
      "     - SI: ['dvalado']  NO: ['gdamill']\n",
      "\n",
      "  -  @usuario Ojalá se caiga el avión...Dios nos tiene que tirar un centro ...estas dos son virus canceroso\n",
      "     - SI: ['dvalado']  NO: ['gdamill']\n",
      "\n",
      "  -  @usuario Que Dios caiga con toda la Justicia Divina Sobre ella.!!!\n",
      "     - SI: ['dvalado']  NO: ['gdamill']\n",
      "=============================================\n",
      "\n",
      "Verónica Magario pidió endurecer la cuarentena: “Debemos frenar la circulación de personas en el AMBA para evitar contagios” \n",
      "\n",
      "\n",
      "  -  @usuario Esoooooo  Que no salgan de la matanza!!!! Quedense ahi para siempre pidanla independencia y vivan felices con elperonismo!!!\n",
      "     - SI: ['dvalado']  NO: ['gdamill']\n",
      "\n",
      "  -  @usuario encierren a los matanceros pelotudos que votaron a esta bataclana\n",
      "     - SI: ['dvalado']  NO: ['gdamill']\n",
      "=============================================\n",
      "\n",
      "“El país está tomando todas las medidas para afrontar el coronavirus” \n",
      "\n",
      "\n",
      "  -  @usuario Inútiles, cínicos, timadores...\n",
      "Son la peor lacra de la historia, el país está en manos de una banda de inservibles y delincuentes.\n",
      "Reitero: mi desprecio a todos los hijos de puta q nos llevaron a esto\n",
      "     - SI: ['dvalado']  NO: ['gdamill']\n",
      "\n",
      "  -  @usuario Te iba a pedir dignidad, pero sos k,  no tenes. \n",
      "#RenunciaGines\n",
      "     - SI: ['dvalado']  NO: ['gdamill']\n",
      "=============================================\n",
      "\n",
      "Tras decir una vulgaridad al aire, Maju Lozano exclamó: “¡Me olvidé que estaba abierto el micrófono!” \n",
      "\n",
      "\n",
      "  -  @usuario Que dijo? Viva Peron?\n",
      "     - SI: ['dvalado']  NO: ['gdamill']\n",
      "=============================================\n",
      "\n",
      "Alberto Fernández: “Necesitamos construir cárceles porque si el delito crece, más gente será condenada” \n",
      "\n",
      "\n",
      "  -  @usuario Ja q idiota obvio q aumento si liberaste cantidad de delincuentes y asesinos kmo uds algunos se hacen otros kmo vos ya se nace asi y eso no tiene cura 🤦‍♂️🤷‍♂️\n",
      "     - SI: ['dvalado']  NO: ['gdamill']\n",
      "=============================================\n",
      "\n",
      "Hebe de Bonafini le mandó una carta a la reina de Inglaterra: “Su país decidió robarle los ahorros en oro a Venezuela” \n",
      "\n",
      "\n",
      "  -  @usuario No te puede creer. Mirá el atrevimiento de esta vieja insolente!!\n",
      "Tanto que abrazan a Maduro, lo mejor que nos podría pasar es mandar a todos los k a Venezuela.\n",
      "     - SI: ['dvalado']  NO: ['gdamill']\n",
      "\n",
      "  -  @usuario Exacto. Y Maduro y los narcos que le son adictos se la van a tener que comer doblada. Los ingleses son expertos en el afano. Y que le afanen a Maduro me encanta. Se lo dieron a Guaidó. Aplauso a estos Robin Hoods.\n",
      "     - SI: ['dvalado']  NO: ['gdamill']\n",
      "\n",
      "  -  @usuario @usuario avÍsele a la reina q esta terrorista, está totalmente loKA, oKuparon el país del cual somos rehenes mas del 52% de los argentinos,no estamos c/el diKtador Maduro, lo único q queremos es vivir en paz, sin terroristas q hablen x nosotros Thank you Mr Kent 🥰🤗\n",
      "     - SI: ['dvalado']  NO: ['gdamill']\n",
      "=============================================\n",
      "\n",
      "El principal gremio docente nacional rechazó el regreso a las clases presenciales \n",
      "\n",
      "\n",
      "  -  @usuario Vagos de m¡erda! Seguro son todos kichneristas zurdos o peronistas.\n",
      "     - SI: ['dvalado']  NO: ['gdamill']\n",
      "\n",
      "  -  @usuario Que les dejen de pagar (cosa que no sucederá) y verán como van a laburar, son sin vergüenzas, no tienen vocación, son Malandras igual a sus jefes políticos.\n",
      "     - SI: ['gdamill']  NO: ['dvalado']\n",
      "\n",
      "  -  @usuario PARASITES Q SI TIENE ALGO POLITICO DEJAN DE DAR CLASES ONLINE\n",
      "     - SI: ['gdamill']  NO: ['dvalado']\n",
      "\n",
      "  -  @usuario Parásitos caros.\n",
      "     - SI: ['gdamill']  NO: ['dvalado']\n",
      "=============================================\n",
      "\n",
      "El mensaje de El Dipy que lo convirtió en tendencia en las redes: “Piensan que porque salí de un barrio humilde, soy kirchnerista o soy peronista” \n",
      "\n",
      "\n",
      "  -  @usuario Excelente tu autocrítica del final dipy! Te describiste en una frase\n",
      "     - SI: ['dvalado']  NO: ['gdamill']\n",
      "\n",
      "  -  @usuario Para nada uno piensa eso. Justamente el producto mejor terminado del Macrismo es el facho pobre aca el fiel ejemplo.\n",
      "     - SI: ['dvalado']  NO: ['gdamill']\n",
      "=============================================\n",
      "\n",
      "Córdoba: rompieron 5 silo bolsas de maíz en un tambo que estaban destinados para alimentar 500 vacas \n",
      "\n",
      "\n",
      "  -  @usuario Fue la Kampora eztoy zeguro zizepuede!!!\n",
      "     - SI: ['dvalado']  NO: ['gdamill']\n",
      "\n",
      "  -  @usuario Bueno,seguramente si no es otra foto vieja,fue una banda de psicóticos macristas neoliberales para culpar a los peronistas...siempre fue así y no va a cambiar...\n",
      "     - SI: ['dvalado']  NO: ['gdamill']\n",
      "\n",
      "  -  @usuario Si esto no es peronismo terrorista q es\n",
      "     - SI: ['dvalado']  NO: ['gdamill']\n",
      "\n",
      "  -  @usuario Esto son los comunistas\n",
      "     - SI: ['dvalado']  NO: ['gdamill']\n",
      "\n",
      "  -  @usuario Peronismo combatiendo al capital,, cuna de bobos!!\n",
      "     - SI: ['dvalado']  NO: ['gdamill']\n",
      "\n",
      "  -  @usuario Estos kirchneristas!!!!\n",
      "     - SI: ['dvalado']  NO: ['gdamill']\n",
      "=============================================\n",
      "\n",
      "Martha Rosenberg: “En situación de pandemia, legalizar el aborto es más urgente que nunca” \n",
      "\n",
      "\n",
      "  -  @usuario Si la muerte de los inocentes será ley que la muerte de los culpables también!!!\n",
      "LEY DE PENA DE MUERTE en Argentina!!\n",
      "Para asesinos, violadores y Korruptos!!!\n",
      "     - SI: ['gdamill']  NO: ['dvalado']\n"
     ]
    }
   ],
   "source": [
    "show_from_df(disagree_comments, show=True)"
   ]
  },
  {
   "cell_type": "code",
   "execution_count": 45,
   "metadata": {},
   "outputs": [],
   "source": [
    "%%capture\n",
    "show_from_df(non_hateful_comments)"
   ]
  },
  {
   "cell_type": "markdown",
   "metadata": {},
   "source": [
    "## ASPECTO"
   ]
  },
  {
   "cell_type": "code",
   "execution_count": 46,
   "metadata": {},
   "outputs": [],
   "source": [
    "agree_comments, disagree_comments, non_hateful_comments = get_agrees_and_disagrees(\n",
    "    df_labels, \"ASPECTO\", users\n",
    ")"
   ]
  },
  {
   "cell_type": "code",
   "execution_count": 47,
   "metadata": {},
   "outputs": [
    {
     "name": "stdout",
     "output_type": "stream",
     "text": [
      "=============================================\n",
      "\n",
      "Verónica Magario pidió endurecer la cuarentena: “Debemos frenar la circulación de personas en el AMBA para evitar contagios” \n",
      "\n",
      "\n",
      "  -  @usuario Jajajaaj está cruela tuneada que se ocupe de su reino feudal mejor\n",
      "=============================================\n",
      "\n",
      "“El país está tomando todas las medidas para afrontar el coronavirus” \n",
      "\n",
      "\n",
      "  -  @usuario Viejo forro presente la renuncia YA\n",
      "=============================================\n",
      "\n",
      "Tras decir una vulgaridad al aire, Maju Lozano exclamó: “¡Me olvidé que estaba abierto el micrófono!” \n",
      "\n",
      "\n",
      "  -  @usuario Gorda edionda 🤮\n",
      "\n",
      "  -  @usuario Gorda de mierda\n",
      "\n",
      "  -  @usuario Gorda ordinaria.\n",
      "\n",
      "  -  @usuario Es un sushi de bagre\n",
      "=============================================\n",
      "\n",
      "Hebe de Bonafini le mandó una carta a la reina de Inglaterra: “Su país decidió robarle los ahorros en oro a Venezuela” \n",
      "\n",
      "\n",
      "  -  @usuario no le den mas microfono a esta ridicula mujer o vieja de mierda, como mas les guste\n",
      "\n",
      "  -  @usuario Por que le dan espacio a la vieja ladrona chorra hdp esa\n",
      "\n",
      "  -  @usuario Caradura esta vieja\n",
      "\n",
      "  -  @usuario Vieja nefasta\n",
      "\n",
      "  -  @usuario No te puede creer. Mirá el atrevimiento de esta vieja insolente!!\n",
      "Tanto que abrazan a Maduro, lo mejor que nos podría pasar es mandar a todos los k a Venezuela.\n",
      "\n",
      "  -  @usuario La pastilla por favor....!\n",
      "\n",
      "  -  @usuario Cómo voy a festejar el día que muera ésta vieja in munda... Lo que más rabia me da es que la mantenemos con nuestros impuestos...\n",
      "\n",
      "  -  @usuario Esta vieja come gratis no sabe ni escribir\n",
      "\n",
      "  -  @usuario Esta vieja está pal siquiatra\n",
      "\n",
      "  -  @usuario En carácter de que está vieja manda una carta ?\n",
      "\n",
      "  -  @usuario la vieja sera senil pero pendeja no es ella sabe \n",
      "que no le toca nada hdpm\n",
      "=============================================\n",
      "\n",
      "El principal gremio docente nacional rechazó el regreso a las clases presenciales \n",
      "\n",
      "\n",
      "  -  @usuario La vieja chota quiere que los chicos sean brutos como ella.y el gordo tambien que no saben ni hablar.igual con los muchos \"docentes\" que tiene el estado puestos por militancia pobres chicos!!!\n",
      "\n",
      "  -  @usuario Tenía que estar la bigotuda metida\n",
      "\n",
      "  -  @usuario Con esa cara quien quiere volver a ver eso\n",
      "\n",
      "  -  @usuario Esta de joda el gordo baradel. No quiere laburar\n",
      "=============================================\n",
      "\n",
      "Martha Rosenberg: “En situación de pandemia, legalizar el aborto es más urgente que nunca” \n",
      "\n",
      "\n",
      "  -  @usuario Pobre! De tener miedo de estar embarazada, vieja hdp\n",
      "\n",
      "  -  @usuario Vieja chota\n",
      "\n",
      "  -  @usuario Vieja chota\n",
      "\n",
      "  -  @usuario Quien es esta vieja?. No debería estar tejiendo?\n",
      "\n",
      "  -  @usuario Que se aborte ella, vieja  bruja y degenerada!!\n",
      "\n",
      "  -  @usuario ¿Primero no era que se estaban muriendo les pobres mediques y que había que fortalecer el sistema de salud? ¿Ahora es el aborto? Vaya a dormir, abuela\n",
      "\n",
      "  -  @usuario Que tiene que ver vieja de mierda\n",
      "\n",
      "  -  @usuario Jajajajajaja qué vieja limada\n",
      "\n",
      "  -  @usuario Vieja, sucia y con el cerebro de una ameba, así envejecen las féminas sometidas\n"
     ]
    }
   ],
   "source": [
    "show_from_df(agree_comments)"
   ]
  },
  {
   "cell_type": "code",
   "execution_count": 48,
   "metadata": {},
   "outputs": [
    {
     "name": "stdout",
     "output_type": "stream",
     "text": [
      "=============================================\n",
      "\n",
      "Coronavirus en Argentina: Cristina Kirchner vuelve de Cuba junto a su hija Florencia y permanecerá aislada por 14 días \n",
      "\n",
      "\n",
      "  -  @usuario ¡Que cirujeada esta la supuesta enfermita!  Hipocritas.\n",
      "     - SI: ['dvalado']  NO: ['gdamill']\n",
      "=============================================\n",
      "\n",
      "Verónica Magario pidió endurecer la cuarentena: “Debemos frenar la circulación de personas en el AMBA para evitar contagios” \n",
      "\n",
      "\n",
      "  -  @usuario Pero my darling #Magario como vas a hacer para mantener ese color rubio groncho natural que usas en tu pelo? 🙄\n",
      "     - SI: ['gdamill']  NO: ['dvalado']\n",
      "=============================================\n",
      "\n",
      "“El país está tomando todas las medidas para afrontar el coronavirus” \n",
      "\n",
      "\n",
      "  -  @usuario Viejo hdp !!! Caradura\n",
      "     - SI: ['dvalado']  NO: ['gdamill']\n",
      "\n",
      "  -  @usuario Ezeiza es un colador, vienen los vuelos de España e Italia y CERO PROTOCOLO, entran como si nada. NO JUEGUES CON LA SALUD PÚBLICA, GORDO DELINCUENTE\n",
      "     - SI: ['gdamill']  NO: ['dvalado']\n",
      "\n",
      "  -  @usuario Esas medidas no alcanzan (lo dice tu panza que en cualquier momento explota de volecterol).\n",
      "     - SI: ['gdamill']  NO: ['dvalado']\n",
      "=============================================\n",
      "\n",
      "Tras decir una vulgaridad al aire, Maju Lozano exclamó: “¡Me olvidé que estaba abierto el micrófono!” \n",
      "\n",
      "\n",
      "  -  @usuario Alguien me explica como este chimpance tiene un programa de tv? Tal nivel de degradacion alcanzamos como pais ( aclaro que no tengo nada en contra de los chimpances)\n",
      "     - SI: ['dvalado']  NO: ['gdamill']\n",
      "=============================================\n",
      "\n",
      "Hebe de Bonafini le mandó una carta a la reina de Inglaterra: “Su país decidió robarle los ahorros en oro a Venezuela” \n",
      "\n",
      "\n",
      "  -  @usuario Devolvé la bolsa de “Sueños compartidos” vieja ladrona!\n",
      "     - SI: ['dvalado']  NO: ['gdamill']\n",
      "\n",
      "  -  @usuario Tan bajo esta cayendo clarín que reproduce boludeces sin sentido? Por lo menos aclaren que la vieja se quedó con los sueños, techo compartidos\n",
      "     - SI: ['dvalado']  NO: ['gdamill']\n",
      "=============================================\n",
      "\n",
      "El principal gremio docente nacional rechazó el regreso a las clases presenciales \n",
      "\n",
      "\n",
      "  -  @usuario Hay que empezar a echar a la mierda y empezar a tomar jóvenes con ganas de trabajar y sacar estos viejos hijos de puta que rompen las pelotas solamente y no dejan progresar a nadie!!! Anoten @usuario para el que venga!! No más sindicalistas!!\n",
      "     - SI: ['dvalado']  NO: ['gdamill']\n",
      "\n",
      "  -  @usuario Vagos! Sigan tomando@usuario con Baradel y haciéndole la planchita!\n",
      "     - SI: ['dvalado']  NO: ['gdamill']\n",
      "=============================================\n",
      "\n",
      "El mensaje de El Dipy que lo convirtió en tendencia en las redes: “Piensan que porque salí de un barrio humilde, soy kirchnerista o soy peronista” \n",
      "\n",
      "\n",
      "  -  @usuario Jajaja, no entras en ninguna categoría papá!!! Ahhh y hacete bien esos dientes dracu dracu que tenes! Otario\n",
      "     - SI: ['dvalado']  NO: ['gdamill']\n",
      "\n",
      "  -  @usuario pegate un baño dipy q tas flashando mono\n",
      "     - SI: ['dvalado']  NO: ['gdamill']\n"
     ]
    }
   ],
   "source": [
    "show_from_df(disagree_comments, show=True)"
   ]
  },
  {
   "cell_type": "code",
   "execution_count": 49,
   "metadata": {},
   "outputs": [],
   "source": [
    "%%capture\n",
    "show_from_df(non_hateful_comments)"
   ]
  },
  {
   "cell_type": "markdown",
   "metadata": {},
   "source": [
    "## CRIMINAL"
   ]
  },
  {
   "cell_type": "code",
   "execution_count": 50,
   "metadata": {},
   "outputs": [],
   "source": [
    "agree_comments, disagree_comments, non_hateful_comments = get_agrees_and_disagrees(\n",
    "    df_labels, \"CRIMINAL\", users\n",
    ")"
   ]
  },
  {
   "cell_type": "code",
   "execution_count": 51,
   "metadata": {},
   "outputs": [],
   "source": [
    "show_from_df(agree_comments)"
   ]
  },
  {
   "cell_type": "code",
   "execution_count": 52,
   "metadata": {},
   "outputs": [
    {
     "name": "stdout",
     "output_type": "stream",
     "text": [
      "=============================================\n",
      "\n",
      "Alberto Fernández: “Necesitamos construir cárceles porque si el delito crece, más gente será condenada” \n",
      "\n",
      "\n",
      "  -  @usuario Compren balas y fusilen  más barato\n",
      "     - SI: ['dvalado']  NO: ['gdamill']\n",
      "=============================================\n",
      "\n",
      "Córdoba: rompieron 5 silo bolsas de maíz en un tambo que estaban destinados para alimentar 500 vacas \n",
      "\n",
      "\n",
      "  -  @usuario Metan bala.\n",
      "Perros.\n",
      "Alarmas.\n",
      "Cámaras.\n",
      "Guardias.\n",
      "Trampas para oso.\n",
      "Algo\n",
      "     - SI: ['dvalado']  NO: ['gdamill']\n",
      "\n",
      "  -  @usuario #Bala y a colgarlos basta!!\n",
      "     - SI: ['dvalado']  NO: ['gdamill']\n",
      "\n",
      "  -  @usuario @usuario Que la próxima los esperen agazapados en la noche con armas y los limpien. Que tiren los cuerpos en una zanja y listo\n",
      "     - SI: ['dvalado']  NO: ['gdamill']\n"
     ]
    }
   ],
   "source": [
    "show_from_df(disagree_comments, show=True)"
   ]
  },
  {
   "cell_type": "code",
   "execution_count": 53,
   "metadata": {},
   "outputs": [],
   "source": [
    "%%capture\n",
    "show_from_df(non_hateful_comments, show=True)"
   ]
  },
  {
   "cell_type": "markdown",
   "metadata": {},
   "source": [
    "## SALUD\n"
   ]
  },
  {
   "cell_type": "code",
   "execution_count": 54,
   "metadata": {},
   "outputs": [],
   "source": [
    "agree_comments, disagree_comments, non_hateful_comments = get_agrees_and_disagrees(\n",
    "    df_labels, \"DISCAPACIDAD\", users\n",
    ")"
   ]
  },
  {
   "cell_type": "code",
   "execution_count": 55,
   "metadata": {},
   "outputs": [
    {
     "name": "stdout",
     "output_type": "stream",
     "text": [
      "=============================================\n",
      "\n",
      "El mensaje de El Dipy que lo convirtió en tendencia en las redes: “Piensan que porque salí de un barrio humilde, soy kirchnerista o soy peronista” \n",
      "\n",
      "\n",
      "  -  @usuario Sos un gran boludo y deja la droga culiao...!!!\n"
     ]
    }
   ],
   "source": [
    "show_from_df(agree_comments)"
   ]
  },
  {
   "cell_type": "code",
   "execution_count": 56,
   "metadata": {},
   "outputs": [
    {
     "name": "stdout",
     "output_type": "stream",
     "text": [
      "=============================================\n",
      "\n",
      "“El país está tomando todas las medidas para afrontar el coronavirus” \n",
      "\n",
      "\n",
      "  -  @usuario Le falta la nariz roja a este hdp\n",
      "     - SI: ['dvalado']  NO: ['gdamill']\n",
      "=============================================\n",
      "\n",
      "Hebe de Bonafini le mandó una carta a la reina de Inglaterra: “Su país decidió robarle los ahorros en oro a Venezuela” \n",
      "\n",
      "\n",
      "  -  @usuario Esta vieja está pal siquiatra\n",
      "     - SI: ['gdamill']  NO: ['dvalado']\n",
      "=============================================\n",
      "\n",
      "Martha Rosenberg: “En situación de pandemia, legalizar el aborto es más urgente que nunca” \n",
      "\n",
      "\n",
      "  -  @usuario Es una desubicada, solo tienen un objetivo,esta gente esta siquiatrica, poco sentido de realidad\n",
      "     - SI: ['gdamill']  NO: ['dvalado']\n"
     ]
    }
   ],
   "source": [
    "show_from_df(disagree_comments, show=True)"
   ]
  },
  {
   "cell_type": "code",
   "execution_count": 57,
   "metadata": {},
   "outputs": [],
   "source": [
    "%%capture\n",
    "show_from_df(non_hateful_comments)"
   ]
  },
  {
   "cell_type": "markdown",
   "metadata": {},
   "source": [
    "## OTROS"
   ]
  },
  {
   "cell_type": "code",
   "execution_count": 59,
   "metadata": {},
   "outputs": [],
   "source": [
    "agree_comments, disagree_comments, non_hateful_comments = get_agrees_and_disagrees(\n",
    "    df_labels, \"OTROS\", users\n",
    ")"
   ]
  },
  {
   "cell_type": "code",
   "execution_count": 60,
   "metadata": {},
   "outputs": [],
   "source": [
    "show_from_df(agree_comments)"
   ]
  },
  {
   "cell_type": "code",
   "execution_count": 61,
   "metadata": {},
   "outputs": [],
   "source": [
    "show_from_df(disagree_comments, show=True)"
   ]
  },
  {
   "cell_type": "markdown",
   "metadata": {},
   "source": [
    "## LLAMADO A LA ACCIÓN\n",
    "\n",
    "Queremos ver:\n",
    "\n",
    "- Aquellas que hayan sido etiquetadas como odiosas\n"
   ]
  },
  {
   "cell_type": "code",
   "execution_count": 99,
   "metadata": {},
   "outputs": [],
   "source": [
    "my_users = users\n",
    "df_calls_for_action = pd.DataFrame({\"name\": my_users})\n",
    "df_calls_for_action.set_index(\"name\", inplace=True)\n",
    "\n",
    "for article_label in article_labels:\n",
    "    for comment_label in article_label.comment_labels.all():\n",
    "        username = comment_label.article_label.user.username\n",
    "        df_calls_for_action.loc[username, comment_label.comment_id] = comment_label.calls_for_action"
   ]
  },
  {
   "cell_type": "code",
   "execution_count": 100,
   "metadata": {},
   "outputs": [
    {
     "data": {
      "text/plain": [
       "(0.3126061841658182, 578)"
      ]
     },
     "execution_count": 100,
     "metadata": {},
     "output_type": "execute_result"
    }
   ],
   "source": [
    "kappa_of(df_calls_for_action, users)"
   ]
  },
  {
   "cell_type": "code",
   "execution_count": 101,
   "metadata": {},
   "outputs": [
    {
     "name": "stdout",
     "output_type": "stream",
     "text": [
      "Kappa gdamill    - dvalado    = (0.3126061841658182, 578)\n"
     ]
    }
   ],
   "source": [
    "for i in range(len(df_calls_for_action)):\n",
    "    user1 = df_calls_for_action.index[i]\n",
    "    for j in range(i+1, len(df_calls_for_action)):\n",
    "        user2 = df_calls_for_action.index[j]\n",
    "        \n",
    "        print(f\"Kappa {user1:<10} - {user2:<10} = {kappa_of(df_calls_for_action, [user1, user2])}\")"
   ]
  },
  {
   "cell_type": "code",
   "execution_count": 102,
   "metadata": {},
   "outputs": [
    {
     "data": {
      "text/plain": [
       "name\n",
       "gdamill    0.006427\n",
       "dvalado    0.036723\n",
       "dtype: float64"
      ]
     },
     "execution_count": 102,
     "metadata": {},
     "output_type": "execute_result"
    }
   ],
   "source": [
    "df_calls_for_action.sum(axis=1) / df_calls_for_action.notna().sum(axis=1)"
   ]
  },
  {
   "cell_type": "code",
   "execution_count": 103,
   "metadata": {},
   "outputs": [
    {
     "data": {
      "text/plain": [
       "name\n",
       "gdamill     5.0\n",
       "dvalado    26.0\n",
       "dtype: float64"
      ]
     },
     "execution_count": 103,
     "metadata": {},
     "output_type": "execute_result"
    }
   ],
   "source": [
    "df = no_null_columns(df_calls_for_action)\n",
    "\n",
    "df.sum(axis=1)"
   ]
  },
  {
   "cell_type": "code",
   "execution_count": 104,
   "metadata": {},
   "outputs": [],
   "source": [
    "\n",
    "agree_comments = df[df.columns[df.all()]]\n",
    "agree_comments.shape\n",
    "\n",
    "no_agree = ~((df.sum() == 0) | (df.sum() == len(users)))\n",
    "no_agree_comments = df[df.columns[no_agree]]"
   ]
  },
  {
   "cell_type": "code",
   "execution_count": 105,
   "metadata": {},
   "outputs": [
    {
     "name": "stdout",
     "output_type": "stream",
     "text": [
      "=============================================\n",
      "\n",
      "Reacción brutal: quisieron quemar 200 murciélagos por miedo al coronavirus en Perú \n",
      "\n",
      "\n",
      "  -  @usuario Quemen a los chinos que no es el primer desastre que desatan, ni seres el último\n",
      "\n",
      "  -  @usuario Porque no salen a quemar chinos?\n",
      "\n",
      "  -  @usuario Que culpa tienen ello quemar jah , deberían quemar a los chinos que siguen comiendo animales vivos ahora que virus liberaran esos hipocratas\n",
      "\n",
      "  -  @usuario No entienden que es a los chinos a los que hay que quemar !\n",
      "\n",
      "  -  @usuario Quemen a los chinos en todo caso\n"
     ]
    }
   ],
   "source": [
    "show_from_df(agree_comments)"
   ]
  },
  {
   "cell_type": "code",
   "execution_count": 106,
   "metadata": {},
   "outputs": [
    {
     "name": "stdout",
     "output_type": "stream",
     "text": [
      "=============================================\n",
      "\n",
      "Coronavirus en Argentina: Cristina Kirchner vuelve de Cuba junto a su hija Florencia y permanecerá aislada por 14 días \n",
      "\n",
      "\n",
      "  -  @usuario Presas tienen q estar está dos mierdas...presas\n",
      "     - SI: ['dvalado']  NO: ['gdamill']\n",
      "\n",
      "  -  @usuario Tendrían q ir directamente a la cárcel de Ezeiza. Por Truchas, chorras y fieras! 🤮\n",
      "     - SI: ['dvalado']  NO: ['gdamill']\n",
      "\n",
      "  -  @usuario Ojalá se caiga el avión...Dios nos tiene que tirar un centro ...estas dos son virus canceroso\n",
      "     - SI: ['dvalado']  NO: ['gdamill']\n",
      "\n",
      "  -  @usuario Que Dios caiga con toda la Justicia Divina Sobre ella.!!!\n",
      "     - SI: ['dvalado']  NO: ['gdamill']\n",
      "=============================================\n",
      "\n",
      "Verónica Magario pidió endurecer la cuarentena: “Debemos frenar la circulación de personas en el AMBA para evitar contagios” \n",
      "\n",
      "\n",
      "  -  @usuario Esoooooo  Que no salgan de la matanza!!!! Quedense ahi para siempre pidanla independencia y vivan felices con elperonismo!!!\n",
      "     - SI: ['dvalado']  NO: ['gdamill']\n",
      "\n",
      "  -  @usuario encierren a los matanceros pelotudos que votaron a esta bataclana\n",
      "     - SI: ['dvalado']  NO: ['gdamill']\n",
      "=============================================\n",
      "\n",
      "“El país está tomando todas las medidas para afrontar el coronavirus” \n",
      "\n",
      "\n",
      "  -  @usuario Viejo forro presente la renuncia YA\n",
      "     - SI: ['dvalado']  NO: ['gdamill']\n",
      "\n",
      "  -  @usuario Cuanta plata les están poniendo ojalá se les termine a los kukas y desaparezcan son tóxicos\n",
      "     - SI: ['dvalado']  NO: ['gdamill']\n",
      "\n",
      "  -  @usuario Te iba a pedir dignidad, pero sos k,  no tenes. \n",
      "#RenunciaGines\n",
      "     - SI: ['dvalado']  NO: ['gdamill']\n",
      "=============================================\n",
      "\n",
      "Reacción brutal: quisieron quemar 200 murciélagos por miedo al coronavirus en Perú \n",
      "\n",
      "\n",
      "  -  @usuario Dejen a esos bichos tranquilos . El problema no son los animales el problema son los supuestamente  humanos que comen esos animales . Los que tienen que estar separados del mundo son los chinos por asesinar a esas especies como si fueran un manjar\n",
      "     - SI: ['dvalado']  NO: ['gdamill']\n",
      "=============================================\n",
      "\n",
      "Alberto Fernández: “Necesitamos construir cárceles porque si el delito crece, más gente será condenada” \n",
      "\n",
      "\n",
      "  -  @usuario Compren balas y fusilen  más barato\n",
      "     - SI: ['dvalado']  NO: ['gdamill']\n",
      "=============================================\n",
      "\n",
      "Hebe de Bonafini le mandó una carta a la reina de Inglaterra: “Su país decidió robarle los ahorros en oro a Venezuela” \n",
      "\n",
      "\n",
      "  -  @usuario no le den mas microfono a esta ridicula mujer o vieja de mierda, como mas les guste\n",
      "     - SI: ['dvalado']  NO: ['gdamill']\n",
      "\n",
      "  -  @usuario No te puede creer. Mirá el atrevimiento de esta vieja insolente!!\n",
      "Tanto que abrazan a Maduro, lo mejor que nos podría pasar es mandar a todos los k a Venezuela.\n",
      "     - SI: ['dvalado']  NO: ['gdamill']\n",
      "\n",
      "  -  @usuario Cómo voy a festejar el día que muera ésta vieja in munda... Lo que más rabia me da es que la mantenemos con nuestros impuestos...\n",
      "     - SI: ['dvalado']  NO: ['gdamill']\n",
      "=============================================\n",
      "\n",
      "Córdoba: rompieron 5 silo bolsas de maíz en un tambo que estaban destinados para alimentar 500 vacas \n",
      "\n",
      "\n",
      "  -  @usuario Metan bala.\n",
      "Perros.\n",
      "Alarmas.\n",
      "Cámaras.\n",
      "Guardias.\n",
      "Trampas para oso.\n",
      "Algo\n",
      "     - SI: ['dvalado']  NO: ['gdamill']\n",
      "\n",
      "  -  @usuario #Bala y a colgarlos basta!!\n",
      "     - SI: ['dvalado']  NO: ['gdamill']\n",
      "\n",
      "  -  @usuario @usuario Que la próxima los esperen agazapados en la noche con armas y los limpien. Que tiren los cuerpos en una zanja y listo\n",
      "     - SI: ['dvalado']  NO: ['gdamill']\n",
      "=============================================\n",
      "\n",
      "Martha Rosenberg: “En situación de pandemia, legalizar el aborto es más urgente que nunca” \n",
      "\n",
      "\n",
      "  -  @usuario @usuario Haga el delicioso por el orte y se olvida del aborte.\n",
      "     - SI: ['dvalado']  NO: ['gdamill']\n",
      "\n",
      "  -  @usuario Que se aborte ella, vieja  bruja y degenerada!!\n",
      "     - SI: ['dvalado']  NO: ['gdamill']\n",
      "\n",
      "  -  @usuario ¿Primero no era que se estaban muriendo les pobres mediques y que había que fortalecer el sistema de salud? ¿Ahora es el aborto? Vaya a dormir, abuela\n",
      "     - SI: ['dvalado']  NO: ['gdamill']\n",
      "\n",
      "  -  @usuario Propongo eutanasia a las de pañuelo verde.\n",
      "     - SI: ['dvalado']  NO: ['gdamill']\n"
     ]
    }
   ],
   "source": [
    "show_from_df(no_agree_comments, show=True)"
   ]
  }
 ],
 "metadata": {
  "kernelspec": {
   "display_name": "Python 3",
   "language": "python",
   "name": "python3"
  },
  "language_info": {
   "codemirror_mode": {
    "name": "ipython",
    "version": 3
   },
   "file_extension": ".py",
   "mimetype": "text/x-python",
   "name": "python",
   "nbconvert_exporter": "python",
   "pygments_lexer": "ipython3",
   "version": "3.8.5"
  }
 },
 "nbformat": 4,
 "nbformat_minor": 4
}
