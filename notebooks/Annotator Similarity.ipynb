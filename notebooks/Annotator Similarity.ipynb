{
 "cells": [
  {
   "cell_type": "markdown",
   "metadata": {},
   "source": [
    "## Agreements - All Articles\n",
    "\n",
    "Vamos a ver los resultados del primer batch, que está etiquetado completo por dvalado y casi completo por gdamill"
   ]
  },
  {
   "cell_type": "code",
   "execution_count": 1,
   "metadata": {},
   "outputs": [],
   "source": [
    "%load_ext autoreload\n",
    "%autoreload 2\n",
    "import os\n",
    "import sys\n",
    "import django\n",
    "from tqdm.auto import tqdm\n",
    "\n",
    "os.environ[\"DJANGO_ALLOW_ASYNC_UNSAFE\"] = \"true\"\n",
    "\n",
    "sys.path.append(\"..\")\n",
    "os.environ['DJANGO_SETTINGS_MODULE'] = 'news_labelling.settings'\n",
    "django.setup()\n",
    "\n",
    "from api.models import Comment, ArticleLabel, CommentLabel, Article, Batch\n",
    "from django.contrib.auth.models import User"
   ]
  },
  {
   "cell_type": "markdown",
   "metadata": {},
   "source": [
    "Primero, veamos qué usuarios etiquetaron más de 4 artículos..."
   ]
  },
  {
   "cell_type": "code",
   "execution_count": 2,
   "metadata": {},
   "outputs": [],
   "source": [
    "from django.db.models import Count\n",
    "from api.metrics import AgreementCalculator\n",
    "\n",
    "articles = Article.objects.exclude(batch__name__in=[\"demo\", \"training\"])\n",
    "\n",
    "users = [u for u in User.objects.filter(username__in=[\n",
    "    \"asilva\", \n",
    "    \"fdesanctis\", \n",
    "    \"gdamill\", \n",
    "    \"dvalado\", \n",
    "    \"gclerici\",\n",
    "    \"lprats\",\n",
    "])]\n",
    "\n",
    "calculator = AgreementCalculator(articles=articles, users=users)\n",
    "\n"
   ]
  },
  {
   "cell_type": "markdown",
   "metadata": {},
   "source": [
    "¿Cuántos etiquetamos todes?"
   ]
  },
  {
   "cell_type": "markdown",
   "metadata": {},
   "source": [
    "## Agreements sobre odio\n",
    "\n",
    "Ahora usamos sólo Alpha que da casi igual que Fleiss"
   ]
  },
  {
   "cell_type": "code",
   "execution_count": 3,
   "metadata": {},
   "outputs": [
    {
     "name": "stdout",
     "output_type": "stream",
     "text": [
      "Alpha HATE para asilva - dvalado - fdesanctis - gclerici - gdamill - lprats: 0.580 (soporte = 4764)\n"
     ]
    }
   ],
   "source": [
    "import krippendorff\n",
    "\n",
    "alpha, support = calculator.get_agreement(\"hate\")\n",
    "\n",
    "print(f\"Alpha HATE para {' - '.join(calculator.usernames)}: {alpha:.3f} (soporte = {support})\")\n"
   ]
  },
  {
   "cell_type": "code",
   "execution_count": 4,
   "metadata": {},
   "outputs": [
    {
     "name": "stdout",
     "output_type": "stream",
     "text": [
      "Cantidad de mensajes etiquetados como odiosos\n"
     ]
    },
    {
     "data": {
      "text/plain": [
       "etiquetador\n",
       "asilva        0.146469\n",
       "dvalado       0.301386\n",
       "fdesanctis    0.255369\n",
       "gclerici      0.106177\n",
       "gdamill       0.166080\n",
       "lprats        0.132148\n",
       "dtype: float64"
      ]
     },
     "execution_count": 4,
     "metadata": {},
     "output_type": "execute_result"
    }
   ],
   "source": [
    "print(\"Cantidad de mensajes etiquetados como odiosos\")\n",
    "\n",
    "calculator.get_bias_towards(\"hate\")"
   ]
  },
  {
   "cell_type": "code",
   "execution_count": 6,
   "metadata": {},
   "outputs": [],
   "source": [
    "import pandas as pd\n",
    "\n",
    "usernames = sorted([u.username for u in users])\n",
    "\n",
    "agreements = pd.DataFrame(columns=usernames)\n",
    "\n",
    "for i, u1 in enumerate(users):\n",
    "    agreements.loc[u1.username, u1.username] = 1.0\n",
    "    for j in range(i+1, len(users)):\n",
    "        u2 = users[j]\n",
    "        alpha, _ = calculator.get_agreement(\"hate\", users=[u1.username, u2.username])\n",
    "        agreements.loc[u1.username, u2.username] = alpha\n",
    "        agreements.loc[u2.username, u1.username] = alpha"
   ]
  },
  {
   "cell_type": "code",
   "execution_count": 7,
   "metadata": {},
   "outputs": [],
   "source": [
    "agreements = agreements.astype(float)"
   ]
  },
  {
   "cell_type": "code",
   "execution_count": 8,
   "metadata": {},
   "outputs": [
    {
     "data": {
      "text/plain": [
       "<AxesSubplot:>"
      ]
     },
     "execution_count": 8,
     "metadata": {},
     "output_type": "execute_result"
    },
    {
     "data": {
      "image/png": "[encoded data removed]",
      "text/plain": [
       "<Figure size 432x288 with 2 Axes>"
      ]
     },
     "metadata": {
      "needs_background": "light"
     },
     "output_type": "display_data"
    }
   ],
   "source": [
    "import seaborn as sns\n",
    "\n",
    "sns.heatmap(agreements, fmt=\".2f\", annot=True)"
   ]
  },
  {
   "cell_type": "code",
   "execution_count": 9,
   "metadata": {},
   "outputs": [
    {
     "data": {
      "text/plain": [
       "asilva        0.603688\n",
       "dvalado       0.507627\n",
       "fdesanctis    0.526269\n",
       "gclerici      0.408386\n",
       "gdamill       0.566349\n",
       "lprats        0.515365\n",
       "dtype: float64"
      ]
     },
     "execution_count": 9,
     "metadata": {},
     "output_type": "execute_result"
    }
   ],
   "source": [
    "(agreements.sum(axis=1)-1)/5"
   ]
  },
  {
   "cell_type": "markdown",
   "metadata": {},
   "source": [
    "Veamos qué porcentaje de comentarios etiquetan como odiosos"
   ]
  },
  {
   "cell_type": "markdown",
   "metadata": {},
   "source": [
    "¿Cómo cambia el agreement sacando a cada uno de los anotadores?"
   ]
  },
  {
   "cell_type": "code",
   "execution_count": 10,
   "metadata": {},
   "outputs": [
    {
     "name": "stdout",
     "output_type": "stream",
     "text": [
      "- a asilva       ---> 0.546\n",
      "- a dvalado      ---> 0.573\n",
      "- a fdesanctis   ---> 0.558\n",
      "- a gclerici     ---> 0.621\n",
      "- a gdamill      ---> 0.553\n",
      "- a lprats       ---> 0.584\n"
     ]
    }
   ],
   "source": [
    "for u in users:\n",
    "    users_without = [username for username in usernames if username != u.username]\n",
    "    alpha, _ = calculator.get_agreement(\"hate\", users=users_without)\n",
    "    print(f\"- a {u.username:<12} ---> {alpha:.3f}\")"
   ]
  },
  {
   "cell_type": "code",
   "execution_count": null,
   "metadata": {},
   "outputs": [],
   "source": []
  }
 ],
 "metadata": {
  "kernelspec": {
   "display_name": "Python 3",
   "language": "python",
   "name": "python3"
  },
  "language_info": {
   "codemirror_mode": {
    "name": "ipython",
    "version": 3
   },
   "file_extension": ".py",
   "mimetype": "text/x-python",
   "name": "python",
   "nbconvert_exporter": "python",
   "pygments_lexer": "ipython3",
   "version": "3.8.5"
  }
 },
 "nbformat": 4,
 "nbformat_minor": 4
}
