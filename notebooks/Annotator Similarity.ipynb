{
 "cells": [
  {
   "cell_type": "markdown",
   "metadata": {},
   "source": [
    "## Agreements - All Articles\n",
    "\n",
    "Vamos a ver los resultados del primer batch, que está etiquetado completo por dvalado y casi completo por gdamill"
   ]
  },
  {
   "cell_type": "code",
   "execution_count": 1,
   "metadata": {},
   "outputs": [],
   "source": [
    "%load_ext autoreload\n",
    "%autoreload 2\n",
    "import os\n",
    "import sys\n",
    "import django\n",
    "from tqdm.auto import tqdm\n",
    "\n",
    "os.environ[\"DJANGO_ALLOW_ASYNC_UNSAFE\"] = \"true\"\n",
    "\n",
    "sys.path.append(\"..\")\n",
    "os.environ['DJANGO_SETTINGS_MODULE'] = 'news_labelling.settings'\n",
    "django.setup()\n",
    "\n",
    "from api.models import Comment, ArticleLabel, CommentLabel, Article, Batch\n",
    "from django.contrib.auth.models import User"
   ]
  },
  {
   "cell_type": "markdown",
   "metadata": {},
   "source": [
    "Primero, veamos qué usuarios etiquetaron más de 4 artículos..."
   ]
  },
  {
   "cell_type": "code",
   "execution_count": 2,
   "metadata": {},
   "outputs": [
    {
     "data": {
      "application/vnd.jupyter.widget-view+json": {
       "model_id": "80c1e8dafef0439e8db2cbfc5cd5d40c",
       "version_major": 2,
       "version_minor": 0
      },
      "text/plain": [
       "  0%|          | 0/1656 [00:06<?, ?it/s]"
      ]
     },
     "metadata": {},
     "output_type": "display_data"
    }
   ],
   "source": [
    "from django.db.models import Count\n",
    "from api.metrics import AgreementCalculator\n",
    "\n",
    "articles = Article.objects.exclude(batch__name__in=[\"demo\", \"training\"])\n",
    "\n",
    "users = [u for u in User.objects.filter(username__in=[\n",
    "    \"asilva\", \n",
    "    \"fdesanctis\", \n",
    "    \"gdamill\", \n",
    "    \"dvalado\", \n",
    "    \"gclerici\",\n",
    "    \"lprats\",\n",
    "])]\n",
    "\n",
    "calculator = AgreementCalculator(articles=articles, users=users)\n",
    "\n"
   ]
  },
  {
   "cell_type": "markdown",
   "metadata": {},
   "source": [
    "¿Cuántos etiquetamos todes?"
   ]
  },
  {
   "cell_type": "markdown",
   "metadata": {},
   "source": [
    "## Agreements sobre odio\n",
    "\n",
    "Ahora usamos sólo Alpha que da casi igual que Fleiss"
   ]
  },
  {
   "cell_type": "code",
   "execution_count": 3,
   "metadata": {},
   "outputs": [
    {
     "name": "stdout",
     "output_type": "stream",
     "text": [
      "Alpha HATE para asilva - dvalado - fdesanctis - gclerici - gdamill - lprats: 0.594 (soporte = 5453)\n"
     ]
    }
   ],
   "source": [
    "import krippendorff\n",
    "\n",
    "alpha, support = calculator.get_agreement(\"hate\")\n",
    "\n",
    "print(f\"Alpha HATE para {' - '.join(calculator.usernames)}: {alpha:.3f} (soporte = {support})\")\n"
   ]
  },
  {
   "cell_type": "code",
   "execution_count": 4,
   "metadata": {},
   "outputs": [
    {
     "name": "stdout",
     "output_type": "stream",
     "text": [
      "Cantidad de mensajes etiquetados como odiosos\n"
     ]
    },
    {
     "data": {
      "text/plain": [
       "etiquetador\n",
       "asilva        0.143138\n",
       "dvalado       0.307506\n",
       "fdesanctis    0.296491\n",
       "gclerici      0.120534\n",
       "gdamill       0.160167\n",
       "lprats        0.168331\n",
       "dtype: float64"
      ]
     },
     "execution_count": 4,
     "metadata": {},
     "output_type": "execute_result"
    }
   ],
   "source": [
    "print(\"Cantidad de mensajes etiquetados como odiosos\")\n",
    "\n",
    "calculator.get_bias_towards(\"hate\")"
   ]
  },
  {
   "cell_type": "markdown",
   "metadata": {},
   "source": [
    "## Sin sacar comentarios "
   ]
  },
  {
   "cell_type": "code",
   "execution_count": 5,
   "metadata": {},
   "outputs": [
    {
     "name": "stdout",
     "output_type": "stream",
     "text": [
      "CPU times: user 1.41 s, sys: 0 ns, total: 1.41 s\n",
      "Wall time: 1.4 s\n"
     ]
    }
   ],
   "source": [
    "%%time\n",
    "import pandas as pd\n",
    "\n",
    "usernames = sorted([u.username for u in users])\n",
    "\n",
    "agreements = pd.DataFrame(columns=usernames)\n",
    "\n",
    "for i, u1 in enumerate(users):\n",
    "    agreements.loc[u1.username, u1.username] = 1.0\n",
    "    for j in range(i+1, len(users)):\n",
    "        u2 = users[j]\n",
    "        alpha, _ = calculator.get_agreement(\"hate\", users=[u1.username, u2.username])\n",
    "        agreements.loc[u1.username, u2.username] = alpha\n",
    "        agreements.loc[u2.username, u1.username] = alpha"
   ]
  },
  {
   "cell_type": "code",
   "execution_count": 6,
   "metadata": {},
   "outputs": [],
   "source": [
    "agreements = agreements.astype(float)"
   ]
  },
  {
   "cell_type": "code",
   "execution_count": 7,
   "metadata": {},
   "outputs": [
    {
     "data": {
      "image/png": "[encoded data removed]",
      "text/plain": [
       "<Figure size 432x288 with 2 Axes>"
      ]
     },
     "metadata": {
      "needs_background": "light"
     },
     "output_type": "display_data"
    }
   ],
   "source": [
    "import seaborn as sns\n",
    "import matplotlib.pyplot as plt\n",
    "import io\n",
    "\n",
    "fig = sns.heatmap(agreements, fmt=\".2f\", annot=True)\n",
    "\n",
    "buf = io.BytesIO()\n",
    "\n",
    "plt.savefig(buf, format=\"png\")"
   ]
  },
  {
   "cell_type": "code",
   "execution_count": 8,
   "metadata": {},
   "outputs": [],
   "source": [
    "avg_agreement = (agreements.sum(axis=1)-1)/5"
   ]
  },
  {
   "cell_type": "code",
   "execution_count": 9,
   "metadata": {},
   "outputs": [
    {
     "name": "stdout",
     "output_type": "stream",
     "text": [
      "asilva 0.5689778875545922\n",
      "dvalado 0.4929278882714712\n",
      "fdesanctis 0.5067890736416911\n",
      "gclerici 0.36959112038691044\n",
      "gdamill 0.5627408520614219\n",
      "lprats 0.5422891229776649\n"
     ]
    }
   ],
   "source": [
    "for k, v in avg_agreement.items():\n",
    "    print(k, v)"
   ]
  },
  {
   "cell_type": "markdown",
   "metadata": {},
   "source": [
    "Veamos qué porcentaje de comentarios etiquetan como odiosos"
   ]
  },
  {
   "cell_type": "markdown",
   "metadata": {},
   "source": [
    "¿Cómo cambia el agreement sacando a cada uno de los anotadores?"
   ]
  },
  {
   "cell_type": "code",
   "execution_count": 10,
   "metadata": {},
   "outputs": [
    {
     "name": "stdout",
     "output_type": "stream",
     "text": [
      "- a asilva       ---> 0.569\n",
      "- a dvalado      ---> 0.576\n",
      "- a fdesanctis   ---> 0.565\n",
      "- a gclerici     ---> 0.633\n",
      "- a gdamill      ---> 0.558\n",
      "- a lprats       ---> 0.564\n"
     ]
    }
   ],
   "source": [
    "for u in users:\n",
    "    users_without = [username for username in usernames if username != u.username]\n",
    "    alpha, _ = calculator.get_agreement(\"hate\", users=users_without)\n",
    "    print(f\"- a {u.username:<12} ---> {alpha:.3f}\")"
   ]
  }
 ],
 "metadata": {
  "kernelspec": {
   "display_name": "Python 3",
   "language": "python",
   "name": "python3"
  },
  "language_info": {
   "codemirror_mode": {
    "name": "ipython",
    "version": 3
   },
   "file_extension": ".py",
   "mimetype": "text/x-python",
   "name": "python",
   "nbconvert_exporter": "python",
   "pygments_lexer": "ipython3",
   "version": "3.8.5"
  }
 },
 "nbformat": 4,
 "nbformat_minor": 4
}
