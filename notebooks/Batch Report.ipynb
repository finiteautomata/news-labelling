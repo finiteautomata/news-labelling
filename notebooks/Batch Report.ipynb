{
 "cells": [
  {
   "cell_type": "markdown",
   "metadata": {},
   "source": [
    "## Agreements"
   ]
  },
  {
   "cell_type": "code",
   "execution_count": 1,
   "metadata": {},
   "outputs": [],
   "source": [
    "%load_ext autoreload\n",
    "%autoreload 2\n",
    "import os\n",
    "import sys\n",
    "import django\n",
    "from tqdm.auto import tqdm\n",
    "\n",
    "os.environ[\"DJANGO_ALLOW_ASYNC_UNSAFE\"] = \"true\"\n",
    "\n",
    "sys.path.append(\"..\")\n",
    "os.environ['DJANGO_SETTINGS_MODULE'] = 'news_labelling.settings'\n",
    "django.setup()\n",
    "\n",
    "from api.models import Comment, ArticleLabel, CommentLabel, Article\n",
    "from django.contrib.auth.models import User"
   ]
  },
  {
   "cell_type": "markdown",
   "metadata": {},
   "source": [
    "Primero, veamos qué usuarios etiquetaron más de 4 artículos..."
   ]
  },
  {
   "cell_type": "code",
   "execution_count": 2,
   "metadata": {},
   "outputs": [
    {
     "data": {
      "text/plain": [
       "['asilva', 'dvalado', 'fdesanctis', 'gclerici', 'gdamill', 'lprats']"
      ]
     },
     "execution_count": 2,
     "metadata": {},
     "output_type": "execute_result"
    }
   ],
   "source": [
    "from django.db.models import Count\n",
    "\n",
    "users = []\n",
    "for agg in ArticleLabel.objects.values('user__username').annotate(Count('user__username')):\n",
    "     users.append(agg['user__username'])   \n",
    "users.remove(\"jmperez\")\n",
    "users"
   ]
  },
  {
   "cell_type": "code",
   "execution_count": 31,
   "metadata": {},
   "outputs": [
    {
     "data": {
      "text/plain": [
       "([{'batch_name': 'training',\n",
       "   'asilva': 'progressing',\n",
       "   'dvalado': 'completed',\n",
       "   'fdesanctis': 'progressing',\n",
       "   'gclerici': 'progressing',\n",
       "   'gdamill': 'completed',\n",
       "   'lprats': 'progressing'}],\n",
       " ['asilva', 'dvalado', 'fdesanctis', 'gclerici', 'gdamill', 'lprats'])"
      ]
     },
     "execution_count": 31,
     "metadata": {},
     "output_type": "execute_result"
    }
   ],
   "source": [
    "import pandas as pd\n",
    "from api.models import BatchAssignment\n",
    "\n",
    "\n",
    "#df = pd.DataFrame({\"name\":users})\n",
    "#df.set_index(\"name\", inplace=True)\n",
    "df = pd.DataFrame(columns=users)\n",
    "\n",
    "for batch_assignment in BatchAssignment.objects.all():\n",
    "    user_name = batch_assignment.user.username\n",
    "    if user_name in users:\n",
    "        batch_name = batch_assignment.batch.name\n",
    "        value = \"completed\" if batch_assignment.done else \"progressing\"\n",
    "        df.loc[batch_name, user_name] = value\n",
    "df.fillna(\"na\", inplace=True)\n",
    "\n",
    "df.reset_index(inplace=True)\n",
    "df = df.rename({\"index\": \"batch_name\"}, axis=1)\n",
    "\n",
    "df.to_dict('records'), users"
   ]
  }
 ],
 "metadata": {
  "kernelspec": {
   "display_name": "Python 3",
   "language": "python",
   "name": "python3"
  },
  "language_info": {
   "codemirror_mode": {
    "name": "ipython",
    "version": 3
   },
   "file_extension": ".py",
   "mimetype": "text/x-python",
   "name": "python",
   "nbconvert_exporter": "python",
   "pygments_lexer": "ipython3",
   "version": "3.8.5"
  }
 },
 "nbformat": 4,
 "nbformat_minor": 4
}
