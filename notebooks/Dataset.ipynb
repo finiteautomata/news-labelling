{
 "cells": [
  {
   "cell_type": "markdown",
   "metadata": {},
   "source": [
    "## Dataset\n",
    "\n",
    "Veamos estadísticas y otras cosas del dataset"
   ]
  },
  {
   "cell_type": "code",
   "execution_count": 1,
   "metadata": {},
   "outputs": [],
   "source": [
    "%load_ext autoreload\n",
    "%autoreload 2\n",
    "import os\n",
    "import sys\n",
    "import django\n",
    "from tqdm.auto import tqdm\n",
    "\n",
    "os.environ[\"DJANGO_ALLOW_ASYNC_UNSAFE\"] = \"true\"\n",
    "\n",
    "sys.path.append(\"..\")\n",
    "os.environ['DJANGO_SETTINGS_MODULE'] = 'news_labelling.settings'\n",
    "django.setup()\n",
    "\n",
    "from api.models import Comment, ArticleLabel, CommentLabel, Article, Batch\n",
    "from django.contrib.auth.models import User"
   ]
  },
  {
   "cell_type": "markdown",
   "metadata": {},
   "source": [
    "Primero, veamos qué usuarios etiquetaron más de 4 artículos..."
   ]
  },
  {
   "cell_type": "code",
   "execution_count": 2,
   "metadata": {},
   "outputs": [
    {
     "name": "stdout",
     "output_type": "stream",
     "text": [
      "Artículos totales: 1738\n",
      "Artículos con 3 anotaciones: 1238\n",
      "Artículos con alguna anotación: 1725\n",
      "Artículos que no pasaron a tercera anotación: 452\n"
     ]
    }
   ],
   "source": [
    "from django.db.models import Count, Case, When, Value\n",
    "\n",
    "annotated_articles = Article.objects.exclude(batch__name=\"training\").annotate(\n",
    "    num_labels=Count('labels'),\n",
    "    effective_labels=Count(\n",
    "        Case(When(labels__is_interesting=True, then=Value(1)))\n",
    "    )\n",
    ")\n",
    "\n",
    "\n",
    "dataset_articles = annotated_articles.filter(effective_labels=3)\n",
    "\n",
    "skipped = 0\n",
    "\n",
    "for art in annotated_articles:\n",
    "    if art.num_labels > art.effective_labels:\n",
    "        skipped +=1\n",
    "\n",
    "\n",
    "print(f\"Artículos totales: {Article.objects.count()}\")\n",
    "print(f\"Artículos con 3 anotaciones: {dataset_articles.count()}\")\n",
    "print(f\"Artículos con alguna anotación: {annotated_articles.filter(num_labels__gte=1).count()}\")\n",
    "print(f\"Artículos que no pasaron a tercera anotación: {skipped}\")"
   ]
  },
  {
   "cell_type": "markdown",
   "metadata": {},
   "source": [
    "Vamos a crear primero tabla de comentarios"
   ]
  },
  {
   "cell_type": "code",
   "execution_count": 3,
   "metadata": {},
   "outputs": [
    {
     "data": {
      "text/plain": [
       "Text(0.5, 1.0, 'Distribution of article dates')"
      ]
     },
     "execution_count": 3,
     "metadata": {},
     "output_type": "execute_result"
    },
    {
     "data": {
      "image/png": "[encoded data removed]",
      "text/plain": [
       "<Figure size 360x288 with 1 Axes>"
      ]
     },
     "metadata": {
      "needs_background": "light"
     },
     "output_type": "display_data"
    }
   ],
   "source": [
    "from datetime import datetime\n",
    "import seaborn as sns\n",
    "import matplotlib.pyplot as plt\n",
    "\n",
    "dates = [d.created_at for d in dataset_articles]\n",
    "\n",
    "ax = sns.displot(\n",
    "    x=dates, \n",
    "    kde=True, \n",
    "    height=4, aspect=1.25,\n",
    ")\n",
    "\n",
    "plt.title(\"Distribution of article dates\")"
   ]
  },
  {
   "cell_type": "code",
   "execution_count": 4,
   "metadata": {},
   "outputs": [
    {
     "data": {
      "text/html": [
       "<div>\n",
       "<style scoped>\n",
       "    .dataframe tbody tr th:only-of-type {\n",
       "        vertical-align: middle;\n",
       "    }\n",
       "\n",
       "    .dataframe tbody tr th {\n",
       "        vertical-align: top;\n",
       "    }\n",
       "\n",
       "    .dataframe thead th {\n",
       "        text-align: right;\n",
       "    }\n",
       "</style>\n",
       "<table border=\"1\" class=\"dataframe\">\n",
       "  <thead>\n",
       "    <tr style=\"text-align: right;\">\n",
       "      <th></th>\n",
       "      <th>article_id</th>\n",
       "      <th>text</th>\n",
       "      <th>user_id</th>\n",
       "    </tr>\n",
       "    <tr>\n",
       "      <th>comment_id</th>\n",
       "      <th></th>\n",
       "      <th></th>\n",
       "      <th></th>\n",
       "    </tr>\n",
       "  </thead>\n",
       "  <tbody>\n",
       "    <tr>\n",
       "      <th>1241513939499876354</th>\n",
       "      <td>1241486782178435072</td>\n",
       "      <td>@usuario Momento oportuno para hacer esa movid...</td>\n",
       "      <td>1173653523478851593</td>\n",
       "    </tr>\n",
       "    <tr>\n",
       "      <th>1241524087773593600</th>\n",
       "      <td>1241486782178435072</td>\n",
       "      <td>@usuario vienen medicos cubanos... ahhh pero n...</td>\n",
       "      <td>2492207160</td>\n",
       "    </tr>\n",
       "    <tr>\n",
       "      <th>1241493802222850049</th>\n",
       "      <td>1241486782178435072</td>\n",
       "      <td>@usuario Otros virus más?</td>\n",
       "      <td>900774786736979969</td>\n",
       "    </tr>\n",
       "    <tr>\n",
       "      <th>1241776452300869632</th>\n",
       "      <td>1241486782178435072</td>\n",
       "      <td>@usuario Quien diría q un día Cristina estaría...</td>\n",
       "      <td>1218288879800811521</td>\n",
       "    </tr>\n",
       "    <tr>\n",
       "      <th>1241801967669776384</th>\n",
       "      <td>1241486782178435072</td>\n",
       "      <td>@usuario Ya que no devuelven TODO,es lo menos ...</td>\n",
       "      <td>3144238919</td>\n",
       "    </tr>\n",
       "    <tr>\n",
       "      <th>...</th>\n",
       "      <td>...</td>\n",
       "      <td>...</td>\n",
       "      <td>...</td>\n",
       "    </tr>\n",
       "    <tr>\n",
       "      <th>1357362025203200002</th>\n",
       "      <td>1357326733058461696</td>\n",
       "      <td>@usuario Nunca olvidar que este gobierno hizo ...</td>\n",
       "      <td>147954815</td>\n",
       "    </tr>\n",
       "    <tr>\n",
       "      <th>1357358187712757762</th>\n",
       "      <td>1357326733058461696</td>\n",
       "      <td>@usuario Esos pseudohumanos nos están matando ...</td>\n",
       "      <td>150045518</td>\n",
       "    </tr>\n",
       "    <tr>\n",
       "      <th>1357528904228081664</th>\n",
       "      <td>1357326733058461696</td>\n",
       "      <td>@usuario Que tristeza dios mio, que en paz des...</td>\n",
       "      <td>615411644</td>\n",
       "    </tr>\n",
       "    <tr>\n",
       "      <th>1357436509612294147</th>\n",
       "      <td>1357326733058461696</td>\n",
       "      <td>@usuario ¿¿¿ Y QUE LES ESPERA A LOS MALDITOS A...</td>\n",
       "      <td>1330932770961580033</td>\n",
       "    </tr>\n",
       "    <tr>\n",
       "      <th>1357458933196193794</th>\n",
       "      <td>1357326733058461696</td>\n",
       "      <td>@usuario Después de leer esto dan ganas de sal...</td>\n",
       "      <td>1132308890</td>\n",
       "    </tr>\n",
       "  </tbody>\n",
       "</table>\n",
       "<p>56869 rows × 3 columns</p>\n",
       "</div>"
      ],
      "text/plain": [
       "                              article_id  \\\n",
       "comment_id                                 \n",
       "1241513939499876354  1241486782178435072   \n",
       "1241524087773593600  1241486782178435072   \n",
       "1241493802222850049  1241486782178435072   \n",
       "1241776452300869632  1241486782178435072   \n",
       "1241801967669776384  1241486782178435072   \n",
       "...                                  ...   \n",
       "1357362025203200002  1357326733058461696   \n",
       "1357358187712757762  1357326733058461696   \n",
       "1357528904228081664  1357326733058461696   \n",
       "1357436509612294147  1357326733058461696   \n",
       "1357458933196193794  1357326733058461696   \n",
       "\n",
       "                                                                  text  \\\n",
       "comment_id                                                               \n",
       "1241513939499876354  @usuario Momento oportuno para hacer esa movid...   \n",
       "1241524087773593600  @usuario vienen medicos cubanos... ahhh pero n...   \n",
       "1241493802222850049                          @usuario Otros virus más?   \n",
       "1241776452300869632  @usuario Quien diría q un día Cristina estaría...   \n",
       "1241801967669776384  @usuario Ya que no devuelven TODO,es lo menos ...   \n",
       "...                                                                ...   \n",
       "1357362025203200002  @usuario Nunca olvidar que este gobierno hizo ...   \n",
       "1357358187712757762  @usuario Esos pseudohumanos nos están matando ...   \n",
       "1357528904228081664  @usuario Que tristeza dios mio, que en paz des...   \n",
       "1357436509612294147  @usuario ¿¿¿ Y QUE LES ESPERA A LOS MALDITOS A...   \n",
       "1357458933196193794  @usuario Después de leer esto dan ganas de sal...   \n",
       "\n",
       "                                 user_id  \n",
       "comment_id                                \n",
       "1241513939499876354  1173653523478851593  \n",
       "1241524087773593600           2492207160  \n",
       "1241493802222850049   900774786736979969  \n",
       "1241776452300869632  1218288879800811521  \n",
       "1241801967669776384           3144238919  \n",
       "...                                  ...  \n",
       "1357362025203200002            147954815  \n",
       "1357358187712757762            150045518  \n",
       "1357528904228081664            615411644  \n",
       "1357436509612294147  1330932770961580033  \n",
       "1357458933196193794           1132308890  \n",
       "\n",
       "[56869 rows x 3 columns]"
      ]
     },
     "execution_count": 4,
     "metadata": {},
     "output_type": "execute_result"
    }
   ],
   "source": [
    "import pandas as pd\n",
    "\n",
    "comments = pd.DataFrame([{\n",
    "    \"comment_id\": comment.tweet_id,\n",
    "    \"article_id\": art.tweet_id,\n",
    "    \"text\": comment.text,\n",
    "    \"user_id\": comment.user_id,\n",
    "} for art in dataset_articles for comment in art.comment_set.all()])\n",
    "\n",
    "comments.set_index(\"comment_id\", inplace=True)\n",
    "\n",
    "comments"
   ]
  },
  {
   "cell_type": "code",
   "execution_count": 5,
   "metadata": {},
   "outputs": [
    {
     "data": {
      "text/plain": [
       "[]"
      ]
     },
     "execution_count": 5,
     "metadata": {},
     "output_type": "execute_result"
    },
    {
     "data": {
      "image/png": "[encoded data removed]",
      "text/plain": [
       "<Figure size 432x288 with 1 Axes>"
      ]
     },
     "metadata": {
      "needs_background": "light"
     },
     "output_type": "display_data"
    }
   ],
   "source": [
    "user_counts = comments[\"user_id\"].value_counts().to_frame(\"number of comments\")\n",
    "sns.histplot(data=user_counts, x=\"number of comments\", hue=None, bins=12)\n",
    "\n",
    "plt.ylabel(\"Number of users\")\n",
    "plt.xlabel(\"Number of comments\")\n",
    "plt.title(\"Histogram of number of comments per user\")\n",
    "plt.semilogy()"
   ]
  },
  {
   "cell_type": "markdown",
   "metadata": {},
   "source": [
    "Vamos a serializar esto:"
   ]
  },
  {
   "cell_type": "code",
   "execution_count": 6,
   "metadata": {},
   "outputs": [
    {
     "data": {
      "application/vnd.jupyter.widget-view+json": {
       "model_id": "8a64b0f9d0cc4e26becb5a1a0eda575a",
       "version_major": 2,
       "version_minor": 0
      },
      "text/plain": [
       "  0%|          | 0/1238 [00:00<?, ?it/s]"
      ]
     },
     "metadata": {},
     "output_type": "display_data"
    }
   ],
   "source": [
    "from dataset import CommentSerializer, ArticleSerializer, field_mapping\n",
    "\n",
    "\n",
    "serializer = CommentSerializer()\n",
    "article_serializer = ArticleSerializer()\n",
    "\n",
    "articles = []\n",
    "comments = []\n",
    "\n",
    "\n",
    "finished_articles = annotated_articles.filter(effective_labels=3).prefetch_related('comment_set', 'labels')\n",
    "ignored_labels = 0\n",
    "\n",
    "for article in tqdm(finished_articles):\n",
    "    articles.append(article_serializer.serialize(article))\n",
    "    for comment in article.comment_set.all():    \n",
    "        new_comment = serializer.serialize(comment)\n",
    "        comments.append(new_comment)"
   ]
  },
  {
   "cell_type": "markdown",
   "metadata": {},
   "source": [
    "Veamos la forma de alguno"
   ]
  },
  {
   "cell_type": "code",
   "execution_count": 7,
   "metadata": {},
   "outputs": [
    {
     "data": {
      "text/plain": [
       "{'id': 327917,\n",
       " 'text': '@usuario vienen medicos cubanos... ahhh pero no veo ninguna ayuda norteamericana, quienes ni siquiera les importa, seguro que ellos generaron esto, lacras de mierda',\n",
       " 'article_id': 1241486782178435072,\n",
       " 'annotators': ['annotator_5', 'annotator_2', 'annotator_1'],\n",
       " 'HATE': ['annotator_2'],\n",
       " 'CALLS': [],\n",
       " 'WOMEN': [],\n",
       " 'LGBTI': [],\n",
       " 'RACISM': ['annotator_2'],\n",
       " 'CLASS': [],\n",
       " 'POLITICS': [],\n",
       " 'DISABLED': [],\n",
       " 'APPEARANCE': [],\n",
       " 'CRIMINAL': []}"
      ]
     },
     "execution_count": 7,
     "metadata": {},
     "output_type": "execute_result"
    }
   ],
   "source": [
    "next(c for c in comments if c[\"HATE\"])"
   ]
  },
  {
   "cell_type": "code",
   "execution_count": 8,
   "metadata": {},
   "outputs": [
    {
     "data": {
      "text/plain": [
       "Text(0.5, 1.0, 'Histogram of hateful annotations per comment')"
      ]
     },
     "execution_count": 8,
     "metadata": {},
     "output_type": "execute_result"
    },
    {
     "data": {
      "image/png": "[encoded data removed]",
      "text/plain": [
       "<Figure size 432x288 with 1 Axes>"
      ]
     },
     "metadata": {
      "needs_background": "light"
     },
     "output_type": "display_data"
    }
   ],
   "source": [
    "import seaborn as sns\n",
    "import matplotlib.pyplot as plt\n",
    "\n",
    "\n",
    "sns.histplot(x=[len(c['HATE']) for c in comments], bins=[0, 1, 2, 3, 4])\n",
    "\n",
    "plt.xticks([0.5, 1.5, 2.5, 3.5], [0, 1, 2, 3])\n",
    "plt.xlabel(\"#Annotations as hateful\")\n",
    "plt.ylabel(\"Number of comments\")\n",
    "plt.title(\"Histogram of hateful annotations per comment\")"
   ]
  },
  {
   "cell_type": "code",
   "execution_count": 9,
   "metadata": {},
   "outputs": [
    {
     "name": "stdout",
     "output_type": "stream",
     "text": [
      "Comentarios totales                             : 56869\n",
      "Comentarios con >= 1 etiqueta de discriminación : 13366\n",
      "Comentarios con >= 2 etiqueta de discriminación : 8715\n",
      "Comentarios con >= 3 etiqueta de discriminación : 4514\n",
      "Ratio de comentarios odiosos (>= 2) sobre totales = 0.153\n"
     ]
    }
   ],
   "source": [
    "possibly_hateful = len([c for c in comments if len(c['HATE']) > 0])\n",
    "hateful = len([c for c in comments if len(c['HATE']) >= 2])\n",
    "\n",
    "full_agreement = len([c for c in comments if len(c['HATE']) == 3])\n",
    "\n",
    "print(f\"Comentarios totales                             : {len(comments)}\")\n",
    "print(f\"Comentarios con >= 1 etiqueta de discriminación : {possibly_hateful}\")\n",
    "print(f\"Comentarios con >= 2 etiqueta de discriminación : {hateful}\")\n",
    "print(f\"Comentarios con >= 3 etiqueta de discriminación : {full_agreement}\")\n",
    "print(f\"Ratio de comentarios odiosos (>= 2) sobre totales = {hateful / len(comments):.3f}\")"
   ]
  },
  {
   "cell_type": "markdown",
   "metadata": {},
   "source": [
    "## Agreement"
   ]
  },
  {
   "cell_type": "code",
   "execution_count": 21,
   "metadata": {},
   "outputs": [
    {
     "data": {
      "application/vnd.jupyter.widget-view+json": {
       "model_id": "429a26fb4b9f4967aa20add236800306",
       "version_major": 2,
       "version_minor": 0
      },
      "text/plain": [
       "  0%|          | 0/4769 [00:09<?, ?it/s]"
      ]
     },
     "metadata": {},
     "output_type": "display_data"
    }
   ],
   "source": [
    "from api.metrics import AgreementCalculator\n",
    "\n",
    "calculator = AgreementCalculator(articles=dataset_articles)"
   ]
  },
  {
   "cell_type": "code",
   "execution_count": 22,
   "metadata": {},
   "outputs": [],
   "source": [
    "calculator.users = None"
   ]
  },
  {
   "cell_type": "code",
   "execution_count": 31,
   "metadata": {},
   "outputs": [
    {
     "data": {
      "text/html": [
       "<div>\n",
       "<style scoped>\n",
       "    .dataframe tbody tr th:only-of-type {\n",
       "        vertical-align: middle;\n",
       "    }\n",
       "\n",
       "    .dataframe tbody tr th {\n",
       "        vertical-align: top;\n",
       "    }\n",
       "\n",
       "    .dataframe thead th {\n",
       "        text-align: right;\n",
       "    }\n",
       "</style>\n",
       "<table border=\"1\" class=\"dataframe\">\n",
       "  <thead>\n",
       "    <tr style=\"text-align: right;\">\n",
       "      <th></th>\n",
       "      <th>Agreement</th>\n",
       "    </tr>\n",
       "    <tr>\n",
       "      <th>Category</th>\n",
       "      <th></th>\n",
       "    </tr>\n",
       "  </thead>\n",
       "  <tbody>\n",
       "    <tr>\n",
       "      <th>HATE</th>\n",
       "      <td>0.579610</td>\n",
       "    </tr>\n",
       "    <tr>\n",
       "      <th>CALLS</th>\n",
       "      <td>0.478974</td>\n",
       "    </tr>\n",
       "    <tr>\n",
       "      <th>MUJER</th>\n",
       "      <td>0.530894</td>\n",
       "    </tr>\n",
       "    <tr>\n",
       "      <th>LGBTI</th>\n",
       "      <td>0.554911</td>\n",
       "    </tr>\n",
       "    <tr>\n",
       "      <th>RACISMO</th>\n",
       "      <td>0.607848</td>\n",
       "    </tr>\n",
       "    <tr>\n",
       "      <th>POBREZA</th>\n",
       "      <td>0.403643</td>\n",
       "    </tr>\n",
       "    <tr>\n",
       "      <th>DISCAPACIDAD</th>\n",
       "      <td>0.596529</td>\n",
       "    </tr>\n",
       "    <tr>\n",
       "      <th>POLITICA</th>\n",
       "      <td>0.508691</td>\n",
       "    </tr>\n",
       "    <tr>\n",
       "      <th>ASPECTO</th>\n",
       "      <td>0.734578</td>\n",
       "    </tr>\n",
       "    <tr>\n",
       "      <th>CRIMINAL</th>\n",
       "      <td>0.617393</td>\n",
       "    </tr>\n",
       "  </tbody>\n",
       "</table>\n",
       "</div>"
      ],
      "text/plain": [
       "              Agreement\n",
       "Category               \n",
       "HATE           0.579610\n",
       "CALLS          0.478974\n",
       "MUJER          0.530894\n",
       "LGBTI          0.554911\n",
       "RACISMO        0.607848\n",
       "POBREZA        0.403643\n",
       "DISCAPACIDAD   0.596529\n",
       "POLITICA       0.508691\n",
       "ASPECTO        0.734578\n",
       "CRIMINAL       0.617393"
      ]
     },
     "execution_count": 31,
     "metadata": {},
     "output_type": "execute_result"
    }
   ],
   "source": [
    "categories = [\n",
    "    'HATE',\n",
    "    'CALLS',\n",
    "    'MUJER',\n",
    "    'LGBTI',\n",
    "    'RACISMO',\n",
    "    'POBREZA',\n",
    "    'DISCAPACIDAD',\n",
    "    'POLITICA',\n",
    "    'ASPECTO',\n",
    "    'CRIMINAL',\n",
    "]\n",
    "\n",
    "agreement_df = pd.DataFrame([{\n",
    "    \"Category\": category,\n",
    "    \"Agreement\": calculator.get_agreement(on=category)[0],\n",
    "} for category in categories])\n",
    "agreement_df.set_index(\"Category\")"
   ]
  },
  {
   "cell_type": "markdown",
   "metadata": {},
   "source": [
    "Cambia algo si vemos el agreement por categorías pero sólo en los odiosos? \n",
    "\n",
    "Es decir, calculo el alpha pero sólo en el universo de comentarios odiosos"
   ]
  },
  {
   "cell_type": "code",
   "execution_count": 41,
   "metadata": {},
   "outputs": [],
   "source": [
    "hateful_comment_ids = [c['id'] for c in comments if len(c['HATE']) >= 2]\n",
    "\n",
    "calculator = AgreementCalculator(comment_ids=hateful_comment_ids)"
   ]
  },
  {
   "cell_type": "code",
   "execution_count": 46,
   "metadata": {},
   "outputs": [
    {
     "data": {
      "text/html": [
       "<div>\n",
       "<style scoped>\n",
       "    .dataframe tbody tr th:only-of-type {\n",
       "        vertical-align: middle;\n",
       "    }\n",
       "\n",
       "    .dataframe tbody tr th {\n",
       "        vertical-align: top;\n",
       "    }\n",
       "\n",
       "    .dataframe thead th {\n",
       "        text-align: right;\n",
       "    }\n",
       "</style>\n",
       "<table border=\"1\" class=\"dataframe\">\n",
       "  <thead>\n",
       "    <tr style=\"text-align: right;\">\n",
       "      <th></th>\n",
       "      <th>Agreement</th>\n",
       "    </tr>\n",
       "    <tr>\n",
       "      <th>Category</th>\n",
       "      <th></th>\n",
       "    </tr>\n",
       "  </thead>\n",
       "  <tbody>\n",
       "    <tr>\n",
       "      <th>ASPECTO</th>\n",
       "      <td>0.761484</td>\n",
       "    </tr>\n",
       "    <tr>\n",
       "      <th>CRIMINAL</th>\n",
       "      <td>0.718144</td>\n",
       "    </tr>\n",
       "    <tr>\n",
       "      <th>LGBTI</th>\n",
       "      <td>0.711184</td>\n",
       "    </tr>\n",
       "    <tr>\n",
       "      <th>RACISMO</th>\n",
       "      <td>0.702249</td>\n",
       "    </tr>\n",
       "    <tr>\n",
       "      <th>DISCAPACIDAD</th>\n",
       "      <td>0.690662</td>\n",
       "    </tr>\n",
       "    <tr>\n",
       "      <th>MUJER</th>\n",
       "      <td>0.615003</td>\n",
       "    </tr>\n",
       "    <tr>\n",
       "      <th>POLITICA</th>\n",
       "      <td>0.595000</td>\n",
       "    </tr>\n",
       "    <tr>\n",
       "      <th>POBREZA</th>\n",
       "      <td>0.525726</td>\n",
       "    </tr>\n",
       "    <tr>\n",
       "      <th>CALLS</th>\n",
       "      <td>0.502730</td>\n",
       "    </tr>\n",
       "  </tbody>\n",
       "</table>\n",
       "</div>"
      ],
      "text/plain": [
       "              Agreement\n",
       "Category               \n",
       "ASPECTO        0.761484\n",
       "CRIMINAL       0.718144\n",
       "LGBTI          0.711184\n",
       "RACISMO        0.702249\n",
       "DISCAPACIDAD   0.690662\n",
       "MUJER          0.615003\n",
       "POLITICA       0.595000\n",
       "POBREZA        0.525726\n",
       "CALLS          0.502730"
      ]
     },
     "execution_count": 46,
     "metadata": {},
     "output_type": "execute_result"
    }
   ],
   "source": [
    "categories = [\n",
    "    'CALLS',\n",
    "    'MUJER',\n",
    "    'LGBTI',\n",
    "    'RACISMO',\n",
    "    'POBREZA',\n",
    "    'DISCAPACIDAD',\n",
    "    'POLITICA',\n",
    "    'ASPECTO',\n",
    "    'CRIMINAL',\n",
    "]\n",
    "\n",
    "agreement_df = pd.DataFrame([{\n",
    "    \"Category\": category,\n",
    "    \"Agreement\": calculator.get_agreement(on=category)[0],\n",
    "} for category in categories])\n",
    "agreement_df.set_index(\"Category\").sort_values(\"Agreement\", ascending=False)"
   ]
  },
  {
   "cell_type": "markdown",
   "metadata": {},
   "source": [
    "Da mejor! Puede que tenga sentido sólo calcularlos acá"
   ]
  },
  {
   "cell_type": "markdown",
   "metadata": {},
   "source": [
    "## Asignación"
   ]
  },
  {
   "cell_type": "code",
   "execution_count": null,
   "metadata": {},
   "outputs": [],
   "source": []
  }
 ],
 "metadata": {
  "kernelspec": {
   "display_name": "Python 3",
   "language": "python",
   "name": "python3"
  },
  "language_info": {
   "codemirror_mode": {
    "name": "ipython",
    "version": 3
   },
   "file_extension": ".py",
   "mimetype": "text/x-python",
   "name": "python",
   "nbconvert_exporter": "python",
   "pygments_lexer": "ipython3",
   "version": "3.8.6"
  }
 },
 "nbformat": 4,
 "nbformat_minor": 4
}
