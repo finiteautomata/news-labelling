{
 "cells": [
  {
   "cell_type": "markdown",
   "metadata": {},
   "source": [
    "## Dataset\n",
    "\n",
    "Veamos estadísticas y otras cosas del dataset"
   ]
  },
  {
   "cell_type": "code",
   "execution_count": 1,
   "metadata": {},
   "outputs": [],
   "source": [
    "%load_ext autoreload\n",
    "%autoreload 2\n",
    "import os\n",
    "import sys\n",
    "import django\n",
    "from tqdm.auto import tqdm\n",
    "\n",
    "os.environ[\"DJANGO_ALLOW_ASYNC_UNSAFE\"] = \"true\"\n",
    "\n",
    "sys.path.append(\"..\")\n",
    "os.environ['DJANGO_SETTINGS_MODULE'] = 'news_labelling.settings'\n",
    "django.setup()\n",
    "\n",
    "from api.models import Comment, ArticleLabel, CommentLabel, Article, Batch\n",
    "from django.contrib.auth.models import User"
   ]
  },
  {
   "cell_type": "code",
   "execution_count": 2,
   "metadata": {},
   "outputs": [
    {
     "name": "stdout",
     "output_type": "stream",
     "text": [
      "Artículos totales: 1738\n",
      "Artículos con 3 anotaciones: 1238\n",
      "Artículos con alguna anotación: 1725\n",
      "Artículos que no pasaron a tercera anotación: 452\n"
     ]
    }
   ],
   "source": [
    "from django.db.models import Count, Case, When, Value\n",
    "\n",
    "annotated_articles = Article.objects.exclude(batch__name=\"training\").annotate(\n",
    "    num_labels=Count('labels'),\n",
    "    effective_labels=Count(\n",
    "        Case(When(labels__is_interesting=True, then=Value(1)))\n",
    "    )\n",
    ")\n",
    "\n",
    "\n",
    "dataset_articles = annotated_articles.filter(effective_labels=3)\n",
    "\n",
    "skipped = 0\n",
    "\n",
    "for art in annotated_articles:\n",
    "    if art.num_labels > art.effective_labels:\n",
    "        skipped +=1\n",
    "\n",
    "\n",
    "print(f\"Artículos totales: {Article.objects.count()}\")\n",
    "print(f\"Artículos con 3 anotaciones: {dataset_articles.count()}\")\n",
    "print(f\"Artículos con alguna anotación: {annotated_articles.filter(num_labels__gte=1).count()}\")\n",
    "print(f\"Artículos que no pasaron a tercera anotación: {skipped}\")"
   ]
  },
  {
   "cell_type": "markdown",
   "metadata": {},
   "source": [
    "Carguemos directamente el JSON generado"
   ]
  },
  {
   "cell_type": "code",
   "execution_count": 3,
   "metadata": {},
   "outputs": [
    {
     "name": "stdout",
     "output_type": "stream",
     "text": [
      "1238\n"
     ]
    },
    {
     "data": {
      "text/plain": [
       "dict_keys(['tweet_id', 'title', 'tweet_text', 'body', 'news', 'date', 'comments'])"
      ]
     },
     "execution_count": 3,
     "metadata": {},
     "output_type": "execute_result"
    }
   ],
   "source": [
    "import json\n",
    "\n",
    "with open(\"../output/dataset.raw.json\") as f:\n",
    "    articles = json.load(f)\n",
    "print(len(articles))\n",
    "articles[0].keys()\n"
   ]
  },
  {
   "cell_type": "code",
   "execution_count": 4,
   "metadata": {},
   "outputs": [
    {
     "data": {
      "image/png": "[encoded data removed]",
      "text/plain": [
       "<Figure size 360x288 with 1 Axes>"
      ]
     },
     "metadata": {
      "needs_background": "light"
     },
     "output_type": "display_data"
    }
   ],
   "source": [
    "from datetime import datetime\n",
    "import seaborn as sns\n",
    "import matplotlib.pyplot as plt\n",
    "\n",
    "dates = [datetime.fromisoformat(d[\"date\"].replace('Z', '+00:00')) for d in articles]\n",
    "\n",
    "ax = sns.displot(\n",
    "    x=dates, \n",
    "    kde=True, \n",
    "    height=4, aspect=1.25,\n",
    ")\n",
    "\n",
    "plt.title(\"Distribution of article dates\")\n",
    "plt.savefig(\"figures/date_distribution.png\", bbox_inches='tight')"
   ]
  },
  {
   "cell_type": "code",
   "execution_count": 5,
   "metadata": {},
   "outputs": [
    {
     "data": {
      "text/html": [
       "<div>\n",
       "<style scoped>\n",
       "    .dataframe tbody tr th:only-of-type {\n",
       "        vertical-align: middle;\n",
       "    }\n",
       "\n",
       "    .dataframe tbody tr th {\n",
       "        vertical-align: top;\n",
       "    }\n",
       "\n",
       "    .dataframe thead th {\n",
       "        text-align: right;\n",
       "    }\n",
       "</style>\n",
       "<table border=\"1\" class=\"dataframe\">\n",
       "  <thead>\n",
       "    <tr style=\"text-align: right;\">\n",
       "      <th></th>\n",
       "      <th>comments</th>\n",
       "      <th>articles</th>\n",
       "    </tr>\n",
       "    <tr>\n",
       "      <th>news</th>\n",
       "      <th></th>\n",
       "      <th></th>\n",
       "    </tr>\n",
       "  </thead>\n",
       "  <tbody>\n",
       "    <tr>\n",
       "      <th>LANACION</th>\n",
       "      <td>10378</td>\n",
       "      <td>222</td>\n",
       "    </tr>\n",
       "    <tr>\n",
       "      <th>clarincom</th>\n",
       "      <td>17501</td>\n",
       "      <td>370</td>\n",
       "    </tr>\n",
       "    <tr>\n",
       "      <th>cronica</th>\n",
       "      <td>1562</td>\n",
       "      <td>42</td>\n",
       "    </tr>\n",
       "    <tr>\n",
       "      <th>infobae</th>\n",
       "      <td>26834</td>\n",
       "      <td>590</td>\n",
       "    </tr>\n",
       "    <tr>\n",
       "      <th>perfilcom</th>\n",
       "      <td>594</td>\n",
       "      <td>14</td>\n",
       "    </tr>\n",
       "    <tr>\n",
       "      <th>total</th>\n",
       "      <td>56869</td>\n",
       "      <td>1238</td>\n",
       "    </tr>\n",
       "  </tbody>\n",
       "</table>\n",
       "</div>"
      ],
      "text/plain": [
       "           comments  articles\n",
       "news                         \n",
       "LANACION      10378       222\n",
       "clarincom     17501       370\n",
       "cronica        1562        42\n",
       "infobae       26834       590\n",
       "perfilcom       594        14\n",
       "total         56869      1238"
      ]
     },
     "execution_count": 5,
     "metadata": {},
     "output_type": "execute_result"
    }
   ],
   "source": [
    "from django.db.models import Sum\n",
    "import pandas as pd\n",
    "\n",
    "df_articles = pd.DataFrame(articles)\n",
    "df_articles.set_index(\"tweet_id\", inplace=True)\n",
    "\n",
    "df_articles[\"comments\"] = df_articles[\"comments\"].apply(lambda l: len(l))\n",
    "q = Article.objects.filter(id__in=[d.id for d in dataset_articles])\n",
    "\n",
    "\n",
    "df_count = df_articles.groupby(\"news\")[[\"comments\"]].sum()\n",
    "df_count[\"articles\"] = df_articles.groupby(\"news\")[\"comments\"].count()\n",
    "\n",
    "\n",
    "df_count.loc[\"total\"] = df_count.sum()\n",
    "\n",
    "df_count"
   ]
  },
  {
   "cell_type": "code",
   "execution_count": 6,
   "metadata": {},
   "outputs": [
    {
     "name": "stdout",
     "output_type": "stream",
     "text": [
      "\\begin{tabular}{lrr}\n",
      "\\toprule\n",
      "{} &  comments &  articles \\\\\n",
      "news      &           &           \\\\\n",
      "\\midrule\n",
      "LANACION  &     10378 &       222 \\\\\n",
      "clarincom &     17501 &       370 \\\\\n",
      "cronica   &      1562 &        42 \\\\\n",
      "infobae   &     26834 &       590 \\\\\n",
      "perfilcom &       594 &        14 \\\\\n",
      "total     &     56869 &      1238 \\\\\n",
      "\\bottomrule\n",
      "\\end{tabular}\n",
      "\n"
     ]
    }
   ],
   "source": [
    "print(df_count.to_latex())"
   ]
  },
  {
   "cell_type": "code",
   "execution_count": 7,
   "metadata": {},
   "outputs": [
    {
     "data": {
      "text/plain": [
       "{'id': 327916,\n",
       " 'text': '@usuario Momento oportuno para hacer esa movida!!!!..ahora que la JUSTICIA está en veda sanitaria..!!!!..',\n",
       " 'article_id': '1241486782178435072',\n",
       " 'annotators': ['annotator_5', 'annotator_2'],\n",
       " 'HATEFUL': [],\n",
       " 'CALLS': [],\n",
       " 'WOMEN': [],\n",
       " 'LGBTI': [],\n",
       " 'RACISM': [],\n",
       " 'CLASS': [],\n",
       " 'POLITICS': [],\n",
       " 'DISABLED': [],\n",
       " 'APPEARANCE': [],\n",
       " 'CRIMINAL': [],\n",
       " 'tweet_id': '1241513939499876354',\n",
       " 'user_id': '1173653523478851593'}"
      ]
     },
     "execution_count": 7,
     "metadata": {},
     "output_type": "execute_result"
    }
   ],
   "source": [
    "articles[0][\"comments\"][0]"
   ]
  },
  {
   "cell_type": "code",
   "execution_count": 8,
   "metadata": {},
   "outputs": [],
   "source": [
    "\n",
    "\n",
    "comments = [\n",
    "{\n",
    "    **{\"article_id\": art[\"tweet_id\"]},\n",
    "    **comment\n",
    "} for art in articles for comment in art[\"comments\"]]\n"
   ]
  },
  {
   "cell_type": "code",
   "execution_count": 9,
   "metadata": {},
   "outputs": [
    {
     "data": {
      "text/plain": [
       "[]"
      ]
     },
     "execution_count": 9,
     "metadata": {},
     "output_type": "execute_result"
    },
    {
     "data": {
      "image/png": "[encoded data removed]",
      "text/plain": [
       "<Figure size 432x288 with 1 Axes>"
      ]
     },
     "metadata": {
      "needs_background": "light"
     },
     "output_type": "display_data"
    }
   ],
   "source": [
    "user_counts = pd.DataFrame(comments)[\"user_id\"].value_counts().to_frame(\"number of comments\")\n",
    "sns.histplot(data=user_counts, x=\"number of comments\", hue=None, bins=12)\n",
    "\n",
    "plt.ylabel(\"Number of users\")\n",
    "plt.xlabel(\"Number of comments\")\n",
    "plt.title(\"Histogram of number of comments per user\")\n",
    "plt.semilogy()"
   ]
  },
  {
   "cell_type": "code",
   "execution_count": 10,
   "metadata": {},
   "outputs": [
    {
     "data": {
      "text/plain": [
       "{'article_id': '1241486782178435072',\n",
       " 'id': 327916,\n",
       " 'text': '@usuario Momento oportuno para hacer esa movida!!!!..ahora que la JUSTICIA está en veda sanitaria..!!!!..',\n",
       " 'annotators': ['annotator_5', 'annotator_2'],\n",
       " 'HATEFUL': [],\n",
       " 'CALLS': [],\n",
       " 'WOMEN': [],\n",
       " 'LGBTI': [],\n",
       " 'RACISM': [],\n",
       " 'CLASS': [],\n",
       " 'POLITICS': [],\n",
       " 'DISABLED': [],\n",
       " 'APPEARANCE': [],\n",
       " 'CRIMINAL': [],\n",
       " 'tweet_id': '1241513939499876354',\n",
       " 'user_id': '1173653523478851593'}"
      ]
     },
     "execution_count": 10,
     "metadata": {},
     "output_type": "execute_result"
    }
   ],
   "source": [
    "comments[0]"
   ]
  },
  {
   "cell_type": "code",
   "execution_count": 11,
   "metadata": {},
   "outputs": [
    {
     "data": {
      "text/plain": [
       "Text(0.5, 1.0, 'Histogram of hateful annotations per comment')"
      ]
     },
     "execution_count": 11,
     "metadata": {},
     "output_type": "execute_result"
    },
    {
     "data": {
      "image/png": "[encoded data removed]",
      "text/plain": [
       "<Figure size 432x288 with 1 Axes>"
      ]
     },
     "metadata": {
      "needs_background": "light"
     },
     "output_type": "display_data"
    }
   ],
   "source": [
    "import seaborn as sns\n",
    "import matplotlib.pyplot as plt\n",
    "\n",
    "votes = [len(c['HATEFUL']) for c in comments if c['HATEFUL']]\n",
    "\n",
    "sns.histplot(x=votes, bins=[0.99, 1.99, 2.99, 3.99])\n",
    "\n",
    "plt.xticks([1.5, 2.5, 3.5], [1, 2, 3])\n",
    "plt.xlabel(\"#Annotations as hateful\")\n",
    "plt.ylabel(\"Number of comments\")\n",
    "plt.title(\"Histogram of hateful annotations per comment\")"
   ]
  },
  {
   "cell_type": "code",
   "execution_count": 12,
   "metadata": {},
   "outputs": [
    {
     "name": "stdout",
     "output_type": "stream",
     "text": [
      "Comentarios totales                             : 56869\n",
      "Comentarios con >= 1 etiqueta de discriminación : 13366\n",
      "Comentarios con >= 2 etiqueta de discriminación : 8715\n",
      "Comentarios con >= 3 etiqueta de discriminación : 4514\n",
      "Ratio de comentarios odiosos (>= 2) sobre totales = 0.153\n"
     ]
    }
   ],
   "source": [
    "possibly_hateful = len([c for c in comments if len(c['HATEFUL']) > 0])\n",
    "hateful = len([c for c in comments if len(c['HATEFUL']) >= 2])\n",
    "\n",
    "full_agreement = len([c for c in comments if len(c['HATEFUL']) == 3])\n",
    "\n",
    "print(f\"Comentarios totales                             : {len(comments)}\")\n",
    "print(f\"Comentarios con >= 1 etiqueta de discriminación : {possibly_hateful}\")\n",
    "print(f\"Comentarios con >= 2 etiqueta de discriminación : {hateful}\")\n",
    "print(f\"Comentarios con >= 3 etiqueta de discriminación : {full_agreement}\")\n",
    "print(f\"Ratio de comentarios odiosos (>= 2) sobre totales = {hateful / len(comments):.3f}\")"
   ]
  },
  {
   "cell_type": "markdown",
   "metadata": {},
   "source": [
    "## Agreement\n",
    "\n",
    "Uso el código que ya hice con los objetos de Django que es más cómodo..."
   ]
  },
  {
   "cell_type": "code",
   "execution_count": 13,
   "metadata": {},
   "outputs": [],
   "source": [
    "from api.metrics import AgreementCalculator\n",
    "\n",
    "calculator = AgreementCalculator(articles=dataset_articles)"
   ]
  },
  {
   "cell_type": "code",
   "execution_count": 14,
   "metadata": {},
   "outputs": [],
   "source": [
    "calculator.users = None"
   ]
  },
  {
   "cell_type": "code",
   "execution_count": 15,
   "metadata": {},
   "outputs": [
    {
     "data": {
      "text/html": [
       "<div>\n",
       "<style scoped>\n",
       "    .dataframe tbody tr th:only-of-type {\n",
       "        vertical-align: middle;\n",
       "    }\n",
       "\n",
       "    .dataframe tbody tr th {\n",
       "        vertical-align: top;\n",
       "    }\n",
       "\n",
       "    .dataframe thead th {\n",
       "        text-align: right;\n",
       "    }\n",
       "</style>\n",
       "<table border=\"1\" class=\"dataframe\">\n",
       "  <thead>\n",
       "    <tr style=\"text-align: right;\">\n",
       "      <th></th>\n",
       "      <th>Agreement</th>\n",
       "    </tr>\n",
       "    <tr>\n",
       "      <th>Category</th>\n",
       "      <th></th>\n",
       "    </tr>\n",
       "  </thead>\n",
       "  <tbody>\n",
       "    <tr>\n",
       "      <th>HATE</th>\n",
       "      <td>0.579610</td>\n",
       "    </tr>\n",
       "    <tr>\n",
       "      <th>CALLS</th>\n",
       "      <td>0.641360</td>\n",
       "    </tr>\n",
       "    <tr>\n",
       "      <th>MUJER</th>\n",
       "      <td>0.783391</td>\n",
       "    </tr>\n",
       "    <tr>\n",
       "      <th>LGBTI</th>\n",
       "      <td>0.920701</td>\n",
       "    </tr>\n",
       "    <tr>\n",
       "      <th>RACISMO</th>\n",
       "      <td>0.929094</td>\n",
       "    </tr>\n",
       "    <tr>\n",
       "      <th>POBREZA</th>\n",
       "      <td>0.706778</td>\n",
       "    </tr>\n",
       "    <tr>\n",
       "      <th>DISCAPACIDAD</th>\n",
       "      <td>0.849856</td>\n",
       "    </tr>\n",
       "    <tr>\n",
       "      <th>POLITICA</th>\n",
       "      <td>0.808519</td>\n",
       "    </tr>\n",
       "    <tr>\n",
       "      <th>ASPECTO</th>\n",
       "      <td>0.871752</td>\n",
       "    </tr>\n",
       "    <tr>\n",
       "      <th>CRIMINAL</th>\n",
       "      <td>0.931163</td>\n",
       "    </tr>\n",
       "  </tbody>\n",
       "</table>\n",
       "</div>"
      ],
      "text/plain": [
       "              Agreement\n",
       "Category               \n",
       "HATE           0.579610\n",
       "CALLS          0.641360\n",
       "MUJER          0.783391\n",
       "LGBTI          0.920701\n",
       "RACISMO        0.929094\n",
       "POBREZA        0.706778\n",
       "DISCAPACIDAD   0.849856\n",
       "POLITICA       0.808519\n",
       "ASPECTO        0.871752\n",
       "CRIMINAL       0.931163"
      ]
     },
     "execution_count": 15,
     "metadata": {},
     "output_type": "execute_result"
    }
   ],
   "source": [
    "categories = [\n",
    "    'HATE',\n",
    "    'CALLS',\n",
    "    'MUJER',\n",
    "    'LGBTI',\n",
    "    'RACISMO',\n",
    "    'POBREZA',\n",
    "    'DISCAPACIDAD',\n",
    "    'POLITICA',\n",
    "    'ASPECTO',\n",
    "    'CRIMINAL',\n",
    "]\n",
    "\n",
    "agreement_df = pd.DataFrame([{\n",
    "    \"Category\": category,\n",
    "    \"Agreement\": calculator.get_agreement(on=category)[0],\n",
    "} for category in categories])\n",
    "agreement_df.set_index(\"Category\")"
   ]
  },
  {
   "cell_type": "markdown",
   "metadata": {},
   "source": [
    "Lo calculamos de nuevo por si acaso"
   ]
  },
  {
   "cell_type": "code",
   "execution_count": 16,
   "metadata": {},
   "outputs": [
    {
     "data": {
      "application/vnd.jupyter.widget-view+json": {
       "model_id": "9b59d66b45ac44d9a69f31b8f71c4bb1",
       "version_major": 2,
       "version_minor": 0
      },
      "text/plain": [
       "  0%|          | 0/1238 [00:00<?, ?it/s]"
      ]
     },
     "metadata": {},
     "output_type": "display_data"
    }
   ],
   "source": [
    "\n",
    "\n",
    "keys = [\n",
    " 'HATEFUL',\n",
    " 'CALLS',\n",
    " 'WOMEN',\n",
    " 'LGBTI',\n",
    " 'RACISM',\n",
    " 'CLASS',\n",
    " 'POLITICS',\n",
    " 'DISABLED',\n",
    " 'APPEARANCE',\n",
    " 'CRIMINAL',\n",
    "]\n",
    "\n",
    "annotators = set(annotator for article in articles for comment in article[\"comments\"] for annotator in comment[\"annotators\"])\n",
    "\n",
    "idx = pd.MultiIndex.from_product(\n",
    "    [keys, annotators],\n",
    "    names=[\"categoria\", \"etiquetador\"]\n",
    ")\n",
    "comment_ids = [comment[\"id\"] for article in articles for comment in article[\"comments\"]]\n",
    "\n",
    "my_df = pd.DataFrame(index=idx, columns=comment_ids)\n",
    "\n",
    "for article in tqdm(articles):\n",
    "    for comment in article[\"comments\"]:\n",
    "        for annotator in comment[\"annotators\"]:\n",
    "            is_hateful = annotator in comment[\"HATEFUL\"]\n",
    "            my_df.loc[(\"HATEFUL\", annotator), comment[\"id\"]] = is_hateful\n",
    "            \n",
    "            if is_hateful:\n",
    "                for key in keys[1:]:\n",
    "                    my_df.loc[(key, annotator), comment[\"id\"]] =  annotator in comment[key]"
   ]
  },
  {
   "cell_type": "code",
   "execution_count": 17,
   "metadata": {},
   "outputs": [
    {
     "data": {
      "text/html": [
       "<div>\n",
       "<style scoped>\n",
       "    .dataframe tbody tr th:only-of-type {\n",
       "        vertical-align: middle;\n",
       "    }\n",
       "\n",
       "    .dataframe tbody tr th {\n",
       "        vertical-align: top;\n",
       "    }\n",
       "\n",
       "    .dataframe thead th {\n",
       "        text-align: right;\n",
       "    }\n",
       "</style>\n",
       "<table border=\"1\" class=\"dataframe\">\n",
       "  <thead>\n",
       "    <tr style=\"text-align: right;\">\n",
       "      <th></th>\n",
       "      <th>0</th>\n",
       "    </tr>\n",
       "  </thead>\n",
       "  <tbody>\n",
       "    <tr>\n",
       "      <th>HATEFUL</th>\n",
       "      <td>0.579610</td>\n",
       "    </tr>\n",
       "    <tr>\n",
       "      <th>CALLS</th>\n",
       "      <td>0.641360</td>\n",
       "    </tr>\n",
       "    <tr>\n",
       "      <th>WOMEN</th>\n",
       "      <td>0.783391</td>\n",
       "    </tr>\n",
       "    <tr>\n",
       "      <th>LGBTI</th>\n",
       "      <td>0.920701</td>\n",
       "    </tr>\n",
       "    <tr>\n",
       "      <th>RACISM</th>\n",
       "      <td>0.929094</td>\n",
       "    </tr>\n",
       "    <tr>\n",
       "      <th>CLASS</th>\n",
       "      <td>0.706778</td>\n",
       "    </tr>\n",
       "    <tr>\n",
       "      <th>POLITICS</th>\n",
       "      <td>0.808519</td>\n",
       "    </tr>\n",
       "    <tr>\n",
       "      <th>DISABLED</th>\n",
       "      <td>0.849856</td>\n",
       "    </tr>\n",
       "    <tr>\n",
       "      <th>APPEARANCE</th>\n",
       "      <td>0.871752</td>\n",
       "    </tr>\n",
       "    <tr>\n",
       "      <th>CRIMINAL</th>\n",
       "      <td>0.931163</td>\n",
       "    </tr>\n",
       "  </tbody>\n",
       "</table>\n",
       "</div>"
      ],
      "text/plain": [
       "                   0\n",
       "HATEFUL     0.579610\n",
       "CALLS       0.641360\n",
       "WOMEN       0.783391\n",
       "LGBTI       0.920701\n",
       "RACISM      0.929094\n",
       "CLASS       0.706778\n",
       "POLITICS    0.808519\n",
       "DISABLED    0.849856\n",
       "APPEARANCE  0.871752\n",
       "CRIMINAL    0.931163"
      ]
     },
     "execution_count": 17,
     "metadata": {},
     "output_type": "execute_result"
    }
   ],
   "source": [
    "import krippendorff\n",
    "\n",
    "alphas = {key:krippendorff.alpha(my_df.loc[key].values.astype(float)) for key in keys}\n",
    "\n",
    "pd.DataFrame([alphas]).T\n",
    "    \n"
   ]
  },
  {
   "cell_type": "markdown",
   "metadata": {},
   "source": [
    "Obs: acá los agreements por categorías se ven sólo en aquellos comentarios que son marcados como odiosos, y sólo entre aquellos anotadores que hayan marcado como odioso\n",
    "\n",
    "En términos de cómo calculamos el alpha de Krippendorff: supongamos que estamos calculando el agreement de MUJER. Si anotador A1 y A2 marcaron como odioso C1, y ambos marcaron mujer => en ambos va 1. Anotador A3 no marcó como odioso ese comentario => va nan. En C2, A1 no marcó como odioso y A2 y A3 marcaron como odioso contra MUJER. En C3, A3 no marcó odioso, y A1 sí pero sin marcar MUJER y A2 marcó odioso y MUJER.\n",
    "\n",
    "La matriz quedaría así:\n",
    "\n",
    "|   |C1   |C2    | C3   |\n",
    "|---|-----|------|------|\n",
    "|A1 | 1   | nan  | 0    |\n",
    "|A2 | 1   | 1    | 1    |\n",
    "|A3 | nan | 1    | nan  |"
   ]
  },
  {
   "cell_type": "markdown",
   "metadata": {},
   "source": [
    "## Algunos ejemplos\n",
    "\n",
    "Leamos ahora el ya asignado"
   ]
  },
  {
   "cell_type": "code",
   "execution_count": 18,
   "metadata": {},
   "outputs": [],
   "source": [
    "with open(\"../output/dataset.json\") as f:\n",
    "    articles = json.load(f)\n",
    "    \n",
    "comments = [{**comm, **{\"article\": art}} for art in articles for comm in art[\"comments\"]]"
   ]
  },
  {
   "cell_type": "code",
   "execution_count": 66,
   "metadata": {},
   "outputs": [
    {
     "data": {
      "text/html": [
       "<div>\n",
       "<style scoped>\n",
       "    .dataframe tbody tr th:only-of-type {\n",
       "        vertical-align: middle;\n",
       "    }\n",
       "\n",
       "    .dataframe tbody tr th {\n",
       "        vertical-align: top;\n",
       "    }\n",
       "\n",
       "    .dataframe thead th {\n",
       "        text-align: right;\n",
       "    }\n",
       "</style>\n",
       "<table border=\"1\" class=\"dataframe\">\n",
       "  <thead>\n",
       "    <tr style=\"text-align: right;\">\n",
       "      <th></th>\n",
       "      <th>count</th>\n",
       "    </tr>\n",
       "  </thead>\n",
       "  <tbody>\n",
       "    <tr>\n",
       "      <th>RACISM</th>\n",
       "      <td>2469</td>\n",
       "    </tr>\n",
       "    <tr>\n",
       "      <th>APPEARANCE</th>\n",
       "      <td>1803</td>\n",
       "    </tr>\n",
       "    <tr>\n",
       "      <th>CRIMINAL</th>\n",
       "      <td>1642</td>\n",
       "    </tr>\n",
       "    <tr>\n",
       "      <th>CALLS</th>\n",
       "      <td>1451</td>\n",
       "    </tr>\n",
       "    <tr>\n",
       "      <th>POLITICS</th>\n",
       "      <td>1428</td>\n",
       "    </tr>\n",
       "    <tr>\n",
       "      <th>WOMEN</th>\n",
       "      <td>1332</td>\n",
       "    </tr>\n",
       "    <tr>\n",
       "      <th>CLASS</th>\n",
       "      <td>823</td>\n",
       "    </tr>\n",
       "    <tr>\n",
       "      <th>LGBTI</th>\n",
       "      <td>818</td>\n",
       "    </tr>\n",
       "    <tr>\n",
       "      <th>DISABLED</th>\n",
       "      <td>580</td>\n",
       "    </tr>\n",
       "  </tbody>\n",
       "</table>\n",
       "</div>"
      ],
      "text/plain": [
       "            count\n",
       "RACISM       2469\n",
       "APPEARANCE   1803\n",
       "CRIMINAL     1642\n",
       "CALLS        1451\n",
       "POLITICS     1428\n",
       "WOMEN        1332\n",
       "CLASS         823\n",
       "LGBTI         818\n",
       "DISABLED      580"
      ]
     },
     "execution_count": 66,
     "metadata": {},
     "output_type": "execute_result"
    }
   ],
   "source": [
    "import random\n",
    "\n",
    "char_tweets = {char:[] for char in keys[1:]}\n",
    "\n",
    "for comment in comments:\n",
    "    for key in char_tweets:\n",
    "        if comment[key]:\n",
    "            char_tweets[key].append(comment)\n",
    "\n",
    "#for arr in char_tweets.values():\n",
    "#    random.shuffle(arr)\n",
    "\n",
    "df_count = pd.DataFrame([{k:len(v) for k, v in char_tweets.items()}]).T\n",
    "\n",
    "df_count.columns = [\"count\"]\n",
    "\n",
    "df_count.sort_values(\"count\", ascending=False)"
   ]
  },
  {
   "cell_type": "code",
   "execution_count": 68,
   "metadata": {},
   "outputs": [
    {
     "name": "stdout",
     "output_type": "stream",
     "text": [
      "\n",
      "\n",
      "## CALLS \n",
      "\n",
      "\n",
      "\n",
      "- (367970) @usuario Para esta gente debe haber pena de muerte |||| Abuso sexual, quemaduras de cigarrillo y duchas heladas: el bestial crimen de Sofía, la nena de 3 años torturada por su mamá y su padrastro\n",
      "- (379350) @usuario No , se resuelve con un misil |||| Las organizaciones sociales salieron al cruce de la acusación de Sergio Berni por la toma de tierras: “La falta de vivienda no se resuelve con balas”\n",
      "- (340921) @usuario No tiene nada de insólito en lo absoluto. Estos salvajes con su mugrosa cultura de la suciedad y el mal vivir crearon esta situación. Ahora que paguen! |||| Coronavirus en Alemania: la insólita factura de 160 mil millones de dólares a China por los “daños ocasionados” por la pandemia\n",
      "- (351912) @usuario aprovechen y maten a todos esos delincuentes |||| Tras más de nueve horas, los presos levantaron el violento motín en la cárcel de Villa Devoto\n",
      "- (347653) @usuario Todas las NACIÓNES deberían unirse para SANCIONAR FUERTEMENTE AL RÉGIMEN ASESINO CHINO ya q no es la primera ves q pone en RIESGO a toda la HUMANIDAD. |||| Un bufete de abogados presentó una demanda colectiva contra el régimen chino por causar la pandemia del COVID-19\n",
      "- (370694) @usuario Una atómica a China... |||| Otro caso de peste bubónica enciende las alarmas en China\n",
      "- (367504) @usuario Hay que erradicar chinos de la tierra |||| Los pesqueros chinos están poniendo en riesgo la supervivencia de diversas especies animales en las islas Galápagos\n",
      "- (374847) @usuario al paredón yaaa |||| Femicidio en Mendoza: intentó violar a su vecina de 15 años, no pudo y la mató de ocho puñaladas\n",
      "- (345474) @usuario Ponga una bomba que mueran todo hay ratas |||| Coronavirus en Argentina: se levantó la protesta de los presos en la cárcel de Melchor Romero\n",
      "- (364831) @usuario balazo y chau pinela |||| Tucumán: una madre tuvo que esconder a su hija porque su vecino violador con prisión domiciliaria la acosa constantemente\n",
      "- (362410) @usuario Viejo repugnante y degenerado!!! Tiene que morir en la cárcel!!! |||| Revocaron la prisión domiciliaria del violador que acosaba a su vecina de 12 años en Tucumán\n",
      "- (349863) @usuario Para q eso no pase estaría bueno q dejen de respirar y así se limpian las cárceles... |||| Zaffaroni: \"La superpoblación en las cárceles se puede convertir en una bomba virósica\"\n",
      "- (329396) @usuario Cierren esa nido de negros y napalm. Hasta reducís el crimen y el gasto público. |||| Coronavirus en la Argentina: un video pone en evidencia la violación de la cuarentena en la Villa 1-11-14\n",
      "- (361081) @usuario El día de la lealtad que es mañana espero que le ponga una  bomba negros de mieeda mafiosos   ojalá que venga el ejército  y que lo han mierda |||| La advertencia de Juan Grabois: “Van a haber 1, 5, 20 Guernicas”\n",
      "- (343613) @usuario bomba atómica sobre china y listo 🥰 |||| China: comenzó el tradicional Festival de carne de perro a pesar de la pandemia de coronavirus\n",
      "- (402441) @usuario Y acá los sueltan por la gripezhinia trola esta....ayyy pobrecitos \n",
      "\n",
      "Bala |||| Indonesia castrará químicamente a los abusadores infantiles\n",
      "- (332696) @usuario Al paredón... no hay perder plata en juicios ni en mantenerlo en la cárcel... BALASSS MUCHASSS |||| Quedó varado en Bariloche por la cuarentena, una familia lo alojó y violó a una nena de 11 años\n",
      "- (400337) @usuario Podría ser que maten a un ladrón por día. Así se empareja el promedio con el que los ladrones matan policías. |||| Cada nueve días, un policía mata a un ladrón durante asaltos en Provincia\n",
      "- (376698) @usuario cuando le tiran la bomba atomica?! los paises van a seguir comercializando con este pais de mierda?! |||| China confirma un caso de peste bubónica\n",
      "- (339234) @usuario Llévense a todos los que están acá |||| Coronavirus: con un piquete fronterizo, bolivianos piden controles sanitarios para los argentinos que entran a ese país\n",
      "- (359300) @usuario @usuario Como se Llama el ERP.. DEL 2020???..ESTO SOLO SE SOLUCIONA MATANDO A VARIOS!!! |||| Santa Fe: rompen más silobolsas y crece la preocupación en el campo\n",
      "- (401996) @usuario Un rifle sanitario les metería con un par de millones de balas......son bosta q viven de los q trabajamos y pagamos impuestos. |||| La temporada de verano en la Costa Atlántica empezó con un corte total en la Ruta 2: organizaciones sociales piden canastas navideñas\n",
      "- (340144) @usuario @usuario Un buen tiro en la cabeza y listo. Tenemos un país lleno de pelotudos, idiotas, inoperantes. Así estamos. |||| Tosió y estornudó sobre periodista de Crónica HD, le dijo \"tengo coronavirus\" y fue detenido\n",
      "- (356611) @usuario Pena de muerte |||| Robó una heladería, la Policía lo detuvo y descubrieron que había sido excarcelado 24 horas antes\n",
      "- (368293) @usuario @usuario Bala y a fosa común |||| Tres extranjeros incumplían la cuarentena total y agredieron a los policías que quisieron identificarlos\n",
      "\n",
      "\n",
      "## WOMEN \n",
      "\n",
      "\n",
      "\n",
      "- (336598) @usuario Dejensen de meterse en la supuesta violencia q existe entre estas personas q solo uds y las pañuelitos verdes ven,¿¿estan viviendo bajo el mismo techo q ellos para asegurar lo q escriben?????? Saben com es el comportamiento de ella???  Cuentenlo tambien |||| La respuesta de Luisana Lopilato a quienes acusaron de maltrato a Michael Bublé: “Lo volvería a elegir mil veces más”\n",
      "- (407976) @usuario Es que sos incogible..quien te va a hacer un hijo.....algun ciegoooo |||| “Me esterilicé, pero no odio a los niños”: mi vida dentro del movimiento “libre de hijos”\n",
      "- (375779) @usuario Humo porque no puede pagar el alquiler... sigan así... |||| Thelma Fardin revictimizada: las víctimas de violación no pueden quedar presas del estigma mientras los violadores siguen libres\n",
      "- (371887) @usuario La menopausia nos pone locas 🤦🏽‍♀️🤣 |||| Claribel Medina, indignada con un grupo de personas reunidas en un bar: “La gente está sin barbijo mientras los actores no podemos trabajar”\n",
      "- (407372) @usuario Para las feminazis toda ilógica es correcta |||| ¿Se puede ser feminista y llorar a Diego Maradona?\n",
      "- (366472) @usuario Tira goma.. |||| Juana Viale: \"Alberto Fernández parece más un vocero que la persona que toma decisiones\"\n",
      "- (355466) @usuario Ni hablar que si no se pusiera en pelotas nadie sabría quién es.ella se está aprovechándo de los pajeros que se excitan (con alguien Yam hueca ) Hay mujeres más lindas y más atractivas intelectualmente |||| El contundente mensaje de Noelia Marzol sobre el feminismo y el sexo: “Queremos coger en libertad”\n",
      "- (373780) @usuario Tantas definiciones para tratar de justificar tu “Trolés”??? |||| Empezó con una “relación abierta en lo sexual”, escaló al poliamor y da las claves para probar el amor libre\n",
      "- (335907) @usuario Sos cornuda y chica fácil hasta que se demuestre lo contrario |||| “Cualquier resfrío que tengamos durante este invierno es coronavirus hasta que se demuestre lo contrario”, aseguró el Ministerio de Salud\n",
      "- (327934) @usuario ¡Que cirujeada esta la supuesta enfermita!  Hipocritas. |||| Coronavirus en Argentina: Cristina Kirchner vuelve de Cuba junto a su hija Florencia y permanecerá aislada por 14 días\n",
      "- (327592) @usuario Sepárense si tienen parejas violentas, fue decisión de ustedes la elección de su pareja. No culpen a otros de sus malas decisiones. |||| Coronavirus en Argentina: por el encierro forzoso advierten que puede aumentar la violencia contra mujeres y niños\n",
      "- (350369) @usuario Debieras comerte uno así te sacas esa cara agria que tenes🤣🤣👎 |||| Nicole Neumann apuntó contra los consumidores de carne: “Sigan comiendo asadito”\n",
      "- (364964) @usuario Yo creo que a esta mina el coronavirus no la agarra por miedo  esta desquiciada |||| La otra batalla mundial, el otro enemigo invisible: “La violencia contra las mujeres es pandemia hace siglos”\n",
      "- (404390) @usuario Pero empomada todo el día... |||| Británica llegó a Perú por 10 días y se quedó por amor: vive sin agua potable y entre insectos\n",
      "- (345927) @usuario Que masa de taradas |||| Aborto: militantes feministas aseguran que cuando pase el coronavirus se tratará el proyecto y será ley\n",
      "- (356901) @usuario Ella sabe que es impune que no pagara con cárcel ni con dinero hace lo que quiere después aparecen muertas y se arma el tipo tiene derecho a cortar ese ataque |||| Río Gallegos: una mujer destruyó a palazos el auto de alta gama de su ex pareja\n",
      "- (354563) @usuario Cuando succionas las correctas |||| Por el mundo: Florencia Peña mostró su lujosa nueva casa con bar, muelle y pileta\n",
      "- (370268) @usuario Puta de MERDA!! |||| Cinthia Fernández empieza su carrera política: busca ser diputada\n",
      "- (371393) @usuario B O R R A C H A\n",
      "B U C H O N A |||| Claribel Medina, enojada con un grupo de gente reunida en un bar: \"¿Por qué para unos sí y para otros no?\"\n",
      "- (404373) @usuario El grone este debe tener un cardán de camión repartidor de embutidos, fácil de 3 puños con cabeza libre para cautivar de tal manera a esta doncella, porque de caripela viene peor que Tévez. |||| Británica llegó a Perú por 10 días y se quedó por amor: vive sin agua potable y entre insectos\n",
      "- (334802) @usuario Qué viejas en gastas, viviendo del Estado, curando con los \"Derechos INhumanos \". #Nofueron30000 |||| Estela de Carlotto, sobre la pandemia del coronavirus: “Si estuviera el gobierno anterior no sé cuántos moriríamos”\n",
      "- (371080) @usuario Dios santo!!! Ella esta super estirada!!! Que paso con el dinero del teletongo???? Donde estan los insumos??? |||| Fabiola Yáñez denunció a un periodista por publicaciones agraviantes\n",
      "- (354274) @usuario Huevo duro hacete cojer, paseador de gatos |||| Jorge Rial habló del Dipy: “La derecha necesita a estos lúmpenes”\n",
      "- (370339) @usuario Sos una basura, mucha perra argentina carajo mas pita que las gallinas, queriendo dejar en verguenza a la empleada, espero que la crisis economica se las lleve puesta a esta gente y ya lo estan haciendo jajaj no pueden comer bien, y no tienen seguridad de nada |||| Cinthia Fernández encontró que su empleada escondía una botella de vino en el baño y la escrachó en las redes\n",
      "- (371547) @usuario Estaría borracha...derrapa seguido.... |||| Ernestina Pais no se dio cuenta de que estaba en cámara e insultó a Ceferino Reato\n",
      "\n",
      "\n",
      "## LGBTI \n",
      "\n",
      "\n",
      "\n",
      "- (348304) @usuario cuando se muere este viejo trolo enfermo |||| Eugenio Zaffaroni le contestó a Sergio Berni tras la polémica por las domiciliarias: “Es el populacherismo vindicativo que llenó las cárceles”\n",
      "- (401013) @usuario Vergonzoso que  las mujeres toleren esto.\n",
      "Ese tenista debería jugar con hombres o a lo sumo, en un torneo de sujetos como él. |||| La impactante historia de la tenista trans que hoy es la N° 3 de Argentina en la categoría senior femenino\n",
      "- (396655) @usuario Guacale |||| Luis Novaresio le dedicó un romántico mensaje a Braulio Bauab por su cumpleaños\n",
      "- (369370) @usuario Como no te agarra el Coronavirus.   🤮🤮 |||| El abuelo que a los 90 años confesó: “Soy gay, soy libre y estoy afuera”\n",
      "- (365953) @usuario y..porque no es mujer, más claro echale agua |||| Por qué Flor de la V no continuó en Mujeres de eltrece, tras la salida de Claudia Fontán\n",
      "- (397528) @usuario Tiene Bija? No. Tiene Concha? Si. Es mujer entonces |||| Así luce el actor Elliot Page tras declararse trans\n",
      "- (396671) @usuario Un asco lo de estos desviados.. |||| Luis Novaresio le dedicó un romántico mensaje a Braulio Bauab por su cumpleaños\n",
      "- (368814) @usuario Que trolo |||| El hijo del Presidente, en un programa de la radio pública\n",
      "- (366311) @usuario Podés ser puto pero no seas trolo man |||| Robertito Funes se quebró al aire luego de la agresión que sufrió en un móvil\n",
      "- (338487) @usuario chinos putos . Todos los virus salen desde ahí |||| Coronavirus: el racismo contra China creció de manera alarmante en Twitter\n",
      "- (377415) @usuario Un macho besando a otro macho |||| La historia de la modelo colombiana trans que besa la panza de su esposo embarazado de ocho meses\n",
      "- (330570) @usuario Polémico es decir que flor de la v es mujer |||| \"No soy feminista, soy mujer\", la frase de Viviana Canosa que generó polémica en las redes\n",
      "- (341469) @usuario Se comen a los pibes y ahora a los trabas, estos curas del orto son insaciables (? |||| Coronavirus: el Papa envió ayuda a transexuales que se quedaron sin clientes\n",
      "- (406495) @usuario putitos |||| La aberrante arenga machista que dio el preparador físico de Güemes de Santiago del Estero\n",
      "- (389829) @usuario Una mujer trans osea una mujer disfrazada de hombre kuak.. |||| Otro ataque de furia contra un colectivero: una mujer trans le pateó la unidad y le tiró un ladrillazo\n",
      "- (351250) @usuario @usuario  Proba con ir a triunfar a un país árabe, a ver qué tal te va, MARICON |||| Ricky Martin: “Soy un hombre latino y homosexual viviendo en los Estados Unidos, soy una amenaza”\n",
      "- (407448) @usuario y bueno con el hijo del presidente como ejemplo este pais es una burla parese |||| Funcionario público y drag queen: la “doble vida” del político que representa a Salta en tacos, peluca y barba con brillos\n",
      "- (396646) @usuario Cosa de trolos |||| Luis Novaresio le dedicó un romántico mensaje a Braulio Bauab por su cumpleaños\n",
      "- (365947) @usuario Tuvo una erección y el staff pegó el culo en la pared |||| Por qué Flor de la V no continuó en Mujeres de eltrece, tras la salida de Claudia Fontán\n",
      "- (365975) @usuario Dijo mujer ajaja póngale 0 a ese bruto |||| Por qué Flor de la V no continuó en Mujeres de eltrece, tras la salida de Claudia Fontán\n",
      "- (398893) @usuario Igual deberá visitar al médico para revisión de próstata 🤔 |||| Mara Gómez cumple su sueño: será la primera futbolista transgénero en el torneo profesional argentino\n",
      "- (394007) @usuario Este presidente es la dejeneracion total del mundo |||| Joe Biden nominó a Rachel Levine, una mujer transgénero, para que sea su subsecretaria de Salud\n",
      "- (396330) @usuario Será trans la novia? |||| Pablo Duggan, sobre su casamiento: \"Karen es la mujer de mi vida, estoy muy enamorado\"\n",
      "- (334720) @usuario Es mujer? Fuaaa |||| Jimena Barón y una profunda reflexión: “Si fuera hombre sería alto macho”\n",
      "- (380746) @usuario Rosario siempre nos deleita con comicos poetas pensadores ahora impresentables como esta/a. |||| Luis Novaresio recomendó un juguete sexual en las redes\n",
      "\n",
      "\n",
      "## RACISM \n",
      "\n",
      "\n",
      "\n",
      "- (345526) @usuario Bombas urgente a esta maldita raza |||| Coronavirus. Yanzhong Huang: \"Es bastante probable que ya se esté gestando un Covid-21\"\n",
      "- (382869) @usuario hasta hoy,lo que ya todo el mundo sabe es que el transmisor del coronavirus...son los chinos!!! |||| Luego de mentir sobre el peligro del salmón, el régimen chino le apuntó ahora al camarón como transmisor del coronavirus\n",
      "- (373935) @usuario Lo único q saco en limpio es q es una pelea de negras conventilleras típico de Luchonas matanceras.... el perro del vecino ladrándole al gato..... y q carajo era eso??? Un vibrador???? |||| El video de la pelea de Cinthia Fernández con una vecina: “Me robaron, me pegaron y me tiraron del pelo\"\n",
      "- (348599) @usuario Para cuando el domo en china |||| La nueva cepa del virus de la gripe porcina se está propagando a los humanos en China\n",
      "- (346189) @usuario No soy racista, pero hay que matar a todos los chinos |||| En China comenzó el tradicional Festival de Carne de Perro a pesar de la pandemia de coronavirus y una ONG intenta salvarlos\n",
      "- (365893) @usuario MATEN A LOS CHINOS X FAVOR O NOS EXTERMINARÁN A TODOS! X DEUS. |||| Identifican un nuevo virus en China con potencial pandémico\n",
      "- (336467) @usuario Sionista sucia |||| Patricia Bullrich: “Somos mirados por la sociedad como la posible sustitución de este gobierno en 2021”\n",
      "- (338512) @usuario Racismo? Hay que redefinir racismo. Porque estos chinos de mierda con sus magres pusieron al mundo entero en jaque. (O por lo menos eso nos dicen) |||| Coronavirus: el racismo contra China creció de manera alarmante en Twitter\n",
      "- (361417) @usuario Negra, seguis presa por chorra. |||| Milagro Sala: “Seguimos presos, los que nos gobiernan tienen que cambiar las cabezas”\n",
      "- (399112) @usuario Como sacas un país adelante con semejantes simios?? |||| Otro video del caótico velatorio de Maradona: jugaron un violento “picadito” en la Plaza sin barbijos y con golpes a la Policía\n",
      "- (331752) @usuario Vagos y sinvergüenzas al servicio del extranjero. Estamos en problemas si no se termina con las marchas en contra del gobierno. Palo palo y palo a estos atorrantes. |||| Organizaciones sociales cortaron la avenida 9 de Julio: reclamaron un salario mínimo de $ 45.000\n",
      "- (328031) @usuario Se supone q es gente escolarizada, con educación, después dicen peronchos! Hdp |||| “Tenemos explotados los teléfonos con denuncias por gente que no cumple la cuarentena”, aseguró la titular de Migraciones\n",
      "- (382330) @usuario chinos de mierda |||| Un informe confidencial es concluyente: China ocultó la gravedad del coronavirus para acaparar equipos e insumos básicos\n",
      "- (348501) @usuario Nos infectan a Todos!!! |||| Científicos identificaron en China otro virus respiratorio “con potencial para convertirse en pandemia”\n",
      "- (407751) @usuario Amo ver los sudacas que se creen yankis enojados por esto. |||| Malestar en Washington con el Gobierno argentino porque no dejó atracar al buque más moderno de la guardia costera de Estados Unidos\n",
      "- (396047) @usuario Y los grones se están preguntando: lo qué? Que es un quinoa? 🤣🤣 |||| Hebe de Bonafini: “Hay que aprender a suplantar la carne con lentejas, quinoa y garbanzos”\n",
      "- (376555) @usuario Que no venga ningún chino más a la Argentina! Por favor! Ya Basta! |||| Al menos 7 muertos en China a causa de un virus transmitido por garrapatas\n",
      "- (376673) @usuario Eso es por qué no abren bien los ojos 🤣 |||| Pánico en China: escapó una bacteria de un laboratorio y ya hay más de 3.000 enfermos\n",
      "- (403677) @usuario Basta!!! No son mapuches son delincuentes !!! A ver si alguien pone las pelotas donde hay que ponerlas y los cagan a tiros de una vez !!! |||| Villa Mascardi: impresionante operativo con tanquetas blindadas para que una fiscal ingresara a una zona controlada por mapuches\n",
      "- (376628) @usuario En todos, TODOS, los libros de terror acerca de zombies que leí, y alguna que otra película también de zombies, los virus vienen de China. Pais de mierda. |||| Pánico en China: escapó una bacteria de un laboratorio y ya hay más de 3.000 enfermos\n",
      "- (352390) @usuario Esos hdp hay que cocinarlos a ellos vivos y tirarlos en una olla |||| Coronavirus: China prohíbe criar perros para consumo humano al no considerarlos ganado\n",
      "- (338819) @usuario Tiene razón Trump es el virus chino..... deberían hacerles pagar por todo lo que han generado . Chinos sucios!!!! |||| China deja atrás el coronavirus y se valoriza el precio global de los alimentos\n",
      "- (364686) @usuario Y la novedad sería. China es la peor basura del planeta |||| Ex jefe de inteligencia británico: “Huawei no es una compañía de telecomunicaciones ordinaria, es parte del Ejército chino”\n",
      "- (342786) @usuario Hay que matarlos hijos de puta 😑 |||| Coronavirus: las terribles imágenes del mercado donde se originó la pandemia\n",
      "- (393066) @usuario Chinos del orto |||| China lanzó una peligrosa venganza por los reportes sobre la eficacia de una de sus vacunas\n",
      "\n",
      "\n",
      "## CLASS \n",
      "\n",
      "\n",
      "\n",
      "- (344236) @usuario Es el deseo de todo argentino de bien |||| Coronavirus en Argentina: un dirigente radical deseó que la pandemia “haga una limpieza étnica” con “negros de La Matanza”\n",
      "- (328920) @usuario Solo un planero/ empleado público/ mantenido puede estar a favor de encerrarse a morir de hambre. Hijos de puta. Totalmente de acuerdo con Sebreli. |||| Juan José Sebreli sobre la cuarentena: \"Promuevo algo perfectamente democrático, la desobediencia civil\"\n",
      "- (361096) @usuario No te serían más útiles 200, 500, miles de vasectomías y oficios |||| La advertencia de Juan Grabois: “Van a haber 1, 5, 20 Guernicas”\n",
      "- (335045) @usuario PLANEROS Y BARRABRAVAS |||| Hubo tensión en la Quinta de Olivos entre un grupo que apoyaba a Alberto Fernández y manifestantes del banderazo contra el Gobierno\n",
      "- (355946) @usuario No sería mejor deportar a los bolivianos indocumentados?.además nos suman pobreza e indigencia |||| El Gobierno autorizó la apertura de las escuelas porteñas para las elecciones de Bolivia\n",
      "- (381609) @usuario Genioooo |||| Un dirigente radical pidió que el coronavirus “se quede en La Matanza y haga una limpieza étnica”: fue denunciado ante el Inadi\n",
      "- (341203) @usuario Es para trolos y vagos irrecuperables |||| Jair Bolsonaro: quedarse en casa por el coronavirus “es para los débiles”\n",
      "- (404536) @usuario Vayan a laburar vagos de mierda |||| El kirchnerismo marchará esta tarde para exigir la libertad de los presos por corrupción\n",
      "- (379401) @usuario Bala. |||| La historia de una familia de cartoneros en la toma de Guernica: “Por primera vez sentimos que tenemos un hogar”\n",
      "- (367330) @usuario Seguir regalando nuestra plata a los planeros... porque no les dan trabajo? |||| IFE: el Gobierno analiza mantener el bono de $10.000 de ANSeS para los sectores más vulnerables después de la pandemia\n",
      "- (381602) @usuario @usuario Idolo !!! |||| Un dirigente radical pidió que el coronavirus “se quede en La Matanza y haga una limpieza étnica”: fue denunciado ante el Inadi\n",
      "- (363384) @usuario Hay una oleada de balas que van a ir a parar a sus cráneos. |||| Juan Grabois: “Hay una oleada de toma de tierras que se va a profundizar”\n",
      "- (349400) @usuario Si hay para los que se contagian a diario en el  conurbano, y los que ingresan desde frontera para cobrar IFE siendo extranjeros, lo de la marcha es minúsculo |||| Graciana Peñafort, contra el banderazo: \"¿Habrá lugares para todos los que se contagien hoy?\"\n",
      "- (348124) @usuario Morite encerrada, negra basura de mierda |||| Milagro Sala: “Si no hay reforma judicial nunca vamos a recuperar la libertad”\n",
      "- (374125) @usuario Se soluciona fácil, agarras una topadora y listo |||| El tren Mitre lleva cinco días sin servicio por una toma de terrenos ferroviarios en San Fernando\n",
      "- (330322) @usuario Lamento decir esto, que se jodan!! Votaron estas LAKRAS ? Y ahora que quieren ? Que le solucionemos el problema? Váyanse un poquito a la mierda!!! No me conmueven más !! |||| Vecinos de la Villa 31 denuncian que llevan más de cuatro días sin agua y con cortes de luz: “En pandemia la necesitamos más que nunca”\n",
      "- (329893) @usuario Son indigentes, no tienen guita pero te montan un escenario para un kukapalooza |||| Toma de tierras en Guernica: los ocupantes hicieron un festival en protesta anticipada por el desalojo que ordenó la justicia\n",
      "- (345243) @usuario Anda a laburar lpqtp |||| Coronavirus en la Argentina: movimientos sociales reclaman asistencia alimentaria en el Obelisco\n",
      "- (355725) @usuario SON GENTE IGNORANTE JUANA NO ESTAN A TU ALTURA , NO SON TRABAJADORES , SON PLANEROS VAGOS, SEGUIDORES A CAMBIO DE DOS MANGOS.!! |||| Juana Viale: \"Me afectó muchísimo que me dijeran golpista\"\n",
      "- (363707) @usuario bala |||| Manifestantes ingresaron a la Municipalidad de Olavarría para reclamar viviendas: los vinculan a Juan Grabois\n",
      "- (353042) @usuario Clarísimo que no quieren laburar y quieren vivir de nosotros! |||| El Polo Obrero realiza un corte en la Panamericana en contra de la flexibilización de la cuarentena y en reclamo de aumentos a los planes sociales\n",
      "- (394235) @usuario Acá para mejorar al país tienen que hacer abortar y esterilizar a los pobres, por qué se reproducen como ratas, son el caldo de cultivo para futuros gobiernos populistas de mierda como los K |||| Padre Pepe: “Causa indignación que mientras trabajamos para que la gente pueda comer, nos vengan con la propuesta del aborto”\n",
      "- (376855) @usuario Excelente!!!                                     Acá estamos llenos de vagos ilegales y chorros exiliados!! |||| Sebastián Piñera impulsa una polémica ley migratoria para restringir el ingreso ilegal de extranjeros a Chile\n",
      "- (401974) @usuario Pidan trabajo la puta q los parió dejen d conformarse cn la canasta d mierda esa hdp cn trabajo van a poder comer y festejar cm quieran, tengan un poco de dignidad! |||| La temporada de verano en la Costa Atlántica empezó con un corte total en la Ruta 2: organizaciones sociales piden canastas navideñas\n",
      "- (401999) @usuario @usuario Nunca piden trabajo estos vagos!!! |||| La temporada de verano en la Costa Atlántica empezó con un corte total en la Ruta 2: organizaciones sociales piden canastas navideñas\n",
      "\n",
      "\n",
      "## POLITICS \n",
      "\n",
      "\n",
      "\n",
      "- (345362) @usuario Marche un cajón XXXL para el lechón K! |||| Murió por coronavirus el jefe del bloque de concejales del Frente de Todos de Capitán Sarmiento\n",
      "- (353008) @usuario Vaaamoo uno menos de esa secta |||| El ex presidente uruguayo José Mujica renunció al Senado y se retira de la política activa\n",
      "- (398327) @usuario Imagino que los fans de Matera lo entenderán, no? O se van a desquitar porque es Kuka? |||| El creador de \"Les pibis\" fue acusado por tuits racistas y se defendió\n",
      "- (403129) @usuario El aire está mas respirable desde que se fue el sucio este |||| Evo Morales dejó la Argentina con destino a Venezuela\n",
      "- (361861) @usuario Los comunista terroristas mUGRE como la fórmula K&amp;F seguro que acobiquen a evo pedofilo asesino . |||| El gobierno de Bolivia le pidió a la Argentina que se abstenga de hacer campaña por Evo Morales\n",
      "- (363448) @usuario Que de vayan a la repuitsima madre que los parió!!, aca ya tenemos suficientes gorilas, como para traer simios extranjeros!! |||| “Esto ya lo viví en mi país”: mil venezolanos decidieron irse de la Argentina\n",
      "- (377432) @usuario Linda motochorra k! |||| El sensual paseo en moto de Florencia Peña: \"Próxima parada: tu casa\"\n",
      "- (382692) @usuario Felicidades. Pero van a producir el de Oxford. Jajaja estos zurdos dan risa |||| Alberto Fernández le envió una carta de felicitación a Putin por la vacuna contra el coronavirus\n",
      "- (402374) @usuario @usuario 40 años gobernados por peronchos y ahora los entusiasman con un par de calles asfaltadas antes de las elecciones. Jajajajajajaja |||| En una inversión histórica, La Matanza pavimenta 5.000 cuadras\n",
      "- (341133) @usuario Que bueno, que la traigan a Argentina,  obvio los macronchos ni ahí, solo para los k |||| Coronavirus: ¿China logró la vacuna “perfecta”?\n",
      "- (387423) @usuario Una marcha civilizada , sin gorilas enardecidos , brutos y agresivos |||| En una mala hora, Alberto Fernández encontró aire en el PJ y la calle\n",
      "- (390257) @usuario La destruccion social es absoluta en argentina, y mas en provincias parasitos como la inmunda Salta. Todo emporio de pobreza peroncho tiene el tejido social hecho mierda. En Salta, violan hasta las macetas. Toda mujer extranjera, termina muerta en Salta. |||| Horror en Salta: abusaron “en manada” de un joven con retraso mental, se filmaron y subieron el video a las redes sociales\n",
      "- (386647) @usuario Yo si QUIERO QUE DESAPAREZCAN LAS LAKRAS PERONCHOS INMUNCIA Y LOS KAKAS LAKRAS |||| Fernando Iglesias: “Hasta que el peronismo no deje de ser el centro político, el país no tiene solución”\n",
      "- (379104) @usuario Que vieja fascinerosa. Hija de mil puta como todo peronchokichnerista ..pero la de ella o sus mugrientos parientes no se tocan. |||| Mirta Tundis rompió el silencio y justificó el ajuste a las jubilaciones: \"Es injusto pero necesario\"\n",
      "- (364040) @usuario NEGRA, BIEN NEGRA, COMO EL PERONISMO |||| Cómo es la cerveza “peronista” que el Chacho Coudet le regaló a Alberto Fernández\n",
      "- (341146) @usuario Que peroncho todo, mamá |||| Coronavirus: ¿China logró la vacuna “perfecta”?\n",
      "- (359361) @usuario Este impresentable fue miembro de la corte suprema. \n",
      "Irrecuperable este país con zurdos así! |||| Eugenio Zaffaroni: \"Con Macri no hubiéramos tenido cuarentena y tendríamos miles de muertos\"\n",
      "- (346247) @usuario Purga |||| Pese a las medidas de prevención por el coronavirus, organizaciones de izquierda convocan a marchar el 24 de marzo\n",
      "- (384885) @usuario Los curas \"villeros\" de la orden peroncha, están a favor del aborto? Duda existencial... 🤔 |||| Mensaje de cuarentena y Padrenuestro: Alberto Fernández y los curas villeros grabaron un video\n",
      "- (357276) @usuario Y a vos qué hay que hacerte? @usuario orKo soruyo genocida psicópata asesino de inocentes. @usuario 🤡 el odio que le tenes a la gente buena, a la gente de bien 😒🙄 |||| Juan Grabois propuso que se multe a los manifestantes del 17A: “Hay que aplicar la autoridad”\n",
      "- (329906) @usuario Es increíble este país, los delincuentes haciendo festival p/bancar un delito q se encuentra en el código penal. \n",
      "Todo esto es producto exclusivo de la izquierda socialista y el kirchnerismo, vivimos en un país zurdoprogre de la mas baja calaña. |||| Toma de tierras en Guernica: los ocupantes hicieron un festival en protesta anticipada por el desalojo que ordenó la justicia\n",
      "- (370839) @usuario Que boludos son los comunistas. |||| Barrios de Pie convoca a una manifestación en el Obelisco para pedir por el impuesto a la riqueza y la Ley Ramona\n",
      "- (359197) @usuario Tiene que arder toda unidad basica de estos parasitos hasta extirpar el cancer de la sociedad argentina. Con Peronismo No hay Progreso! #PatriaSiPeroniaNO |||| “No voy a renunciar”, dijo Mario Ishii antes de presentarse a declarar ante la Justicia\n",
      "- (406704) @usuario Cual es la discrimanción. Los decentes no votan basura peroncha y????? |||| Discriminan a un joven de La Plata: “No le alquilo a gays, chau”\n",
      "- (407394) @usuario Es la típica contradicción del gataflorismo feminista que no van a llegar nunca a nada. @usuario, paredón y después para el zurdaje hipócrita y mediocre Argentino. |||| ¿Se puede ser feminista y llorar a Diego Maradona?\n",
      "\n",
      "\n",
      "## DISABLED \n",
      "\n",
      "\n",
      "\n",
      "- (389207) @usuario No se dió cuenta.\n",
      "Estuvo borracho los ocho meses.\n",
      "Además ladrón y mentiroso. |||| Ginés González García: “No creo que la cuarentena haya sido tan larga”\n",
      "- (397780) @usuario Estragos del tinto |||| Patricia Bullrich pidió ser drásticos con los docentes: “El que no va, tendrá que ser reemplazado”\n",
      "- (362839) @usuario Pobre tipo.. ya no le quedan neuronas por la falopa |||| Alfredo Casero participó de una protesta en el Congreso y arengó a los manifestantes frente al edificio parlamentario\n",
      "- (355583) @usuario La única q ha mamado como loca es Bullrich |||| Luis Brandoni cruzó a Ricardo Alfonsín por sus críticas a la marcha: “No está en el centro de sus convicciones, de lo que ha mamado desde que nació”\n",
      "- (368714) @usuario Borracha igual que Maléfica |||| Mirta Busnelli: “Cristina es una mujer muy valiente e inteligente, como nunca hubo, excepto Evita”\n",
      "- (348303) @usuario Ojalá que los presos que largan le roben a él o le violen a alguien de su entorno a ver si va a pensar lo mismo este garantista de los DDHH para delincuentes. \n",
      "Se lo mereceria por malparido y enfermo mental que tergiversa la Justicia y las Leyes a favor de violadores y asesinos. |||| Eugenio Zaffaroni le contestó a Sergio Berni tras la polémica por las domiciliarias: “Es el populacherismo vindicativo que llenó las cárceles”\n",
      "- (395695) @usuario que cambie de dealer 🤣😂😂😂 |||| Calu Rivero presentó a Don Juan, el gallo que duerme a su lado\n",
      "- (340012) @usuario @usuario siempre tomando de “la mala”. |||| Elisa Carrió: “No tengan miedo, el problema no es el coronavirus sino Putin”\n",
      "- (376274) @usuario Que país de mierda. Sos un vago, te la pasas pariendo pibes que van a tener una mala vida, sos un chorro, sos un drogadicto, TE PAGAN. Te rompes el culo laburando y TE SACAN TU PLATA PARA DARSELA AL RESTO. Vayanse a cagar. Voten chorros y van a gobernar para los de su clase. |||| Potenciar Acompañamiento: lanzan un incentivo de $ 8.500 por mes para jóvenes en recuperación de adicciones\n",
      "- (386226) @usuario dos faloperos, una verguenza |||| “Fílmame, india horrible”: así se refirió una pareja argentina a vecina de la Condesa por la poda de árboles\n",
      "- (349133) @usuario Renuncia borracho.! |||| El Gobierno criticó el nuevo banderazo: “Lo que me vuelve loco es que la convocatoria sea contagiarse”\n",
      "- (341363) @usuario y...? que Carajo me importa esta q en las fotos se tapa el ex nazo, fotos de una enferma parecen..PONGAN NOTICIAS SOBRE LA💰💰💰QUE TIENE Y ES NUESTRA..SOBRE CUANDO VA A VENIR A DECLARAR ESTA IMPUTADA..PERIODI$TA$ DE 💩 🖕😡 |||| Coronavirus: Florencia Kirchner compartió una curiosa reflexión sobre la cuarentena\n",
      "- (342177) @usuario Y de cuánto la multa para el borrachín que nos aseguró qué \"estamos lejos\" y que no había de que preocuparse? |||| Coronavirus en Argentina: multas de 100 mil pesos y hasta 15 años de prisión para quienes rompan la cuarentena\n",
      "- (372796) @usuario Está loca la yegua!\n",
      "Alguien amárrela. |||| Cristina Kirchner quiere habilitar las sesiones virtuales para votar el “impuesto a los ricos” y pide aval de la Corte\n",
      "- (369358) @usuario Alhzeimer o demencia senil!!!!! |||| El abuelo que a los 90 años confesó: “Soy gay, soy libre y estoy afuera”\n",
      "- (328120) @usuario Ta ma duro que cachetada de travesti |||| Coronavirus. Ginés González García: \"Tal vez tendríamos que haber empezado un poco antes con el rastreo\"\n",
      "- (336860) @usuario Seguí jodiendo, enano fascista, q te van a clavar de un martillazo, ya huela de suelo... Seguí jodiendo. Gordo, hinchado de falopa y descerebrado por exceso de químicos en la.unica neurona q tuviste jamás. Basura arrastrada. Anda a contarlo al tercer cordón del kongourbano |||| Coronavirus en la Argentina: \"Es un error abrir más. No lo puedo permitir\", advirtió Axel Kicillof\n",
      "- (371547) @usuario Estaría borracha...derrapa seguido.... |||| Ernestina Pais no se dio cuenta de que estaba en cámara e insultó a Ceferino Reato\n",
      "- (332988) @usuario POBRE DISCEPOLO,\n",
      "LA GORDA QUE COBRA\n",
      "200 LUCAS; RETRASADA, \n",
      "INCULTA Y ENEMIGA DE\n",
      "MARCELO, SALE A DECIR\n",
      "PELOTUDECES....??? |||| Coronavirus: el exabrupto de Ofelia Fernández contra quienes se manifestaron contra la cuarentena\n",
      "- (369111) @usuario Lo que el flaco este no entiende es que a nadie le importa. Lo peligroso es que críe chicos con esa psique tan aturdida, nada más |||| Flor de la V, en el Día Internacional del Orgullo LGBT+: “Todo lo que tengo se lo debo a que soy travesti”\n",
      "- (343660) @usuario Que deje la falopa Larroque |||| Coronavirus en la Argentina. Andrés Larroque criticó el banderazo por Vicentin: \"Se generó una bomba sanitaria\"\n",
      "- (386102) @usuario López Obrador es un alcoholico que da vergüenza. |||| Alberto Fernández cuestionó a Estados Unidos y dijo que extraña a Chávez, Evo Morales y Correa\n",
      "- (389825) @usuario Mujer trans : hombre disfrazado de mujer con problemas mentales y psicologicos, pero que al estado en lugar de destinar dinero para ayudarlos en su enfermedad mental le sale más barato convencernos que son mujeres y así no tienen que poner un peso. |||| Otro ataque de furia contra un colectivero: una mujer trans le pateó la unidad y le tiró un ladrillazo\n",
      "- (333903) @usuario de cual tomara, me re intriga. |||| Calu Rivero, desnuda en una playa de Estados Unidos, reflexionó sobre la libertad y el empoderamiento de las mujeres a través del arte\n",
      "- (387029) @usuario Existen servicios de atención psiquiátrica sin costo... en Miami llame al 0810-ESTOYCHAPITA-555. |||| ¡Calu Rivero se desnudó para Instagram!\n",
      "\n",
      "\n",
      "## APPEARANCE \n",
      "\n",
      "\n",
      "\n",
      "- (360475) @usuario Si le preocupa el peso, que pruebe con Satial |||| Elisa Carrió: “La situación del país y del peso es de una gravedad inusitada; estamos sin moneda nacional”\n",
      "- (371243) @usuario Imaginate ser un cuco y tampoco hacer nada por los demás... |||| Julia Mengolini volvió a criticar a Jimena Barón: “Estar buena te sirve solo a vos, no estás haciendo nada por los demás”\n",
      "- (361027) @usuario Q cara de hdp tiene la hdp |||| Nahir Galarza sumó a una abogada feminista a su defensa: “Buscamos un juicio con perspectiva de género”\n",
      "- (386255) @usuario Viejo ridículo. Parece idiota peleando.\n",
      "\n",
      "🚁🚁🚁🚁🚁🚁🚁 |||| Alberto Fernández redobló la apuesta tras la desmentida de Mauricio Macri: “Me recomendaban que mueran los que tengan que morir”\n",
      "- (384573) @usuario seras la reina,pero no olvidemos que estuviste con Rial,joojo poquito cochina para estar con el viejo forro ese |||| Loly Antoniale mostró su impresionante casa en Miami: “Soy la reina de mi castillo”\n",
      "- (395094) @usuario Vieja puerca. |||| Cristina Kirchner pasa de las cartas a las balas\n",
      "- (405294) @usuario Esta vieja es una demente |||| Elisa Carrió: \"Marcos Peña era el único que lo frenaba a Macri, y yo, obviamente\"\n",
      "- (362884) @usuario @usuario De honda Casero??? Sí estoy ahí lo saco cargando al gordo ridículo!!! |||| Alfredo Casero participó de una protesta en el Congreso y arengó a los manifestantes frente al edificio parlamentario\n",
      "- (354073) @usuario Se hace la picante la vieja \"rebelde\" por qué dice culo, chota, teta, pija, concha en radio!! Jajaja. |||| Elizabeth Vernaci destrozó a Denise Dumas en términos durísimos\n",
      "- (357467) @usuario Labura gordo! Laabuuuraaaa!!! |||| Roberto Baradel criticó que se intenten \"forzar las clases presenciales por marketing político\"\n",
      "- (338327) @usuario La tucán le dará gel a los cubanos? |||| Coronavirus: Cuba confirmó que la enfermedad llegó a la isla\n",
      "- (348205) @usuario Es verdad a vos gordrogon te tienen que decir...andate a tu país |||| El editorial de Jorge Lanata en el regreso a la TV: “Estoy harto que me digan 'quedate en casa'”\n",
      "- (369401) @usuario Cállese viejo lesbiano, 😁 |||| El abuelo que a los 90 años confesó: “Soy gay, soy libre y estoy afuera”\n",
      "- (344993) @usuario Guardate viejo,estas demasiado gaga. |||| \"El pico del coronavirus se está ralentizando\", dijo Ginés González García\n",
      "- (399044) @usuario Jajaja pobre Úrsula, llegar así de cascoteada a gato viejo tiene secuelas |||| Fuerte cruce entre Úrsula Vargues y Horacio Cabak: “Cipayo vende humo”, “¿Te golpeaste la cabeza?”\n",
      "- (338043) @usuario Es un bicho hasta con la cara tapada, que hija de puta... |||| Su estado de salud, literatura y feminismo: 19 definiciones de Florencia Kirchner\n",
      "- (384882) @usuario Me gusta el vídeo porque veo que los curas villeros se bañaron!!!😁😁😁 |||| Mensaje de cuarentena y Padrenuestro: Alberto Fernández y los curas villeros grabaron un video\n",
      "- (396066) @usuario Vieja bastarda, ahora saltas ? Después que les votaste todo a favor para licual la deuda de tu esposo en gastronómicos? Sos mierda. |||| Graciela Camaño: \"No hay conducción bifronte, la gestión la conduce Cristina Kirchner\"\n",
      "- (351215) @usuario Ridículo perdiste tú rumbo das náuseas 🤮🙄🙄🙄 famosos eternos (víctimas) 🙄🤦‍♀️ ándate a Puerto Rico entonces ahí no serás una amenaza....🤮🤮🤮🤮🤮 |||| Ricky Martin: “Soy un hombre latino y homosexual viviendo en los Estados Unidos, soy una amenaza”\n",
      "- (352557) @usuario Gordo pelotudo, hiciste TODO mal, cortala con Macri y ocupate de la salud que para eso te pagamos |||| Coronavirus. Ginés González García: \"Con Mauricio Macri no me enojo, nunca le importaron los argentinos, por eso dice lo que dice desde Mónaco\"\n",
      "- (388237) @usuario A ver si le pasa lo mismo a Nancy Pazos quiero ver si defiende al chorro esta mujer es fea x dentro y horrible x fuera |||| El inesperado cruce entre la China Suárez y Nancy Pazos por el caso del jubilado que mató a un ladrón en Quilmes\n",
      "- (379173) @usuario lavate sucio, ya paso de moda el zurdo oloroso. Con ser zurdo solo ya das suficiente asco |||| Juan Grabois defendió la toma de tierras y apuntó contra el Gobierno: \"El que dice que ocupar es delito, miente\"\n",
      "- (367893) @usuario Vieja soberbia e hipócrita. |||| “No me tutee”: fuerte cruce entre Cristina Kirchner y Martín Lousteau en el Senado\n",
      "- (338632) @usuario Viejo forro presente la renuncia YA |||| “El país está tomando todas las medidas para afrontar el coronavirus”\n",
      "- (331705) @usuario Una linda chica deformada hasta dar asco. La boca totalmente deformada! |||| Con una osada selfie, Cande Tinelli contó cómo vive la cuarentena: \"Mi cuerpo pide pista\"\n",
      "\n",
      "\n",
      "## CRIMINAL \n",
      "\n",
      "\n",
      "\n",
      "- (335388) @usuario Riquísimo. Uno menos |||| Video: el hijo de un contador mató a balazos a un ladrón que asaltaba a su padre\n",
      "- (370795) @usuario Excelente |||| Cinthia Fernández, tras la muerte de un ladrón en manos de un joven que se defendió: “Bien, uno menos”\n",
      "- (390288) @usuario Malditos!!! Malditos!!!! Pena de muerte!!!! Basuras lacras!!! Son menos que animales!!! |||| Horror en Salta: abusaron “en manada” de un joven con retraso mental, se filmaron y subieron el video a las redes sociales\n",
      "- (352846) @usuario Que lástima que solo fueron 2 |||| Denuncian que dos presos fueron heridos de bala durante el motín en la cárcel de Devoto\n",
      "- (351172) @usuario Porfin una buena noticia.. avisen cuando muera |||| Participó del motín en Devoto, le dieron la domiciliaria, salió a robar y fue herido\n",
      "- (358021) @usuario Le hubieran puesto una bomba al cortejo |||| Familiares y barras de Quilmes despidieron al ladrón asesinado por el jubilado en un polémico cortejo\n",
      "- (370424) @usuario uno menos |||| Detienen a una policía de la Ciudad que mató a balazos a un delincuente que robaba ruedas de autos\n",
      "- (355113) @usuario Hay que salir a matar chorros, no solo que nadie nos cuida, a ellos los defienden. |||| Sergio Berni, sobre el robo del auto a una mujer con su hijo adentro: “Esta es la realidad que tenemos”\n",
      "- (370769) @usuario 👏👏👏👏👏👏👏👏👏👏 |||| Cinthia Fernández, tras la muerte de un ladrón en manos de un joven que se defendió: “Bien, uno menos”\n",
      "- (375966) @usuario Plomo y más plomos para esos asesinos hijos de puta |||| La nueva vida en la cárcel de los rugbiers acusados de matar a Fernando Báez Sosa: comparten todos el mismo celular y leen novelas de fantasía\n",
      "- (343882) @usuario Bala, con todos estos y bajamos el deficit! |||| Coronavirus en Argentina: le otorgaron la prisión domiciliaria, golpeó a sus sobrinos y volvió a ser detenido\n",
      "- (335346) @usuario @usuario Por favor díganme q la bala esta bien!!!! Q servirá para otro. Vos querido.....un honor un hijo así. Mis respetos |||| Video: el hijo de un contador mató a balazos a un ladrón que asaltaba a su padre\n",
      "- (367758) @usuario Héroe. |||| El panadero que mató a un ladrón en La Matanza: \"No soy un asesino, estoy arrepentido\"\n",
      "- (341726) @usuario 200000001 prioridades antes que ellos para preocuparse... |||| Qué podría pasar si el coronavirus llega a las hacinadas cárceles bonaerenses\n",
      "- (364344) @usuario No creo que puedas matarte solo paralitico de mierda |||| “Me quiero matar”, la carta del preso que quedó parapléjico tras el motín en Devoto\n",
      "- (336520) @usuario Que ganas de romper las pelotas estos negros de mierda |||| Detuvieron a otro delincuente recientemente liberado por la excusa del coronavirus: volvió a golpear a su familia\n",
      "- (359951) @usuario #LaMatanzaAvanza pero después les pagamos subsidios a estos mierdas #17AOcupemosLasCalles para sacar a este gobierno que está destruyendo lo poco que queda de la clase trabajadora. |||| Laferrere: no se resistió a que le robaran la mochila, pero igual le dispararon a quemarropa\n",
      "- (407949) @usuario Muy Lamentable, seguro esas lacras asesinas son todos votos kirneristas. |||| Cómo fue el espeluznante crimen de Sergio delante de su familia cuando regresaban de la Costa\n",
      "- (387408) @usuario Paredón. |||| Detuvieron a un docente de un colegio primario de Villa Devoto por pedofilia: lo encontraron en la cama con un alumno de 14 años\n",
      "- (362402) @usuario PAREDON POR VIEJO VIOLETA |||| Revocaron la prisión domiciliaria del violador que acosaba a su vecina de 12 años en Tucumán\n",
      "- (374369) @usuario Cómo dice el Edu,\n",
      "Este no jode más. |||| Una policía baleó y mató a un joven de 17 años que la atacó con una tijera en Moreno\n",
      "- (403932) @usuario Bala |||| El hermano del agresor de la escuela de danza: “El efecto de la cuarentena tuvo mucho que ver, el encierro lo hacía hablar solo”\n",
      "- (359749) @usuario Los jubilados van a salvar al país. Todo lo que no hace la sociedad porque no hay que ensuciarse las manos para guardar las apariencias, no sea que ofendamos a alguien, lo están haciendo ellos. Nuestros abuelos tienen los pantalones bien puestos. |||| Mar del Plata: otro jubilado mató de un disparo a un ladrón que había ingresado a robar a su casa\n",
      "- (343750) @usuario Jajajajajajajajajajaja justicia divina!!! |||| Video: salió de la cárcel por el coronavirus y murió de un tiro el mismo día al festejar su libertad\n",
      "- (362156) @usuario Dénselo de comer a los perros |||| Detuvieron al hombre que admitió violar a su hija en audios de WhatsApp y fue tendencia en redes: un tío lo entregó\n"
     ]
    }
   ],
   "source": [
    "import random\n",
    "\n",
    "random.seed(2021)\n",
    "\n",
    "data = []\n",
    "\n",
    "selected_ids = {\n",
    "    \"WOMEN\": [407976, 371887, 407372, 350369, 404390, 354563],\n",
    "    \"LGBTI\": [348304, 401013, 396655, 369370, 365953, 397528, 377415, 394007],\n",
    "    \"RACISM\": [345526, 346189, 361417, 348501, 407751, 403677, 376555, 342786],\n",
    "    \"CRIMINAL\": [],\n",
    "    \"CLASS\": [344236, 335045, 355946, 379401, 345243, 353042],\n",
    "    \n",
    "    \"POLITICS\": [],\n",
    "    \"APPEARANCE\": [],\n",
    "    \"DISABLED\": [],\n",
    "    \n",
    "    \n",
    "    \"CALLS\": [345395, 361092, 370678, 339375, 403667, 379905, 370694],\n",
    "}\n",
    "\n",
    "for char, tweets in char_tweets.items():\n",
    "    print(f\"\\n\\n## {char}\", \"\\n\" * 3)\n",
    "    random.shuffle(tweets)\n",
    "    for tweet in tweets[:25]:\n",
    "        article = tweet[\"article\"]\n",
    "        print(f\"- ({tweet['id']}) {tweet['text']} |||| {article['title']}\")\n",
    "        data.append({\n",
    "            \"article_id\": article['tweet_id'],\n",
    "            \"comment_id\": comment[\"id\"],\n",
    "            \"characteristic\": char,\n",
    "            \"text\": tweet['text'], \n",
    "            \"context\": article['title'],\n",
    "        })"
   ]
  },
  {
   "cell_type": "code",
   "execution_count": 42,
   "metadata": {},
   "outputs": [
    {
     "data": {
      "text/plain": [
       "'@usuario habrá alguna manera de erradicar a estos tipos del mundo ?'"
      ]
     },
     "execution_count": 42,
     "metadata": {},
     "output_type": "execute_result"
    }
   ],
   "source": [
    "df_char.iloc[0].text"
   ]
  },
  {
   "cell_type": "code",
   "execution_count": 63,
   "metadata": {},
   "outputs": [
    {
     "name": "stdout",
     "output_type": "stream",
     "text": [
      "\\begin{tabular}{lll}\n",
      "\\toprule\n",
      "characteristic & text & context \\\\\n",
      "\\midrule\n",
      "         WOMEN & @usuario Y como te quedó el ogt?. & Loly Antoniale mostró su impresionante casa en Miami: “Soy la reina de mi castillo” \\\\\n",
      "         WOMEN & @usuario Habla el agua viva esta vestida de verde ? & Cecilia Moreau: \"No se puede permitir que la minoría le imponga a la mayoría qué temas discutir\" \\\\\n",
      "         WOMEN & @usuario “Feminista interseccional”..:nos vamos a la mierda... & Empezó con una “relación abierta en lo sexual”, escaló al poliamor y da las claves para probar el amor libre \\\\\n",
      "         WOMEN & @usuario Provocador ? A mi me provoca ganas de vomitar & ¡El sensual y provocador topless de Morena Rial! \\\\\n",
      "         WOMEN & @usuario Que se aborte ella, vieja  bruja y degenerada!! & Martha Rosenberg: “En situación de pandemia, legalizar el aborto es más urgente que nunca” \\\\\n",
      "         WOMEN & @usuario Kien es la feminista resentida q está instaurando esa idea desde hace días?? & Femicidio en Catamarca: “No es gente enferma, sino que tiene una formación machista importante” \\\\\n",
      "         WOMEN & @usuario Pero quién puede pensar embarazar a esta mostra. & “Ya pusimos el cuerpo, ahora que los diputados se pongan las pilas”: en el Congreso, el lado verde se prepara para una fiesta \\\\\n",
      "         WOMEN & @usuario Pregúntaselo a Lousteau, trola de mierda & Juana Viale hizo un irónico pedido en su programa: “Que el señor Presidente me explique en qué fase de la ‘no cuarentena’ estamos” \\\\\n",
      "         WOMEN & @usuario Que pelotudo!!!!...lo que te va a tomar es la guita viejo decrepito...o te pensastes que se enamoro de vos..jajajaja & Eduardo Costantini y Elina Fernández mostraron la intimidad de su luna de miel: “Ella no me deja tomar una copa de vino” \\\\\n",
      "         WOMEN & @usuario El paskin con la trola & La pareja de Lázaro Báez contó cómo lo esperaba adentro del country: “Lo que le hicieron fue indignante” \\\\\n",
      "         WOMEN & @usuario Que manga de roñosas & “Ya pusimos el cuerpo, ahora que los diputados se pongan las pilas”: en el Congreso, el lado verde se prepara para una fiesta \\\\\n",
      "         WOMEN & @usuario A la que fue PROSTITUTA de Villa Ballester le molesta que le recuerden que fue PROSTITUTA? & Fabiola Yáñez denunció a un periodista por publicaciones agraviantes \\\\\n",
      "         WOMEN & @usuario Hay que comerse al termotanque de lipidos & ¿More Rial encontró el amor en un personal trainer? \\\\\n",
      "         WOMEN & @usuario @usuario @usuario SOS la peor mierda de argentina, junto al presidente y su titiritera de Cristina. Manga de soretes! \\textbackslash nMuy sorora pero estan matando de hambre a media argentina, homicidios y terrorismo. Vayanse todos! Métete el corazón verde e... & Fuerte cruce entre Flavio Mendoza y Victoria Donda: “Es muy fácil hablar cuando uno cobra un sueldo” \\\\\n",
      "         WOMEN & @usuario No me sorprende, usa el pañuelito verde decisor. & Nancy Pazos reveló por qué decidió que su mamá no recibiera la donación de plasma \\\\\n",
      "         WOMEN & @usuario La Yañez está tratando de entender  de que habla Manes .. pobre solo conoce los tablones del teatro ... & Coronavirus. Fabiola Yáñez organizó una videollamada con Facundo Manes: \"Lo importante es estar bien mentalmente\" \\\\\n",
      "         WOMEN & @usuario Esto me hace tan feliz, jodanse aborteras de mierda. JAJAJAJAJAJAJAJAJAJAJAJAJAJAJAJAJAJAJAJAJAJAJAJAJAJAJAJAJAJAJAJAJAJAJAJAJAJAJAJAJAJAJAJAJAJAJAJAJAJAJAJAJAJAJAJAJAJAJAJJAAJAJAJAJAJAJAJAJAJAJAJAJAJAJAJAJAJAJAJAJAJAJAJAJAJAJAJAJAJAJAJAJAJAJAJ... & Aborto legal: otra promesa incumplida \\\\\n",
      "         WOMEN & @usuario Jaja la mina orgullosa de lo q consiguió gateando, bien ahi 🥴 & Loly Antoniale mostró su impresionante casa en Miami: “Soy la reina de mi castillo” \\\\\n",
      "         WOMEN & @usuario Y quien te iva a hacer un pibe...dracula o el hombre lobo.. & “Me esterilicé, pero no odio a los niños”: mi vida dentro del movimiento “libre de hijos” \\\\\n",
      "         WOMEN & @usuario Dirán lo que dirán de Moria y como sea trabajo toda su vida por eso tiene lo que tiene Pero Rocío  solo trabajo abriendo las piernas  en la cama  para llegar hacer figureti Y no me la cuenten que fue por amor🤣🤣 & El enojo de Moria Casán con Rocío Oliva: “Mucha agua oxigenada, le quedó media neurona para jugar a la pelota” \\\\\n",
      "         LGBTI & @usuario Revisen esa casa, los están envenenando. & Contó que era lesbiana, su papá le confesó que era gay y ahora su madre se enamoró de una mujer: así se inspiró para su segundo film \\\\\n",
      "         LGBTI & @usuario Me cruzo con 50 María Elena por día. Las feminazis son iguales & No es actriz, pero se anima al desafío: quién es Ethel Herrera, la tiktoker que se postula para ser María Elena en “Casados con hijos” \\\\\n",
      "         LGBTI & @usuario Biológicamente las mujeres tienen vagina y los hombres tienen pene. Lo demás es ideológico. & Tras los comentarios de J.K. Rowling, Emma Watson defendió al colectivo trans \\\\\n",
      "         LGBTI & @usuario por fin alguien que ponga huevos en el equipo & Histórico: Mara Gómez fue habilitada y será la primera jugadora trans en el fútbol argentino \\\\\n",
      "         LGBTI & @usuario pero....este no se comia la galletita? & Pablo Duggan, sobre su casamiento: \"Karen es la mujer de mi vida, estoy muy enamorado\" \\\\\n",
      "         LGBTI & @usuario Por el pirulo & Por qué Flor de la V no continuó en Mujeres de eltrece, tras la salida de Claudia Fontán \\\\\n",
      "         LGBTI & @usuario Pelado puto, te quedaste solo. & Horacio Rodríguez Larreta: “La convocatoria del lunes no es del partido, si alguno va es a título personal” \\\\\n",
      "         LGBTI & @usuario Bueno por lo menos le quedó el culo roto & El meteorólogo Matías Bertolotti se separó a ocho meses de haberse casado \\\\\n",
      "         LGBTI & @usuario No Clarin. Es un señor con apariencia de mujer que preñó a una mujer con apariencia de hombre. La paja no es como el trigo. & La historia de la modelo colombiana trans que besa la panza de su esposo embarazado de ocho meses \\\\\n",
      "         LGBTI & @usuario Che, qué pasó con el puto-no me enteré de nada. & Por qué Flor de la V no continuó en Mujeres de eltrece, tras la salida de Claudia Fontán \\\\\n",
      "         LGBTI & @usuario Viejo larga presos , llévalos todos a tu casa y te haces romper el orto viejo puto igual ya lo tener & Eugenio Zaffaroni le contestó a Sergio Berni tras la polémica por las domiciliarias: “Es el populacherismo vindicativo que llenó las cárceles” \\\\\n",
      "         LGBTI & @usuario Pero...\\textbackslash n.\\textbackslash n.\\textbackslash n.\\textbackslash n.\\textbackslash nCamila es Camilo. & Camila Sosa Villada: “Con el feminismo y el psicoanálisis descubrimos que el amor es una herramienta de manipulación\" \\\\\n",
      "         LGBTI & @usuario Vos también comes carne...\\textbackslash n\\textbackslash nNo te hagas la boluda, encima te comiste a un bala no asumido, ahí también comiste carne....\\textbackslash n\\textbackslash n@usuario \\textbackslash n\\textbackslash nDeja que cada uno elija qué hacer, de ultima es una elección personal como la tuya de comerte a un corrup... & Nicole Neumann apuntó contra los consumidores de carne: “Sigan comiendo asadito” \\\\\n",
      "         LGBTI & @usuario La mujer tiene duda siiiiiii duda la podonga 😂😂😂😂 & Pablo Duggan, sobre su casamiento: \"Karen es la mujer de mi vida, estoy muy enamorado\" \\\\\n",
      "         LGBTI & @usuario 🤮🤮🤮🤮🤮🤮 & La emotiva dedicatoria de Luis Novaresio a su pareja, Braulio Bauab, en su cumpleaños \\\\\n",
      "         LGBTI & @usuario Cerra el otro viejo chupa pija & Alberto Fernández: “Dejemos el tiempo del encuentro y del esparcimiento social para otro momento” \\\\\n",
      "         LGBTI & @usuario Quedaba feo poner \"un jugador disfrazado de mujer\" entendemos & Mara Gómez cumple su sueño: será la primera futbolista transgénero en el torneo profesional argentino \\\\\n",
      "         LGBTI & @usuario Creo que se debe referir a las feminazis,aborteras y ese circo de lgbtqia+ etc y toda esas payasadas....que son manipulados como titeres por los lobbys & Cecilia Moreau: \"No se puede permitir que la minoría le imponga a la mayoría qué temas discutir\" \\\\\n",
      "         LGBTI & @usuario Estos chetos soretes maricas nenas de mama cagones. & Coronavirus en Argentina: los “caprichos” de algunos repatriados en los hoteles porteños, entre rebeldes y cholulos \\\\\n",
      "         LGBTI & @usuario La discriminacion se termina despues del primer tortazo.. dejen de llorar manga de maricas!! & Viola Davis, Halle Berry y Angela Bassett, actrices negras que superaron la discriminación en Hollywood \\\\\n",
      "\\bottomrule\n",
      "\\end{tabular}\n",
      "\n"
     ]
    }
   ],
   "source": [
    "import re\n",
    "pd.options.display.max_colwidth = 256\n",
    "\n",
    "\n",
    "\n",
    "sub_data = [d for d in data if d[\"characteristic\"] in {\"WOMEN\", \"LGBTI\"}]\n",
    "\n",
    "df_char = pd.DataFrame(sub_data)[[\"characteristic\", \"text\", \"context\"]]\n",
    "\n",
    "table = df_char.to_latex(index=False, col_space=1)\n",
    "\n",
    "table = re.sub(r\"&\\s+\", \"& \", table)\n",
    "\n",
    "print(table)"
   ]
  },
  {
   "cell_type": "code",
   "execution_count": 62,
   "metadata": {},
   "outputs": [
    {
     "data": {
      "text/plain": [
       "{'article_id': '1245748490942152705',\n",
       " 'comment_id': 407954,\n",
       " 'characteristic': 'CALLS',\n",
       " 'text': '@usuario habrá alguna manera de erradicar a estos tipos del mundo ?',\n",
       " 'context': 'Coronavirus en China: la ciudad de Shenzhen prohíbe comer perros y gatos'}"
      ]
     },
     "execution_count": 62,
     "metadata": {},
     "output_type": "execute_result"
    }
   ],
   "source": [
    "data[0]"
   ]
  },
  {
   "cell_type": "code",
   "execution_count": null,
   "metadata": {},
   "outputs": [],
   "source": []
  }
 ],
 "metadata": {
  "kernelspec": {
   "display_name": "Python 3",
   "language": "python",
   "name": "python3"
  },
  "language_info": {
   "codemirror_mode": {
    "name": "ipython",
    "version": 3
   },
   "file_extension": ".py",
   "mimetype": "text/x-python",
   "name": "python",
   "nbconvert_exporter": "python",
   "pygments_lexer": "ipython3",
   "version": "3.8.6"
  }
 },
 "nbformat": 4,
 "nbformat_minor": 4
}
