{
 "cells": [
  {
   "cell_type": "markdown",
   "metadata": {},
   "source": [
    "## Dataset\n",
    "\n",
    "Veamos estadísticas y otras cosas del dataset"
   ]
  },
  {
   "cell_type": "code",
   "execution_count": 1,
   "metadata": {},
   "outputs": [],
   "source": [
    "%load_ext autoreload\n",
    "%autoreload 2\n",
    "import os\n",
    "import sys\n",
    "import django\n",
    "from tqdm.auto import tqdm\n",
    "\n",
    "os.environ[\"DJANGO_ALLOW_ASYNC_UNSAFE\"] = \"true\"\n",
    "\n",
    "sys.path.append(\"..\")\n",
    "os.environ['DJANGO_SETTINGS_MODULE'] = 'news_labelling.settings'\n",
    "django.setup()\n",
    "\n",
    "from api.models import Comment, ArticleLabel, CommentLabel, Article, Batch\n",
    "from django.contrib.auth.models import User"
   ]
  },
  {
   "cell_type": "code",
   "execution_count": 2,
   "metadata": {},
   "outputs": [
    {
     "name": "stdout",
     "output_type": "stream",
     "text": [
      "Artículos totales: 1738\n",
      "Artículos con 3 anotaciones: 1238\n",
      "Artículos con alguna anotación: 1725\n",
      "Artículos que no pasaron a tercera anotación: 452\n"
     ]
    }
   ],
   "source": [
    "from django.db.models import Count, Case, When, Value\n",
    "\n",
    "annotated_articles = Article.objects.exclude(batch__name=\"training\").annotate(\n",
    "    num_labels=Count('labels'),\n",
    "    effective_labels=Count(\n",
    "        Case(When(labels__is_interesting=True, then=Value(1)))\n",
    "    )\n",
    ")\n",
    "\n",
    "\n",
    "dataset_articles = annotated_articles.filter(effective_labels=3)\n",
    "\n",
    "skipped = 0\n",
    "\n",
    "for art in annotated_articles:\n",
    "    if art.num_labels > art.effective_labels:\n",
    "        skipped +=1\n",
    "\n",
    "\n",
    "print(f\"Artículos totales: {Article.objects.count()}\")\n",
    "print(f\"Artículos con 3 anotaciones: {dataset_articles.count()}\")\n",
    "print(f\"Artículos con alguna anotación: {annotated_articles.filter(num_labels__gte=1).count()}\")\n",
    "print(f\"Artículos que no pasaron a tercera anotación: {skipped}\")"
   ]
  },
  {
   "cell_type": "markdown",
   "metadata": {},
   "source": [
    "Carguemos directamente el JSON generado"
   ]
  },
  {
   "cell_type": "code",
   "execution_count": 3,
   "metadata": {},
   "outputs": [
    {
     "name": "stdout",
     "output_type": "stream",
     "text": [
      "1238\n"
     ]
    }
   ],
   "source": [
    "import json\n",
    "\n",
    "with open(\"../output/dataset.raw.json\") as f:\n",
    "    raw_articles = json.load(f)\n",
    "print(len(raw_articles))\n"
   ]
  },
  {
   "cell_type": "code",
   "execution_count": 4,
   "metadata": {},
   "outputs": [
    {
     "data": {
      "image/png": "[encoded data removed]",
      "text/plain": "<Figure size 360x288 with 1 Axes>"
     },
     "metadata": {
      "needs_background": "light"
     },
     "output_type": "display_data"
    }
   ],
   "source": [
    "from datetime import datetime\n",
    "import seaborn as sns\n",
    "import matplotlib.pyplot as plt\n",
    "\n",
    "dates = [datetime.fromisoformat(d[\"date\"].replace('Z', '+00:00')) for d in raw_articles]\n",
    "\n",
    "ax = sns.displot(\n",
    "    x=dates, \n",
    "    kde=True, \n",
    "    height=4, aspect=1.25,\n",
    ")\n",
    "\n",
    "plt.title(\"Distribution of article dates\")\n",
    "plt.savefig(\"figures/date_distribution.png\", bbox_inches='tight')"
   ]
  },
  {
   "cell_type": "code",
   "execution_count": 5,
   "metadata": {},
   "outputs": [
    {
     "data": {
      "text/html": "<div>\n<style scoped>\n    .dataframe tbody tr th:only-of-type {\n        vertical-align: middle;\n    }\n\n    .dataframe tbody tr th {\n        vertical-align: top;\n    }\n\n    .dataframe thead th {\n        text-align: right;\n    }\n</style>\n<table border=\"1\" class=\"dataframe\">\n  <thead>\n    <tr style=\"text-align: right;\">\n      <th></th>\n      <th>comments</th>\n      <th>articles</th>\n    </tr>\n    <tr>\n      <th>news</th>\n      <th></th>\n      <th></th>\n    </tr>\n  </thead>\n  <tbody>\n    <tr>\n      <th>LANACION</th>\n      <td>10378</td>\n      <td>222</td>\n    </tr>\n    <tr>\n      <th>clarincom</th>\n      <td>17501</td>\n      <td>370</td>\n    </tr>\n    <tr>\n      <th>cronica</th>\n      <td>1562</td>\n      <td>42</td>\n    </tr>\n    <tr>\n      <th>infobae</th>\n      <td>26834</td>\n      <td>590</td>\n    </tr>\n    <tr>\n      <th>perfilcom</th>\n      <td>594</td>\n      <td>14</td>\n    </tr>\n    <tr>\n      <th>total</th>\n      <td>56869</td>\n      <td>1238</td>\n    </tr>\n  </tbody>\n</table>\n</div>",
      "text/plain": "           comments  articles\nnews                         \nLANACION      10378       222\nclarincom     17501       370\ncronica        1562        42\ninfobae       26834       590\nperfilcom       594        14\ntotal         56869      1238"
     },
     "execution_count": 5,
     "metadata": {},
     "output_type": "execute_result"
    }
   ],
   "source": [
    "from django.db.models import Sum\n",
    "import pandas as pd\n",
    "\n",
    "df_articles = pd.DataFrame(raw_articles)\n",
    "df_articles.set_index(\"tweet_id\", inplace=True)\n",
    "\n",
    "df_articles[\"comments\"] = df_articles[\"comments\"].apply(lambda l: len(l))\n",
    "\n",
    "df_count = df_articles.groupby(\"news\")[[\"comments\"]].sum()\n",
    "df_count[\"articles\"] = df_articles.groupby(\"news\")[\"comments\"].count()\n",
    "\n",
    "\n",
    "df_count.loc[\"total\"] = df_count.sum()\n",
    "\n",
    "df_count"
   ]
  },
  {
   "cell_type": "code",
   "execution_count": 6,
   "metadata": {},
   "outputs": [
    {
     "name": "stdout",
     "output_type": "stream",
     "text": [
      "\\begin{tabular}{lrr}\n",
      "\\toprule\n",
      "{} &  comments &  articles \\\\\n",
      "news      &           &           \\\\\n",
      "\\midrule\n",
      "LANACION  &     10378 &       222 \\\\\n",
      "clarincom &     17501 &       370 \\\\\n",
      "cronica   &      1562 &        42 \\\\\n",
      "infobae   &     26834 &       590 \\\\\n",
      "perfilcom &       594 &        14 \\\\\n",
      "total     &     56869 &      1238 \\\\\n",
      "\\bottomrule\n",
      "\\end{tabular}\n",
      "\n"
     ]
    }
   ],
   "source": [
    "print(df_count.to_latex())"
   ]
  },
  {
   "cell_type": "code",
   "execution_count": 7,
   "metadata": {},
   "outputs": [],
   "source": [
    "\n",
    "\n",
    "comments = [\n",
    "{\n",
    "    **{\"article_id\": art[\"tweet_id\"]},\n",
    "    **comment\n",
    "} for art in raw_articles for comment in art[\"comments\"]]\n"
   ]
  },
  {
   "cell_type": "code",
   "execution_count": 8,
   "metadata": {},
   "outputs": [
    {
     "data": {
      "text/plain": "[]"
     },
     "execution_count": 8,
     "metadata": {},
     "output_type": "execute_result"
    },
    {
     "data": {
      "image/png": "[encoded data removed]",
      "text/plain": "<Figure size 432x288 with 1 Axes>"
     },
     "metadata": {
      "needs_background": "light"
     },
     "output_type": "display_data"
    }
   ],
   "source": [
    "df_comments = pd.DataFrame(comments)\n",
    "df_comments[\"one_hateful\"] = df_comments[\"HATEFUL\"].apply(lambda x: len(x) > 0)\n",
    "\n",
    "user_counts = df_comments[\"user_id\"].value_counts().to_frame(\"comments\")\n",
    "hateful_counts = df_comments[df_comments[\"one_hateful\"]][\"user_id\"].value_counts().to_frame(\"hateful_comments\")\n",
    "\n",
    "data = pd.concat([user_counts, hateful_counts]).fillna(0).astype(int)\n",
    "sns.histplot(data=data, x=\"comments\", hue=None, bins=12)\n",
    "sns.histplot(data=data, x=\"hateful_comments\", hue=None, bins=12, color=\"red\")\n",
    "\n",
    "plt.ylabel(\"Number of users\")\n",
    "plt.xlabel(\"Number of comments\")\n",
    "plt.title(\"Histogram of number of comments per user\")\n",
    "plt.semilogy()"
   ]
  },
  {
   "cell_type": "code",
   "execution_count": 9,
   "metadata": {},
   "outputs": [
    {
     "data": {
      "text/plain": "(comments            0.000000\n hateful_comments    1.441234\n dtype: float64,\n comments            0.000000\n hateful_comments    1.238882\n dtype: float64)"
     },
     "execution_count": 9,
     "metadata": {},
     "output_type": "execute_result"
    }
   ],
   "source": [
    "hateful = data[data[\"hateful_comments\"] > 0]\n",
    "\n",
    "hateful.mean(), hateful.std()"
   ]
  },
  {
   "cell_type": "code",
   "execution_count": 10,
   "metadata": {},
   "outputs": [
    {
     "data": {
      "text/plain": "28"
     },
     "execution_count": 10,
     "metadata": {},
     "output_type": "execute_result"
    }
   ],
   "source": [
    "(hateful[\"hateful_comments\"] > 10).sum()"
   ]
  },
  {
   "cell_type": "code",
   "execution_count": 11,
   "metadata": {},
   "outputs": [
    {
     "data": {
      "text/plain": "Text(0.5, 1.0, 'Histogram of hateful annotations per comment')"
     },
     "execution_count": 11,
     "metadata": {},
     "output_type": "execute_result"
    },
    {
     "data": {
      "image/png": "[encoded data removed]",
      "text/plain": "<Figure size 432x288 with 1 Axes>"
     },
     "metadata": {
      "needs_background": "light"
     },
     "output_type": "display_data"
    }
   ],
   "source": [
    "import seaborn as sns\n",
    "import matplotlib.pyplot as plt\n",
    "\n",
    "votes = [len(c['HATEFUL']) for c in comments if c['HATEFUL']]\n",
    "\n",
    "sns.histplot(x=votes, bins=[0.99, 1.99, 2.99, 3.99])\n",
    "\n",
    "plt.xticks([1.5, 2.5, 3.5], [1, 2, 3])\n",
    "plt.xlabel(\"#Annotations as hateful\")\n",
    "plt.ylabel(\"Number of comments\")\n",
    "plt.title(\"Histogram of hateful annotations per comment\")"
   ]
  },
  {
   "cell_type": "code",
   "execution_count": 12,
   "metadata": {},
   "outputs": [
    {
     "name": "stdout",
     "output_type": "stream",
     "text": [
      "Comentarios totales                             : 56869\n",
      "Comentarios con >= 1 etiqueta de discriminación : 13366\n",
      "Comentarios con >= 2 etiqueta de discriminación : 8715\n",
      "Comentarios con >= 3 etiqueta de discriminación : 4514\n",
      "Ratio de comentarios odiosos (>= 2) sobre totales = 0.153\n"
     ]
    }
   ],
   "source": [
    "possibly_hateful = len([c for c in comments if len(c['HATEFUL']) > 0])\n",
    "hateful = len([c for c in comments if len(c['HATEFUL']) >= 2])\n",
    "\n",
    "full_agreement = len([c for c in comments if len(c['HATEFUL']) == 3])\n",
    "\n",
    "print(f\"Comentarios totales                             : {len(comments)}\")\n",
    "print(f\"Comentarios con >= 1 etiqueta de discriminación : {possibly_hateful}\")\n",
    "print(f\"Comentarios con >= 2 etiqueta de discriminación : {hateful}\")\n",
    "print(f\"Comentarios con >= 3 etiqueta de discriminación : {full_agreement}\")\n",
    "print(f\"Ratio de comentarios odiosos (>= 2) sobre totales = {hateful / len(comments):.3f}\")"
   ]
  },
  {
   "cell_type": "markdown",
   "metadata": {},
   "source": [
    "## Agreement\n",
    "\n",
    "Uso el código que ya hice con los objetos de Django que es más cómodo..."
   ]
  },
  {
   "cell_type": "code",
   "execution_count": 13,
   "metadata": {},
   "outputs": [],
   "source": [
    "from api.metrics import AgreementCalculator\n",
    "\n",
    "calculator = AgreementCalculator(articles=dataset_articles)"
   ]
  },
  {
   "cell_type": "code",
   "execution_count": 14,
   "metadata": {},
   "outputs": [],
   "source": [
    "calculator.users = None"
   ]
  },
  {
   "cell_type": "code",
   "execution_count": 15,
   "metadata": {},
   "outputs": [
    {
     "data": {
      "text/html": "<div>\n<style scoped>\n    .dataframe tbody tr th:only-of-type {\n        vertical-align: middle;\n    }\n\n    .dataframe tbody tr th {\n        vertical-align: top;\n    }\n\n    .dataframe thead th {\n        text-align: right;\n    }\n</style>\n<table border=\"1\" class=\"dataframe\">\n  <thead>\n    <tr style=\"text-align: right;\">\n      <th></th>\n      <th>Agreement</th>\n    </tr>\n    <tr>\n      <th>Category</th>\n      <th></th>\n    </tr>\n  </thead>\n  <tbody>\n    <tr>\n      <th>HATE</th>\n      <td>0.579610</td>\n    </tr>\n    <tr>\n      <th>CALLS</th>\n      <td>0.641360</td>\n    </tr>\n    <tr>\n      <th>MUJER</th>\n      <td>0.783391</td>\n    </tr>\n    <tr>\n      <th>LGBTI</th>\n      <td>0.920701</td>\n    </tr>\n    <tr>\n      <th>RACISMO</th>\n      <td>0.929094</td>\n    </tr>\n    <tr>\n      <th>POBREZA</th>\n      <td>0.706778</td>\n    </tr>\n    <tr>\n      <th>DISCAPACIDAD</th>\n      <td>0.849856</td>\n    </tr>\n    <tr>\n      <th>POLITICA</th>\n      <td>0.808519</td>\n    </tr>\n    <tr>\n      <th>ASPECTO</th>\n      <td>0.871752</td>\n    </tr>\n    <tr>\n      <th>CRIMINAL</th>\n      <td>0.931163</td>\n    </tr>\n  </tbody>\n</table>\n</div>",
      "text/plain": "              Agreement\nCategory               \nHATE           0.579610\nCALLS          0.641360\nMUJER          0.783391\nLGBTI          0.920701\nRACISMO        0.929094\nPOBREZA        0.706778\nDISCAPACIDAD   0.849856\nPOLITICA       0.808519\nASPECTO        0.871752\nCRIMINAL       0.931163"
     },
     "execution_count": 15,
     "metadata": {},
     "output_type": "execute_result"
    }
   ],
   "source": [
    "categories = [\n",
    "    'HATE',\n",
    "    'CALLS',\n",
    "    'MUJER',\n",
    "    'LGBTI',\n",
    "    'RACISMO',\n",
    "    'POBREZA',\n",
    "    'DISCAPACIDAD',\n",
    "    'POLITICA',\n",
    "    'ASPECTO',\n",
    "    'CRIMINAL',\n",
    "]\n",
    "\n",
    "agreement_df = pd.DataFrame([{\n",
    "    \"Category\": category,\n",
    "    \"Agreement\": calculator.get_agreement(on=category)[0],\n",
    "} for category in categories])\n",
    "agreement_df.set_index(\"Category\")"
   ]
  },
  {
   "cell_type": "markdown",
   "metadata": {},
   "source": [
    "Lo calculamos de nuevo por si acaso"
   ]
  },
  {
   "cell_type": "code",
   "execution_count": 16,
   "metadata": {},
   "outputs": [
    {
     "name": "stderr",
     "output_type": "stream",
     "text": [
      "100%|██████████| 1238/1238 [00:44<00:00, 27.87it/s]\n"
     ]
    }
   ],
   "source": [
    "keys = [\n",
    " 'HATEFUL',\n",
    " 'CALLS',\n",
    " 'WOMEN',\n",
    " 'LGBTI',\n",
    " 'RACISM',\n",
    " 'CLASS',\n",
    " 'POLITICS',\n",
    " 'DISABLED',\n",
    " 'APPEARANCE',\n",
    " 'CRIMINAL',\n",
    "]\n",
    "\n",
    "annotators = set(annotator for article in raw_articles for comment in article[\"comments\"] for annotator in comment[\"annotators\"])\n",
    "\n",
    "idx = pd.MultiIndex.from_product(\n",
    "    [keys, annotators],\n",
    "    names=[\"categoria\", \"etiquetador\"]\n",
    ")\n",
    "comment_ids = [comment[\"id\"] for article in raw_articles for comment in article[\"comments\"]]\n",
    "\n",
    "my_df = pd.DataFrame(index=idx, columns=comment_ids)\n",
    "\n",
    "for article in tqdm(raw_articles):\n",
    "    for comment in article[\"comments\"]:\n",
    "        for annotator in comment[\"annotators\"]:\n",
    "            is_hateful = annotator in comment[\"HATEFUL\"]\n",
    "            my_df.loc[(\"HATEFUL\", annotator), comment[\"id\"]] = is_hateful\n",
    "            \n",
    "            if is_hateful:\n",
    "                for key in keys[1:]:\n",
    "                    my_df.loc[(key, annotator), comment[\"id\"]] =  annotator in comment[key]"
   ]
  },
  {
   "cell_type": "code",
   "execution_count": 17,
   "metadata": {},
   "outputs": [
    {
     "name": "stdout",
     "output_type": "stream",
     "text": [
      "\\begin{tabular}{lr}\n",
      "\\toprule\n",
      "{} &         0 \\\\\n",
      "\\midrule\n",
      "HATEFUL    &  0.579610 \\\\\n",
      "CALLS      &  0.641360 \\\\\n",
      "CLASS      &  0.706778 \\\\\n",
      "WOMEN      &  0.783391 \\\\\n",
      "POLITICS   &  0.808519 \\\\\n",
      "DISABLED   &  0.849856 \\\\\n",
      "APPEARANCE &  0.871752 \\\\\n",
      "LGBTI      &  0.920701 \\\\\n",
      "RACISM     &  0.929094 \\\\\n",
      "CRIMINAL   &  0.931163 \\\\\n",
      "\\bottomrule\n",
      "\\end{tabular}\n",
      "\n"
     ]
    }
   ],
   "source": [
    "import krippendorff\n",
    "\n",
    "alphas = {key:krippendorff.alpha(my_df.loc[key].values.astype(float)) for key in keys}\n",
    "\n",
    "print(pd.DataFrame([alphas]).T.sort_values(0).to_latex())\n",
    "    \n"
   ]
  },
  {
   "cell_type": "markdown",
   "metadata": {},
   "source": [
    "Obs: acá los agreements por categorías se ven sólo en aquellos comentarios que son marcados como odiosos, y sólo entre aquellos anotadores que hayan marcado como odioso\n",
    "\n",
    "En términos de cómo calculamos el alpha de Krippendorff: supongamos que estamos calculando el agreement de MUJER. Si anotador A1 y A2 marcaron como odioso C1, y ambos marcaron mujer => en ambos va 1. Anotador A3 no marcó como odioso ese comentario => va nan. En C2, A1 no marcó como odioso y A2 y A3 marcaron como odioso contra MUJER. En C3, A3 no marcó odioso, y A1 sí pero sin marcar MUJER y A2 marcó odioso y MUJER.\n",
    "\n",
    "La matriz quedaría así:\n",
    "\n",
    "|   |C1   |C2    | C3   |\n",
    "|---|-----|------|------|\n",
    "|A1 | 1   | nan  | 0    |\n",
    "|A2 | 1   | 1    | 1    |\n",
    "|A3 | nan | 1    | nan  |"
   ]
  },
  {
   "cell_type": "markdown",
   "metadata": {},
   "source": [
    "## Máxima performance esperada\n",
    "\n",
    "Calculemos el F1 promedio entre anotadores, usando las anotaciones de uno y otro como estándar"
   ]
  },
  {
   "cell_type": "code",
   "execution_count": 32,
   "metadata": {},
   "outputs": [
    {
     "data": {
      "text/plain": "434"
     },
     "execution_count": 32,
     "metadata": {},
     "output_type": "execute_result"
    }
   ],
   "source": []
  },
  {
   "cell_type": "code",
   "execution_count": 34,
   "metadata": {},
   "outputs": [
    {
     "name": "stdout",
     "output_type": "stream",
     "text": [
      "================================================================================\n",
      "HATEFUL\n",
      "F1 promedio = 0.653\n",
      "F1 mediana  = 0.675110829639012\n",
      "================================================================================\n",
      "CALLS\n",
      "F1 promedio = 0.604\n",
      "F1 mediana  = 0.7037037037037037\n",
      "================================================================================\n",
      "WOMEN\n",
      "F1 promedio = 0.726\n",
      "F1 mediana  = 0.736842105263158\n",
      "================================================================================\n",
      "LGBTI\n",
      "F1 promedio = 0.894\n",
      "F1 mediana  = 0.9600000000000001\n",
      "================================================================================\n",
      "RACISM\n",
      "F1 promedio = 0.946\n",
      "F1 mediana  = 0.9592760180995475\n",
      "================================================================================\n",
      "CLASS\n",
      "F1 promedio = 0.731\n",
      "F1 mediana  = 0.7499999999999999\n",
      "================================================================================\n",
      "POLITICS\n"
     ]
    },
    {
     "name": "stderr",
     "output_type": "stream",
     "text": [
      "/home/jmperez/.local/share/virtualenvs/news-labelling-8oK1LTa4/lib/python3.8/site-packages/sklearn/metrics/_classification.py:1495: UndefinedMetricWarning: F-score is ill-defined and being set to 0.0 due to no true nor predicted samples. Use `zero_division` parameter to control this behavior.\n",
      "  _warn_prf(\n"
     ]
    },
    {
     "name": "stdout",
     "output_type": "stream",
     "text": [
      "F1 promedio = 0.737\n",
      "F1 mediana  = 0.7777777777777778\n",
      "================================================================================\n",
      "DISABLED\n"
     ]
    },
    {
     "name": "stderr",
     "output_type": "stream",
     "text": [
      "/home/jmperez/.local/share/virtualenvs/news-labelling-8oK1LTa4/lib/python3.8/site-packages/sklearn/metrics/_classification.py:1495: UndefinedMetricWarning: F-score is ill-defined and being set to 0.0 due to no true nor predicted samples. Use `zero_division` parameter to control this behavior.\n",
      "  _warn_prf(\n",
      "/home/jmperez/.local/share/virtualenvs/news-labelling-8oK1LTa4/lib/python3.8/site-packages/sklearn/metrics/_classification.py:1495: UndefinedMetricWarning: F-score is ill-defined and being set to 0.0 due to no true nor predicted samples. Use `zero_division` parameter to control this behavior.\n",
      "  _warn_prf(\n"
     ]
    },
    {
     "name": "stdout",
     "output_type": "stream",
     "text": [
      "F1 promedio = 0.797\n",
      "F1 mediana  = 0.88\n",
      "================================================================================\n",
      "APPEARANCE\n",
      "F1 promedio = 0.803\n",
      "F1 mediana  = 0.9024390243902439\n",
      "================================================================================\n",
      "CRIMINAL\n",
      "F1 promedio = 0.818\n",
      "F1 mediana  = 0.9473684210526315\n"
     ]
    },
    {
     "name": "stderr",
     "output_type": "stream",
     "text": [
      "/home/jmperez/.local/share/virtualenvs/news-labelling-8oK1LTa4/lib/python3.8/site-packages/sklearn/metrics/_classification.py:1495: UndefinedMetricWarning: F-score is ill-defined and being set to 0.0 due to no true nor predicted samples. Use `zero_division` parameter to control this behavior.\n",
      "  _warn_prf(\n",
      "/home/jmperez/.local/share/virtualenvs/news-labelling-8oK1LTa4/lib/python3.8/site-packages/sklearn/metrics/_classification.py:1495: UndefinedMetricWarning: F-score is ill-defined and being set to 0.0 due to no true nor predicted samples. Use `zero_division` parameter to control this behavior.\n",
      "  _warn_prf(\n"
     ]
    }
   ],
   "source": [
    "from sklearn.metrics import f1_score\n",
    "import numpy as np\n",
    "import json\n",
    "\n",
    "test_ids = json.load(open(\"test_ids.json\"))\n",
    "\n",
    "annotators = my_df.loc[\"HATEFUL\"].index\n",
    "\n",
    "\n",
    "max_performance = {}\n",
    "\n",
    "for key in keys:\n",
    "    print(\"=\"*80)\n",
    "    print(key)\n",
    "\n",
    "    scores = []\n",
    "\n",
    "    for i in range(len(annotators)):\n",
    "        for j in range(i+1, len(annotators)):\n",
    "            a1 = annotators[i]\n",
    "            a2 = annotators[j]\n",
    "\n",
    "            tweets_both_annotated = my_df.loc[(key, a1)].notna() & my_df.loc[(key, a2)].notna()\n",
    "\n",
    "            tweets_both_annotated = (tweets_both_annotated & tweets_both_annotated.index.isin(test_ids))\n",
    "            a1_annotations = my_df.loc[(key, a1), tweets_both_annotated]\n",
    "            a2_annotations = my_df.loc[(key, a2), tweets_both_annotated]\n",
    "\n",
    "            assert a1_annotations.isna().sum() == 0\n",
    "            assert a2_annotations.isna().sum() == 0\n",
    "\n",
    "\n",
    "            score = f1_score(a1_annotations.values.astype(int), a2_annotations.values.astype(int), average=\"binary\")\n",
    "            \n",
    "            scores.append(score)\n",
    "            #print(f\"F1 between {a1} - {a2} = {score:.3f}\")\n",
    "            \n",
    "    print(f\"F1 promedio = {np.array(scores).mean():.3f}\")\n",
    "    print(f\"F1 mediana  = {sorted(scores)[len(scores)//2]}\")"
   ]
  },
  {
   "cell_type": "code",
   "execution_count": 45,
   "metadata": {},
   "outputs": [
    {
     "data": {
      "text/html": "<div>\n<style scoped>\n    .dataframe tbody tr th:only-of-type {\n        vertical-align: middle;\n    }\n\n    .dataframe tbody tr th {\n        vertical-align: top;\n    }\n\n    .dataframe thead th {\n        text-align: right;\n    }\n</style>\n<table border=\"1\" class=\"dataframe\">\n  <thead>\n    <tr style=\"text-align: right;\">\n      <th></th>\n      <th>327916</th>\n      <th>327917</th>\n      <th>327918</th>\n      <th>327919</th>\n      <th>327920</th>\n      <th>327921</th>\n      <th>327922</th>\n      <th>327923</th>\n      <th>327924</th>\n      <th>327925</th>\n      <th>...</th>\n      <th>407945</th>\n      <th>407946</th>\n      <th>407947</th>\n      <th>407948</th>\n      <th>407949</th>\n      <th>407950</th>\n      <th>407951</th>\n      <th>407952</th>\n      <th>407953</th>\n      <th>407954</th>\n    </tr>\n  </thead>\n  <tbody>\n    <tr>\n      <th>HATEFUL</th>\n      <td>NaN</td>\n      <td>NaN</td>\n      <td>NaN</td>\n      <td>NaN</td>\n      <td>NaN</td>\n      <td>NaN</td>\n      <td>NaN</td>\n      <td>NaN</td>\n      <td>NaN</td>\n      <td>NaN</td>\n      <td>...</td>\n      <td>NaN</td>\n      <td>NaN</td>\n      <td>NaN</td>\n      <td>NaN</td>\n      <td>NaN</td>\n      <td>NaN</td>\n      <td>NaN</td>\n      <td>NaN</td>\n      <td>NaN</td>\n      <td>NaN</td>\n    </tr>\n    <tr>\n      <th>CALLS</th>\n      <td>NaN</td>\n      <td>NaN</td>\n      <td>NaN</td>\n      <td>NaN</td>\n      <td>NaN</td>\n      <td>NaN</td>\n      <td>NaN</td>\n      <td>NaN</td>\n      <td>NaN</td>\n      <td>NaN</td>\n      <td>...</td>\n      <td>NaN</td>\n      <td>NaN</td>\n      <td>NaN</td>\n      <td>NaN</td>\n      <td>NaN</td>\n      <td>NaN</td>\n      <td>NaN</td>\n      <td>NaN</td>\n      <td>NaN</td>\n      <td>NaN</td>\n    </tr>\n    <tr>\n      <th>WOMEN</th>\n      <td>NaN</td>\n      <td>NaN</td>\n      <td>NaN</td>\n      <td>NaN</td>\n      <td>NaN</td>\n      <td>NaN</td>\n      <td>NaN</td>\n      <td>NaN</td>\n      <td>NaN</td>\n      <td>NaN</td>\n      <td>...</td>\n      <td>NaN</td>\n      <td>NaN</td>\n      <td>NaN</td>\n      <td>NaN</td>\n      <td>NaN</td>\n      <td>NaN</td>\n      <td>NaN</td>\n      <td>NaN</td>\n      <td>NaN</td>\n      <td>NaN</td>\n    </tr>\n    <tr>\n      <th>LGBTI</th>\n      <td>NaN</td>\n      <td>NaN</td>\n      <td>NaN</td>\n      <td>NaN</td>\n      <td>NaN</td>\n      <td>NaN</td>\n      <td>NaN</td>\n      <td>NaN</td>\n      <td>NaN</td>\n      <td>NaN</td>\n      <td>...</td>\n      <td>NaN</td>\n      <td>NaN</td>\n      <td>NaN</td>\n      <td>NaN</td>\n      <td>NaN</td>\n      <td>NaN</td>\n      <td>NaN</td>\n      <td>NaN</td>\n      <td>NaN</td>\n      <td>NaN</td>\n    </tr>\n    <tr>\n      <th>RACISM</th>\n      <td>NaN</td>\n      <td>NaN</td>\n      <td>NaN</td>\n      <td>NaN</td>\n      <td>NaN</td>\n      <td>NaN</td>\n      <td>NaN</td>\n      <td>NaN</td>\n      <td>NaN</td>\n      <td>NaN</td>\n      <td>...</td>\n      <td>NaN</td>\n      <td>NaN</td>\n      <td>NaN</td>\n      <td>NaN</td>\n      <td>NaN</td>\n      <td>NaN</td>\n      <td>NaN</td>\n      <td>NaN</td>\n      <td>NaN</td>\n      <td>NaN</td>\n    </tr>\n    <tr>\n      <th>CLASS</th>\n      <td>NaN</td>\n      <td>NaN</td>\n      <td>NaN</td>\n      <td>NaN</td>\n      <td>NaN</td>\n      <td>NaN</td>\n      <td>NaN</td>\n      <td>NaN</td>\n      <td>NaN</td>\n      <td>NaN</td>\n      <td>...</td>\n      <td>NaN</td>\n      <td>NaN</td>\n      <td>NaN</td>\n      <td>NaN</td>\n      <td>NaN</td>\n      <td>NaN</td>\n      <td>NaN</td>\n      <td>NaN</td>\n      <td>NaN</td>\n      <td>NaN</td>\n    </tr>\n    <tr>\n      <th>POLITICS</th>\n      <td>NaN</td>\n      <td>NaN</td>\n      <td>NaN</td>\n      <td>NaN</td>\n      <td>NaN</td>\n      <td>NaN</td>\n      <td>NaN</td>\n      <td>NaN</td>\n      <td>NaN</td>\n      <td>NaN</td>\n      <td>...</td>\n      <td>NaN</td>\n      <td>NaN</td>\n      <td>NaN</td>\n      <td>NaN</td>\n      <td>NaN</td>\n      <td>NaN</td>\n      <td>NaN</td>\n      <td>NaN</td>\n      <td>NaN</td>\n      <td>NaN</td>\n    </tr>\n    <tr>\n      <th>DISABLED</th>\n      <td>NaN</td>\n      <td>NaN</td>\n      <td>NaN</td>\n      <td>NaN</td>\n      <td>NaN</td>\n      <td>NaN</td>\n      <td>NaN</td>\n      <td>NaN</td>\n      <td>NaN</td>\n      <td>NaN</td>\n      <td>...</td>\n      <td>NaN</td>\n      <td>NaN</td>\n      <td>NaN</td>\n      <td>NaN</td>\n      <td>NaN</td>\n      <td>NaN</td>\n      <td>NaN</td>\n      <td>NaN</td>\n      <td>NaN</td>\n      <td>NaN</td>\n    </tr>\n    <tr>\n      <th>APPEARANCE</th>\n      <td>NaN</td>\n      <td>NaN</td>\n      <td>NaN</td>\n      <td>NaN</td>\n      <td>NaN</td>\n      <td>NaN</td>\n      <td>NaN</td>\n      <td>NaN</td>\n      <td>NaN</td>\n      <td>NaN</td>\n      <td>...</td>\n      <td>NaN</td>\n      <td>NaN</td>\n      <td>NaN</td>\n      <td>NaN</td>\n      <td>NaN</td>\n      <td>NaN</td>\n      <td>NaN</td>\n      <td>NaN</td>\n      <td>NaN</td>\n      <td>NaN</td>\n    </tr>\n    <tr>\n      <th>CRIMINAL</th>\n      <td>NaN</td>\n      <td>NaN</td>\n      <td>NaN</td>\n      <td>NaN</td>\n      <td>NaN</td>\n      <td>NaN</td>\n      <td>NaN</td>\n      <td>NaN</td>\n      <td>NaN</td>\n      <td>NaN</td>\n      <td>...</td>\n      <td>NaN</td>\n      <td>NaN</td>\n      <td>NaN</td>\n      <td>NaN</td>\n      <td>NaN</td>\n      <td>NaN</td>\n      <td>NaN</td>\n      <td>NaN</td>\n      <td>NaN</td>\n      <td>NaN</td>\n    </tr>\n  </tbody>\n</table>\n<p>10 rows × 56869 columns</p>\n</div>",
      "text/plain": "           327916 327917 327918 327919 327920 327921 327922 327923 327924  \\\nHATEFUL       NaN    NaN    NaN    NaN    NaN    NaN    NaN    NaN    NaN   \nCALLS         NaN    NaN    NaN    NaN    NaN    NaN    NaN    NaN    NaN   \nWOMEN         NaN    NaN    NaN    NaN    NaN    NaN    NaN    NaN    NaN   \nLGBTI         NaN    NaN    NaN    NaN    NaN    NaN    NaN    NaN    NaN   \nRACISM        NaN    NaN    NaN    NaN    NaN    NaN    NaN    NaN    NaN   \nCLASS         NaN    NaN    NaN    NaN    NaN    NaN    NaN    NaN    NaN   \nPOLITICS      NaN    NaN    NaN    NaN    NaN    NaN    NaN    NaN    NaN   \nDISABLED      NaN    NaN    NaN    NaN    NaN    NaN    NaN    NaN    NaN   \nAPPEARANCE    NaN    NaN    NaN    NaN    NaN    NaN    NaN    NaN    NaN   \nCRIMINAL      NaN    NaN    NaN    NaN    NaN    NaN    NaN    NaN    NaN   \n\n           327925  ... 407945 407946 407947 407948 407949 407950 407951  \\\nHATEFUL       NaN  ...    NaN    NaN    NaN    NaN    NaN    NaN    NaN   \nCALLS         NaN  ...    NaN    NaN    NaN    NaN    NaN    NaN    NaN   \nWOMEN         NaN  ...    NaN    NaN    NaN    NaN    NaN    NaN    NaN   \nLGBTI         NaN  ...    NaN    NaN    NaN    NaN    NaN    NaN    NaN   \nRACISM        NaN  ...    NaN    NaN    NaN    NaN    NaN    NaN    NaN   \nCLASS         NaN  ...    NaN    NaN    NaN    NaN    NaN    NaN    NaN   \nPOLITICS      NaN  ...    NaN    NaN    NaN    NaN    NaN    NaN    NaN   \nDISABLED      NaN  ...    NaN    NaN    NaN    NaN    NaN    NaN    NaN   \nAPPEARANCE    NaN  ...    NaN    NaN    NaN    NaN    NaN    NaN    NaN   \nCRIMINAL      NaN  ...    NaN    NaN    NaN    NaN    NaN    NaN    NaN   \n\n           407952 407953 407954  \nHATEFUL       NaN    NaN    NaN  \nCALLS         NaN    NaN    NaN  \nWOMEN         NaN    NaN    NaN  \nLGBTI         NaN    NaN    NaN  \nRACISM        NaN    NaN    NaN  \nCLASS         NaN    NaN    NaN  \nPOLITICS      NaN    NaN    NaN  \nDISABLED      NaN    NaN    NaN  \nAPPEARANCE    NaN    NaN    NaN  \nCRIMINAL      NaN    NaN    NaN  \n\n[10 rows x 56869 columns]"
     },
     "execution_count": 45,
     "metadata": {},
     "output_type": "execute_result"
    }
   ],
   "source": []
  },
  {
   "cell_type": "code",
   "execution_count": 62,
   "metadata": {},
   "outputs": [
    {
     "data": {
      "text/plain": "327934    2\n327941    1\n336914    1\n336920    3\n336921    0\n         ..\n407935    0\n407939    0\n407948    0\n407949    0\n407954    0\nLength: 8715, dtype: object"
     },
     "execution_count": 62,
     "metadata": {},
     "output_type": "execute_result"
    }
   ],
   "source": [
    "\n",
    "\n"
   ]
  },
  {
   "cell_type": "code",
   "execution_count": null,
   "metadata": {},
   "outputs": [],
   "source": []
  },
  {
   "cell_type": "code",
   "execution_count": 65,
   "metadata": {},
   "outputs": [
    {
     "name": "stdout",
     "output_type": "stream",
     "text": [
      "================================================================================\n",
      "HATEFUL\n",
      "F1 promedio = 0.829\n",
      "F1 mediana  = 0.8515463917525773\n",
      "================================================================================\n",
      "CALLS\n",
      "F1 promedio = 0.774\n",
      "F1 mediana  = 0.9148264984227129\n",
      "================================================================================\n",
      "WOMEN\n",
      "F1 promedio = 0.837\n",
      "F1 mediana  = 0.8275862068965517\n",
      "================================================================================\n",
      "LGBTI\n",
      "F1 promedio = 0.966\n",
      "F1 mediana  = 0.9743589743589743\n",
      "================================================================================\n",
      "RACISM\n",
      "F1 promedio = 0.967\n",
      "F1 mediana  = 0.9731958762886598\n",
      "================================================================================\n",
      "CLASS\n",
      "F1 promedio = 0.806\n",
      "F1 mediana  = 0.8391608391608391\n",
      "================================================================================\n",
      "POLITICS\n",
      "F1 promedio = 0.892\n",
      "F1 mediana  = 0.9189189189189189\n",
      "================================================================================\n",
      "DISABLED\n",
      "F1 promedio = 0.898\n",
      "F1 mediana  = 0.9392265193370166\n",
      "================================================================================\n",
      "APPEARANCE\n",
      "F1 promedio = 0.903\n",
      "F1 mediana  = 0.9493087557603688\n",
      "================================================================================\n",
      "CRIMINAL\n",
      "F1 promedio = 0.961\n",
      "F1 mediana  = 0.9788867562380038\n"
     ]
    }
   ],
   "source": [
    "#three_times = my_df.loc[\"HATEFUL\"].notna().sum() == 3\n",
    "\n",
    "gold_label = pd.DataFrame(columns=my_df.columns, index=keys)\n",
    "\n",
    "gold_label.loc[\"HATEFUL\"] = my_df.loc[\"HATEFUL\"].fillna(False).sum() >= 2\n",
    "gold_label.loc[\"CALLS\"] = my_df.loc[\"CALLS\"].fillna(False).sum() >= 2\n",
    "\n",
    "hateful = gold_label.columns[gold_label.loc[\"HATEFUL\"]]\n",
    "\n",
    "for key in keys[2:]:\n",
    "    gold_label.loc[key, hateful] = my_df.loc[key, hateful].fillna(0).sum() > 0\n",
    "\n",
    "for key in keys:\n",
    "    print(\"=\"*80)\n",
    "    print(key)\n",
    "\n",
    "    scores = []\n",
    "\n",
    "    for i in range(len(annotators)):\n",
    "        a1 = annotators[i]\n",
    "\n",
    "        tweets_both_annotated = my_df.loc[(key, a1)].notna()\n",
    "        tweets_both_annotated = (tweets_both_annotated & tweets_both_annotated.index.isin(test_ids))\n",
    "\n",
    "        if key not in {\"HATEFUL\", \"CALLS\"}:\n",
    "            tweets_both_annotated = tweets_both_annotated & tweets_both_annotated.index.isin(hateful)\n",
    "\n",
    "        a1_annotations = my_df.loc[(key, a1), tweets_both_annotated]\n",
    "        a2_annotations = gold_label.loc[key, tweets_both_annotated]\n",
    "\n",
    "        assert a1_annotations.isna().sum() == 0\n",
    "        assert a2_annotations.isna().sum() == 0\n",
    "\n",
    "        score = f1_score(a1_annotations.values.astype(int), a2_annotations.values.astype(int), average=\"binary\")\n",
    "            \n",
    "        scores.append(score)\n",
    "        #print(f\"F1 between {a1} - {a2} = {score:.3f}\")\n",
    "            \n",
    "    print(f\"F1 promedio = {np.array(scores).mean():.3f}\")\n",
    "    print(f\"F1 mediana  = {sorted(scores)[len(scores)//2]}\")\n"
   ]
  },
  {
   "cell_type": "code",
   "execution_count": 43,
   "metadata": {},
   "outputs": [
    {
     "data": {
      "text/plain": "array([0, 0, 1, ..., 1, 0, 0])"
     },
     "execution_count": 43,
     "metadata": {},
     "output_type": "execute_result"
    }
   ],
   "source": [
    "a1_annotations.values.astype(int)"
   ]
  },
  {
   "cell_type": "code",
   "execution_count": 40,
   "metadata": {},
   "outputs": [
    {
     "data": {
      "text/plain": "[array([0.89284965, 0.56061909]),\n array([0.70779977, 0.56271777]),\n array([0.74667709, 0.55062413]),\n array([0.86533333, 0.52803738]),\n array([0.8520841 , 0.59617321]),\n array([0.8085456 , 0.68183887]),\n array([0.82336383, 0.60933852]),\n array([0.88297872, 0.73207547]),\n array([0.91466475, 0.67808837]),\n array([0.82067459, 0.80161074]),\n array([0.81661486, 0.72765422]),\n array([0.79971285, 0.73802817]),\n array([0.79476156, 0.64726611]),\n array([0.7712858 , 0.65225015]),\n array([0.91069522, 0.68403261])]"
     },
     "execution_count": 40,
     "metadata": {},
     "output_type": "execute_result"
    }
   ],
   "source": [
    "scores"
   ]
  },
  {
   "cell_type": "code",
   "execution_count": 24,
   "metadata": {},
   "outputs": [
    {
     "data": {
      "text/plain": "[0.5280373831775701,\n 0.550624133148405,\n 0.5606190885640585,\n 0.5627177700348432,\n 0.596173212487412,\n 0.6093385214007783,\n 0.6472661134477662,\n 0.652250146113384,\n 0.6780883678990081,\n 0.6818388711879837,\n 0.6840326108570292,\n 0.7276542173730594,\n 0.732075471698113,\n 0.7380281690140844,\n 0.8016107382550336]"
     },
     "execution_count": 24,
     "metadata": {},
     "output_type": "execute_result"
    }
   ],
   "source": [
    "sorted(scores)"
   ]
  },
  {
   "cell_type": "markdown",
   "metadata": {},
   "source": [
    "## Modo estricto\n",
    "\n",
    "No asignamos \"nan\" si no marcó hateful, marcamos 0"
   ]
  },
  {
   "cell_type": "code",
   "execution_count": null,
   "metadata": {},
   "outputs": [],
   "source": [
    "\n",
    "\n",
    "characteristics = [\n",
    " 'WOMEN',\n",
    " 'LGBTI',\n",
    " 'RACISM',\n",
    " 'CLASS',\n",
    " 'POLITICS',\n",
    " 'DISABLED',\n",
    " 'APPEARANCE',\n",
    " 'CRIMINAL',\n",
    "]\n",
    "\n",
    "annotators = set(annotator for article in raw_articles for comment in article[\"comments\"] for annotator in comment[\"annotators\"])\n",
    "\n",
    "idx = pd.MultiIndex.from_product(\n",
    "    [keys, annotators],\n",
    "    names=[\"categoria\", \"etiquetador\"]\n",
    ")\n",
    "comment_ids = [comment[\"id\"] for article in raw_articles for comment in article[\"comments\"]]\n",
    "\n",
    "strict_df = pd.DataFrame(index=idx, columns=comment_ids)\n",
    "\n",
    "for article in tqdm(raw_articles):\n",
    "    for comment in article[\"comments\"]:\n",
    "        for annotator in comment[\"annotators\"]:\n",
    "            is_hateful = annotator in comment[\"HATEFUL\"]\n",
    "            strict_df.loc[(\"HATEFUL\", annotator), comment[\"id\"]] = is_hateful\n",
    "            for key in characteristics:\n",
    "                strict_df.loc[(key, annotator), comment[\"id\"]] =  annotator in comment[key]\n",
    "                \n",
    "\n",
    "strict_alphas = {key:krippendorff.alpha(strict_df.loc[key].values.astype(float)) for key in characteristics}\n",
    "\n",
    "pd.DataFrame([strict_alphas]).T.sort_values(0).to_latex()"
   ]
  },
  {
   "cell_type": "code",
   "execution_count": null,
   "metadata": {},
   "outputs": [],
   "source": [
    "pd.DataFrame([strict_alphas]).T.sort_values(0)"
   ]
  },
  {
   "cell_type": "markdown",
   "metadata": {},
   "source": [
    "## Algunos ejemplos\n",
    "\n",
    "Leamos ahora el ya asignado"
   ]
  },
  {
   "cell_type": "code",
   "execution_count": null,
   "metadata": {},
   "outputs": [],
   "source": [
    "with open(\"../output/dataset.json\") as f:\n",
    "    articles = json.load(f)\n",
    "    \n",
    "comments = [{**comm, **{\"article\": art}} for art in articles for comm in art[\"comments\"]]"
   ]
  },
  {
   "cell_type": "code",
   "execution_count": null,
   "metadata": {},
   "outputs": [],
   "source": [
    "import random\n",
    "\n",
    "char_tweets = {char:[] for char in keys[1:] if char != \"CALLS\"}\n",
    "\n",
    "for comment in comments:\n",
    "    for key in char_tweets:\n",
    "        if comment[key]:\n",
    "            char_tweets[key].append(comment)\n",
    "\n",
    "# Esto es medio trucho pero bueno\n",
    "\n",
    "#for arr in char_tweets.values():\n",
    "#    random.shuffle(arr)\n",
    "\n",
    "df_count = pd.DataFrame([\n",
    "    {\n",
    "        \"Characteristic\": k,\n",
    "        \"Count\":len(v),\n",
    "        \"Calls to Action\": len([c for c in v if c[\"CALLS\"]])\n",
    "    } for k, v in char_tweets.items()])\n",
    "\n",
    "df_count.set_index(\"Characteristic\", inplace=True)\n",
    "df_count.sort_values(\"Count\", inplace=True, ascending=False)\n",
    "\n",
    "df_count"
   ]
  },
  {
   "cell_type": "code",
   "execution_count": null,
   "metadata": {},
   "outputs": [],
   "source": [
    "print(df_count.to_latex())"
   ]
  },
  {
   "cell_type": "code",
   "execution_count": null,
   "metadata": {},
   "outputs": [],
   "source": [
    "import random\n",
    "\n",
    "random.seed(2021)\n",
    "\n",
    "data = []\n",
    "\n",
    "selected_ids = {\n",
    "    \"WOMEN\": {\n",
    "        407976, 371887, 407372, 350369, 404390, 354563, 360696, 408112, 387787, 406491, \n",
    "        333431, 333380, 366020\n",
    "    },\n",
    "    \"LGBTI\": {348304, 401013, 396655, 369370, 365953, 397528, 377415, 394007, 400769},\n",
    "    \"RACISM\": {345526, 346189, 361417, 348501, 407751, 403677, 376555, 342786, 338586},\n",
    "    \"CRIMINAL\": {385282, 343734, 359714, 367753, 374584},\n",
    "    \"CLASS\": {344236, 335045, 355946, 379401, 345243, 353042, 331749, 367136},\n",
    "    \n",
    "    \"POLITICS\": {364045, 382819, 368191, 405420, 365289},\n",
    "    \"APPEARANCE\": {377430, 389419, 401537, 352592, 368514},\n",
    "    \"DISABLED\": {373983, 329510, 369358, 397780},\n",
    "    \n",
    "    \"CALLS\": {345395, 361092, 370678, 339375, 403667, 379905, 370694, },\n",
    "}\n",
    "\n",
    "for char, tweets in char_tweets.items():\n",
    "    print(f\"\\n\\n## {char}\", \"\\n\" * 3)\n",
    "    random.shuffle(tweets)\n",
    "    for tweet in tweets[:25]:\n",
    "        article = tweet[\"article\"]\n",
    "        print(f\"- ({tweet['id']}) {tweet['text']} |||| {article['title']}\")\n",
    "        data.append({\n",
    "            \"article_id\": article['tweet_id'],\n",
    "            \"comment_id\": comment[\"id\"],\n",
    "            \"characteristic\": char,\n",
    "            \"text\": tweet['text'], \n",
    "            \"context\": article['title'],\n",
    "        })"
   ]
  },
  {
   "cell_type": "code",
   "execution_count": null,
   "metadata": {},
   "outputs": [],
   "source": [
    "pd.options.display.max_colwidth = 240\n",
    "pd.options.display.max_rows = 120\n",
    "\n",
    "id2comment = {comment[\"id\"]:comment for comment in comments}\n",
    "\n",
    "data = []\n",
    "\n",
    "for characteristic, comment_ids in selected_ids.items():\n",
    "    for comment_id in comment_ids:\n",
    "        comment = id2comment[comment_id]\n",
    "        article = comment[\"article\"]\n",
    "        data.append({\n",
    "            \"comment_id\": comment_id,\n",
    "            \"characteristic\": characteristic,\n",
    "            \"context\": article[\"title\"],\n",
    "            \"text\": comment[\"text\"],\n",
    "            \n",
    "        })\n",
    "df_selected = pd.DataFrame(data)\n",
    "\n",
    "df_selected"
   ]
  },
  {
   "cell_type": "code",
   "execution_count": null,
   "metadata": {},
   "outputs": [],
   "source": [
    "df"
   ]
  },
  {
   "cell_type": "code",
   "execution_count": null,
   "metadata": {},
   "outputs": [],
   "source": [
    "import re\n",
    "pd.options.display.max_colwidth = 256\n",
    "\n",
    "#sub_data = [d for d in data if d[\"characteristic\"] in {\"WOMEN\", \"LGBTI\"}]\n",
    "\n",
    "sub_data = df_selected\n",
    "\n",
    "df_char = pd.DataFrame(sub_data)[[\"characteristic\", \"context\", \"text\"]]\n",
    "table = df_char.to_latex(index=False, col_space=1)\n",
    "\n",
    "table = re.sub(r\"&\\s+\", \"& \", table)\n",
    "\n",
    "print(table)"
   ]
  },
  {
   "cell_type": "code",
   "execution_count": null,
   "metadata": {},
   "outputs": [],
   "source": [
    "data[0]"
   ]
  }
 ],
 "metadata": {
  "kernelspec": {
   "display_name": "Python 3.8.6 64-bit ('news-labelling-8oK1LTa4': pipenv)",
   "name": "python386jvsc74a57bd0736c0a32d006a560ad3caae08b12299001d7b5f1584b2ab682e9f5647d520c1c"
  },
  "language_info": {
   "codemirror_mode": {
    "name": "ipython",
    "version": 3
   },
   "file_extension": ".py",
   "mimetype": "text/x-python",
   "name": "python",
   "nbconvert_exporter": "python",
   "pygments_lexer": "ipython3",
   "version": "3.8.6"
  },
  "metadata": {
   "interpreter": {
    "hash": "736c0a32d006a560ad3caae08b12299001d7b5f1584b2ab682e9f5647d520c1c"
   }
  },
  "orig_nbformat": 3
 },
 "nbformat": 4,
 "nbformat_minor": 4
}