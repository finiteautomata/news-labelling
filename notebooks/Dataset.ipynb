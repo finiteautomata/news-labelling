{
 "cells": [
  {
   "cell_type": "code",
   "execution_count": null,
   "metadata": {},
   "outputs": [],
   "source": []
  },
  {
   "cell_type": "markdown",
   "metadata": {},
   "source": [
    "## Dataset\n",
    "\n",
    "Veamos estadísticas y otras cosas del dataset"
   ]
  },
  {
   "cell_type": "code",
   "execution_count": 1,
   "metadata": {},
   "outputs": [],
   "source": [
    "%load_ext autoreload\n",
    "%autoreload 2\n",
    "import os\n",
    "import sys\n",
    "import django\n",
    "from tqdm.auto import tqdm\n",
    "\n",
    "os.environ[\"DJANGO_ALLOW_ASYNC_UNSAFE\"] = \"true\"\n",
    "\n",
    "sys.path.append(\"..\")\n",
    "os.environ['DJANGO_SETTINGS_MODULE'] = 'news_labelling.settings'\n",
    "django.setup()\n",
    "\n",
    "from api.models import Comment, ArticleLabel, CommentLabel, Article, Batch\n",
    "from django.contrib.auth.models import User"
   ]
  },
  {
   "cell_type": "code",
   "execution_count": 2,
   "metadata": {},
   "outputs": [
    {
     "name": "stdout",
     "output_type": "stream",
     "text": [
      "Artículos totales: 1738\n",
      "Artículos con 3 anotaciones: 1238\n",
      "Artículos con alguna anotación: 1725\n",
      "Artículos que no pasaron a tercera anotación: 452\n"
     ]
    }
   ],
   "source": [
    "from django.db.models import Count, Case, When, Value\n",
    "\n",
    "annotated_articles = Article.objects.exclude(batch__name=\"training\").annotate(\n",
    "    num_labels=Count('labels'),\n",
    "    effective_labels=Count(\n",
    "        Case(When(labels__is_interesting=True, then=Value(1)))\n",
    "    )\n",
    ")\n",
    "\n",
    "\n",
    "dataset_articles = annotated_articles.filter(effective_labels=3)\n",
    "\n",
    "skipped = 0\n",
    "\n",
    "for art in annotated_articles:\n",
    "    if art.num_labels > art.effective_labels:\n",
    "        skipped +=1\n",
    "\n",
    "\n",
    "print(f\"Artículos totales: {Article.objects.count()}\")\n",
    "print(f\"Artículos con 3 anotaciones: {dataset_articles.count()}\")\n",
    "print(f\"Artículos con alguna anotación: {annotated_articles.filter(num_labels__gte=1).count()}\")\n",
    "print(f\"Artículos que no pasaron a tercera anotación: {skipped}\")"
   ]
  },
  {
   "cell_type": "markdown",
   "metadata": {},
   "source": [
    "Carguemos directamente el JSON generado"
   ]
  },
  {
   "cell_type": "code",
   "execution_count": 3,
   "metadata": {},
   "outputs": [
    {
     "name": "stdout",
     "output_type": "stream",
     "text": [
      "1238\n"
     ]
    }
   ],
   "source": [
    "import json\n",
    "\n",
    "with open(\"../output/dataset.raw.json\") as f:\n",
    "    raw_articles = json.load(f)\n",
    "print(len(raw_articles))\n"
   ]
  },
  {
   "cell_type": "code",
   "execution_count": 4,
   "metadata": {},
   "outputs": [
    {
     "data": {
      "image/png": "[encoded data removed]",
      "text/plain": [
       "<Figure size 360x288 with 1 Axes>"
      ]
     },
     "metadata": {
      "needs_background": "light"
     },
     "output_type": "display_data"
    }
   ],
   "source": [
    "from datetime import datetime\n",
    "import seaborn as sns\n",
    "import matplotlib.pyplot as plt\n",
    "\n",
    "dates = [datetime.fromisoformat(d[\"date\"].replace('Z', '+00:00')) for d in raw_articles]\n",
    "\n",
    "ax = sns.displot(\n",
    "    x=dates, \n",
    "    kde=True, \n",
    "    height=4, aspect=1.25,\n",
    ")\n",
    "\n",
    "plt.title(\"Distribution of article dates\")\n",
    "plt.savefig(\"figures/date_distribution.png\", bbox_inches='tight')"
   ]
  },
  {
   "cell_type": "code",
   "execution_count": 5,
   "metadata": {},
   "outputs": [
    {
     "data": {
      "text/html": [
       "<div>\n",
       "<style scoped>\n",
       "    .dataframe tbody tr th:only-of-type {\n",
       "        vertical-align: middle;\n",
       "    }\n",
       "\n",
       "    .dataframe tbody tr th {\n",
       "        vertical-align: top;\n",
       "    }\n",
       "\n",
       "    .dataframe thead th {\n",
       "        text-align: right;\n",
       "    }\n",
       "</style>\n",
       "<table border=\"1\" class=\"dataframe\">\n",
       "  <thead>\n",
       "    <tr style=\"text-align: right;\">\n",
       "      <th></th>\n",
       "      <th>comments</th>\n",
       "      <th>articles</th>\n",
       "    </tr>\n",
       "    <tr>\n",
       "      <th>news</th>\n",
       "      <th></th>\n",
       "      <th></th>\n",
       "    </tr>\n",
       "  </thead>\n",
       "  <tbody>\n",
       "    <tr>\n",
       "      <th>LANACION</th>\n",
       "      <td>10378</td>\n",
       "      <td>222</td>\n",
       "    </tr>\n",
       "    <tr>\n",
       "      <th>clarincom</th>\n",
       "      <td>17501</td>\n",
       "      <td>370</td>\n",
       "    </tr>\n",
       "    <tr>\n",
       "      <th>cronica</th>\n",
       "      <td>1562</td>\n",
       "      <td>42</td>\n",
       "    </tr>\n",
       "    <tr>\n",
       "      <th>infobae</th>\n",
       "      <td>26834</td>\n",
       "      <td>590</td>\n",
       "    </tr>\n",
       "    <tr>\n",
       "      <th>perfilcom</th>\n",
       "      <td>594</td>\n",
       "      <td>14</td>\n",
       "    </tr>\n",
       "    <tr>\n",
       "      <th>total</th>\n",
       "      <td>56869</td>\n",
       "      <td>1238</td>\n",
       "    </tr>\n",
       "  </tbody>\n",
       "</table>\n",
       "</div>"
      ],
      "text/plain": [
       "           comments  articles\n",
       "news                         \n",
       "LANACION      10378       222\n",
       "clarincom     17501       370\n",
       "cronica        1562        42\n",
       "infobae       26834       590\n",
       "perfilcom       594        14\n",
       "total         56869      1238"
      ]
     },
     "execution_count": 5,
     "metadata": {},
     "output_type": "execute_result"
    }
   ],
   "source": [
    "from django.db.models import Sum\n",
    "import pandas as pd\n",
    "\n",
    "df_articles = pd.DataFrame(raw_articles)\n",
    "df_articles.set_index(\"tweet_id\", inplace=True)\n",
    "\n",
    "df_articles[\"comments\"] = df_articles[\"comments\"].apply(lambda l: len(l))\n",
    "\n",
    "df_count = df_articles.groupby(\"news\")[[\"comments\"]].sum()\n",
    "df_count[\"articles\"] = df_articles.groupby(\"news\")[\"comments\"].count()\n",
    "\n",
    "\n",
    "df_count.loc[\"total\"] = df_count.sum()\n",
    "\n",
    "df_count"
   ]
  },
  {
   "cell_type": "code",
   "execution_count": 6,
   "metadata": {},
   "outputs": [
    {
     "name": "stdout",
     "output_type": "stream",
     "text": [
      "\\begin{tabular}{lrr}\n",
      "\\toprule\n",
      "{} &  comments &  articles \\\\\n",
      "news      &           &           \\\\\n",
      "\\midrule\n",
      "LANACION  &     10378 &       222 \\\\\n",
      "clarincom &     17501 &       370 \\\\\n",
      "cronica   &      1562 &        42 \\\\\n",
      "infobae   &     26834 &       590 \\\\\n",
      "perfilcom &       594 &        14 \\\\\n",
      "total     &     56869 &      1238 \\\\\n",
      "\\bottomrule\n",
      "\\end{tabular}\n",
      "\n"
     ]
    },
    {
     "name": "stderr",
     "output_type": "stream",
     "text": [
      "/tmp/ipykernel_202297/3745335889.py:1: FutureWarning: In future versions `DataFrame.to_latex` is expected to utilise the base implementation of `Styler.to_latex` for formatting and rendering. The arguments signature may therefore change. It is recommended instead to use `DataFrame.style.to_latex` which also contains additional functionality.\n",
      "  print(df_count.to_latex())\n"
     ]
    }
   ],
   "source": [
    "print(df_count.to_latex())"
   ]
  },
  {
   "cell_type": "code",
   "execution_count": 7,
   "metadata": {},
   "outputs": [],
   "source": [
    "\n",
    "\n",
    "comments = [\n",
    "{\n",
    "    **{\"article_id\": art[\"tweet_id\"]},\n",
    "    **comment\n",
    "} for art in raw_articles for comment in art[\"comments\"]]\n"
   ]
  },
  {
   "cell_type": "code",
   "execution_count": 8,
   "metadata": {},
   "outputs": [
    {
     "name": "stderr",
     "output_type": "stream",
     "text": [
      "/home/jmperez/projects/news-labelling/.venv/lib/python3.8/site-packages/seaborn/_core.py:1057: FutureWarning: reindexing with a non-unique Index is deprecated and will raise in a future version.\n",
      "  comp_col.loc[orig.index] = pd.to_numeric(axis.convert_units(orig))\n"
     ]
    },
    {
     "ename": "ValueError",
     "evalue": "cannot reindex on an axis with duplicate labels",
     "output_type": "error",
     "traceback": [
      "\u001b[0;31m---------------------------------------------------------------------------\u001b[0m",
      "\u001b[0;31mValueError\u001b[0m                                Traceback (most recent call last)",
      "\u001b[1;32m/home/jmperez/projects/news-labelling/notebooks/Dataset.ipynb Cell 11\u001b[0m in \u001b[0;36m<cell line: 8>\u001b[0;34m()\u001b[0m\n\u001b[1;32m      <a href='vscode-notebook-cell:/home/jmperez/projects/news-labelling/notebooks/Dataset.ipynb#X13sZmlsZQ%3D%3D?line=4'>5</a>\u001b[0m hateful_counts \u001b[39m=\u001b[39m df_comments[df_comments[\u001b[39m\"\u001b[39m\u001b[39mone_hateful\u001b[39m\u001b[39m\"\u001b[39m]][\u001b[39m\"\u001b[39m\u001b[39muser_id\u001b[39m\u001b[39m\"\u001b[39m]\u001b[39m.\u001b[39mvalue_counts()\u001b[39m.\u001b[39mto_frame(\u001b[39m\"\u001b[39m\u001b[39mhateful_comments\u001b[39m\u001b[39m\"\u001b[39m)\n\u001b[1;32m      <a href='vscode-notebook-cell:/home/jmperez/projects/news-labelling/notebooks/Dataset.ipynb#X13sZmlsZQ%3D%3D?line=6'>7</a>\u001b[0m data \u001b[39m=\u001b[39m pd\u001b[39m.\u001b[39mconcat([user_counts, hateful_counts])\u001b[39m.\u001b[39mfillna(\u001b[39m0\u001b[39m)\u001b[39m.\u001b[39mastype(\u001b[39mint\u001b[39m)\n\u001b[0;32m----> <a href='vscode-notebook-cell:/home/jmperez/projects/news-labelling/notebooks/Dataset.ipynb#X13sZmlsZQ%3D%3D?line=7'>8</a>\u001b[0m sns\u001b[39m.\u001b[39;49mhistplot(data\u001b[39m=\u001b[39;49mdata, x\u001b[39m=\u001b[39;49m\u001b[39m\"\u001b[39;49m\u001b[39mcomments\u001b[39;49m\u001b[39m\"\u001b[39;49m, hue\u001b[39m=\u001b[39;49m\u001b[39mNone\u001b[39;49;00m, bins\u001b[39m=\u001b[39;49m\u001b[39m12\u001b[39;49m)\n\u001b[1;32m      <a href='vscode-notebook-cell:/home/jmperez/projects/news-labelling/notebooks/Dataset.ipynb#X13sZmlsZQ%3D%3D?line=8'>9</a>\u001b[0m sns\u001b[39m.\u001b[39mhistplot(data\u001b[39m=\u001b[39mdata, x\u001b[39m=\u001b[39m\u001b[39m\"\u001b[39m\u001b[39mhateful_comments\u001b[39m\u001b[39m\"\u001b[39m, hue\u001b[39m=\u001b[39m\u001b[39mNone\u001b[39;00m, bins\u001b[39m=\u001b[39m\u001b[39m12\u001b[39m, color\u001b[39m=\u001b[39m\u001b[39m\"\u001b[39m\u001b[39mred\u001b[39m\u001b[39m\"\u001b[39m)\n\u001b[1;32m     <a href='vscode-notebook-cell:/home/jmperez/projects/news-labelling/notebooks/Dataset.ipynb#X13sZmlsZQ%3D%3D?line=10'>11</a>\u001b[0m plt\u001b[39m.\u001b[39mylabel(\u001b[39m\"\u001b[39m\u001b[39mNumber of users\u001b[39m\u001b[39m\"\u001b[39m)\n",
      "File \u001b[0;32m~/projects/news-labelling/.venv/lib/python3.8/site-packages/seaborn/distributions.py:1462\u001b[0m, in \u001b[0;36mhistplot\u001b[0;34m(data, x, y, hue, weights, stat, bins, binwidth, binrange, discrete, cumulative, common_bins, common_norm, multiple, element, fill, shrink, kde, kde_kws, line_kws, thresh, pthresh, pmax, cbar, cbar_ax, cbar_kws, palette, hue_order, hue_norm, color, log_scale, legend, ax, **kwargs)\u001b[0m\n\u001b[1;32m   1451\u001b[0m estimate_kws \u001b[39m=\u001b[39m \u001b[39mdict\u001b[39m(\n\u001b[1;32m   1452\u001b[0m     stat\u001b[39m=\u001b[39mstat,\n\u001b[1;32m   1453\u001b[0m     bins\u001b[39m=\u001b[39mbins,\n\u001b[0;32m   (...)\u001b[0m\n\u001b[1;32m   1457\u001b[0m     cumulative\u001b[39m=\u001b[39mcumulative,\n\u001b[1;32m   1458\u001b[0m )\n\u001b[1;32m   1460\u001b[0m \u001b[39mif\u001b[39;00m p\u001b[39m.\u001b[39munivariate:\n\u001b[0;32m-> 1462\u001b[0m     p\u001b[39m.\u001b[39;49mplot_univariate_histogram(\n\u001b[1;32m   1463\u001b[0m         multiple\u001b[39m=\u001b[39;49mmultiple,\n\u001b[1;32m   1464\u001b[0m         element\u001b[39m=\u001b[39;49melement,\n\u001b[1;32m   1465\u001b[0m         fill\u001b[39m=\u001b[39;49mfill,\n\u001b[1;32m   1466\u001b[0m         shrink\u001b[39m=\u001b[39;49mshrink,\n\u001b[1;32m   1467\u001b[0m         common_norm\u001b[39m=\u001b[39;49mcommon_norm,\n\u001b[1;32m   1468\u001b[0m         common_bins\u001b[39m=\u001b[39;49mcommon_bins,\n\u001b[1;32m   1469\u001b[0m         kde\u001b[39m=\u001b[39;49mkde,\n\u001b[1;32m   1470\u001b[0m         kde_kws\u001b[39m=\u001b[39;49mkde_kws,\n\u001b[1;32m   1471\u001b[0m         color\u001b[39m=\u001b[39;49mcolor,\n\u001b[1;32m   1472\u001b[0m         legend\u001b[39m=\u001b[39;49mlegend,\n\u001b[1;32m   1473\u001b[0m         estimate_kws\u001b[39m=\u001b[39;49mestimate_kws,\n\u001b[1;32m   1474\u001b[0m         line_kws\u001b[39m=\u001b[39;49mline_kws,\n\u001b[1;32m   1475\u001b[0m         \u001b[39m*\u001b[39;49m\u001b[39m*\u001b[39;49mkwargs,\n\u001b[1;32m   1476\u001b[0m     )\n\u001b[1;32m   1478\u001b[0m \u001b[39melse\u001b[39;00m:\n\u001b[1;32m   1480\u001b[0m     p\u001b[39m.\u001b[39mplot_bivariate_histogram(\n\u001b[1;32m   1481\u001b[0m         common_bins\u001b[39m=\u001b[39mcommon_bins,\n\u001b[1;32m   1482\u001b[0m         common_norm\u001b[39m=\u001b[39mcommon_norm,\n\u001b[0;32m   (...)\u001b[0m\n\u001b[1;32m   1492\u001b[0m         \u001b[39m*\u001b[39m\u001b[39m*\u001b[39mkwargs,\n\u001b[1;32m   1493\u001b[0m     )\n",
      "File \u001b[0;32m~/projects/news-labelling/.venv/lib/python3.8/site-packages/seaborn/distributions.py:428\u001b[0m, in \u001b[0;36m_DistributionPlotter.plot_univariate_histogram\u001b[0;34m(self, multiple, element, fill, common_norm, common_bins, shrink, kde, kde_kws, color, legend, line_kws, estimate_kws, **plot_kws)\u001b[0m\n\u001b[1;32m    418\u001b[0m     densities \u001b[39m=\u001b[39m \u001b[39mself\u001b[39m\u001b[39m.\u001b[39m_compute_univariate_density(\n\u001b[1;32m    419\u001b[0m         \u001b[39mself\u001b[39m\u001b[39m.\u001b[39mdata_variable,\n\u001b[1;32m    420\u001b[0m         common_norm,\n\u001b[0;32m   (...)\u001b[0m\n\u001b[1;32m    424\u001b[0m         warn_singular\u001b[39m=\u001b[39m\u001b[39mFalse\u001b[39;00m,\n\u001b[1;32m    425\u001b[0m     )\n\u001b[1;32m    427\u001b[0m \u001b[39m# First pass through the data to compute the histograms\u001b[39;00m\n\u001b[0;32m--> 428\u001b[0m \u001b[39mfor\u001b[39;00m sub_vars, sub_data \u001b[39min\u001b[39;00m \u001b[39mself\u001b[39m\u001b[39m.\u001b[39miter_data(\u001b[39m\"\u001b[39m\u001b[39mhue\u001b[39m\u001b[39m\"\u001b[39m, from_comp_data\u001b[39m=\u001b[39m\u001b[39mTrue\u001b[39;00m):\n\u001b[1;32m    429\u001b[0m \n\u001b[1;32m    430\u001b[0m     \u001b[39m# Prepare the relevant data\u001b[39;00m\n\u001b[1;32m    431\u001b[0m     key \u001b[39m=\u001b[39m \u001b[39mtuple\u001b[39m(sub_vars\u001b[39m.\u001b[39mitems())\n\u001b[1;32m    432\u001b[0m     sub_data \u001b[39m=\u001b[39m sub_data\u001b[39m.\u001b[39mdropna()\n",
      "File \u001b[0;32m~/projects/news-labelling/.venv/lib/python3.8/site-packages/seaborn/_core.py:983\u001b[0m, in \u001b[0;36mVectorPlotter.iter_data\u001b[0;34m(self, grouping_vars, reverse, from_comp_data)\u001b[0m\n\u001b[1;32m    978\u001b[0m grouping_vars \u001b[39m=\u001b[39m [\n\u001b[1;32m    979\u001b[0m     var \u001b[39mfor\u001b[39;00m var \u001b[39min\u001b[39;00m grouping_vars \u001b[39mif\u001b[39;00m var \u001b[39min\u001b[39;00m \u001b[39mself\u001b[39m\u001b[39m.\u001b[39mvariables\n\u001b[1;32m    980\u001b[0m ]\n\u001b[1;32m    982\u001b[0m \u001b[39mif\u001b[39;00m from_comp_data:\n\u001b[0;32m--> 983\u001b[0m     data \u001b[39m=\u001b[39m \u001b[39mself\u001b[39;49m\u001b[39m.\u001b[39;49mcomp_data\n\u001b[1;32m    984\u001b[0m \u001b[39melse\u001b[39;00m:\n\u001b[1;32m    985\u001b[0m     data \u001b[39m=\u001b[39m \u001b[39mself\u001b[39m\u001b[39m.\u001b[39mplot_data\n",
      "File \u001b[0;32m~/projects/news-labelling/.venv/lib/python3.8/site-packages/seaborn/_core.py:1057\u001b[0m, in \u001b[0;36mVectorPlotter.comp_data\u001b[0;34m(self)\u001b[0m\n\u001b[1;32m   1055\u001b[0m     orig \u001b[39m=\u001b[39m \u001b[39mself\u001b[39m\u001b[39m.\u001b[39mplot_data[var]\u001b[39m.\u001b[39mdropna()\n\u001b[1;32m   1056\u001b[0m comp_col \u001b[39m=\u001b[39m pd\u001b[39m.\u001b[39mSeries(index\u001b[39m=\u001b[39morig\u001b[39m.\u001b[39mindex, dtype\u001b[39m=\u001b[39m\u001b[39mfloat\u001b[39m, name\u001b[39m=\u001b[39mvar)\n\u001b[0;32m-> 1057\u001b[0m comp_col\u001b[39m.\u001b[39mloc[orig\u001b[39m.\u001b[39mindex] \u001b[39m=\u001b[39m pd\u001b[39m.\u001b[39mto_numeric(axis\u001b[39m.\u001b[39mconvert_units(orig))\n\u001b[1;32m   1059\u001b[0m \u001b[39mif\u001b[39;00m axis\u001b[39m.\u001b[39mget_scale() \u001b[39m==\u001b[39m \u001b[39m\"\u001b[39m\u001b[39mlog\u001b[39m\u001b[39m\"\u001b[39m:\n\u001b[1;32m   1060\u001b[0m     comp_col \u001b[39m=\u001b[39m np\u001b[39m.\u001b[39mlog10(comp_col)\n",
      "File \u001b[0;32m~/projects/news-labelling/.venv/lib/python3.8/site-packages/pandas/core/indexing.py:716\u001b[0m, in \u001b[0;36m_LocationIndexer.__setitem__\u001b[0;34m(self, key, value)\u001b[0m\n\u001b[1;32m    713\u001b[0m \u001b[39mself\u001b[39m\u001b[39m.\u001b[39m_has_valid_setitem_indexer(key)\n\u001b[1;32m    715\u001b[0m iloc \u001b[39m=\u001b[39m \u001b[39mself\u001b[39m \u001b[39mif\u001b[39;00m \u001b[39mself\u001b[39m\u001b[39m.\u001b[39mname \u001b[39m==\u001b[39m \u001b[39m\"\u001b[39m\u001b[39miloc\u001b[39m\u001b[39m\"\u001b[39m \u001b[39melse\u001b[39;00m \u001b[39mself\u001b[39m\u001b[39m.\u001b[39mobj\u001b[39m.\u001b[39miloc\n\u001b[0;32m--> 716\u001b[0m iloc\u001b[39m.\u001b[39;49m_setitem_with_indexer(indexer, value, \u001b[39mself\u001b[39;49m\u001b[39m.\u001b[39;49mname)\n",
      "File \u001b[0;32m~/projects/news-labelling/.venv/lib/python3.8/site-packages/pandas/core/indexing.py:1690\u001b[0m, in \u001b[0;36m_iLocIndexer._setitem_with_indexer\u001b[0;34m(self, indexer, value, name)\u001b[0m\n\u001b[1;32m   1688\u001b[0m     \u001b[39mself\u001b[39m\u001b[39m.\u001b[39m_setitem_with_indexer_split_path(indexer, value, name)\n\u001b[1;32m   1689\u001b[0m \u001b[39melse\u001b[39;00m:\n\u001b[0;32m-> 1690\u001b[0m     \u001b[39mself\u001b[39;49m\u001b[39m.\u001b[39;49m_setitem_single_block(indexer, value, name)\n",
      "File \u001b[0;32m~/projects/news-labelling/.venv/lib/python3.8/site-packages/pandas/core/indexing.py:1929\u001b[0m, in \u001b[0;36m_iLocIndexer._setitem_single_block\u001b[0;34m(self, indexer, value, name)\u001b[0m\n\u001b[1;32m   1923\u001b[0m     indexer \u001b[39m=\u001b[39m maybe_convert_ix(\u001b[39m*\u001b[39mindexer)  \u001b[39m# e.g. test_setitem_frame_align\u001b[39;00m\n\u001b[1;32m   1925\u001b[0m \u001b[39mif\u001b[39;00m (\u001b[39misinstance\u001b[39m(value, ABCSeries) \u001b[39mand\u001b[39;00m name \u001b[39m!=\u001b[39m \u001b[39m\"\u001b[39m\u001b[39miloc\u001b[39m\u001b[39m\"\u001b[39m) \u001b[39mor\u001b[39;00m \u001b[39misinstance\u001b[39m(value, \u001b[39mdict\u001b[39m):\n\u001b[1;32m   1926\u001b[0m     \u001b[39m# TODO(EA): ExtensionBlock.setitem this causes issues with\u001b[39;00m\n\u001b[1;32m   1927\u001b[0m     \u001b[39m# setting for extensionarrays that store dicts. Need to decide\u001b[39;00m\n\u001b[1;32m   1928\u001b[0m     \u001b[39m# if it's worth supporting that.\u001b[39;00m\n\u001b[0;32m-> 1929\u001b[0m     value \u001b[39m=\u001b[39m \u001b[39mself\u001b[39;49m\u001b[39m.\u001b[39;49m_align_series(indexer, Series(value))\n\u001b[1;32m   1931\u001b[0m \u001b[39melif\u001b[39;00m \u001b[39misinstance\u001b[39m(value, ABCDataFrame) \u001b[39mand\u001b[39;00m name \u001b[39m!=\u001b[39m \u001b[39m\"\u001b[39m\u001b[39miloc\u001b[39m\u001b[39m\"\u001b[39m:\n\u001b[1;32m   1932\u001b[0m     value \u001b[39m=\u001b[39m \u001b[39mself\u001b[39m\u001b[39m.\u001b[39m_align_frame(indexer, value)\n",
      "File \u001b[0;32m~/projects/news-labelling/.venv/lib/python3.8/site-packages/pandas/core/indexing.py:2091\u001b[0m, in \u001b[0;36m_iLocIndexer._align_series\u001b[0;34m(self, indexer, ser, multiindex_indexer)\u001b[0m\n\u001b[1;32m   2089\u001b[0m \u001b[39mif\u001b[39;00m obj\u001b[39m.\u001b[39mndim \u001b[39m==\u001b[39m \u001b[39m2\u001b[39m \u001b[39mand\u001b[39;00m is_empty_indexer(indexer[\u001b[39m0\u001b[39m], ser\u001b[39m.\u001b[39m_values):\n\u001b[1;32m   2090\u001b[0m     \u001b[39mreturn\u001b[39;00m ser\u001b[39m.\u001b[39m_values\u001b[39m.\u001b[39mcopy()\n\u001b[0;32m-> 2091\u001b[0m ser \u001b[39m=\u001b[39m ser\u001b[39m.\u001b[39;49mreindex(obj\u001b[39m.\u001b[39;49maxes[\u001b[39m0\u001b[39;49m][indexer[\u001b[39m0\u001b[39;49m]], copy\u001b[39m=\u001b[39;49m\u001b[39mTrue\u001b[39;49;00m)\u001b[39m.\u001b[39m_values\n\u001b[1;32m   2093\u001b[0m \u001b[39m# single indexer\u001b[39;00m\n\u001b[1;32m   2094\u001b[0m \u001b[39mif\u001b[39;00m \u001b[39mlen\u001b[39m(indexer) \u001b[39m>\u001b[39m \u001b[39m1\u001b[39m \u001b[39mand\u001b[39;00m \u001b[39mnot\u001b[39;00m multiindex_indexer:\n",
      "File \u001b[0;32m~/projects/news-labelling/.venv/lib/python3.8/site-packages/pandas/core/series.py:4672\u001b[0m, in \u001b[0;36mSeries.reindex\u001b[0;34m(self, *args, **kwargs)\u001b[0m\n\u001b[1;32m   4668\u001b[0m         \u001b[39mraise\u001b[39;00m \u001b[39mTypeError\u001b[39;00m(\n\u001b[1;32m   4669\u001b[0m             \u001b[39m\"\u001b[39m\u001b[39m'\u001b[39m\u001b[39mindex\u001b[39m\u001b[39m'\u001b[39m\u001b[39m passed as both positional and keyword argument\u001b[39m\u001b[39m\"\u001b[39m\n\u001b[1;32m   4670\u001b[0m         )\n\u001b[1;32m   4671\u001b[0m     kwargs\u001b[39m.\u001b[39mupdate({\u001b[39m\"\u001b[39m\u001b[39mindex\u001b[39m\u001b[39m\"\u001b[39m: index})\n\u001b[0;32m-> 4672\u001b[0m \u001b[39mreturn\u001b[39;00m \u001b[39msuper\u001b[39;49m()\u001b[39m.\u001b[39;49mreindex(\u001b[39m*\u001b[39;49m\u001b[39m*\u001b[39;49mkwargs)\n",
      "File \u001b[0;32m~/projects/news-labelling/.venv/lib/python3.8/site-packages/pandas/core/generic.py:4966\u001b[0m, in \u001b[0;36mNDFrame.reindex\u001b[0;34m(self, *args, **kwargs)\u001b[0m\n\u001b[1;32m   4963\u001b[0m     \u001b[39mreturn\u001b[39;00m \u001b[39mself\u001b[39m\u001b[39m.\u001b[39m_reindex_multi(axes, copy, fill_value)\n\u001b[1;32m   4965\u001b[0m \u001b[39m# perform the reindex on the axes\u001b[39;00m\n\u001b[0;32m-> 4966\u001b[0m \u001b[39mreturn\u001b[39;00m \u001b[39mself\u001b[39;49m\u001b[39m.\u001b[39;49m_reindex_axes(\n\u001b[1;32m   4967\u001b[0m     axes, level, limit, tolerance, method, fill_value, copy\n\u001b[1;32m   4968\u001b[0m )\u001b[39m.\u001b[39m__finalize__(\u001b[39mself\u001b[39m, method\u001b[39m=\u001b[39m\u001b[39m\"\u001b[39m\u001b[39mreindex\u001b[39m\u001b[39m\"\u001b[39m)\n",
      "File \u001b[0;32m~/projects/news-labelling/.venv/lib/python3.8/site-packages/pandas/core/generic.py:4986\u001b[0m, in \u001b[0;36mNDFrame._reindex_axes\u001b[0;34m(self, axes, level, limit, tolerance, method, fill_value, copy)\u001b[0m\n\u001b[1;32m   4981\u001b[0m new_index, indexer \u001b[39m=\u001b[39m ax\u001b[39m.\u001b[39mreindex(\n\u001b[1;32m   4982\u001b[0m     labels, level\u001b[39m=\u001b[39mlevel, limit\u001b[39m=\u001b[39mlimit, tolerance\u001b[39m=\u001b[39mtolerance, method\u001b[39m=\u001b[39mmethod\n\u001b[1;32m   4983\u001b[0m )\n\u001b[1;32m   4985\u001b[0m axis \u001b[39m=\u001b[39m \u001b[39mself\u001b[39m\u001b[39m.\u001b[39m_get_axis_number(a)\n\u001b[0;32m-> 4986\u001b[0m obj \u001b[39m=\u001b[39m obj\u001b[39m.\u001b[39;49m_reindex_with_indexers(\n\u001b[1;32m   4987\u001b[0m     {axis: [new_index, indexer]},\n\u001b[1;32m   4988\u001b[0m     fill_value\u001b[39m=\u001b[39;49mfill_value,\n\u001b[1;32m   4989\u001b[0m     copy\u001b[39m=\u001b[39;49mcopy,\n\u001b[1;32m   4990\u001b[0m     allow_dups\u001b[39m=\u001b[39;49m\u001b[39mFalse\u001b[39;49;00m,\n\u001b[1;32m   4991\u001b[0m )\n\u001b[1;32m   4992\u001b[0m \u001b[39m# If we've made a copy once, no need to make another one\u001b[39;00m\n\u001b[1;32m   4993\u001b[0m copy \u001b[39m=\u001b[39m \u001b[39mFalse\u001b[39;00m\n",
      "File \u001b[0;32m~/projects/news-labelling/.venv/lib/python3.8/site-packages/pandas/core/generic.py:5032\u001b[0m, in \u001b[0;36mNDFrame._reindex_with_indexers\u001b[0;34m(self, reindexers, fill_value, copy, allow_dups)\u001b[0m\n\u001b[1;32m   5029\u001b[0m     indexer \u001b[39m=\u001b[39m ensure_platform_int(indexer)\n\u001b[1;32m   5031\u001b[0m \u001b[39m# TODO: speed up on homogeneous DataFrame objects (see _reindex_multi)\u001b[39;00m\n\u001b[0;32m-> 5032\u001b[0m new_data \u001b[39m=\u001b[39m new_data\u001b[39m.\u001b[39;49mreindex_indexer(\n\u001b[1;32m   5033\u001b[0m     index,\n\u001b[1;32m   5034\u001b[0m     indexer,\n\u001b[1;32m   5035\u001b[0m     axis\u001b[39m=\u001b[39;49mbaxis,\n\u001b[1;32m   5036\u001b[0m     fill_value\u001b[39m=\u001b[39;49mfill_value,\n\u001b[1;32m   5037\u001b[0m     allow_dups\u001b[39m=\u001b[39;49mallow_dups,\n\u001b[1;32m   5038\u001b[0m     copy\u001b[39m=\u001b[39;49mcopy,\n\u001b[1;32m   5039\u001b[0m )\n\u001b[1;32m   5040\u001b[0m \u001b[39m# If we've made a copy once, no need to make another one\u001b[39;00m\n\u001b[1;32m   5041\u001b[0m copy \u001b[39m=\u001b[39m \u001b[39mFalse\u001b[39;00m\n",
      "File \u001b[0;32m~/projects/news-labelling/.venv/lib/python3.8/site-packages/pandas/core/internals/managers.py:679\u001b[0m, in \u001b[0;36mBaseBlockManager.reindex_indexer\u001b[0;34m(self, new_axis, indexer, axis, fill_value, allow_dups, copy, consolidate, only_slice, use_na_proxy)\u001b[0m\n\u001b[1;32m    677\u001b[0m \u001b[39m# some axes don't allow reindexing with dups\u001b[39;00m\n\u001b[1;32m    678\u001b[0m \u001b[39mif\u001b[39;00m \u001b[39mnot\u001b[39;00m allow_dups:\n\u001b[0;32m--> 679\u001b[0m     \u001b[39mself\u001b[39;49m\u001b[39m.\u001b[39;49maxes[axis]\u001b[39m.\u001b[39;49m_validate_can_reindex(indexer)\n\u001b[1;32m    681\u001b[0m \u001b[39mif\u001b[39;00m axis \u001b[39m>\u001b[39m\u001b[39m=\u001b[39m \u001b[39mself\u001b[39m\u001b[39m.\u001b[39mndim:\n\u001b[1;32m    682\u001b[0m     \u001b[39mraise\u001b[39;00m \u001b[39mIndexError\u001b[39;00m(\u001b[39m\"\u001b[39m\u001b[39mRequested axis not found in manager\u001b[39m\u001b[39m\"\u001b[39m)\n",
      "File \u001b[0;32m~/projects/news-labelling/.venv/lib/python3.8/site-packages/pandas/core/indexes/base.py:4107\u001b[0m, in \u001b[0;36mIndex._validate_can_reindex\u001b[0;34m(self, indexer)\u001b[0m\n\u001b[1;32m   4105\u001b[0m \u001b[39m# trying to reindex on an axis with duplicates\u001b[39;00m\n\u001b[1;32m   4106\u001b[0m \u001b[39mif\u001b[39;00m \u001b[39mnot\u001b[39;00m \u001b[39mself\u001b[39m\u001b[39m.\u001b[39m_index_as_unique \u001b[39mand\u001b[39;00m \u001b[39mlen\u001b[39m(indexer):\n\u001b[0;32m-> 4107\u001b[0m     \u001b[39mraise\u001b[39;00m \u001b[39mValueError\u001b[39;00m(\u001b[39m\"\u001b[39m\u001b[39mcannot reindex on an axis with duplicate labels\u001b[39m\u001b[39m\"\u001b[39m)\n",
      "\u001b[0;31mValueError\u001b[0m: cannot reindex on an axis with duplicate labels"
     ]
    },
    {
     "data": {
      "image/png": "[encoded data removed]",
      "text/plain": [
       "<Figure size 640x480 with 1 Axes>"
      ]
     },
     "metadata": {},
     "output_type": "display_data"
    }
   ],
   "source": [
    "df_comments = pd.DataFrame(comments)\n",
    "df_comments[\"one_hateful\"] = df_comments[\"HATEFUL\"].apply(lambda x: len(x) > 0)\n",
    "\n",
    "user_counts = df_comments[\"user_id\"].value_counts().to_frame(\"comments\")\n",
    "hateful_counts = df_comments[df_comments[\"one_hateful\"]][\"user_id\"].value_counts().to_frame(\"hateful_comments\")\n",
    "\n",
    "data = pd.concat([user_counts, hateful_counts]).fillna(0).astype(int)\n",
    "sns.histplot(data=data, x=\"comments\", hue=None, bins=12)\n",
    "sns.histplot(data=data, x=\"hateful_comments\", hue=None, bins=12, color=\"red\")\n",
    "\n",
    "plt.ylabel(\"Number of users\")\n",
    "plt.xlabel(\"Number of comments\")\n",
    "plt.title(\"Histogram of number of comments per user\")\n",
    "plt.semilogy()"
   ]
  },
  {
   "cell_type": "code",
   "execution_count": null,
   "metadata": {},
   "outputs": [
    {
     "data": {
      "text/plain": [
       "(comments            0.000000\n",
       " hateful_comments    1.441234\n",
       " dtype: float64,\n",
       " comments            0.000000\n",
       " hateful_comments    1.238882\n",
       " dtype: float64)"
      ]
     },
     "execution_count": 11,
     "metadata": {},
     "output_type": "execute_result"
    }
   ],
   "source": [
    "hateful = data[data[\"hateful_comments\"] > 0]\n",
    "\n",
    "hateful.mean(), hateful.std()"
   ]
  },
  {
   "cell_type": "code",
   "execution_count": null,
   "metadata": {},
   "outputs": [
    {
     "data": {
      "text/plain": [
       "28"
      ]
     },
     "execution_count": 12,
     "metadata": {},
     "output_type": "execute_result"
    }
   ],
   "source": [
    "(hateful[\"hateful_comments\"] > 10).sum()"
   ]
  },
  {
   "cell_type": "code",
   "execution_count": 11,
   "metadata": {},
   "outputs": [
    {
     "data": {
      "text/plain": [
       "2786327356             60\n",
       "4330728869             58\n",
       "1217504583947296769    56\n",
       "990352152563417088     44\n",
       "1556207534             41\n",
       "                       ..\n",
       "148449154               1\n",
       "368576045               1\n",
       "596889453               1\n",
       "97235437                1\n",
       "1132308890              1\n",
       "Name: user_id, Length: 29781, dtype: int64"
      ]
     },
     "execution_count": 11,
     "metadata": {},
     "output_type": "execute_result"
    }
   ],
   "source": [
    "df_comments[\"user_id\"].value_counts()"
   ]
  },
  {
   "cell_type": "code",
   "execution_count": 13,
   "metadata": {},
   "outputs": [
    {
     "data": {
      "text/plain": [
       "Text(0.5, 1.0, 'Histogram of hateful annotations per comment')"
      ]
     },
     "execution_count": 13,
     "metadata": {},
     "output_type": "execute_result"
    },
    {
     "data": {
      "image/png": "[encoded data removed]",
      "text/plain": [
       "<Figure size 432x288 with 1 Axes>"
      ]
     },
     "metadata": {
      "needs_background": "light"
     },
     "output_type": "display_data"
    }
   ],
   "source": [
    "import seaborn as sns\n",
    "import matplotlib.pyplot as plt\n",
    "\n",
    "votes = [len(c['HATEFUL']) for c in comments if c['HATEFUL']]\n",
    "\n",
    "sns.histplot(x=votes, bins=[0.99, 1.99, 2.99, 3.99])\n",
    "\n",
    "plt.xticks([1.5, 2.5, 3.5], [1, 2, 3])\n",
    "plt.xlabel(\"#Annotations as hateful\")\n",
    "plt.ylabel(\"Number of comments\")\n",
    "plt.title(\"Histogram of hateful annotations per comment\")"
   ]
  },
  {
   "cell_type": "code",
   "execution_count": 14,
   "metadata": {},
   "outputs": [
    {
     "name": "stdout",
     "output_type": "stream",
     "text": [
      "Comentarios totales                             : 56869\n",
      "Comentarios con >= 1 etiqueta de discriminación : 13366\n",
      "Comentarios con >= 2 etiqueta de discriminación : 8715\n",
      "Comentarios con >= 3 etiqueta de discriminación : 4514\n",
      "Ratio de comentarios odiosos (>= 2) sobre totales = 0.153\n"
     ]
    }
   ],
   "source": [
    "possibly_hateful = len([c for c in comments if len(c['HATEFUL']) > 0])\n",
    "hateful = len([c for c in comments if len(c['HATEFUL']) >= 2])\n",
    "\n",
    "full_agreement = len([c for c in comments if len(c['HATEFUL']) == 3])\n",
    "\n",
    "print(f\"Comentarios totales                             : {len(comments)}\")\n",
    "print(f\"Comentarios con >= 1 etiqueta de discriminación : {possibly_hateful}\")\n",
    "print(f\"Comentarios con >= 2 etiqueta de discriminación : {hateful}\")\n",
    "print(f\"Comentarios con >= 3 etiqueta de discriminación : {full_agreement}\")\n",
    "print(f\"Ratio de comentarios odiosos (>= 2) sobre totales = {hateful / len(comments):.3f}\")"
   ]
  },
  {
   "cell_type": "markdown",
   "metadata": {},
   "source": [
    "## Agreement\n",
    "\n",
    "Uso el código que ya hice con los objetos de Django que es más cómodo..."
   ]
  },
  {
   "cell_type": "code",
   "execution_count": 15,
   "metadata": {},
   "outputs": [],
   "source": [
    "from api.metrics import AgreementCalculator\n",
    "\n",
    "calculator = AgreementCalculator(articles=dataset_articles)"
   ]
  },
  {
   "cell_type": "code",
   "execution_count": 16,
   "metadata": {},
   "outputs": [],
   "source": [
    "calculator.users = None"
   ]
  },
  {
   "cell_type": "code",
   "execution_count": 17,
   "metadata": {},
   "outputs": [
    {
     "data": {
      "text/html": [
       "<div>\n",
       "<style scoped>\n",
       "    .dataframe tbody tr th:only-of-type {\n",
       "        vertical-align: middle;\n",
       "    }\n",
       "\n",
       "    .dataframe tbody tr th {\n",
       "        vertical-align: top;\n",
       "    }\n",
       "\n",
       "    .dataframe thead th {\n",
       "        text-align: right;\n",
       "    }\n",
       "</style>\n",
       "<table border=\"1\" class=\"dataframe\">\n",
       "  <thead>\n",
       "    <tr style=\"text-align: right;\">\n",
       "      <th></th>\n",
       "      <th>Agreement</th>\n",
       "    </tr>\n",
       "    <tr>\n",
       "      <th>Category</th>\n",
       "      <th></th>\n",
       "    </tr>\n",
       "  </thead>\n",
       "  <tbody>\n",
       "    <tr>\n",
       "      <th>HATE</th>\n",
       "      <td>0.579610</td>\n",
       "    </tr>\n",
       "    <tr>\n",
       "      <th>CALLS</th>\n",
       "      <td>0.641360</td>\n",
       "    </tr>\n",
       "    <tr>\n",
       "      <th>MUJER</th>\n",
       "      <td>0.783391</td>\n",
       "    </tr>\n",
       "    <tr>\n",
       "      <th>LGBTI</th>\n",
       "      <td>0.920701</td>\n",
       "    </tr>\n",
       "    <tr>\n",
       "      <th>RACISMO</th>\n",
       "      <td>0.929094</td>\n",
       "    </tr>\n",
       "    <tr>\n",
       "      <th>POBREZA</th>\n",
       "      <td>0.706778</td>\n",
       "    </tr>\n",
       "    <tr>\n",
       "      <th>DISCAPACIDAD</th>\n",
       "      <td>0.849856</td>\n",
       "    </tr>\n",
       "    <tr>\n",
       "      <th>POLITICA</th>\n",
       "      <td>0.808519</td>\n",
       "    </tr>\n",
       "    <tr>\n",
       "      <th>ASPECTO</th>\n",
       "      <td>0.871752</td>\n",
       "    </tr>\n",
       "    <tr>\n",
       "      <th>CRIMINAL</th>\n",
       "      <td>0.931163</td>\n",
       "    </tr>\n",
       "  </tbody>\n",
       "</table>\n",
       "</div>"
      ],
      "text/plain": [
       "              Agreement\n",
       "Category               \n",
       "HATE           0.579610\n",
       "CALLS          0.641360\n",
       "MUJER          0.783391\n",
       "LGBTI          0.920701\n",
       "RACISMO        0.929094\n",
       "POBREZA        0.706778\n",
       "DISCAPACIDAD   0.849856\n",
       "POLITICA       0.808519\n",
       "ASPECTO        0.871752\n",
       "CRIMINAL       0.931163"
      ]
     },
     "execution_count": 17,
     "metadata": {},
     "output_type": "execute_result"
    }
   ],
   "source": [
    "categories = [\n",
    "    'HATE',\n",
    "    'CALLS',\n",
    "    'MUJER',\n",
    "    'LGBTI',\n",
    "    'RACISMO',\n",
    "    'POBREZA',\n",
    "    'DISCAPACIDAD',\n",
    "    'POLITICA',\n",
    "    'ASPECTO',\n",
    "    'CRIMINAL',\n",
    "]\n",
    "\n",
    "agreement_df = pd.DataFrame([{\n",
    "    \"Category\": category,\n",
    "    \"Agreement\": calculator.get_agreement(on=category)[0],\n",
    "} for category in categories])\n",
    "agreement_df.set_index(\"Category\")"
   ]
  },
  {
   "cell_type": "markdown",
   "metadata": {},
   "source": [
    "Lo calculamos de nuevo por si acaso"
   ]
  },
  {
   "cell_type": "code",
   "execution_count": 21,
   "metadata": {},
   "outputs": [
    {
     "name": "stderr",
     "output_type": "stream",
     "text": [
      "100%|██████████| 1238/1238 [04:31<00:00,  4.56it/s]\n"
     ]
    }
   ],
   "source": [
    "keys = [\n",
    " 'HATEFUL',\n",
    " 'CALLS',\n",
    " 'WOMEN',\n",
    " 'LGBTI',\n",
    " 'RACISM',\n",
    " 'CLASS',\n",
    " 'POLITICS',\n",
    " 'DISABLED',\n",
    " 'APPEARANCE',\n",
    " 'CRIMINAL',\n",
    "]\n",
    "\n",
    "annotators = set(annotator for article in raw_articles for comment in article[\"comments\"] for annotator in comment[\"annotators\"])\n",
    "\n",
    "idx = pd.MultiIndex.from_product(\n",
    "    [keys, annotators],\n",
    "    names=[\"categoria\", \"etiquetador\"]\n",
    ")\n",
    "comment_ids = [comment[\"id\"] for article in raw_articles for comment in article[\"comments\"]]\n",
    "\n",
    "annotation_df = pd.DataFrame(index=idx, columns=comment_ids)\n",
    "strict_df = pd.DataFrame(index=idx, columns=comment_ids)\n",
    "\n",
    "for article in tqdm(raw_articles):\n",
    "    for comment in article[\"comments\"]:\n",
    "        for annotator in comment[\"annotators\"]:\n",
    "            is_hateful = annotator in comment[\"HATEFUL\"]\n",
    "            annotation_df.loc[(\"HATEFUL\", annotator), comment[\"id\"]] = is_hateful\n",
    "            strict_df.loc[(\"HATEFUL\", annotator), comment[\"id\"]] = is_hateful\n",
    "\n",
    "            if is_hateful:\n",
    "                for key in keys[1:]:\n",
    "                    annotation_df.loc[(key, annotator), comment[\"id\"]] = annotator in comment[key]\n",
    "                    strict_df.loc[(key, annotator), comment[\"id\"]] = annotator in comment[key]\n",
    "            else:\n",
    "                # En modo libre meto false\n",
    "                for key in keys[1:]:\n",
    "                    strict_df.loc[(key, annotator), comment[\"id\"]] = False"
   ]
  },
  {
   "cell_type": "code",
   "execution_count": 22,
   "metadata": {},
   "outputs": [
    {
     "name": "stdout",
     "output_type": "stream",
     "text": [
      "\\begin{tabular}{lr}\n",
      "\\toprule\n",
      "{} &         0 \\\\\n",
      "\\midrule\n",
      "HATEFUL    &  0.579610 \\\\\n",
      "CALLS      &  0.641360 \\\\\n",
      "CLASS      &  0.706778 \\\\\n",
      "WOMEN      &  0.783391 \\\\\n",
      "POLITICS   &  0.808519 \\\\\n",
      "DISABLED   &  0.849856 \\\\\n",
      "APPEARANCE &  0.871752 \\\\\n",
      "LGBTI      &  0.920701 \\\\\n",
      "RACISM     &  0.929094 \\\\\n",
      "CRIMINAL   &  0.931163 \\\\\n",
      "\\bottomrule\n",
      "\\end{tabular}\n",
      "\n"
     ]
    }
   ],
   "source": [
    "import krippendorff\n",
    "\n",
    "alphas = {key:krippendorff.alpha(annotation_df.loc[key].values.astype(float)) for key in keys}\n",
    "\n",
    "print(pd.DataFrame([alphas]).T.sort_values(0).to_latex())\n",
    "    \n"
   ]
  },
  {
   "cell_type": "markdown",
   "metadata": {},
   "source": [
    "Obs: acá los agreements por categorías se ven sólo en aquellos comentarios que son marcados como odiosos, y sólo entre aquellos anotadores que hayan marcado como odioso\n",
    "\n",
    "En términos de cómo calculamos el alpha de Krippendorff: supongamos que estamos calculando el agreement de MUJER. Si anotador A1 y A2 marcaron como odioso C1, y ambos marcaron mujer => en ambos va 1. Anotador A3 no marcó como odioso ese comentario => va nan. En C2, A1 no marcó como odioso y A2 y A3 marcaron como odioso contra MUJER. En C3, A3 no marcó odioso, y A1 sí pero sin marcar MUJER y A2 marcó odioso y MUJER.\n",
    "\n",
    "La matriz quedaría así:\n",
    "\n",
    "|   |C1   |C2    | C3   |\n",
    "|---|-----|------|------|\n",
    "|A1 | 1   | nan  | 0    |\n",
    "|A2 | 1   | 1    | 1    |\n",
    "|A3 | nan | 1    | nan  |"
   ]
  },
  {
   "cell_type": "markdown",
   "metadata": {},
   "source": [
    "## Modo libre\n"
   ]
  },
  {
   "cell_type": "code",
   "execution_count": 24,
   "metadata": {},
   "outputs": [
    {
     "data": {
      "text/html": [
       "<div>\n",
       "<style scoped>\n",
       "    .dataframe tbody tr th:only-of-type {\n",
       "        vertical-align: middle;\n",
       "    }\n",
       "\n",
       "    .dataframe tbody tr th {\n",
       "        vertical-align: top;\n",
       "    }\n",
       "\n",
       "    .dataframe thead th {\n",
       "        text-align: right;\n",
       "    }\n",
       "</style>\n",
       "<table border=\"1\" class=\"dataframe\">\n",
       "  <thead>\n",
       "    <tr style=\"text-align: right;\">\n",
       "      <th></th>\n",
       "      <th>0</th>\n",
       "    </tr>\n",
       "  </thead>\n",
       "  <tbody>\n",
       "    <tr>\n",
       "      <th>HATEFUL</th>\n",
       "      <td>0.579610</td>\n",
       "    </tr>\n",
       "    <tr>\n",
       "      <th>CALLS</th>\n",
       "      <td>0.478974</td>\n",
       "    </tr>\n",
       "    <tr>\n",
       "      <th>WOMEN</th>\n",
       "      <td>0.530894</td>\n",
       "    </tr>\n",
       "    <tr>\n",
       "      <th>LGBTI</th>\n",
       "      <td>0.554911</td>\n",
       "    </tr>\n",
       "    <tr>\n",
       "      <th>RACISM</th>\n",
       "      <td>0.607848</td>\n",
       "    </tr>\n",
       "    <tr>\n",
       "      <th>CLASS</th>\n",
       "      <td>0.403643</td>\n",
       "    </tr>\n",
       "    <tr>\n",
       "      <th>POLITICS</th>\n",
       "      <td>0.508691</td>\n",
       "    </tr>\n",
       "    <tr>\n",
       "      <th>DISABLED</th>\n",
       "      <td>0.596529</td>\n",
       "    </tr>\n",
       "    <tr>\n",
       "      <th>APPEARANCE</th>\n",
       "      <td>0.734578</td>\n",
       "    </tr>\n",
       "    <tr>\n",
       "      <th>CRIMINAL</th>\n",
       "      <td>0.617393</td>\n",
       "    </tr>\n",
       "  </tbody>\n",
       "</table>\n",
       "</div>"
      ],
      "text/plain": [
       "                   0\n",
       "HATEFUL     0.579610\n",
       "CALLS       0.478974\n",
       "WOMEN       0.530894\n",
       "LGBTI       0.554911\n",
       "RACISM      0.607848\n",
       "CLASS       0.403643\n",
       "POLITICS    0.508691\n",
       "DISABLED    0.596529\n",
       "APPEARANCE  0.734578\n",
       "CRIMINAL    0.617393"
      ]
     },
     "execution_count": 24,
     "metadata": {},
     "output_type": "execute_result"
    }
   ],
   "source": [
    "import krippendorff\n",
    "\n",
    "alphas = {key:krippendorff.alpha(strict_df.loc[key].values.astype(float)) for key in keys}\n",
    "\n",
    "pd.DataFrame([alphas]).T\n",
    "    \n"
   ]
  },
  {
   "cell_type": "markdown",
   "metadata": {},
   "source": [
    "## Máxima performance esperada\n",
    "\n",
    "Calculemos el F1 promedio entre anotadores, usando las anotaciones de uno y otro como estándar"
   ]
  },
  {
   "cell_type": "code",
   "execution_count": 39,
   "metadata": {},
   "outputs": [
    {
     "name": "stderr",
     "output_type": "stream",
     "text": [
      "/home/jmperez/.local/share/virtualenvs/news-labelling-8oK1LTa4/lib/python3.8/site-packages/sklearn/metrics/_classification.py:1495: UndefinedMetricWarning: F-score is ill-defined and being set to 0.0 due to no true nor predicted samples. Use `zero_division` parameter to control this behavior.\n",
      "  _warn_prf(\n",
      "/home/jmperez/.local/share/virtualenvs/news-labelling-8oK1LTa4/lib/python3.8/site-packages/sklearn/metrics/_classification.py:1495: UndefinedMetricWarning: F-score is ill-defined and being set to 0.0 due to no true nor predicted samples. Use `zero_division` parameter to control this behavior.\n",
      "  _warn_prf(\n",
      "/home/jmperez/.local/share/virtualenvs/news-labelling-8oK1LTa4/lib/python3.8/site-packages/sklearn/metrics/_classification.py:1495: UndefinedMetricWarning: F-score is ill-defined and being set to 0.0 due to no true nor predicted samples. Use `zero_division` parameter to control this behavior.\n",
      "  _warn_prf(\n",
      "/home/jmperez/.local/share/virtualenvs/news-labelling-8oK1LTa4/lib/python3.8/site-packages/sklearn/metrics/_classification.py:1495: UndefinedMetricWarning: F-score is ill-defined and being set to 0.0 due to no true nor predicted samples. Use `zero_division` parameter to control this behavior.\n",
      "  _warn_prf(\n",
      "/home/jmperez/.local/share/virtualenvs/news-labelling-8oK1LTa4/lib/python3.8/site-packages/sklearn/metrics/_classification.py:1495: UndefinedMetricWarning: F-score is ill-defined and being set to 0.0 due to no true nor predicted samples. Use `zero_division` parameter to control this behavior.\n",
      "  _warn_prf(\n"
     ]
    },
    {
     "data": {
      "text/html": [
       "<div>\n",
       "<style scoped>\n",
       "    .dataframe tbody tr th:only-of-type {\n",
       "        vertical-align: middle;\n",
       "    }\n",
       "\n",
       "    .dataframe tbody tr th {\n",
       "        vertical-align: top;\n",
       "    }\n",
       "\n",
       "    .dataframe thead th {\n",
       "        text-align: right;\n",
       "    }\n",
       "</style>\n",
       "<table border=\"1\" class=\"dataframe\">\n",
       "  <thead>\n",
       "    <tr style=\"text-align: right;\">\n",
       "      <th></th>\n",
       "      <th>F1 mean</th>\n",
       "      <th>F1 median</th>\n",
       "    </tr>\n",
       "    <tr>\n",
       "      <th>key</th>\n",
       "      <th></th>\n",
       "      <th></th>\n",
       "    </tr>\n",
       "  </thead>\n",
       "  <tbody>\n",
       "    <tr>\n",
       "      <th>HATEFUL</th>\n",
       "      <td>0.652590</td>\n",
       "      <td>0.675111</td>\n",
       "    </tr>\n",
       "    <tr>\n",
       "      <th>CALLS</th>\n",
       "      <td>0.604281</td>\n",
       "      <td>0.703704</td>\n",
       "    </tr>\n",
       "    <tr>\n",
       "      <th>WOMEN</th>\n",
       "      <td>0.725812</td>\n",
       "      <td>0.736842</td>\n",
       "    </tr>\n",
       "    <tr>\n",
       "      <th>LGBTI</th>\n",
       "      <td>0.893906</td>\n",
       "      <td>0.960000</td>\n",
       "    </tr>\n",
       "    <tr>\n",
       "      <th>RACISM</th>\n",
       "      <td>0.945894</td>\n",
       "      <td>0.959276</td>\n",
       "    </tr>\n",
       "    <tr>\n",
       "      <th>CLASS</th>\n",
       "      <td>0.731000</td>\n",
       "      <td>0.750000</td>\n",
       "    </tr>\n",
       "    <tr>\n",
       "      <th>POLITICS</th>\n",
       "      <td>0.737078</td>\n",
       "      <td>0.777778</td>\n",
       "    </tr>\n",
       "    <tr>\n",
       "      <th>DISABLED</th>\n",
       "      <td>0.797335</td>\n",
       "      <td>0.880000</td>\n",
       "    </tr>\n",
       "    <tr>\n",
       "      <th>APPEARANCE</th>\n",
       "      <td>0.803394</td>\n",
       "      <td>0.902439</td>\n",
       "    </tr>\n",
       "    <tr>\n",
       "      <th>CRIMINAL</th>\n",
       "      <td>0.818097</td>\n",
       "      <td>0.947368</td>\n",
       "    </tr>\n",
       "  </tbody>\n",
       "</table>\n",
       "</div>"
      ],
      "text/plain": [
       "             F1 mean  F1 median\n",
       "key                            \n",
       "HATEFUL     0.652590   0.675111\n",
       "CALLS       0.604281   0.703704\n",
       "WOMEN       0.725812   0.736842\n",
       "LGBTI       0.893906   0.960000\n",
       "RACISM      0.945894   0.959276\n",
       "CLASS       0.731000   0.750000\n",
       "POLITICS    0.737078   0.777778\n",
       "DISABLED    0.797335   0.880000\n",
       "APPEARANCE  0.803394   0.902439\n",
       "CRIMINAL    0.818097   0.947368"
      ]
     },
     "execution_count": 39,
     "metadata": {},
     "output_type": "execute_result"
    }
   ],
   "source": [
    "from sklearn.metrics import f1_score\n",
    "import numpy as np\n",
    "import json\n",
    "\n",
    "test_ids = json.load(open(\"test_ids.json\"))\n",
    "\n",
    "annotators = annotation_df.loc[\"HATEFUL\"].index\n",
    "\n",
    "\n",
    "max_performance = {}\n",
    "\n",
    "ia_results = []\n",
    "\n",
    "for key in keys:\n",
    "    scores = []\n",
    "\n",
    "    for i in range(len(annotators)):\n",
    "        for j in range(i+1, len(annotators)):\n",
    "            a1 = annotators[i]\n",
    "            a2 = annotators[j]\n",
    "\n",
    "            tweets_both_annotated = annotation_df.loc[(key, a1)].notna() & annotation_df.loc[(key, a2)].notna()\n",
    "\n",
    "            tweets_both_annotated = (tweets_both_annotated & tweets_both_annotated.index.isin(test_ids))\n",
    "            a1_annotations = annotation_df.loc[(key, a1), tweets_both_annotated]\n",
    "            a2_annotations = annotation_df.loc[(key, a2), tweets_both_annotated]\n",
    "\n",
    "            assert a1_annotations.isna().sum() == 0\n",
    "            assert a2_annotations.isna().sum() == 0\n",
    "\n",
    "\n",
    "            score = f1_score(a1_annotations.values.astype(int), a2_annotations.values.astype(int), average=\"binary\")\n",
    "            \n",
    "            scores.append(score)\n",
    "            #print(f\"F1 between {a1} - {a2} = {score:.3f}\")\n",
    "            \n",
    "    ia_results.append({\n",
    "        \"key\": key,\n",
    "        \"F1 mean\": np.array(scores).mean(),\n",
    "        \"F1 median\": sorted(scores)[len(scores)//2],\n",
    "    })\n",
    "pd.DataFrame(ia_results).set_index(\"key\")"
   ]
  },
  {
   "cell_type": "code",
   "execution_count": 41,
   "metadata": {},
   "outputs": [
    {
     "name": "stdout",
     "output_type": "stream",
     "text": [
      "\\begin{tabular}{lrr}\n",
      "\\toprule\n",
      "{} &   F1 mean &  F1 median \\\\\n",
      "key        &           &            \\\\\n",
      "\\midrule\n",
      "HATEFUL    &  0.652590 &   0.675111 \\\\\n",
      "CALLS      &  0.604281 &   0.703704 \\\\\n",
      "WOMEN      &  0.725812 &   0.736842 \\\\\n",
      "LGBTI      &  0.893906 &   0.960000 \\\\\n",
      "RACISM     &  0.945894 &   0.959276 \\\\\n",
      "CLASS      &  0.731000 &   0.750000 \\\\\n",
      "POLITICS   &  0.737078 &   0.777778 \\\\\n",
      "DISABLED   &  0.797335 &   0.880000 \\\\\n",
      "APPEARANCE &  0.803394 &   0.902439 \\\\\n",
      "CRIMINAL   &  0.818097 &   0.947368 \\\\\n",
      "\\bottomrule\n",
      "\\end{tabular}\n",
      "\n"
     ]
    }
   ],
   "source": [
    "print(pd.DataFrame(ia_results).set_index(\"key\").to_latex(fm))"
   ]
  },
  {
   "cell_type": "markdown",
   "metadata": {},
   "source": [
    "## Modo libre entre anotadores\n"
   ]
  },
  {
   "cell_type": "code",
   "execution_count": 46,
   "metadata": {},
   "outputs": [
    {
     "name": "stderr",
     "output_type": "stream",
     "text": [
      "/home/jmperez/.local/share/virtualenvs/news-labelling-8oK1LTa4/lib/python3.8/site-packages/sklearn/metrics/_classification.py:1495: UndefinedMetricWarning: F-score is ill-defined and being set to 0.0 due to no true nor predicted samples. Use `zero_division` parameter to control this behavior.\n",
      "  _warn_prf(\n"
     ]
    },
    {
     "data": {
      "text/html": [
       "<div>\n",
       "<style scoped>\n",
       "    .dataframe tbody tr th:only-of-type {\n",
       "        vertical-align: middle;\n",
       "    }\n",
       "\n",
       "    .dataframe tbody tr th {\n",
       "        vertical-align: top;\n",
       "    }\n",
       "\n",
       "    .dataframe thead th {\n",
       "        text-align: right;\n",
       "    }\n",
       "</style>\n",
       "<table border=\"1\" class=\"dataframe\">\n",
       "  <thead>\n",
       "    <tr style=\"text-align: right;\">\n",
       "      <th></th>\n",
       "      <th>F1 mean</th>\n",
       "      <th>F1 median</th>\n",
       "    </tr>\n",
       "    <tr>\n",
       "      <th>key</th>\n",
       "      <th></th>\n",
       "      <th></th>\n",
       "    </tr>\n",
       "  </thead>\n",
       "  <tbody>\n",
       "    <tr>\n",
       "      <th>HATEFUL</th>\n",
       "      <td>0.652590</td>\n",
       "      <td>0.675111</td>\n",
       "    </tr>\n",
       "    <tr>\n",
       "      <th>CALLS</th>\n",
       "      <td>0.434161</td>\n",
       "      <td>0.495050</td>\n",
       "    </tr>\n",
       "    <tr>\n",
       "      <th>WOMEN</th>\n",
       "      <td>0.489695</td>\n",
       "      <td>0.467662</td>\n",
       "    </tr>\n",
       "    <tr>\n",
       "      <th>LGBTI</th>\n",
       "      <td>0.595980</td>\n",
       "      <td>0.576577</td>\n",
       "    </tr>\n",
       "    <tr>\n",
       "      <th>RACISM</th>\n",
       "      <td>0.653274</td>\n",
       "      <td>0.644444</td>\n",
       "    </tr>\n",
       "    <tr>\n",
       "      <th>CLASS</th>\n",
       "      <td>0.443186</td>\n",
       "      <td>0.444444</td>\n",
       "    </tr>\n",
       "    <tr>\n",
       "      <th>POLITICS</th>\n",
       "      <td>0.460940</td>\n",
       "      <td>0.436090</td>\n",
       "    </tr>\n",
       "    <tr>\n",
       "      <th>DISABLED</th>\n",
       "      <td>0.550251</td>\n",
       "      <td>0.600000</td>\n",
       "    </tr>\n",
       "    <tr>\n",
       "      <th>APPEARANCE</th>\n",
       "      <td>0.648590</td>\n",
       "      <td>0.742857</td>\n",
       "    </tr>\n",
       "    <tr>\n",
       "      <th>CRIMINAL</th>\n",
       "      <td>0.526596</td>\n",
       "      <td>0.580153</td>\n",
       "    </tr>\n",
       "  </tbody>\n",
       "</table>\n",
       "</div>"
      ],
      "text/plain": [
       "             F1 mean  F1 median\n",
       "key                            \n",
       "HATEFUL     0.652590   0.675111\n",
       "CALLS       0.434161   0.495050\n",
       "WOMEN       0.489695   0.467662\n",
       "LGBTI       0.595980   0.576577\n",
       "RACISM      0.653274   0.644444\n",
       "CLASS       0.443186   0.444444\n",
       "POLITICS    0.460940   0.436090\n",
       "DISABLED    0.550251   0.600000\n",
       "APPEARANCE  0.648590   0.742857\n",
       "CRIMINAL    0.526596   0.580153"
      ]
     },
     "execution_count": 46,
     "metadata": {},
     "output_type": "execute_result"
    }
   ],
   "source": [
    "from sklearn.metrics import f1_score\n",
    "import numpy as np\n",
    "import json\n",
    "\n",
    "test_ids = json.load(open(\"test_ids.json\"))\n",
    "\n",
    "annotators = strict_df.loc[\"HATEFUL\"].index\n",
    "\n",
    "\n",
    "max_performance = {}\n",
    "\n",
    "strict_ia_results = []\n",
    "\n",
    "for key in keys:\n",
    "    scores = []\n",
    "\n",
    "    for i in range(len(annotators)):\n",
    "        for j in range(i+1, len(annotators)):\n",
    "            a1 = annotators[i]\n",
    "            a2 = annotators[j]\n",
    "\n",
    "            tweets_both_annotated = strict_df.loc[(key, a1)].notna() & strict_df.loc[(key, a2)].notna()\n",
    "\n",
    "            tweets_both_annotated = (tweets_both_annotated & tweets_both_annotated.index.isin(test_ids))\n",
    "            a1_annotations = strict_df.loc[(key, a1), tweets_both_annotated]\n",
    "            a2_annotations = strict_df.loc[(key, a2), tweets_both_annotated]\n",
    "\n",
    "            assert a1_annotations.isna().sum() == 0\n",
    "            assert a2_annotations.isna().sum() == 0\n",
    "\n",
    "\n",
    "            score = f1_score(a1_annotations.values.astype(int), a2_annotations.values.astype(int), average=\"binary\")\n",
    "            \n",
    "            scores.append(score)\n",
    "            #print(f\"F1 between {a1} - {a2} = {score:.3f}\")\n",
    "            \n",
    "    strict_ia_results.append({\n",
    "        \"key\": key,\n",
    "        \"F1 mean\": np.array(scores).mean(),\n",
    "        \"F1 median\": sorted(scores)[len(scores)//2],\n",
    "    })\n",
    "pd.DataFrame(strict_ia_results).set_index(\"key\")"
   ]
  },
  {
   "cell_type": "code",
   "execution_count": 49,
   "metadata": {},
   "outputs": [
    {
     "name": "stdout",
     "output_type": "stream",
     "text": [
      "\\begin{tabular}{lrr}\n",
      "\\toprule\n",
      "{} &   F1 mean &  F1 median \\\\\n",
      "key        &           &            \\\\\n",
      "\\midrule\n",
      "HATEFUL    &  0.652590 &   0.675111 \\\\\n",
      "CALLS      &  0.434161 &   0.495050 \\\\\n",
      "WOMEN      &  0.489695 &   0.467662 \\\\\n",
      "LGBTI      &  0.595980 &   0.576577 \\\\\n",
      "RACISM     &  0.653274 &   0.644444 \\\\\n",
      "CLASS      &  0.443186 &   0.444444 \\\\\n",
      "POLITICS   &  0.460940 &   0.436090 \\\\\n",
      "DISABLED   &  0.550251 &   0.600000 \\\\\n",
      "APPEARANCE &  0.648590 &   0.742857 \\\\\n",
      "CRIMINAL   &  0.526596 &   0.580153 \\\\\n",
      "\\bottomrule\n",
      "\\end{tabular}\n",
      "\n"
     ]
    }
   ],
   "source": [
    "\n",
    "print(pd.DataFrame(strict_ia_results).set_index(\"key\").to_latex())"
   ]
  },
  {
   "cell_type": "markdown",
   "metadata": {},
   "source": [
    "## Gold label\n",
    "Calculemos contra el gold-label. Primero, en modo jerárquico"
   ]
  },
  {
   "cell_type": "code",
   "execution_count": 37,
   "metadata": {},
   "outputs": [
    {
     "data": {
      "text/html": [
       "<div>\n",
       "<style scoped>\n",
       "    .dataframe tbody tr th:only-of-type {\n",
       "        vertical-align: middle;\n",
       "    }\n",
       "\n",
       "    .dataframe tbody tr th {\n",
       "        vertical-align: top;\n",
       "    }\n",
       "\n",
       "    .dataframe thead th {\n",
       "        text-align: right;\n",
       "    }\n",
       "</style>\n",
       "<table border=\"1\" class=\"dataframe\">\n",
       "  <thead>\n",
       "    <tr style=\"text-align: right;\">\n",
       "      <th></th>\n",
       "      <th>F1 Mean</th>\n",
       "      <th>F1 Median</th>\n",
       "    </tr>\n",
       "    <tr>\n",
       "      <th>key</th>\n",
       "      <th></th>\n",
       "      <th></th>\n",
       "    </tr>\n",
       "  </thead>\n",
       "  <tbody>\n",
       "    <tr>\n",
       "      <th>HATEFUL</th>\n",
       "      <td>0.828552</td>\n",
       "      <td>0.851546</td>\n",
       "    </tr>\n",
       "    <tr>\n",
       "      <th>CALLS</th>\n",
       "      <td>0.774132</td>\n",
       "      <td>0.914826</td>\n",
       "    </tr>\n",
       "    <tr>\n",
       "      <th>WOMEN</th>\n",
       "      <td>0.837138</td>\n",
       "      <td>0.827586</td>\n",
       "    </tr>\n",
       "    <tr>\n",
       "      <th>LGBTI</th>\n",
       "      <td>0.966057</td>\n",
       "      <td>0.974359</td>\n",
       "    </tr>\n",
       "    <tr>\n",
       "      <th>RACISM</th>\n",
       "      <td>0.966779</td>\n",
       "      <td>0.973196</td>\n",
       "    </tr>\n",
       "    <tr>\n",
       "      <th>CLASS</th>\n",
       "      <td>0.805842</td>\n",
       "      <td>0.839161</td>\n",
       "    </tr>\n",
       "    <tr>\n",
       "      <th>POLITICS</th>\n",
       "      <td>0.892089</td>\n",
       "      <td>0.918919</td>\n",
       "    </tr>\n",
       "    <tr>\n",
       "      <th>DISABLED</th>\n",
       "      <td>0.897638</td>\n",
       "      <td>0.939227</td>\n",
       "    </tr>\n",
       "    <tr>\n",
       "      <th>APPEARANCE</th>\n",
       "      <td>0.902657</td>\n",
       "      <td>0.949309</td>\n",
       "    </tr>\n",
       "    <tr>\n",
       "      <th>CRIMINAL</th>\n",
       "      <td>0.961483</td>\n",
       "      <td>0.978887</td>\n",
       "    </tr>\n",
       "  </tbody>\n",
       "</table>\n",
       "</div>"
      ],
      "text/plain": [
       "             F1 Mean  F1 Median\n",
       "key                            \n",
       "HATEFUL     0.828552   0.851546\n",
       "CALLS       0.774132   0.914826\n",
       "WOMEN       0.837138   0.827586\n",
       "LGBTI       0.966057   0.974359\n",
       "RACISM      0.966779   0.973196\n",
       "CLASS       0.805842   0.839161\n",
       "POLITICS    0.892089   0.918919\n",
       "DISABLED    0.897638   0.939227\n",
       "APPEARANCE  0.902657   0.949309\n",
       "CRIMINAL    0.961483   0.978887"
      ]
     },
     "execution_count": 37,
     "metadata": {},
     "output_type": "execute_result"
    }
   ],
   "source": [
    "\n",
    "gold_label = pd.DataFrame(columns=annotation_df.columns, index=keys)\n",
    "\n",
    "gold_label.loc[\"HATEFUL\"] = annotation_df.loc[\"HATEFUL\"].fillna(False).sum() >= 2\n",
    "gold_label.loc[\"CALLS\"] = annotation_df.loc[\"CALLS\"].fillna(False).sum() >= 2\n",
    "\n",
    "hateful = gold_label.columns[gold_label.loc[\"HATEFUL\"]]\n",
    "\n",
    "for key in keys[2:]:\n",
    "    gold_label.loc[key, hateful] = annotation_df.loc[key, hateful].fillna(0).sum() > 0\n",
    "\n",
    "results = []\n",
    "for key in keys:\n",
    "    \n",
    "    scores = []\n",
    "\n",
    "    for i in range(len(annotators)):\n",
    "        a1 = annotators[i]\n",
    "\n",
    "        tweets_both_annotated = annotation_df.loc[(key, a1)].notna()\n",
    "        tweets_both_annotated = (tweets_both_annotated & tweets_both_annotated.index.isin(test_ids))\n",
    "\n",
    "        if key not in {\"HATEFUL\", \"CALLS\"}:\n",
    "            tweets_both_annotated = tweets_both_annotated & tweets_both_annotated.index.isin(hateful)\n",
    "\n",
    "        a1_annotations = annotation_df.loc[(key, a1), tweets_both_annotated]\n",
    "        a2_annotations = gold_label.loc[key, tweets_both_annotated]\n",
    "\n",
    "        assert a1_annotations.isna().sum() == 0\n",
    "        assert a2_annotations.isna().sum() == 0\n",
    "\n",
    "        score = f1_score(a1_annotations.values.astype(int), a2_annotations.values.astype(int), average=\"binary\")\n",
    "            \n",
    "        scores.append(score)\n",
    "        #print(f\"F1 between {a1} - {a2} = {score:.3f}\")\n",
    "            \n",
    "    results.append({\n",
    "        \"key\": key,\n",
    "        \"F1 Mean\": np.array(scores).mean(),\n",
    "        \"F1 Median\": sorted(scores)[len(scores)//2],\n",
    "    })\n",
    "\n",
    "pd.DataFrame(results).set_index(\"key\")"
   ]
  },
  {
   "cell_type": "code",
   "execution_count": 45,
   "metadata": {},
   "outputs": [
    {
     "name": "stdout",
     "output_type": "stream",
     "text": [
      "\\begin{tabular}{lrr}\n",
      "\\toprule\n",
      "{} &   F1 Mean &  F1 Median \\\\\n",
      "key        &           &            \\\\\n",
      "\\midrule\n",
      "HATEFUL    &  0.828552 &   0.851546 \\\\\n",
      "CALLS      &  0.774132 &   0.914826 \\\\\n",
      "WOMEN      &  0.837138 &   0.827586 \\\\\n",
      "LGBTI      &  0.966057 &   0.974359 \\\\\n",
      "RACISM     &  0.966779 &   0.973196 \\\\\n",
      "CLASS      &  0.805842 &   0.839161 \\\\\n",
      "POLITICS   &  0.892089 &   0.918919 \\\\\n",
      "DISABLED   &  0.897638 &   0.939227 \\\\\n",
      "APPEARANCE &  0.902657 &   0.949309 \\\\\n",
      "CRIMINAL   &  0.961483 &   0.978887 \\\\\n",
      "\\bottomrule\n",
      "\\end{tabular}\n",
      "\n"
     ]
    }
   ],
   "source": [
    "\n",
    "print(pd.DataFrame(results).set_index(\"key\").to_latex())"
   ]
  },
  {
   "cell_type": "markdown",
   "metadata": {},
   "source": [
    "## Modo libre gold standard"
   ]
  },
  {
   "cell_type": "code",
   "execution_count": 38,
   "metadata": {},
   "outputs": [
    {
     "data": {
      "text/html": [
       "<div>\n",
       "<style scoped>\n",
       "    .dataframe tbody tr th:only-of-type {\n",
       "        vertical-align: middle;\n",
       "    }\n",
       "\n",
       "    .dataframe tbody tr th {\n",
       "        vertical-align: top;\n",
       "    }\n",
       "\n",
       "    .dataframe thead th {\n",
       "        text-align: right;\n",
       "    }\n",
       "</style>\n",
       "<table border=\"1\" class=\"dataframe\">\n",
       "  <thead>\n",
       "    <tr style=\"text-align: right;\">\n",
       "      <th></th>\n",
       "      <th>F1 Mean</th>\n",
       "      <th>F1 Median</th>\n",
       "    </tr>\n",
       "    <tr>\n",
       "      <th>key</th>\n",
       "      <th></th>\n",
       "      <th></th>\n",
       "    </tr>\n",
       "  </thead>\n",
       "  <tbody>\n",
       "    <tr>\n",
       "      <th>HATEFUL</th>\n",
       "      <td>0.828552</td>\n",
       "      <td>0.851546</td>\n",
       "    </tr>\n",
       "    <tr>\n",
       "      <th>CALLS</th>\n",
       "      <td>0.704251</td>\n",
       "      <td>0.842444</td>\n",
       "    </tr>\n",
       "    <tr>\n",
       "      <th>WOMEN</th>\n",
       "      <td>0.740602</td>\n",
       "      <td>0.759398</td>\n",
       "    </tr>\n",
       "    <tr>\n",
       "      <th>LGBTI</th>\n",
       "      <td>0.846210</td>\n",
       "      <td>0.915254</td>\n",
       "    </tr>\n",
       "    <tr>\n",
       "      <th>RACISM</th>\n",
       "      <td>0.871221</td>\n",
       "      <td>0.878957</td>\n",
       "    </tr>\n",
       "    <tr>\n",
       "      <th>CLASS</th>\n",
       "      <td>0.722012</td>\n",
       "      <td>0.731707</td>\n",
       "    </tr>\n",
       "    <tr>\n",
       "      <th>POLITICS</th>\n",
       "      <td>0.795182</td>\n",
       "      <td>0.815534</td>\n",
       "    </tr>\n",
       "    <tr>\n",
       "      <th>DISABLED</th>\n",
       "      <td>0.812773</td>\n",
       "      <td>0.842105</td>\n",
       "    </tr>\n",
       "    <tr>\n",
       "      <th>APPEARANCE</th>\n",
       "      <td>0.831490</td>\n",
       "      <td>0.914634</td>\n",
       "    </tr>\n",
       "    <tr>\n",
       "      <th>CRIMINAL</th>\n",
       "      <td>0.841534</td>\n",
       "      <td>0.929245</td>\n",
       "    </tr>\n",
       "  </tbody>\n",
       "</table>\n",
       "</div>"
      ],
      "text/plain": [
       "             F1 Mean  F1 Median\n",
       "key                            \n",
       "HATEFUL     0.828552   0.851546\n",
       "CALLS       0.704251   0.842444\n",
       "WOMEN       0.740602   0.759398\n",
       "LGBTI       0.846210   0.915254\n",
       "RACISM      0.871221   0.878957\n",
       "CLASS       0.722012   0.731707\n",
       "POLITICS    0.795182   0.815534\n",
       "DISABLED    0.812773   0.842105\n",
       "APPEARANCE  0.831490   0.914634\n",
       "CRIMINAL    0.841534   0.929245"
      ]
     },
     "execution_count": 38,
     "metadata": {},
     "output_type": "execute_result"
    }
   ],
   "source": [
    "#three_times = my_df.loc[\"HATEFUL\"].notna().sum() == 3\n",
    "\n",
    "gold_label = pd.DataFrame(columns=strict_df.columns, index=keys)\n",
    "\n",
    "gold_label.fillna(False, inplace=True)\n",
    "\n",
    "gold_label.loc[\"HATEFUL\"] = strict_df.loc[\"HATEFUL\"].fillna(False).sum() >= 2\n",
    "gold_label.loc[\"CALLS\"] = strict_df.loc[\"CALLS\"].fillna(False).sum() >= 2\n",
    "hateful = gold_label.columns[gold_label.loc[\"HATEFUL\"]]\n",
    "\n",
    "for key in keys[2:]:\n",
    "    gold_label.loc[key, hateful] = strict_df.loc[key, hateful].fillna(0).sum() > 0\n",
    "\n",
    "strict_results = []\n",
    "\n",
    "for key in keys:\n",
    "\n",
    "    scores = []\n",
    "\n",
    "    for i in range(len(annotators)):\n",
    "        a1 = annotators[i]\n",
    "\n",
    "        tweets_both_annotated = strict_df.loc[(key, a1)].notna()\n",
    "        tweets_both_annotated = (tweets_both_annotated & tweets_both_annotated.index.isin(test_ids))\n",
    "\n",
    "        if key not in {\"HATEFUL\", \"CALLS\"}:\n",
    "            tweets_both_annotated = tweets_both_annotated & tweets_both_annotated.index.isin(hateful)\n",
    "\n",
    "        a1_annotations = strict_df.loc[(key, a1), tweets_both_annotated]\n",
    "        a2_annotations = gold_label.loc[key, tweets_both_annotated]\n",
    "\n",
    "        assert a1_annotations.isna().sum() == 0\n",
    "        assert a2_annotations.isna().sum() == 0\n",
    "\n",
    "        score = f1_score(a1_annotations.values.astype(int), a2_annotations.values.astype(int), average=\"binary\")\n",
    "            \n",
    "        scores.append(score)\n",
    "        #print(f\"F1 between {a1} - {a2} = {score:.3f}\")\n",
    "            \n",
    "    strict_results.append({\n",
    "        \"key\": key,\n",
    "        \"F1 Mean\": np.array(scores).mean(),\n",
    "        \"F1 Median\": sorted(scores)[len(scores)//2],\n",
    "    })\n",
    "\n",
    "\n",
    "pd.DataFrame(strict_results).set_index(\"key\")\n"
   ]
  },
  {
   "cell_type": "code",
   "execution_count": 50,
   "metadata": {},
   "outputs": [
    {
     "name": "stdout",
     "output_type": "stream",
     "text": [
      "\\begin{tabular}{lrr}\n",
      "\\toprule\n",
      "{} &   F1 Mean &  F1 Median \\\\\n",
      "key        &           &            \\\\\n",
      "\\midrule\n",
      "HATEFUL    &  0.828552 &   0.851546 \\\\\n",
      "CALLS      &  0.704251 &   0.842444 \\\\\n",
      "WOMEN      &  0.740602 &   0.759398 \\\\\n",
      "LGBTI      &  0.846210 &   0.915254 \\\\\n",
      "RACISM     &  0.871221 &   0.878957 \\\\\n",
      "CLASS      &  0.722012 &   0.731707 \\\\\n",
      "POLITICS   &  0.795182 &   0.815534 \\\\\n",
      "DISABLED   &  0.812773 &   0.842105 \\\\\n",
      "APPEARANCE &  0.831490 &   0.914634 \\\\\n",
      "CRIMINAL   &  0.841534 &   0.929245 \\\\\n",
      "\\bottomrule\n",
      "\\end{tabular}\n",
      "\n"
     ]
    }
   ],
   "source": [
    "\n",
    "print(pd.DataFrame(strict_results).set_index(\"key\").to_latex())"
   ]
  },
  {
   "cell_type": "markdown",
   "metadata": {},
   "source": [
    "## Algunos ejemplos\n",
    "\n",
    "Leamos ahora el ya asignado"
   ]
  },
  {
   "cell_type": "code",
   "execution_count": null,
   "metadata": {},
   "outputs": [],
   "source": [
    "with open(\"../output/dataset.json\") as f:\n",
    "    articles = json.load(f)\n",
    "    \n",
    "comments = [{**comm, **{\"article\": art}} for art in articles for comm in art[\"comments\"]]"
   ]
  },
  {
   "cell_type": "code",
   "execution_count": null,
   "metadata": {},
   "outputs": [],
   "source": [
    "import random\n",
    "\n",
    "char_tweets = {char:[] for char in keys[1:] if char != \"CALLS\"}\n",
    "\n",
    "for comment in comments:\n",
    "    for key in char_tweets:\n",
    "        if comment[key]:\n",
    "            char_tweets[key].append(comment)\n",
    "\n",
    "# Esto es medio trucho pero bueno\n",
    "\n",
    "#for arr in char_tweets.values():\n",
    "#    random.shuffle(arr)\n",
    "\n",
    "df_count = pd.DataFrame([\n",
    "    {\n",
    "        \"Characteristic\": k,\n",
    "        \"Count\":len(v),\n",
    "        \"Calls to Action\": len([c for c in v if c[\"CALLS\"]])\n",
    "    } for k, v in char_tweets.items()])\n",
    "\n",
    "df_count.set_index(\"Characteristic\", inplace=True)\n",
    "df_count.sort_values(\"Count\", inplace=True, ascending=False)\n",
    "\n",
    "df_count"
   ]
  },
  {
   "cell_type": "code",
   "execution_count": null,
   "metadata": {},
   "outputs": [],
   "source": [
    "print(df_count.to_latex())"
   ]
  },
  {
   "cell_type": "code",
   "execution_count": null,
   "metadata": {},
   "outputs": [],
   "source": [
    "import random\n",
    "\n",
    "random.seed(2021)\n",
    "\n",
    "data = []\n",
    "\n",
    "selected_ids = {\n",
    "    \"WOMEN\": {\n",
    "        407976, 371887, 407372, 350369, 404390, 354563, 360696, 408112, 387787, 406491, \n",
    "        333431, 333380, 366020\n",
    "    },\n",
    "    \"LGBTI\": {348304, 401013, 396655, 369370, 365953, 397528, 377415, 394007, 400769},\n",
    "    \"RACISM\": {345526, 346189, 361417, 348501, 407751, 403677, 376555, 342786, 338586},\n",
    "    \"CRIMINAL\": {385282, 343734, 359714, 367753, 374584},\n",
    "    \"CLASS\": {344236, 335045, 355946, 379401, 345243, 353042, 331749, 367136},\n",
    "    \n",
    "    \"POLITICS\": {364045, 382819, 368191, 405420, 365289},\n",
    "    \"APPEARANCE\": {377430, 389419, 401537, 352592, 368514},\n",
    "    \"DISABLED\": {373983, 329510, 369358, 397780},\n",
    "    \n",
    "    \"CALLS\": {345395, 361092, 370678, 339375, 403667, 379905, 370694, },\n",
    "}\n",
    "\n",
    "for char, tweets in char_tweets.items():\n",
    "    print(f\"\\n\\n## {char}\", \"\\n\" * 3)\n",
    "    random.shuffle(tweets)\n",
    "    for tweet in tweets[:25]:\n",
    "        article = tweet[\"article\"]\n",
    "        print(f\"- ({tweet['id']}) {tweet['text']} |||| {article['title']}\")\n",
    "        data.append({\n",
    "            \"article_id\": article['tweet_id'],\n",
    "            \"comment_id\": comment[\"id\"],\n",
    "            \"characteristic\": char,\n",
    "            \"text\": tweet['text'], \n",
    "            \"context\": article['title'],\n",
    "        })"
   ]
  },
  {
   "cell_type": "code",
   "execution_count": null,
   "metadata": {},
   "outputs": [],
   "source": [
    "pd.options.display.max_colwidth = 240\n",
    "pd.options.display.max_rows = 120\n",
    "\n",
    "id2comment = {comment[\"id\"]:comment for comment in comments}\n",
    "\n",
    "data = []\n",
    "\n",
    "for characteristic, comment_ids in selected_ids.items():\n",
    "    for comment_id in comment_ids:\n",
    "        comment = id2comment[comment_id]\n",
    "        article = comment[\"article\"]\n",
    "        data.append({\n",
    "            \"comment_id\": comment_id,\n",
    "            \"characteristic\": characteristic,\n",
    "            \"context\": article[\"title\"],\n",
    "            \"text\": comment[\"text\"],\n",
    "            \n",
    "        })\n",
    "df_selected = pd.DataFrame(data)\n",
    "\n",
    "df_selected"
   ]
  },
  {
   "cell_type": "code",
   "execution_count": null,
   "metadata": {},
   "outputs": [],
   "source": [
    "df"
   ]
  },
  {
   "cell_type": "code",
   "execution_count": null,
   "metadata": {},
   "outputs": [],
   "source": [
    "import re\n",
    "pd.options.display.max_colwidth = 256\n",
    "\n",
    "#sub_data = [d for d in data if d[\"characteristic\"] in {\"WOMEN\", \"LGBTI\"}]\n",
    "\n",
    "sub_data = df_selected\n",
    "\n",
    "df_char = pd.DataFrame(sub_data)[[\"characteristic\", \"context\", \"text\"]]\n",
    "table = df_char.to_latex(index=False, col_space=1)\n",
    "\n",
    "table = re.sub(r\"&\\s+\", \"& \", table)\n",
    "\n",
    "print(table)"
   ]
  },
  {
   "cell_type": "code",
   "execution_count": null,
   "metadata": {},
   "outputs": [],
   "source": [
    "data[0]"
   ]
  }
 ],
 "metadata": {
  "interpreter": {
   "hash": "736c0a32d006a560ad3caae08b12299001d7b5f1584b2ab682e9f5647d520c1c"
  },
  "kernelspec": {
   "display_name": "Python 3.8.6 64-bit ('news-labelling-8oK1LTa4': pipenv)",
   "name": "python3"
  },
  "language_info": {
   "codemirror_mode": {
    "name": "ipython",
    "version": 3
   },
   "file_extension": ".py",
   "mimetype": "text/x-python",
   "name": "python",
   "nbconvert_exporter": "python",
   "pygments_lexer": "ipython3",
   "version": "3.8.12"
  },
  "metadata": {
   "interpreter": {
    "hash": "736c0a32d006a560ad3caae08b12299001d7b5f1584b2ab682e9f5647d520c1c"
   }
  },
  "orig_nbformat": 3
 },
 "nbformat": 4,
 "nbformat_minor": 4
}
