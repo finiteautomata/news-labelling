{
 "cells": [
  {
   "cell_type": "markdown",
   "metadata": {},
   "source": [
    "## Dataset\n",
    "\n",
    "Veamos estadísticas y otras cosas del dataset"
   ]
  },
  {
   "cell_type": "code",
   "execution_count": 1,
   "metadata": {},
   "outputs": [],
   "source": [
    "%load_ext autoreload\n",
    "%autoreload 2\n",
    "import os\n",
    "import sys\n",
    "import django\n",
    "from tqdm.auto import tqdm\n",
    "\n",
    "os.environ[\"DJANGO_ALLOW_ASYNC_UNSAFE\"] = \"true\"\n",
    "\n",
    "sys.path.append(\"..\")\n",
    "os.environ['DJANGO_SETTINGS_MODULE'] = 'news_labelling.settings'\n",
    "django.setup()\n",
    "\n",
    "from api.models import Comment, ArticleLabel, CommentLabel, Article, Batch\n",
    "from django.contrib.auth.models import User"
   ]
  },
  {
   "cell_type": "markdown",
   "metadata": {},
   "source": [
    "Primero, veamos qué usuarios etiquetaron más de 4 artículos..."
   ]
  },
  {
   "cell_type": "code",
   "execution_count": 2,
   "metadata": {},
   "outputs": [
    {
     "name": "stdout",
     "output_type": "stream",
     "text": [
      "Artículos totales: 1738\n",
      "Artículos con 3 anotaciones: 1238\n",
      "Artículos con alguna anotación: 1725\n",
      "Artículos que no pasaron a tercera anotación: 452\n"
     ]
    }
   ],
   "source": [
    "from django.db.models import Count, Case, When, Value\n",
    "\n",
    "annotated_articles = Article.objects.exclude(batch__name=\"training\").annotate(\n",
    "    num_labels=Count('labels'),\n",
    "    effective_labels=Count(\n",
    "        Case(When(labels__is_interesting=True, then=Value(1)))\n",
    "    )\n",
    ")\n",
    "\n",
    "\n",
    "dataset_articles = annotated_articles.filter(effective_labels=3)\n",
    "\n",
    "skipped = 0\n",
    "\n",
    "for art in annotated_articles:\n",
    "    if art.num_labels > art.effective_labels:\n",
    "        skipped +=1\n",
    "\n",
    "\n",
    "print(f\"Artículos totales: {Article.objects.count()}\")\n",
    "print(f\"Artículos con 3 anotaciones: {dataset_articles.count()}\")\n",
    "print(f\"Artículos con alguna anotación: {annotated_articles.filter(num_labels__gte=1).count()}\")\n",
    "print(f\"Artículos que no pasaron a tercera anotación: {skipped}\")"
   ]
  },
  {
   "cell_type": "markdown",
   "metadata": {},
   "source": [
    "Vamos a crear primero tabla de comentarios"
   ]
  },
  {
   "cell_type": "code",
   "execution_count": 3,
   "metadata": {},
   "outputs": [
    {
     "data": {
      "text/plain": [
       "Text(0.5, 1.0, 'Distribution of article dates')"
      ]
     },
     "execution_count": 3,
     "metadata": {},
     "output_type": "execute_result"
    },
    {
     "data": {
      "image/png": "[encoded data removed]",
      "text/plain": [
       "<Figure size 360x288 with 1 Axes>"
      ]
     },
     "metadata": {
      "needs_background": "light"
     },
     "output_type": "display_data"
    }
   ],
   "source": [
    "from datetime import datetime\n",
    "import seaborn as sns\n",
    "import matplotlib.pyplot as plt\n",
    "\n",
    "dates = [d.created_at for d in dataset_articles]\n",
    "\n",
    "ax = sns.displot(\n",
    "    x=dates, \n",
    "    kde=True, \n",
    "    height=4, aspect=1.25,\n",
    ")\n",
    "\n",
    "plt.title(\"Distribution of article dates\")"
   ]
  },
  {
   "cell_type": "code",
   "execution_count": 48,
   "metadata": {},
   "outputs": [
    {
     "data": {
      "text/plain": [
       "50"
      ]
     },
     "execution_count": 48,
     "metadata": {},
     "output_type": "execute_result"
    }
   ],
   "source": [
    "Article.objects.annotate(total_comments=Count('comment'))[0].total_comments"
   ]
  },
  {
   "cell_type": "code",
   "execution_count": 60,
   "metadata": {},
   "outputs": [
    {
     "data": {
      "text/plain": [
       "{'user': 'LANACION', 'total': 222}"
      ]
     },
     "execution_count": 60,
     "metadata": {},
     "output_type": "execute_result"
    }
   ],
   "source": [
    "q[0]"
   ]
  },
  {
   "cell_type": "code",
   "execution_count": 101,
   "metadata": {},
   "outputs": [
    {
     "data": {
      "text/html": [
       "<div>\n",
       "<style scoped>\n",
       "    .dataframe tbody tr th:only-of-type {\n",
       "        vertical-align: middle;\n",
       "    }\n",
       "\n",
       "    .dataframe tbody tr th {\n",
       "        vertical-align: top;\n",
       "    }\n",
       "\n",
       "    .dataframe thead th {\n",
       "        text-align: right;\n",
       "    }\n",
       "</style>\n",
       "<table border=\"1\" class=\"dataframe\">\n",
       "  <thead>\n",
       "    <tr style=\"text-align: right;\">\n",
       "      <th></th>\n",
       "      <th>#Articles</th>\n",
       "      <th>#Comments</th>\n",
       "    </tr>\n",
       "    <tr>\n",
       "      <th>user</th>\n",
       "      <th></th>\n",
       "      <th></th>\n",
       "    </tr>\n",
       "  </thead>\n",
       "  <tbody>\n",
       "    <tr>\n",
       "      <th>infobae</th>\n",
       "      <td>590</td>\n",
       "      <td>26834</td>\n",
       "    </tr>\n",
       "    <tr>\n",
       "      <th>clarincom</th>\n",
       "      <td>370</td>\n",
       "      <td>17501</td>\n",
       "    </tr>\n",
       "    <tr>\n",
       "      <th>LANACION</th>\n",
       "      <td>222</td>\n",
       "      <td>10378</td>\n",
       "    </tr>\n",
       "    <tr>\n",
       "      <th>cronica</th>\n",
       "      <td>42</td>\n",
       "      <td>1562</td>\n",
       "    </tr>\n",
       "    <tr>\n",
       "      <th>perfilcom</th>\n",
       "      <td>14</td>\n",
       "      <td>594</td>\n",
       "    </tr>\n",
       "  </tbody>\n",
       "</table>\n",
       "</div>"
      ],
      "text/plain": [
       "           #Articles  #Comments\n",
       "user                           \n",
       "infobae          590      26834\n",
       "clarincom        370      17501\n",
       "LANACION         222      10378\n",
       "cronica           42       1562\n",
       "perfilcom         14        594"
      ]
     },
     "execution_count": 101,
     "metadata": {},
     "output_type": "execute_result"
    }
   ],
   "source": [
    "from django.db.models import Sum\n",
    "import pandas as pd\n",
    "\n",
    "\"\"\"\n",
    "Me cansé, vamos con Pandas\n",
    "\"\"\"\n",
    "q = Article.objects.filter(id__in=[d.id for d in dataset_articles])\n",
    "\n",
    "\n",
    "\n",
    "\n",
    "df_count = pd.DataFrame([{\n",
    "    \"user\": art.user,\n",
    "    \"num comments\": art.comment_set.count(),\n",
    "} for art in q])\n",
    "#df_count.plot(y=\"total\", kind=\"pie\", figsize=(5, 5), legend=False)\n",
    "#plt.ylabel(\"\")\n",
    "\n",
    "df_sum = df_count.groupby(\"user\").sum('num comments')\n",
    "df_num_articles = df_count.groupby(\"user\").count()\n",
    "\n",
    "df = pd.concat([df_num_articles, df_sum], axis=1)\n",
    "df.columns = [\"#Articles\", \"#Comments\"]\n",
    "df = df.sort_values(\"#Articles\", ascending=False)\n",
    "df"
   ]
  },
  {
   "cell_type": "code",
   "execution_count": 102,
   "metadata": {},
   "outputs": [
    {
     "name": "stdout",
     "output_type": "stream",
     "text": [
      "\\begin{tabular}{lrr}\n",
      "\\toprule\n",
      "{} &  \\#Articles &  \\#Comments \\\\\n",
      "user      &            &            \\\\\n",
      "\\midrule\n",
      "infobae   &        590 &      26834 \\\\\n",
      "clarincom &        370 &      17501 \\\\\n",
      "LANACION  &        222 &      10378 \\\\\n",
      "cronica   &         42 &       1562 \\\\\n",
      "perfilcom &         14 &        594 \\\\\n",
      "\\bottomrule\n",
      "\\end{tabular}\n",
      "\n"
     ]
    }
   ],
   "source": [
    "print(df.to_latex())"
   ]
  },
  {
   "cell_type": "code",
   "execution_count": 4,
   "metadata": {},
   "outputs": [
    {
     "data": {
      "text/html": [
       "<div>\n",
       "<style scoped>\n",
       "    .dataframe tbody tr th:only-of-type {\n",
       "        vertical-align: middle;\n",
       "    }\n",
       "\n",
       "    .dataframe tbody tr th {\n",
       "        vertical-align: top;\n",
       "    }\n",
       "\n",
       "    .dataframe thead th {\n",
       "        text-align: right;\n",
       "    }\n",
       "</style>\n",
       "<table border=\"1\" class=\"dataframe\">\n",
       "  <thead>\n",
       "    <tr style=\"text-align: right;\">\n",
       "      <th></th>\n",
       "      <th>article_id</th>\n",
       "      <th>text</th>\n",
       "      <th>user_id</th>\n",
       "    </tr>\n",
       "    <tr>\n",
       "      <th>comment_id</th>\n",
       "      <th></th>\n",
       "      <th></th>\n",
       "      <th></th>\n",
       "    </tr>\n",
       "  </thead>\n",
       "  <tbody>\n",
       "    <tr>\n",
       "      <th>1241513939499876354</th>\n",
       "      <td>1241486782178435072</td>\n",
       "      <td>@usuario Momento oportuno para hacer esa movid...</td>\n",
       "      <td>1173653523478851593</td>\n",
       "    </tr>\n",
       "    <tr>\n",
       "      <th>1241524087773593600</th>\n",
       "      <td>1241486782178435072</td>\n",
       "      <td>@usuario vienen medicos cubanos... ahhh pero n...</td>\n",
       "      <td>2492207160</td>\n",
       "    </tr>\n",
       "    <tr>\n",
       "      <th>1241493802222850049</th>\n",
       "      <td>1241486782178435072</td>\n",
       "      <td>@usuario Otros virus más?</td>\n",
       "      <td>900774786736979969</td>\n",
       "    </tr>\n",
       "    <tr>\n",
       "      <th>1241776452300869632</th>\n",
       "      <td>1241486782178435072</td>\n",
       "      <td>@usuario Quien diría q un día Cristina estaría...</td>\n",
       "      <td>1218288879800811521</td>\n",
       "    </tr>\n",
       "    <tr>\n",
       "      <th>1241801967669776384</th>\n",
       "      <td>1241486782178435072</td>\n",
       "      <td>@usuario Ya que no devuelven TODO,es lo menos ...</td>\n",
       "      <td>3144238919</td>\n",
       "    </tr>\n",
       "    <tr>\n",
       "      <th>...</th>\n",
       "      <td>...</td>\n",
       "      <td>...</td>\n",
       "      <td>...</td>\n",
       "    </tr>\n",
       "    <tr>\n",
       "      <th>1357362025203200002</th>\n",
       "      <td>1357326733058461696</td>\n",
       "      <td>@usuario Nunca olvidar que este gobierno hizo ...</td>\n",
       "      <td>147954815</td>\n",
       "    </tr>\n",
       "    <tr>\n",
       "      <th>1357358187712757762</th>\n",
       "      <td>1357326733058461696</td>\n",
       "      <td>@usuario Esos pseudohumanos nos están matando ...</td>\n",
       "      <td>150045518</td>\n",
       "    </tr>\n",
       "    <tr>\n",
       "      <th>1357528904228081664</th>\n",
       "      <td>1357326733058461696</td>\n",
       "      <td>@usuario Que tristeza dios mio, que en paz des...</td>\n",
       "      <td>615411644</td>\n",
       "    </tr>\n",
       "    <tr>\n",
       "      <th>1357436509612294147</th>\n",
       "      <td>1357326733058461696</td>\n",
       "      <td>@usuario ¿¿¿ Y QUE LES ESPERA A LOS MALDITOS A...</td>\n",
       "      <td>1330932770961580033</td>\n",
       "    </tr>\n",
       "    <tr>\n",
       "      <th>1357458933196193794</th>\n",
       "      <td>1357326733058461696</td>\n",
       "      <td>@usuario Después de leer esto dan ganas de sal...</td>\n",
       "      <td>1132308890</td>\n",
       "    </tr>\n",
       "  </tbody>\n",
       "</table>\n",
       "<p>56869 rows × 3 columns</p>\n",
       "</div>"
      ],
      "text/plain": [
       "                              article_id  \\\n",
       "comment_id                                 \n",
       "1241513939499876354  1241486782178435072   \n",
       "1241524087773593600  1241486782178435072   \n",
       "1241493802222850049  1241486782178435072   \n",
       "1241776452300869632  1241486782178435072   \n",
       "1241801967669776384  1241486782178435072   \n",
       "...                                  ...   \n",
       "1357362025203200002  1357326733058461696   \n",
       "1357358187712757762  1357326733058461696   \n",
       "1357528904228081664  1357326733058461696   \n",
       "1357436509612294147  1357326733058461696   \n",
       "1357458933196193794  1357326733058461696   \n",
       "\n",
       "                                                                  text  \\\n",
       "comment_id                                                               \n",
       "1241513939499876354  @usuario Momento oportuno para hacer esa movid...   \n",
       "1241524087773593600  @usuario vienen medicos cubanos... ahhh pero n...   \n",
       "1241493802222850049                          @usuario Otros virus más?   \n",
       "1241776452300869632  @usuario Quien diría q un día Cristina estaría...   \n",
       "1241801967669776384  @usuario Ya que no devuelven TODO,es lo menos ...   \n",
       "...                                                                ...   \n",
       "1357362025203200002  @usuario Nunca olvidar que este gobierno hizo ...   \n",
       "1357358187712757762  @usuario Esos pseudohumanos nos están matando ...   \n",
       "1357528904228081664  @usuario Que tristeza dios mio, que en paz des...   \n",
       "1357436509612294147  @usuario ¿¿¿ Y QUE LES ESPERA A LOS MALDITOS A...   \n",
       "1357458933196193794  @usuario Después de leer esto dan ganas de sal...   \n",
       "\n",
       "                                 user_id  \n",
       "comment_id                                \n",
       "1241513939499876354  1173653523478851593  \n",
       "1241524087773593600           2492207160  \n",
       "1241493802222850049   900774786736979969  \n",
       "1241776452300869632  1218288879800811521  \n",
       "1241801967669776384           3144238919  \n",
       "...                                  ...  \n",
       "1357362025203200002            147954815  \n",
       "1357358187712757762            150045518  \n",
       "1357528904228081664            615411644  \n",
       "1357436509612294147  1330932770961580033  \n",
       "1357458933196193794           1132308890  \n",
       "\n",
       "[56869 rows x 3 columns]"
      ]
     },
     "execution_count": 4,
     "metadata": {},
     "output_type": "execute_result"
    }
   ],
   "source": [
    "\n",
    "\n",
    "comments = pd.DataFrame([{\n",
    "    \"comment_id\": comment.tweet_id,\n",
    "    \"article_id\": art.tweet_id,\n",
    "    \"text\": comment.text,\n",
    "    \"user_id\": comment.user_id,\n",
    "} for art in dataset_articles for comment in art.comment_set.all()])\n",
    "\n",
    "comments.set_index(\"comment_id\", inplace=True)\n",
    "\n",
    "comments"
   ]
  },
  {
   "cell_type": "code",
   "execution_count": 5,
   "metadata": {},
   "outputs": [
    {
     "data": {
      "text/plain": [
       "[]"
      ]
     },
     "execution_count": 5,
     "metadata": {},
     "output_type": "execute_result"
    },
    {
     "data": {
      "image/png": "[encoded data removed]",
      "text/plain": [
       "<Figure size 432x288 with 1 Axes>"
      ]
     },
     "metadata": {
      "needs_background": "light"
     },
     "output_type": "display_data"
    }
   ],
   "source": [
    "user_counts = comments[\"user_id\"].value_counts().to_frame(\"number of comments\")\n",
    "sns.histplot(data=user_counts, x=\"number of comments\", hue=None, bins=12)\n",
    "\n",
    "plt.ylabel(\"Number of users\")\n",
    "plt.xlabel(\"Number of comments\")\n",
    "plt.title(\"Histogram of number of comments per user\")\n",
    "plt.semilogy()"
   ]
  },
  {
   "cell_type": "markdown",
   "metadata": {},
   "source": [
    "Vamos a serializar esto:"
   ]
  },
  {
   "cell_type": "code",
   "execution_count": 60,
   "metadata": {},
   "outputs": [
    {
     "data": {
      "application/vnd.jupyter.widget-view+json": {
       "model_id": "cc785eed044342c88060c3df210dd340",
       "version_major": 2,
       "version_minor": 0
      },
      "text/plain": [
       "  0%|          | 0/1238 [00:00<?, ?it/s]"
      ]
     },
     "metadata": {},
     "output_type": "display_data"
    }
   ],
   "source": [
    "from dataset import CommentSerializer, ArticleSerializer, field_mapping\n",
    "\n",
    "\n",
    "serializer = CommentSerializer()\n",
    "article_serializer = ArticleSerializer()\n",
    "\n",
    "articles = []\n",
    "comments = []\n",
    "\n",
    "\n",
    "finished_articles = annotated_articles.filter(effective_labels=3).prefetch_related('comment_set', 'labels')\n",
    "ignored_labels = 0\n",
    "\n",
    "for article in tqdm(finished_articles):\n",
    "    articles.append(article_serializer.serialize(article))\n",
    "    for comment in article.comment_set.all():    \n",
    "        new_comment = serializer.serialize(comment)\n",
    "        comments.append(new_comment)"
   ]
  },
  {
   "cell_type": "markdown",
   "metadata": {},
   "source": [
    "Veamos la forma de alguno"
   ]
  },
  {
   "cell_type": "code",
   "execution_count": 61,
   "metadata": {},
   "outputs": [
    {
     "data": {
      "text/plain": [
       "{'id': 327917,\n",
       " 'text': '@usuario vienen medicos cubanos... ahhh pero no veo ninguna ayuda norteamericana, quienes ni siquiera les importa, seguro que ellos generaron esto, lacras de mierda',\n",
       " 'article_id': 1241486782178435072,\n",
       " 'annotators': ['annotator_5', 'annotator_2', 'annotator_1'],\n",
       " 'HATE': ['annotator_2'],\n",
       " 'CALLS': [],\n",
       " 'WOMEN': [],\n",
       " 'LGBTI': [],\n",
       " 'RACISM': ['annotator_2'],\n",
       " 'CLASS': [],\n",
       " 'POLITICS': [],\n",
       " 'DISABLED': [],\n",
       " 'APPEARANCE': [],\n",
       " 'CRIMINAL': []}"
      ]
     },
     "execution_count": 61,
     "metadata": {},
     "output_type": "execute_result"
    }
   ],
   "source": [
    "next(c for c in comments if c[\"HATE\"])"
   ]
  },
  {
   "cell_type": "code",
   "execution_count": 63,
   "metadata": {},
   "outputs": [
    {
     "data": {
      "text/plain": [
       "Text(0.5, 1.0, 'Histogram of hateful annotations per comment')"
      ]
     },
     "execution_count": 63,
     "metadata": {},
     "output_type": "execute_result"
    },
    {
     "data": {
      "image/png": "[encoded data removed]",
      "text/plain": [
       "<Figure size 432x288 with 1 Axes>"
      ]
     },
     "metadata": {
      "needs_background": "light"
     },
     "output_type": "display_data"
    }
   ],
   "source": [
    "import seaborn as sns\n",
    "import matplotlib.pyplot as plt\n",
    "\n",
    "\n",
    "sns.histplot(x=[len(c['HATE']) for c in comments], bins=[0, 0.99, 1.99, 2.99, 3.99])\n",
    "\n",
    "plt.xticks([0.5, 1.5, 2.5, 3.5], [0, 1, 2, 3])\n",
    "plt.xlabel(\"#Annotations as hateful\")\n",
    "plt.ylabel(\"Number of comments\")\n",
    "plt.semilogy()\n",
    "plt.title(\"Histogram of hateful annotations per comment\")"
   ]
  },
  {
   "cell_type": "code",
   "execution_count": 9,
   "metadata": {},
   "outputs": [
    {
     "name": "stdout",
     "output_type": "stream",
     "text": [
      "Comentarios totales                             : 56869\n",
      "Comentarios con >= 1 etiqueta de discriminación : 13366\n",
      "Comentarios con >= 2 etiqueta de discriminación : 8715\n",
      "Comentarios con >= 3 etiqueta de discriminación : 4514\n",
      "Ratio de comentarios odiosos (>= 2) sobre totales = 0.153\n"
     ]
    }
   ],
   "source": [
    "possibly_hateful = len([c for c in comments if len(c['HATE']) > 0])\n",
    "hateful = len([c for c in comments if len(c['HATE']) >= 2])\n",
    "\n",
    "full_agreement = len([c for c in comments if len(c['HATE']) == 3])\n",
    "\n",
    "print(f\"Comentarios totales                             : {len(comments)}\")\n",
    "print(f\"Comentarios con >= 1 etiqueta de discriminación : {possibly_hateful}\")\n",
    "print(f\"Comentarios con >= 2 etiqueta de discriminación : {hateful}\")\n",
    "print(f\"Comentarios con >= 3 etiqueta de discriminación : {full_agreement}\")\n",
    "print(f\"Ratio de comentarios odiosos (>= 2) sobre totales = {hateful / len(comments):.3f}\")"
   ]
  },
  {
   "cell_type": "markdown",
   "metadata": {},
   "source": [
    "## Agreement"
   ]
  },
  {
   "cell_type": "code",
   "execution_count": 10,
   "metadata": {},
   "outputs": [
    {
     "data": {
      "application/vnd.jupyter.widget-view+json": {
       "model_id": "be1800a695a6457988b8176c122fdb6d",
       "version_major": 2,
       "version_minor": 0
      },
      "text/plain": [
       "  0%|          | 0/4769 [00:10<?, ?it/s]"
      ]
     },
     "metadata": {},
     "output_type": "display_data"
    }
   ],
   "source": [
    "from api.metrics import AgreementCalculator\n",
    "\n",
    "calculator = AgreementCalculator(articles=dataset_articles)"
   ]
  },
  {
   "cell_type": "code",
   "execution_count": 11,
   "metadata": {},
   "outputs": [],
   "source": [
    "calculator.users = None"
   ]
  },
  {
   "cell_type": "code",
   "execution_count": 12,
   "metadata": {},
   "outputs": [
    {
     "data": {
      "text/html": [
       "<div>\n",
       "<style scoped>\n",
       "    .dataframe tbody tr th:only-of-type {\n",
       "        vertical-align: middle;\n",
       "    }\n",
       "\n",
       "    .dataframe tbody tr th {\n",
       "        vertical-align: top;\n",
       "    }\n",
       "\n",
       "    .dataframe thead th {\n",
       "        text-align: right;\n",
       "    }\n",
       "</style>\n",
       "<table border=\"1\" class=\"dataframe\">\n",
       "  <thead>\n",
       "    <tr style=\"text-align: right;\">\n",
       "      <th></th>\n",
       "      <th>Agreement</th>\n",
       "    </tr>\n",
       "    <tr>\n",
       "      <th>Category</th>\n",
       "      <th></th>\n",
       "    </tr>\n",
       "  </thead>\n",
       "  <tbody>\n",
       "    <tr>\n",
       "      <th>HATE</th>\n",
       "      <td>0.579610</td>\n",
       "    </tr>\n",
       "    <tr>\n",
       "      <th>CALLS</th>\n",
       "      <td>0.641360</td>\n",
       "    </tr>\n",
       "    <tr>\n",
       "      <th>MUJER</th>\n",
       "      <td>0.783391</td>\n",
       "    </tr>\n",
       "    <tr>\n",
       "      <th>LGBTI</th>\n",
       "      <td>0.920701</td>\n",
       "    </tr>\n",
       "    <tr>\n",
       "      <th>RACISMO</th>\n",
       "      <td>0.929094</td>\n",
       "    </tr>\n",
       "    <tr>\n",
       "      <th>POBREZA</th>\n",
       "      <td>0.706778</td>\n",
       "    </tr>\n",
       "    <tr>\n",
       "      <th>DISCAPACIDAD</th>\n",
       "      <td>0.849856</td>\n",
       "    </tr>\n",
       "    <tr>\n",
       "      <th>POLITICA</th>\n",
       "      <td>0.808519</td>\n",
       "    </tr>\n",
       "    <tr>\n",
       "      <th>ASPECTO</th>\n",
       "      <td>0.871752</td>\n",
       "    </tr>\n",
       "    <tr>\n",
       "      <th>CRIMINAL</th>\n",
       "      <td>0.931163</td>\n",
       "    </tr>\n",
       "  </tbody>\n",
       "</table>\n",
       "</div>"
      ],
      "text/plain": [
       "              Agreement\n",
       "Category               \n",
       "HATE           0.579610\n",
       "CALLS          0.641360\n",
       "MUJER          0.783391\n",
       "LGBTI          0.920701\n",
       "RACISMO        0.929094\n",
       "POBREZA        0.706778\n",
       "DISCAPACIDAD   0.849856\n",
       "POLITICA       0.808519\n",
       "ASPECTO        0.871752\n",
       "CRIMINAL       0.931163"
      ]
     },
     "execution_count": 12,
     "metadata": {},
     "output_type": "execute_result"
    }
   ],
   "source": [
    "categories = [\n",
    "    'HATE',\n",
    "    'CALLS',\n",
    "    'MUJER',\n",
    "    'LGBTI',\n",
    "    'RACISMO',\n",
    "    'POBREZA',\n",
    "    'DISCAPACIDAD',\n",
    "    'POLITICA',\n",
    "    'ASPECTO',\n",
    "    'CRIMINAL',\n",
    "]\n",
    "\n",
    "agreement_df = pd.DataFrame([{\n",
    "    \"Category\": category,\n",
    "    \"Agreement\": calculator.get_agreement(on=category)[0],\n",
    "} for category in categories])\n",
    "agreement_df.set_index(\"Category\")"
   ]
  },
  {
   "cell_type": "markdown",
   "metadata": {},
   "source": [
    "Obs: acá los agreements por categorías se ven sólo en aquellos comentarios que son marcados como odiosos, y sólo entre aquellos\n",
    "\n",
    "En términos de cómo calculamos el alpha de Krippendorff: supongamos que estamos calculando el agreement de MUJER. Si anotador A1 y A2 marcaron como odioso C1, y ambos marcaron mujer => en ambos va 1. Anotador A3 no marcó como odioso ese comentario => va nan. En C2, A1 no marcó como odioso y A2 y A3 marcaron como odioso contra MUJER. En C3, A3 no marcó odioso, y A1 sí pero sin marcar MUJER y A2 marcó odioso y MUJER.\n",
    "\n",
    "La matriz quedaría así:\n",
    "\n",
    "|   |C1   |C2    | C3   |\n",
    "|---|-----|------|------|\n",
    "|A1 | 1   | nan  | 0    |\n",
    "|A2 | 1   | 1    | 1    |\n",
    "|A3 | nan | 1    | nan  |"
   ]
  },
  {
   "cell_type": "markdown",
   "metadata": {},
   "source": [
    "## Asignación\n",
    "\n"
   ]
  },
  {
   "cell_type": "code",
   "execution_count": 16,
   "metadata": {},
   "outputs": [],
   "source": [
    "\n",
    "raw_articles = articles\n",
    "raw_comments = comments"
   ]
  },
  {
   "cell_type": "code",
   "execution_count": 23,
   "metadata": {},
   "outputs": [
    {
     "data": {
      "application/vnd.jupyter.widget-view+json": {
       "model_id": "9dbf08751aea454b9067cc812f7dbad0",
       "version_major": 2,
       "version_minor": 0
      },
      "text/plain": [
       "  0%|          | 0/56869 [00:00<?, ?it/s]"
      ]
     },
     "metadata": {},
     "output_type": "display_data"
    }
   ],
   "source": [
    "hate_categories = [\n",
    "    'WOMEN',\n",
    "    'LGBTI',\n",
    "    'RACISM',\n",
    "    'CLASS',\n",
    "    'DISABLED',\n",
    "    'POLITICS',\n",
    "    'APPEARANCE',\n",
    "    'CRIMINAL',\n",
    "]\n",
    "\n",
    "\n",
    "def process_comment(raw_comment):\n",
    "    \"\"\"\n",
    "    Process raw comment\n",
    "    \"\"\"\n",
    "    ret = {\n",
    "        \"id\": raw_comment[\"id\"],\n",
    "        \"text\": raw_comment[\"text\"],\n",
    "        \"HATEFUL\": int(len(raw_comment['HATE']) >= 2)\n",
    "    }\n",
    "    for cat in hate_categories + [\"CALLS\"]:\n",
    "        ret[cat] = 0\n",
    "\n",
    "    if ret[\"HATEFUL\"]:\n",
    "        ret[\"CALLS\"] = int(len(raw_comment['CALLS']) >= 2)\n",
    "\n",
    "        for category in hate_categories:\n",
    "            ret[category] = int(len(raw_comment[category]) > 0)\n",
    "\n",
    "    return ret\n",
    "\n",
    "articles = {art['tweet_id']:art for art in raw_articles}\n",
    "\n",
    "for art in articles.values():\n",
    "    art[\"comments\"] = []\n",
    "\n",
    "counts = []\n",
    "\n",
    "\n",
    "for comment in tqdm(raw_comments):\n",
    "    tweet_id = comment[\"article_id\"]\n",
    "    article = articles[tweet_id]\n",
    "    article[\"comments\"].append(\n",
    "        process_comment(comment)\n",
    "    )\n"
   ]
  },
  {
   "cell_type": "code",
   "execution_count": 32,
   "metadata": {},
   "outputs": [],
   "source": [
    "comments = [comment for _, article in articles.items() for comment in article[\"comments\"]]\n",
    "\n",
    "df_comments = pd.DataFrame(comments)\n",
    "\n",
    "df_comments.set_index(\"id\", inplace=True)\n",
    "df_comments[labelled_columns] = df_comments[labelled_columns].astype(bool)\n",
    "\n",
    "hateful_comments = df_comments[df_comments[\"HATEFUL\"]]"
   ]
  },
  {
   "cell_type": "code",
   "execution_count": 44,
   "metadata": {},
   "outputs": [
    {
     "data": {
      "text/plain": [
       "Text(0, 0.5, 'Number of comments')"
      ]
     },
     "execution_count": 44,
     "metadata": {},
     "output_type": "execute_result"
    },
    {
     "data": {
      "image/png": "[encoded data removed]",
      "text/plain": [
       "<Figure size 432x288 with 1 Axes>"
      ]
     },
     "metadata": {
      "needs_background": "light"
     },
     "output_type": "display_data"
    }
   ],
   "source": [
    "categories = [x for x in labelled_columns if x not in [\"HATEFUL\", \"CALLS\"]]\n",
    "hateful_comments[categories].sum().sort_values().plot(kind=\"bar\")\n",
    "\n",
    "plt.title(\"Number of hateful comments per offended category\")\n",
    "plt.ylabel(\"Number of comments\")"
   ]
  },
  {
   "cell_type": "code",
   "execution_count": 51,
   "metadata": {},
   "outputs": [
    {
     "data": {
      "text/plain": [
       "Text(0, 0.5, 'Number of comments')"
      ]
     },
     "execution_count": 51,
     "metadata": {},
     "output_type": "execute_result"
    },
    {
     "data": {
      "image/png": "[encoded data removed]",
      "text/plain": [
       "<Figure size 432x288 with 1 Axes>"
      ]
     },
     "metadata": {
      "needs_background": "light"
     },
     "output_type": "display_data"
    }
   ],
   "source": [
    "categories = [x for x in labelled_columns if x not in [\"HATEFUL\", \"CALLS\"]]\n",
    "hateful_comments[categories].sum(axis=1).value_counts().plot(kind=\"bar\")\n",
    "\n",
    "\n",
    "plt.semilogy()\n",
    "plt.title(\"Distribution of number of offended categories per hateful message\")\n",
    "\n",
    "plt.xlabel(\"Number of offended categories\")\n",
    "plt.ylabel(\"Number of comments\")"
   ]
  },
  {
   "cell_type": "code",
   "execution_count": 58,
   "metadata": {},
   "outputs": [
    {
     "data": {
      "text/plain": [
       "Text(0.5, 1.0, 'Correlation between offended categories')"
      ]
     },
     "execution_count": 58,
     "metadata": {},
     "output_type": "execute_result"
    },
    {
     "data": {
      "image/png": "[encoded data removed]",
      "text/plain": [
       "<Figure size 432x288 with 2 Axes>"
      ]
     },
     "metadata": {
      "needs_background": "light"
     },
     "output_type": "display_data"
    }
   ],
   "source": [
    "sns.heatmap(hateful_comments[categories].corr())\n",
    "\n",
    "plt.title(\"Correlation between offended categories\")"
   ]
  },
  {
   "cell_type": "code",
   "execution_count": null,
   "metadata": {},
   "outputs": [],
   "source": []
  }
 ],
 "metadata": {
  "kernelspec": {
   "display_name": "Python 3",
   "language": "python",
   "name": "python3"
  },
  "language_info": {
   "codemirror_mode": {
    "name": "ipython",
    "version": 3
   },
   "file_extension": ".py",
   "mimetype": "text/x-python",
   "name": "python",
   "nbconvert_exporter": "python",
   "pygments_lexer": "ipython3",
   "version": "3.8.6"
  }
 },
 "nbformat": 4,
 "nbformat_minor": 4
}
