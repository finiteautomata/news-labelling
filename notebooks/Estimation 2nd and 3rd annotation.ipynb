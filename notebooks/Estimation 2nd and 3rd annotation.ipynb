{
 "cells": [
  {
   "cell_type": "code",
   "execution_count": 3,
   "metadata": {},
   "outputs": [
    {
     "name": "stdout",
     "output_type": "stream",
     "text": [
      "The autoreload extension is already loaded. To reload it, use:\n",
      "  %reload_ext autoreload\n"
     ]
    }
   ],
   "source": [
    "%load_ext autoreload\n",
    "%autoreload 2\n",
    "import os\n",
    "import sys\n",
    "import django\n",
    "from tqdm.auto import tqdm\n",
    "\n",
    "os.environ[\"DJANGO_ALLOW_ASYNC_UNSAFE\"] = \"true\"\n",
    "\n",
    "sys.path.append(\"..\")\n",
    "os.environ['DJANGO_SETTINGS_MODULE'] = 'news_labelling.settings'\n",
    "django.setup()\n",
    "\n",
    "from api.models import Comment, ArticleLabel, CommentLabel, Article, Batch\n",
    "from django.contrib.auth.models import User"
   ]
  },
  {
   "cell_type": "code",
   "execution_count": 10,
   "metadata": {},
   "outputs": [
    {
     "name": "stdout",
     "output_type": "stream",
     "text": [
      "De los 96 artículos salteados algún otro anotador anotó 74\n",
      "Habría que reanotar 187 comentarios\n"
     ]
    }
   ],
   "source": [
    "skipped_labels = ArticleLabel.objects.filter(is_interesting=False).prefetch_related(\n",
    "        'article', 'user'\n",
    ")\n",
    "\n",
    "annotated = set()\n",
    "skipped = set()\n",
    "\n",
    "skipped_articles = {label.article for label in skipped_labels}\n",
    "comments_to_reannotate = 0\n",
    "for article in skipped_articles:\n",
    "    skipped.add(article)\n",
    "    if article.labels.filter(is_interesting=True).exists():\n",
    "        article_labels = article.labels.filter(is_interesting=True).prefetch_related('comment_labels', 'comment_labels__comment')\n",
    "        \n",
    "        to_reannotate = {comment_label.comment\n",
    "            for article_label in article_labels\n",
    "            for comment_label in article_label.comment_labels.all()\n",
    "            if comment_label.is_hateful\n",
    "        }\n",
    "        \n",
    "        comments_to_reannotate += len(to_reannotate)\n",
    "        \n",
    "        annotated.add(article)\n",
    "\n",
    "\n",
    "print(f\"De los {len(skipped)} artículos salteados algún otro anotador anotó {len(annotated)}\")\n",
    "print(f\"Habría que reanotar {comments_to_reannotate} comentarios\")"
   ]
  },
  {
   "cell_type": "markdown",
   "metadata": {},
   "source": [
    "## 3ra anotación\n",
    "\n",
    "¿Cuántos tendríamos que meterle 3ra anotación?\n",
    "\n",
    "Segurísimo: los que tienen al menos una anotación positiva"
   ]
  },
  {
   "cell_type": "code",
   "execution_count": 11,
   "metadata": {},
   "outputs": [
    {
     "name": "stdout",
     "output_type": "stream",
     "text": [
      "3777\n"
     ]
    }
   ],
   "source": [
    "possibly_hateful = {label.comment for label in CommentLabel.objects.filter(is_hateful=True)}\n",
    "\n",
    "print(len(possibly_hateful))"
   ]
  },
  {
   "cell_type": "markdown",
   "metadata": {},
   "source": [
    "Esto ahora mismo serían aproximadamente 75 artículos de 50 comentarios\n",
    "\n",
    "¿Cuántos comentarios anotados tenemos?"
   ]
  },
  {
   "cell_type": "code",
   "execution_count": 16,
   "metadata": {},
   "outputs": [
    {
     "data": {
      "text/plain": [
       "18295"
      ]
     },
     "execution_count": 16,
     "metadata": {},
     "output_type": "execute_result"
    }
   ],
   "source": [
    "len({label.comment for label in CommentLabel.objects.all()})"
   ]
  },
  {
   "cell_type": "code",
   "execution_count": 15,
   "metadata": {},
   "outputs": [
    {
     "data": {
      "text/plain": [
       "0.20644984968570648"
      ]
     },
     "execution_count": 15,
     "metadata": {},
     "output_type": "execute_result"
    }
   ],
   "source": [
    "3777/18295"
   ]
  },
  {
   "cell_type": "markdown",
   "metadata": {},
   "source": [
    "Necesitamos reanotar cerca del 20% de los comentarios. O sea, un 20% más del trabajo ya hecho"
   ]
  }
 ],
 "metadata": {
  "kernelspec": {
   "display_name": "Python 3",
   "language": "python",
   "name": "python3"
  },
  "language_info": {
   "codemirror_mode": {
    "name": "ipython",
    "version": 3
   },
   "file_extension": ".py",
   "mimetype": "text/x-python",
   "name": "python",
   "nbconvert_exporter": "python",
   "pygments_lexer": "ipython3",
   "version": "3.8.5"
  }
 },
 "nbformat": 4,
 "nbformat_minor": 4
}
