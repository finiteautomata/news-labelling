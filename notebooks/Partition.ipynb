{
 "cells": [
  {
   "cell_type": "markdown",
   "metadata": {},
   "source": [
    "# Slots\n",
    "\n",
    "Veamos el tema de hacer slots para todo el dataset "
   ]
  },
  {
   "cell_type": "code",
   "execution_count": 12,
   "metadata": {},
   "outputs": [
    {
     "name": "stdout",
     "output_type": "stream",
     "text": [
      "The autoreload extension is already loaded. To reload it, use:\n",
      "  %reload_ext autoreload\n"
     ]
    }
   ],
   "source": [
    "%load_ext autoreload\n",
    "%autoreload 2\n",
    "import os\n",
    "import sys\n",
    "import django\n",
    "from tqdm.auto import tqdm\n",
    "\n",
    "os.environ[\"DJANGO_ALLOW_ASYNC_UNSAFE\"] = \"true\"\n",
    "\n",
    "sys.path.append(\"..\")\n",
    "os.environ['DJANGO_SETTINGS_MODULE'] = 'news_labelling.settings'\n",
    "django.setup()\n",
    "\n",
    "from api.models import Comment, ArticleLabel, CommentLabel, Article, Assignment\n",
    "from django.contrib.auth.models import User"
   ]
  },
  {
   "cell_type": "markdown",
   "metadata": {},
   "source": [
    "¿Cuáles quedaron fuera?\n"
   ]
  },
  {
   "cell_type": "markdown",
   "metadata": {},
   "source": [
    "Los que quedaron fuera: (falta uno creo!)\n",
    "\n",
    "- Verónica Magario pidió endurecer la cuarentena: “Debemos frenar la circulación de personas en el AMBA para evitar contagios”\n",
    "- Según un experto italiano, “el coronavirus se está debilitando y podría morir solo sin una vacuna”\n",
    "- Al borde de las lágrimas, Luis Brandoni convocó un banderazo en contra del Gobierno, pero “cumpliendo todos los protocolos”\n",
    "- Cecilia Roth: \"La marcha anticuarentena me pareció una irresponsabilidad sanitaria\"\n",
    "- Video: Jair Bolsonaro le hace upa a un hombre de talla baja pensando que era un niño\n",
    "- El proyecto del impuesto a la riqueza “está listo” y se presentará la próxima semana\n",
    "- Ante el cierre de los cines por la pandemia el presidente del INCAA quiere ponerle otro impuesto a Netflix\n",
    "- Filminas para todos, menos para Maduro\n",
    "- Sergio Berni: “Debemos ir a una cuarentena absoluta, mucho más rigurosa que al principio y sin transporte público”\n",
    "- Intentó violar a su novia y ella lo asesinó a escobazos"
   ]
  },
  {
   "cell_type": "markdown",
   "metadata": {},
   "source": [
    "Espectacular! Se fueron todas las notas malas!!! :-)"
   ]
  },
  {
   "cell_type": "code",
   "execution_count": 24,
   "metadata": {},
   "outputs": [
    {
     "name": "stdout",
     "output_type": "stream",
     "text": [
      "1 . (8694) 1242447731286777856 -- infobae -- El primer muerto en los motines de las cárceles de Santa Fe fue un barra de Colón\n",
      "2 . (8473) 1243147648238059520 -- infobae -- Escándalo en España: fallan los tests de coronavirus fabricados en China\n",
      "3 . (9004) 1247580175455444993 -- clarincom -- Condenan a ocho años de cárcel por corrupción al ex presidente ecuatoriano Rafael Correa\n",
      "4 . (9122) 1254951309469519875 -- infobae -- Thelma Fardin contó cómo sigue la causa contra Juan Darthés: “Brasil le permite la impunidad”\n",
      "5 . (8395) 1263868365468135430 -- LANACION -- Los piratas del siglo XXI se roban US$1000 millones por año del mar argentino\n",
      "6 . (8750) 1273676406614978561 -- LANACION -- \"Evolucionen\": Romina Malaspina hizo un fuerte descargo tras los comentarios sexistas por su look en el noticiero\n",
      "7 . (8284) 1277424269153239041 -- clarincom -- Ginés González García admite que prohibieron a los runners por una cuestión de imagen “más que por los contagios”\n",
      "8 . (8744) 1296244483655454720 -- clarincom -- Video: Jair Bolsonaro le hace upa a un hombre de talla baja pensando que era un niño\n",
      "9 . (8303) 1296507657189314566 -- infobae -- Cecilia Roth: “La marcha anticuarentena me pareció una irresponsabilidad sanitaria”\n",
      "10. (8766) 1302741866681491456 -- LANACION -- Luis Novaresio contó cómo será su boda con Braulio Bauab: \"Nos va a casar una rabina\"\n",
      "11. (9092) 1304290690306891776 -- cronica -- Intentó violar a su novia y ella lo asesinó a escobazos\n",
      "12. (8667) 1308084435590541312 -- clarincom -- Protestas y cortes en la Ciudad: piqueteros marcharon en la 9 de Julio a favor de la toma de tierras\n",
      "13. (8979) 1314005353353314304 -- infobae -- Así fue el minuto a minuto del debate entre los candidatos a vicepresidente de Estados Unidos\n"
     ]
    },
    {
     "name": "stderr",
     "output_type": "stream",
     "text": [
      "/home/jmperez/.local/share/virtualenvs/hatespeech-news-labelling-YFKq_jFG/lib/python3.8/site-packages/django/db/models/base.py:321: RuntimeWarning: Model 'api.batch' was already registered. Reloading models is not advised as it can lead to inconsistencies, most notably with related models.\n",
      "  new_class._meta.apps.register_model(new_class._meta.app_label, new_class)\n",
      "/home/jmperez/.local/share/virtualenvs/hatespeech-news-labelling-YFKq_jFG/lib/python3.8/site-packages/django/db/models/base.py:321: RuntimeWarning: Model 'api.batchassignment' was already registered. Reloading models is not advised as it can lead to inconsistencies, most notably with related models.\n",
      "  new_class._meta.apps.register_model(new_class._meta.app_label, new_class)\n"
     ]
    }
   ],
   "source": [
    "import json\n",
    "\n",
    "with open(\"../data/training_ids.json\") as f:\n",
    "    training_ids = json.load(f)\n",
    "    \n",
    "training_articles = Article.objects.filter(tweet_id__in=training_ids)\n",
    "\n",
    "training_articles.count()\n",
    "\n",
    "for i, art in enumerate(training_articles):\n",
    "    print(f\"{i+1:<2}. ({art.id}) {art.tweet_id} -- {art.user} -- {art.title}\")"
   ]
  },
  {
   "cell_type": "markdown",
   "metadata": {},
   "source": [
    "De INTERVIEW: \n",
    "\n",
    "- SI: @infobae: El primer muerto en los motines de las cárceles de Santa Fe fue un barra de Colón \n",
    "- SI: @infobae: Escándalo en España: fallan los tests de coronavirus fabricados en China \n",
    "- SI: @infobae: Cecilia Roth: “La marcha anticuarentena me pareció una irresponsabilidad sanitaria” \n",
    "- SI: @LANACION: Luis Novaresio contó cómo será su boda con Braulio Bauab: \"Nos va a casar una rabina\" \n",
    "- NO: @infobae: Thelma Fardin contó cómo sigue la causa contra Juan Darthés: “Brasil le permite la impunidad” \n",
    "\n",
    "\n",
    "Falta algo de movimientos sociales o algo así..."
   ]
  },
  {
   "cell_type": "code",
   "execution_count": null,
   "metadata": {},
   "outputs": [],
   "source": [
    "for "
   ]
  },
  {
   "cell_type": "markdown",
   "metadata": {},
   "source": [
    "## Demo ids"
   ]
  },
  {
   "cell_type": "code",
   "execution_count": 6,
   "metadata": {},
   "outputs": [
    {
     "name": "stdout",
     "output_type": "stream",
     "text": [
      "Collected article_ids\n",
      "[1242419653030313984, 1253699106385481728, 1254951309469519875, 1275389016511336448, 1310165736011239424]\n",
      "\n",
      "\n",
      " --------------------------------------------------------------------------------\n",
      "@infobae: Mariana Genesio Peña pasa su cuarentena total con guantes, barbijo y desnuda: “Mi cuerpo es el planeta Tierra” \n",
      "\n",
      " \n",
      "\n",
      "1242419653030313984\n",
      "\n",
      "\n",
      " --------------------------------------------------------------------------------\n",
      "@LANACION: Coronavirus. Motín en Devoto: \"Nos negamos a morir en la cárcel\" \n",
      "\n",
      " \n",
      "\n",
      "1253699106385481728\n",
      "\n",
      "\n",
      " --------------------------------------------------------------------------------\n",
      "@infobae: Thelma Fardin contó cómo sigue la causa contra Juan Darthés: “Brasil le permite la impunidad” \n",
      "\n",
      " \n",
      "\n",
      "1254951309469519875\n",
      "\n",
      "\n",
      " --------------------------------------------------------------------------------\n",
      "@infobae: China abrió su feria anual de carne de perro en plena pandemia mundial por coronavirus \n",
      "\n",
      " \n",
      "\n",
      "1275389016511336448\n",
      "\n",
      "\n",
      " --------------------------------------------------------------------------------\n",
      "@infobae: Padres pro Trump, hijo pro Biden: la intensa noche de una familia estadounidense discutiendo las elecciones \n",
      "\n",
      " \n",
      "\n",
      "1310165736011239424\n"
     ]
    }
   ],
   "source": [
    "\n",
    "with open(\"../data/demo_ids.json\") as f:\n",
    "    ids = json.load(f)\n",
    "\n",
    "\n",
    "\n",
    "demo_articles = Article.objects.filter(tweet_id__in=ids)\n",
    "\n",
    "print(\"Collected article_ids\")\n",
    "\n",
    "print([art.tweet_id for art in demo_articles])\n",
    "\n",
    "for art in demo_articles:\n",
    "    print(\"\\n\"*2, \"-\"*80)\n",
    "    \n",
    "    print(art, \"\\n\"*2,\"\\n\")\n",
    "    print(art.tweet_id)\n",
    "    continue\n",
    "    for i, comm in enumerate(art.comment_set.all()):\n",
    "        print(f\"{i+1:<5} - \",comm.text)\n",
    "\n",
    "\n",
    "    "
   ]
  },
  {
   "cell_type": "markdown",
   "metadata": {},
   "source": [
    "## Interview Articles\n"
   ]
  },
  {
   "cell_type": "code",
   "execution_count": 7,
   "metadata": {},
   "outputs": [],
   "source": [
    "art = Article.objects.all()[0]"
   ]
  },
  {
   "cell_type": "code",
   "execution_count": 8,
   "metadata": {},
   "outputs": [
    {
     "data": {
      "text/plain": [
       "'Article'"
      ]
     },
     "execution_count": 8,
     "metadata": {},
     "output_type": "execute_result"
    }
   ],
   "source": [
    "type(art).__name__"
   ]
  },
  {
   "cell_type": "code",
   "execution_count": 9,
   "metadata": {},
   "outputs": [
    {
     "name": "stdout",
     "output_type": "stream",
     "text": [
      "Collected article_ids\n",
      "[1242447731286777856, 1243147648238059520, 1254951309469519875, 1296507657189314566, 1302741866681491456]\n",
      "\n",
      "\n",
      " --------------------------------------------------------------------------------\n",
      "@infobae: El primer muerto en los motines de las cárceles de Santa Fe fue un barra de Colón \n",
      "\n",
      " \n",
      "\n",
      "\n",
      "\n",
      " --------------------------------------------------------------------------------\n",
      "@infobae: Escándalo en España: fallan los tests de coronavirus fabricados en China \n",
      "\n",
      " \n",
      "\n",
      "\n",
      "\n",
      " --------------------------------------------------------------------------------\n",
      "@infobae: Thelma Fardin contó cómo sigue la causa contra Juan Darthés: “Brasil le permite la impunidad” \n",
      "\n",
      " \n",
      "\n",
      "\n",
      "\n",
      " --------------------------------------------------------------------------------\n",
      "@infobae: Cecilia Roth: “La marcha anticuarentena me pareció una irresponsabilidad sanitaria” \n",
      "\n",
      " \n",
      "\n",
      "\n",
      "\n",
      " --------------------------------------------------------------------------------\n",
      "@LANACION: Luis Novaresio contó cómo será su boda con Braulio Bauab: \"Nos va a casar una rabina\" \n",
      "\n",
      " \n",
      "\n"
     ]
    }
   ],
   "source": [
    "import json\n",
    "with open(\"../data/interview_ids.json\") as f:\n",
    "    ids = json.load(f)\n",
    "\n",
    "interview_articles = Article.objects.filter(tweet_id__in=ids)\n",
    "\n",
    "print(\"Collected article_ids\")\n",
    "\n",
    "print([art.tweet_id for art in interview_articles])\n",
    "\n",
    "for art in interview_articles:\n",
    "    print(\"\\n\"*2, \"-\"*80)\n",
    "    \n",
    "    print(art, \"\\n\"*2,\"\\n\")\n",
    "    continue\n",
    "    for i, comm in enumerate(art.comment_set.all()):\n",
    "        print(f\"{i+1:<5} - \",comm.text)\n",
    "\n",
    "\n",
    "    "
   ]
  },
  {
   "cell_type": "code",
   "execution_count": 7,
   "metadata": {},
   "outputs": [],
   "source": [
    "import random\n",
    "\n",
    "all_articles = list(Article.objects.all())\n",
    "\n",
    "sample_articles = random.sample(all_articles, 10)"
   ]
  },
  {
   "cell_type": "code",
   "execution_count": 9,
   "metadata": {},
   "outputs": [
    {
     "name": "stdout",
     "output_type": "stream",
     "text": [
      "\n",
      "\n",
      " --------------------------------------------------------------------------------\n",
      "1293660570240143360 @clarincom: “Les pibis”, la expresión con lenguaje inclusivo de un joven funcionario nacional que estalló en las redes \n",
      "\n",
      " {'trolo -\"no seas\" -\"no sean\"': 2, '\"planero\"': 1, 'negro -\"en negro\" -\"Rio\" -\"peste\" -\"humor negro\"': 1} \n",
      "\n",
      "@usuario yo pensé que era  lis pibis.\n",
      "@usuario Gobierno de mierda ,con ideas de mierda para robar  y a la mierda todo !\n",
      "@usuario Que mamarracho que son\n",
      "@usuario Cada que incluya con la vocal que se le antoje, menos la o.\n",
      "@usuario Todo lo que tocan lo destruyen, también van por la lengua española que es tan rica y maravillosa!!!!\n",
      "\n",
      "\n",
      " --------------------------------------------------------------------------------\n",
      "1235579313224900610 @clarincom: Mauricio Macri fue escrachado en un avión: “Ladrón, arruinaste el país” \n",
      "\n",
      " {'feministas': 26, 'aborteras': 1, 'trolo -\"no seas\" -\"no sean\"': 2, '\"sucios\"': 1, '\"una bomba\"': 1, '\"planero\"': 2, 'negro -\"en negro\" -\"Rio\" -\"peste\" -\"humor negro\"': 15, '\"bala\"': 1, '\"gorda\"': 2} \n",
      "\n",
      "@usuario Kirchnerista ladrona seguro.\n",
      "#GobernadosporCorruptos\n",
      "@usuario El mejor presidente de los últimos años\n",
      "@usuario Honor y gloria a esa mujer\n",
      "@usuario Con que necesidad\n",
      "@usuario Que bueno. Alguien  se dio cuenta.\n",
      "\n",
      "\n",
      " --------------------------------------------------------------------------------\n",
      "1297840459218288642 @infobae: Cómo funciona la violencia machista en las redes sociales: el caso de las mujeres que participan en política \n",
      "\n",
      " {'feministas': 4} \n",
      "\n",
      "@usuario creo que el que sabe del mucho del tema es Alberto F., con solo ver sus twits hace un año atras podemos ver que es la violencia machista en twitter\n",
      "@usuario No existe la violencia Machista, no seamos boludos.\n",
      "@usuario Solo violencia machista? por que no hablan de la violencia feminista?, por ejemplo a Amalia Granata las que mas la atacaron y atacan son mujeres; obvio izquierdistas, pero no les conviene hablar de ello, no?\n",
      "@usuario la violencia es la que existe. Cuando el violento ataca vervalmente a alguien, expresa su deprecio a lo primero que ve en el otro, si es mujer, si es enano, si es flaco, si es hombre, si es extranjero, si tiene el pelo de otro color. La violencia no tiene género.\n",
      "@usuario Tenemos que ver, si es \"machismo\" real, la ficción feminazi de ahora o si es violencia etiquetada de machismo. Pero seguramente es corrección política 🤷\n",
      "\n",
      "\n",
      " --------------------------------------------------------------------------------\n",
      "1234486645912670208 @infobae: Activaron el protocolo de coronavirus en Ezeiza por un pasajero que llegó desde EEUU, pero descartaron que sea positivo \n",
      "\n",
      " {'chinos': 6} \n",
      "\n",
      "@usuario Infobae miente por que según nuestro querido líder en salud GGG estamos lejos de China y con calor no funciona el virus.\n",
      "#GGGRenuncie\n",
      "@usuario Hay que ser forro para viajar desde china, subirse a otro avión teniendo fiebre.\n",
      "@usuario Que hdp!!\n",
      "@usuario Xq no se quedo dond estaba traen el virus para aca😱😱😱😱\n",
      "@usuario @usuario O sea q no pudieron contener q la gente se entere q ya tenemos el virusito ese acá, a mi me preocupa la epidemia d imbecilidad k q empezó hace 82 dias\n",
      "\n",
      "\n",
      " --------------------------------------------------------------------------------\n",
      "1272913708210163713 @clarincom: Maju Lozano, sin filtro contra los vecinos que bailaron en Recoleta: “¡Qué país lleno de boludos!” \n",
      "\n",
      " {'feministas': 1, 'aborteras': 1, 'trolo -\"no seas\" -\"no sean\"': 1, '\"gorda\"': 5} \n",
      "\n",
      "@usuario Mirándose ella hubiera sido suficiente para llegar a esa conclusión\n",
      "@usuario Ahora con la mano en el corazón, es necesario que trabajen los de la televisión, los de los programas de chimentos, tan esenciales son...\n",
      "@usuario Y ud obesa mal educada esta el la larga lusta, le siguen su jefa narko asesina y la banda que regentea Vuelvase a su provincia llevese a su presidente guitarrero qua con quien se reune lo infecta, y vea que pasa en su pueblo natal!!!!!\n",
      "@usuario Boluda dos vos!!!! La retrasada sigue la línea del \"\"\"\"\"gobierno\"\"\"\"'\"\n",
      "@usuario Que envidiosa !!! Estás mal alimentada\n",
      "\n",
      "\n",
      " --------------------------------------------------------------------------------\n",
      "1273441565105516544 @LANACION: Alberto Fernández se enfrentó con Cristina Pérez y la mandó a leer la Constitución Nacional \n",
      "\n",
      " {'feministas': 5, 'feminazis': 1, 'trolo -\"no seas\" -\"no sean\"': 1, 'chinos': 1} \n",
      "\n",
      "@usuario No dijo eso pero es un buen consejo\n",
      "@usuario Es un sinverguenza ,cinico manejado un asco...\n",
      "@usuario @usuario Es@usuario violento\n",
      "@usuario Nunca se enfrentó el presidente, la periodista intentó enfrentarse, pero, con su escaso conocimiento quedó en ridículo,  ojala todos tuviéramos el 20% de la.paciencia que tiene Alberto, seríamos mejores\n",
      "@usuario \"Cristina Pérez enfrentó al Presidente, y le dijo que no sabe nada de la Constitución Nacional\".\n",
      "\n",
      "\n",
      " --------------------------------------------------------------------------------\n",
      "1243635188632031233 @infobae: Ginés González García sostuvo que la curva de contagios va por debajo de lo previsto: “La estrategia es ganar tiempo” \n",
      "\n",
      " {'chinos': 5} \n",
      "\n",
      "@usuario Si no haces tests, puede ser tender a cero también.\n",
      "@usuario La estrategia es no hacer test! Hace una semana con tos y fiebre viniendo del extranjero.\n",
      "@usuario -Pero Gines si haces 200 test por dia obviamente va a ir por debajo.\n",
      "-Yo que se kjjj ya es el mediodia, estoy re escabio\n",
      "@usuario Veo a este personaje y me dan ganas de 🤮\n",
      "@usuario Infokae la info es incompleta deje de mostrar gráficos pedorros hacen falta saber todos los números \n",
      "Cantidad de testeos\n",
      "Cantidad positivos\n",
      "Cantidad negativos \n",
      "Cantidad curados sino lo del gabierno es chamuyo para decir que la están manejando espectacular = relato\n",
      "\n",
      "\n",
      " --------------------------------------------------------------------------------\n",
      "1276690849745829888 @LANACION: Coronavirus en la Argentina. Axel Kicillof tuvo un furcio con la Antártida: dijo que es una provincia y estallaron las redes \n",
      "\n",
      " {'chinos': 1, '\"peruano\"': 1, 'judío': 1, '\"una bomba\"': 1, '\"planero\"': 1, 'negro -\"en negro\" -\"Rio\" -\"peste\" -\"humor negro\"': 3} \n",
      "\n",
      "@usuario Sugiero que los periodistas de La Nación vayan a estudiar!\n",
      "Tierra del Fuego, Antártida e Islas del Atlantico Sur es Provincia desde el 26 de abril de 1990!🤢\n",
      "@usuario Típico, La Nazion fomentando la ignorancia\n",
      "@usuario Aprendió con los maestros de la TV pública.\n",
      "@usuario @usuario Las redes están llenas de pelotudos\n",
      "@usuario Es un inútil\n",
      "\n",
      "\n",
      " --------------------------------------------------------------------------------\n",
      "1265287502564413441 @infobae: Tres niños se hicieron picar por una Viuda Negra para tener los poderes del Hombre Araña \n",
      "\n",
      " {'chinos': 1, 'bolita': 2, 'negro -\"en negro\" -\"Rio\" -\"peste\" -\"humor negro\"': 1} \n",
      "\n",
      "@usuario Ahora solo tenemos que esperar para ver si tienen poderes\n",
      "@usuario y, pero, funcionó?\n",
      "@usuario No puedo creer que haya gente con ese nivel de pelotudez en pleno año 2020\n",
      "@usuario Que inocentes jajajaj\n",
      "@usuario El pelotudo q quiso ser Batman se comio un murcielago y nos cago la vida a todos con el covid\n",
      "\n",
      "\n",
      " --------------------------------------------------------------------------------\n",
      "1305803390694424576 @infobae: Cómo son los campos de concentración del régimen chino donde se somete a trabajos forzosos a minorías religiosas \n",
      "\n",
      " {'chinos': 11} \n",
      "\n",
      "@usuario Como el área de redacción de ustedes\n",
      "@usuario No tan jodidos como los de Guantánamo...\n",
      "@usuario Tambien se persigue a los seguidores del Falun Dafa.\n",
      "@usuario Régimen no, gobierno democrático de China ✌😎\n",
      "@usuario El campo de concentración nazi actual y al que evidentemente a nadie le importa.\n"
     ]
    }
   ],
   "source": [
    "for art in sample_articles:\n",
    "    print(\"\\n\"*2, \"-\"*80)\n",
    "    print(art.tweet_id, art, \"\\n\"*2, art.metadata, \"\\n\")\n",
    "    for comm in art.comment_set.all()[:5]:\n",
    "        print(comm.text)\n",
    "    \n",
    "    "
   ]
  },
  {
   "cell_type": "code",
   "execution_count": null,
   "metadata": {},
   "outputs": [],
   "source": []
  }
 ],
 "metadata": {
  "kernelspec": {
   "display_name": "Python 3",
   "language": "python",
   "name": "python3"
  },
  "language_info": {
   "codemirror_mode": {
    "name": "ipython",
    "version": 3
   },
   "file_extension": ".py",
   "mimetype": "text/x-python",
   "name": "python",
   "nbconvert_exporter": "python",
   "pygments_lexer": "ipython3",
   "version": "3.8.5"
  }
 },
 "nbformat": 4,
 "nbformat_minor": 4
}
