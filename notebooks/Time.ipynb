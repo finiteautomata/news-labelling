{
 "cells": [
  {
   "cell_type": "markdown",
   "metadata": {},
   "source": [
    "# Tiempo\n",
    "\n",
    "Vamos a hacer un poco de estadística del tiempo que toma etiquetar artículos"
   ]
  },
  {
   "cell_type": "code",
   "execution_count": 1,
   "metadata": {},
   "outputs": [],
   "source": [
    "import os\n",
    "import sys\n",
    "import django\n",
    "from tqdm.auto import tqdm\n",
    "\n",
    "os.environ[\"DJANGO_ALLOW_ASYNC_UNSAFE\"] = \"true\"\n",
    "\n",
    "sys.path.append(\"..\")\n",
    "os.environ['DJANGO_SETTINGS_MODULE'] = 'news_labelling.settings'\n",
    "django.setup()\n",
    "\n",
    "from api.models import Comment, ArticleLabel, CommentLabel, Article\n",
    "from django.contrib.auth.models import User"
   ]
  },
  {
   "cell_type": "markdown",
   "metadata": {},
   "source": [
    "Quedémonos sólo con los que tienen algo de metadata **y hayan sido marcados como interesantes**"
   ]
  },
  {
   "cell_type": "code",
   "execution_count": 2,
   "metadata": {},
   "outputs": [],
   "source": [
    "from collections import defaultdict\n",
    "\n",
    "labels = defaultdict(list)\n",
    "\n",
    "for article_label in ArticleLabel.objects.all():\n",
    "    if article_label.metadata and article_label.is_interesting:\n",
    "        labels[article_label.user.username].append(article_label)"
   ]
  },
  {
   "cell_type": "code",
   "execution_count": 3,
   "metadata": {},
   "outputs": [
    {
     "data": {
      "text/plain": [
       "{'start_time': '2020-11-02T17:52:45.736Z',\n",
       " 'opened_article': False,\n",
       " 'end_time': '2020-11-02T17:59:05.658Z'}"
      ]
     },
     "execution_count": 3,
     "metadata": {},
     "output_type": "execute_result"
    }
   ],
   "source": [
    "import json\n",
    "\n",
    "json.loads(labels[\"mkondra\"][0].metadata)"
   ]
  },
  {
   "cell_type": "code",
   "execution_count": 6,
   "metadata": {},
   "outputs": [],
   "source": [
    "import json\n",
    "from datetime import datetime\n",
    "\n",
    "times = defaultdict(list)\n",
    "\n",
    "for user, user_labels in labels.items():\n",
    "    for label in user_labels:\n",
    "        metadata = json.loads(label.metadata)\n",
    "        end = datetime.strptime(metadata[\"end_time\"], '%Y-%m-%dT%H:%M:%S.%fZ')\n",
    "        start = datetime.strptime(metadata[\"start_time\"], '%Y-%m-%dT%H:%M:%S.%fZ')\n",
    "\n",
    "        times[label.user.username].append((end - start).seconds)\n",
    "        "
   ]
  },
  {
   "cell_type": "code",
   "execution_count": 7,
   "metadata": {},
   "outputs": [
    {
     "data": {
      "text/plain": [
       "<AxesSubplot:ylabel='Count'>"
      ]
     },
     "execution_count": 7,
     "metadata": {},
     "output_type": "execute_result"
    },
    {
     "data": {
      "image/png": "[encoded data removed]",
      "text/plain": [
       "<Figure size 432x288 with 1 Axes>"
      ]
     },
     "metadata": {
      "needs_background": "light"
     },
     "output_type": "display_data"
    }
   ],
   "source": [
    "import seaborn as sns\n",
    "\n",
    "sns.histplot(times[\"mkondra\"], binrange=[0, 2000], bins=25)"
   ]
  },
  {
   "cell_type": "code",
   "execution_count": 9,
   "metadata": {},
   "outputs": [
    {
     "data": {
      "text/plain": [
       "<AxesSubplot:ylabel='Count'>"
      ]
     },
     "execution_count": 9,
     "metadata": {},
     "output_type": "execute_result"
    },
    {
     "data": {
      "image/png": "[encoded data removed]",
      "text/plain": [
       "<Figure size 432x288 with 1 Axes>"
      ]
     },
     "metadata": {
      "needs_background": "light"
     },
     "output_type": "display_data"
    }
   ],
   "source": [
    "import seaborn as sns\n",
    "\n",
    "sns.histplot(times[\"fluque\"], binrange=[0, 2000], bins=25)"
   ]
  },
  {
   "cell_type": "code",
   "execution_count": 8,
   "metadata": {},
   "outputs": [
    {
     "data": {
      "text/plain": [
       "<AxesSubplot:ylabel='Count'>"
      ]
     },
     "execution_count": 8,
     "metadata": {},
     "output_type": "execute_result"
    },
    {
     "data": {
      "image/png": "[encoded data removed]",
      "text/plain": [
       "<Figure size 432x288 with 1 Axes>"
      ]
     },
     "metadata": {
      "needs_background": "light"
     },
     "output_type": "display_data"
    }
   ],
   "source": [
    "import seaborn as sns\n",
    "\n",
    "sns.histplot(times[\"jzajac\"], binrange=[0, 2000], bins=25)"
   ]
  },
  {
   "cell_type": "code",
   "execution_count": 73,
   "metadata": {},
   "outputs": [
    {
     "data": {
      "text/plain": [
       "<AxesSubplot:ylabel='Count'>"
      ]
     },
     "execution_count": 73,
     "metadata": {},
     "output_type": "execute_result"
    },
    {
     "data": {
      "image/png": "[encoded data removed]",
      "text/plain": [
       "<Figure size 432x288 with 1 Axes>"
      ]
     },
     "metadata": {
      "needs_background": "light"
     },
     "output_type": "display_data"
    }
   ],
   "source": [
    "import seaborn as sns\n",
    "\n",
    "sns.histplot(times[\"amoro\"], binrange=[0, 2000], bins=25)"
   ]
  },
  {
   "cell_type": "code",
   "execution_count": 74,
   "metadata": {},
   "outputs": [
    {
     "data": {
      "text/plain": [
       "<AxesSubplot:ylabel='Count'>"
      ]
     },
     "execution_count": 74,
     "metadata": {},
     "output_type": "execute_result"
    },
    {
     "data": {
      "image/png": "[encoded data removed]",
      "text/plain": [
       "<Figure size 432x288 with 1 Axes>"
      ]
     },
     "metadata": {
      "needs_background": "light"
     },
     "output_type": "display_data"
    }
   ],
   "source": [
    "import seaborn as sns\n",
    "\n",
    "sns.histplot(times[\"ndebandi\"], binrange=[0, 2000], bins=25)"
   ]
  },
  {
   "cell_type": "code",
   "execution_count": 12,
   "metadata": {},
   "outputs": [
    {
     "name": "stdout",
     "output_type": "stream",
     "text": [
      "mkondra\n",
      "384.63157894736844\n",
      "19\n",
      "jzajac\n",
      "1223.4347826086957\n",
      "23\n",
      "ndebandi\n",
      "622.25\n",
      "12\n",
      "pserrati\n",
      "318.0\n",
      "3\n",
      "fluque\n",
      "489.0\n",
      "5\n",
      "amoro\n",
      "423.9166666666667\n",
      "12\n",
      "dzayat\n",
      "592.6666666666666\n",
      "3\n"
     ]
    }
   ],
   "source": [
    "import numpy as np\n",
    "\n",
    "for user in times:\n",
    "    print(user)\n",
    "    print(np.array(times[user]).mean())\n",
    "    print(len(times[user]))"
   ]
  },
  {
   "cell_type": "markdown",
   "metadata": {},
   "source": [
    "Hagamos una cosa: tomemos todos los tiempos menores a 1000 segundos (~16 minutos) y promediemos eso"
   ]
  },
  {
   "cell_type": "markdown",
   "metadata": {},
   "source": [
    "## Estimación\n",
    "\n",
    "Supongamos que queremos etiquetar 1000 artículos\n",
    "\n",
    "Asumiendo que tenemos 3 etiquetadores, y asumiendo peor caso (cada artículo es etiquetado 3 veces) => sampleemos 1000 artículos para cada etiquetador"
   ]
  },
  {
   "cell_type": "code",
   "execution_count": 19,
   "metadata": {},
   "outputs": [],
   "source": [
    "import numpy as np\n",
    "\n",
    "users = [\"ndebandi\", \"mkondra\", \"jzajac\", \"fluque\", \"amoro\"]\n",
    "\n",
    "times_needed = defaultdict(list)\n",
    "\n",
    "for user in users:\n",
    "    times_less_than_1000 = [t for t in times[user] if t < 1000]\n",
    "    times_needed[user] = np.random.choice(times_less_than_1000, 600)"
   ]
  },
  {
   "cell_type": "code",
   "execution_count": 20,
   "metadata": {},
   "outputs": [
    {
     "data": {
      "text/plain": [
       "{'ndebandi': 291929,\n",
       " 'mkondra': 154968,\n",
       " 'jzajac': 220345,\n",
       " 'fluque': 283149,\n",
       " 'amoro': 213719}"
      ]
     },
     "execution_count": 20,
     "metadata": {},
     "output_type": "execute_result"
    }
   ],
   "source": [
    "total_per_user = {u: sum(v) for u, v in times_needed.items()}\n",
    "\n",
    "total_per_user"
   ]
  },
  {
   "cell_type": "code",
   "execution_count": 21,
   "metadata": {},
   "outputs": [
    {
     "data": {
      "text/plain": [
       "323.3638888888889"
      ]
     },
     "execution_count": 21,
     "metadata": {},
     "output_type": "execute_result"
    }
   ],
   "source": [
    "sum(total_per_user.values()) / 3600"
   ]
  },
  {
   "cell_type": "markdown",
   "metadata": {},
   "source": [
    "Necesitaríamos 306 horas. Yo le pondría un extra, ya que me parece que los etiquetadores van a tardar un poco más => pongamos 400 horas\n"
   ]
  }
 ],
 "metadata": {
  "kernelspec": {
   "display_name": "Python 3",
   "language": "python",
   "name": "python3"
  },
  "language_info": {
   "codemirror_mode": {
    "name": "ipython",
    "version": 3
   },
   "file_extension": ".py",
   "mimetype": "text/x-python",
   "name": "python",
   "nbconvert_exporter": "python",
   "pygments_lexer": "ipython3",
   "version": "3.8.5"
  }
 },
 "nbformat": 4,
 "nbformat_minor": 4
}
