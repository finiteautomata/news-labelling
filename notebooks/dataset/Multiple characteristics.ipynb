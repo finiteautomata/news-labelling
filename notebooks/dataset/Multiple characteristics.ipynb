{
 "cells": [
  {
   "cell_type": "markdown",
   "metadata": {},
   "source": [
    "# Dataset\n",
    "## Comments with multiple characteristics\n",
    "\n",
    "\n",
    "In this notebook we will check comments having multiple characteristics"
   ]
  },
  {
   "cell_type": "code",
   "execution_count": 5,
   "metadata": {},
   "outputs": [
    {
     "name": "stdout",
     "output_type": "stream",
     "text": [
      "The autoreload extension is already loaded. To reload it, use:\n",
      "  %reload_ext autoreload\n"
     ]
    }
   ],
   "source": [
    "%load_ext autoreload\n",
    "%autoreload 2\n",
    "import json\n",
    "\n",
    "with open(\"../../output/dataset.json\") as f:\n",
    "    articles = json.load(f)\n"
   ]
  },
  {
   "cell_type": "code",
   "execution_count": 13,
   "metadata": {},
   "outputs": [
    {
     "data": {
      "text/plain": [
       "1    6777\n",
       "2    1718\n",
       "3     199\n",
       "4      20\n",
       "5       1\n",
       "Name: num_chars, dtype: int64"
      ]
     },
     "execution_count": 13,
     "metadata": {},
     "output_type": "execute_result"
    }
   ],
   "source": [
    "import pandas as pd\n",
    "import matplotlib.pyplot as plt\n",
    "import seaborn as sns\n",
    "\n",
    "characteristics = [\n",
    "    'WOMEN',\n",
    "    'LGBTI',\n",
    "    'RACISM',\n",
    "    'CLASS',\n",
    "    'POLITICS',\n",
    "    'DISABLED',\n",
    "    'APPEARANCE',\n",
    "    'CRIMINAL'\n",
    "]\n",
    "\n",
    "translation = {\n",
    "  'WOMEN': 'MUJER',\n",
    "  'LGBTI': 'LGBTI',\n",
    "  'RACISM': 'RACISMO',\n",
    "  'CLASS': 'CLASE',\n",
    "  'POLITICS': 'POLITICA',\n",
    "  'DISABLED': 'DISCAPAC',\n",
    "  'APPEARANCE': 'APARIENCIA',\n",
    "  'CRIMINAL': 'CRIMINAL',\n",
    "}\n",
    "\n",
    "df = pd.DataFrame([\n",
    "    {   \n",
    "        **{\"context\": art[\"tweet_text\"], \"article_id\": art[\"tweet_id\"]},\n",
    "        **comm,\n",
    "    }\n",
    "    for art in articles\n",
    "    for comm in art[\"comments\"]\n",
    "]).set_index(\"id\")\n",
    "\n",
    "df[\"num_chars\"] = df[characteristics].sum(axis=1)\n",
    "\n",
    "\n",
    "df.loc[(df[\"num_chars\"] > 0), \"num_chars\"].value_counts()\n",
    "#plt.semilogy()"
   ]
  },
  {
   "cell_type": "code",
   "execution_count": 15,
   "metadata": {},
   "outputs": [
    {
     "data": {
      "text/plain": [
       "1    0.777625\n",
       "2    0.197131\n",
       "3    0.022834\n",
       "4    0.002295\n",
       "5    0.000115\n",
       "Name: num_chars, dtype: float64"
      ]
     },
     "execution_count": 15,
     "metadata": {},
     "output_type": "execute_result"
    }
   ],
   "source": [
    "df.loc[(df[\"num_chars\"] > 0), \"num_chars\"].value_counts(normalize=True)"
   ]
  },
  {
   "cell_type": "code",
   "execution_count": 16,
   "metadata": {},
   "outputs": [
    {
     "data": {
      "text/html": [
       "<div>\n",
       "<style scoped>\n",
       "    .dataframe tbody tr th:only-of-type {\n",
       "        vertical-align: middle;\n",
       "    }\n",
       "\n",
       "    .dataframe tbody tr th {\n",
       "        vertical-align: top;\n",
       "    }\n",
       "\n",
       "    .dataframe thead th {\n",
       "        text-align: right;\n",
       "    }\n",
       "</style>\n",
       "<table border=\"1\" class=\"dataframe\">\n",
       "  <thead>\n",
       "    <tr style=\"text-align: right;\">\n",
       "      <th></th>\n",
       "      <th>context</th>\n",
       "      <th>text</th>\n",
       "      <th>WOMEN</th>\n",
       "      <th>LGBTI</th>\n",
       "      <th>RACISM</th>\n",
       "      <th>CLASS</th>\n",
       "      <th>POLITICS</th>\n",
       "      <th>DISABLED</th>\n",
       "      <th>APPEARANCE</th>\n",
       "      <th>CRIMINAL</th>\n",
       "    </tr>\n",
       "  </thead>\n",
       "  <tbody>\n",
       "    <tr>\n",
       "      <th>0</th>\n",
       "      <td>Ofelia Fernández apoyó al Gobierno en la polémica por los presos y apuntó a la Justicia que \"odia a las mujeres\" https://t.co/BD3jgGCOWI</td>\n",
       "      <td>@usuario Hijadept,, ojala pronto recibas la visita de alguno de esos gusanos. Te van a quedar. Ganas de apoyar al. Gobierno? Larva rastrera gorda. Decerebrada</td>\n",
       "      <td>1</td>\n",
       "      <td>0</td>\n",
       "      <td>0</td>\n",
       "      <td>0</td>\n",
       "      <td>1</td>\n",
       "      <td>1</td>\n",
       "      <td>1</td>\n",
       "      <td>0</td>\n",
       "    </tr>\n",
       "    <tr>\n",
       "      <th>1</th>\n",
       "      <td>[OPINIÓN] Es hora de ponerle límites al odio | Por Victoria Donda https://t.co/AZZHGA1gL4</td>\n",
       "      <td>@usuario Justo ésta zurda mugrienta, ignorante y altanera...</td>\n",
       "      <td>1</td>\n",
       "      <td>0</td>\n",
       "      <td>0</td>\n",
       "      <td>0</td>\n",
       "      <td>1</td>\n",
       "      <td>0</td>\n",
       "      <td>1</td>\n",
       "      <td>0</td>\n",
       "    </tr>\n",
       "    <tr>\n",
       "      <th>2</th>\n",
       "      <td>Coronavirus en la Argentina: un video pone en evidencia la violación de la cuarentena en la Villa 1-11-14 https://t.co/T6Q9a54IlP</td>\n",
       "      <td>@usuario Cierren esa nido de negros y napalm. Hasta reducís el crimen y el gasto público.</td>\n",
       "      <td>0</td>\n",
       "      <td>0</td>\n",
       "      <td>1</td>\n",
       "      <td>1</td>\n",
       "      <td>0</td>\n",
       "      <td>0</td>\n",
       "      <td>0</td>\n",
       "      <td>1</td>\n",
       "    </tr>\n",
       "    <tr>\n",
       "      <th>3</th>\n",
       "      <td>Fabiola Yáñez denunció a un periodista por publicaciones agraviantes https://t.co/D5rpwSI5Rs https://t.co/ihHBYoENvi</td>\n",
       "      <td>@usuario Claro si ofendel a la que se cuelga en el caño xq ahora cree ser primera dama?😂 hay que ser peruka para dar asco y ser basuras bigote enseguida ordena como se metió en Facebook y en todo que culpa te.emos que saque la mujer del cabarute?</td>\n",
       "      <td>1</td>\n",
       "      <td>0</td>\n",
       "      <td>1</td>\n",
       "      <td>0</td>\n",
       "      <td>1</td>\n",
       "      <td>0</td>\n",
       "      <td>1</td>\n",
       "      <td>0</td>\n",
       "    </tr>\n",
       "    <tr>\n",
       "      <th>4</th>\n",
       "      <td>Enrique Pinti no descarta una nueva postulación de Macri: “En este país siempre hay una chance para cualquiera que nos vuelva a cagar” | Por Tatiana Schapiro https://t.co/xvBLy5Nhhv</td>\n",
       "      <td>@usuario Y si gordo trolo infame, si se postuló nuevamente la chorra Kernerista de Cristina a la q vos votaste, entonces está cualquiera habilitado. #pinti @usuario</td>\n",
       "      <td>0</td>\n",
       "      <td>1</td>\n",
       "      <td>0</td>\n",
       "      <td>0</td>\n",
       "      <td>1</td>\n",
       "      <td>0</td>\n",
       "      <td>1</td>\n",
       "      <td>0</td>\n",
       "    </tr>\n",
       "    <tr>\n",
       "      <th>5</th>\n",
       "      <td>En promedio, los beneficiarios de planes sociales cobrarán $40.000 en diciembre | Por Pablo Wende https://t.co/OaSD2ZmmHy</td>\n",
       "      <td>@usuario Ahhh q buenoooooo y los pobres jubilados no llegan ni a mitad del mes, mantienen vagos, drogados; chorros, y a las personas q levantaron este país la dejan de lado,  hijos de remil putasss</td>\n",
       "      <td>0</td>\n",
       "      <td>0</td>\n",
       "      <td>0</td>\n",
       "      <td>1</td>\n",
       "      <td>0</td>\n",
       "      <td>1</td>\n",
       "      <td>0</td>\n",
       "      <td>1</td>\n",
       "    </tr>\n",
       "    <tr>\n",
       "      <th>6</th>\n",
       "      <td>Se entregó la penitenciaria acusada de matar a tiros a un preso en el motín de Florencio Varela | Por Federico Fahsbender https://t.co/NyjIuw1YVe</td>\n",
       "      <td>@usuario miré fijo la foto y me desapareció el celular y las zapatillas</td>\n",
       "      <td>0</td>\n",
       "      <td>0</td>\n",
       "      <td>1</td>\n",
       "      <td>0</td>\n",
       "      <td>0</td>\n",
       "      <td>0</td>\n",
       "      <td>1</td>\n",
       "      <td>1</td>\n",
       "    </tr>\n",
       "    <tr>\n",
       "      <th>7</th>\n",
       "      <td>Los infectados en villas porteñas crecieron un 80% en cuatro días https://t.co/8Cc7pgnSzG https://t.co/iOpldGjWAz</td>\n",
       "      <td>@usuario Ojalá que el virus penetre más en las villas y maten a todos esos delincuentes que viven ahi, hay paraguayos narcos, bolivianos que traen la droga de bolivia, y gente de mala vida. También hay travas que van a trabajar de noche a palermo.</td>\n",
       "      <td>0</td>\n",
       "      <td>1</td>\n",
       "      <td>1</td>\n",
       "      <td>1</td>\n",
       "      <td>0</td>\n",
       "      <td>0</td>\n",
       "      <td>0</td>\n",
       "      <td>1</td>\n",
       "    </tr>\n",
       "    <tr>\n",
       "      <th>8</th>\n",
       "      <td>Milagro Sala: “Si no hay reforma judicial nunca vamos a poder recuperar la libertad” https://t.co/45MJU5YLDA</td>\n",
       "      <td>@usuario Pensé que era un travesti</td>\n",
       "      <td>1</td>\n",
       "      <td>1</td>\n",
       "      <td>1</td>\n",
       "      <td>0</td>\n",
       "      <td>0</td>\n",
       "      <td>0</td>\n",
       "      <td>0</td>\n",
       "      <td>0</td>\n",
       "    </tr>\n",
       "    <tr>\n",
       "      <th>9</th>\n",
       "      <td>Ricky Martin: “Soy un hombre latino y homosexual viviendo en los Estados Unidos, soy una amenaza” https://t.co/ftsBUV6mCM</td>\n",
       "      <td>@usuario Ridículo perdiste tú rumbo das náuseas 🤮🙄🙄🙄 famosos eternos (víctimas) 🙄🤦‍♀️ ándate a Puerto Rico entonces ahí no serás una amenaza....🤮🤮🤮🤮🤮</td>\n",
       "      <td>0</td>\n",
       "      <td>1</td>\n",
       "      <td>1</td>\n",
       "      <td>0</td>\n",
       "      <td>0</td>\n",
       "      <td>0</td>\n",
       "      <td>1</td>\n",
       "      <td>0</td>\n",
       "    </tr>\n",
       "  </tbody>\n",
       "</table>\n",
       "</div>"
      ],
      "text/plain": [
       "                                                                                                                                                                                 context  \\\n",
       "0                                               Ofelia Fernández apoyó al Gobierno en la polémica por los presos y apuntó a la Justicia que \"odia a las mujeres\" https://t.co/BD3jgGCOWI   \n",
       "1                                                                                              [OPINIÓN] Es hora de ponerle límites al odio | Por Victoria Donda https://t.co/AZZHGA1gL4   \n",
       "2                                                      Coronavirus en la Argentina: un video pone en evidencia la violación de la cuarentena en la Villa 1-11-14 https://t.co/T6Q9a54IlP   \n",
       "3                                                                   Fabiola Yáñez denunció a un periodista por publicaciones agraviantes https://t.co/D5rpwSI5Rs https://t.co/ihHBYoENvi   \n",
       "4  Enrique Pinti no descarta una nueva postulación de Macri: “En este país siempre hay una chance para cualquiera que nos vuelva a cagar” | Por Tatiana Schapiro https://t.co/xvBLy5Nhhv   \n",
       "5                                                              En promedio, los beneficiarios de planes sociales cobrarán $40.000 en diciembre | Por Pablo Wende https://t.co/OaSD2ZmmHy   \n",
       "6                                      Se entregó la penitenciaria acusada de matar a tiros a un preso en el motín de Florencio Varela | Por Federico Fahsbender https://t.co/NyjIuw1YVe   \n",
       "7                                                                      Los infectados en villas porteñas crecieron un 80% en cuatro días https://t.co/8Cc7pgnSzG https://t.co/iOpldGjWAz   \n",
       "8                                                                           Milagro Sala: “Si no hay reforma judicial nunca vamos a poder recuperar la libertad” https://t.co/45MJU5YLDA   \n",
       "9                                                              Ricky Martin: “Soy un hombre latino y homosexual viviendo en los Estados Unidos, soy una amenaza” https://t.co/ftsBUV6mCM   \n",
       "\n",
       "                                                                                                                                                                                                                                                      text  \\\n",
       "0                                                                                           @usuario Hijadept,, ojala pronto recibas la visita de alguno de esos gusanos. Te van a quedar. Ganas de apoyar al. Gobierno? Larva rastrera gorda. Decerebrada   \n",
       "1                                                                                                                                                                                             @usuario Justo ésta zurda mugrienta, ignorante y altanera...   \n",
       "2                                                                                                                                                                @usuario Cierren esa nido de negros y napalm. Hasta reducís el crimen y el gasto público.   \n",
       "3   @usuario Claro si ofendel a la que se cuelga en el caño xq ahora cree ser primera dama?😂 hay que ser peruka para dar asco y ser basuras bigote enseguida ordena como se metió en Facebook y en todo que culpa te.emos que saque la mujer del cabarute?   \n",
       "4                                                                                     @usuario Y si gordo trolo infame, si se postuló nuevamente la chorra Kernerista de Cristina a la q vos votaste, entonces está cualquiera habilitado. #pinti @usuario   \n",
       "5                                                    @usuario Ahhh q buenoooooo y los pobres jubilados no llegan ni a mitad del mes, mantienen vagos, drogados; chorros, y a las personas q levantaron este país la dejan de lado,  hijos de remil putasss   \n",
       "6                                                                                                                                                                                  @usuario miré fijo la foto y me desapareció el celular y las zapatillas   \n",
       "7  @usuario Ojalá que el virus penetre más en las villas y maten a todos esos delincuentes que viven ahi, hay paraguayos narcos, bolivianos que traen la droga de bolivia, y gente de mala vida. También hay travas que van a trabajar de noche a palermo.   \n",
       "8                                                                                                                                                                                                                       @usuario Pensé que era un travesti   \n",
       "9                                                                                                    @usuario Ridículo perdiste tú rumbo das náuseas 🤮🙄🙄🙄 famosos eternos (víctimas) 🙄🤦‍♀️ ándate a Puerto Rico entonces ahí no serás una amenaza....🤮🤮🤮🤮🤮   \n",
       "\n",
       "   WOMEN  LGBTI  RACISM  CLASS  POLITICS  DISABLED  APPEARANCE  CRIMINAL  \n",
       "0      1      0       0      0         1         1           1         0  \n",
       "1      1      0       0      0         1         0           1         0  \n",
       "2      0      0       1      1         0         0           0         1  \n",
       "3      1      0       1      0         1         0           1         0  \n",
       "4      0      1       0      0         1         0           1         0  \n",
       "5      0      0       0      1         0         1           0         1  \n",
       "6      0      0       1      0         0         0           1         1  \n",
       "7      0      1       1      1         0         0           0         1  \n",
       "8      1      1       1      0         0         0           0         0  \n",
       "9      0      1       1      0         0         0           1         0  "
      ]
     },
     "execution_count": 16,
     "metadata": {},
     "output_type": "execute_result"
    }
   ],
   "source": [
    "pd.options.display.max_colwidth = 320\n",
    "\n",
    "df[df[\"num_chars\"] >= 3][[\"context\", \"text\"] + characteristics].sample(10, random_state=11).reset_index()[[\"context\", \"text\"] + characteristics]"
   ]
  },
  {
   "cell_type": "code",
   "execution_count": 17,
   "metadata": {},
   "outputs": [
    {
     "name": "stdout",
     "output_type": "stream",
     "text": [
      "\\begin{tabular}{lll}\n",
      "\\toprule\n",
      "{} &                                                                                                                                                                 context &                                                                                                                                                                                      text \\\\\n",
      "id     &                                                                                                                                                                         &                                                                                                                                                                                           \\\\\n",
      "\\midrule\n",
      "377250 &  El video viral de un empresario que cuestiona al Estado por los impuestos y los planes sociales: “¿Quién mierda va a confiar en la Argentina?” https://t.co/V6IUrq7RXk &                                                        @usuario Cuando se entere que las grandes empresas son las que más evaden se cae de culo igual la negrada planera  es insostenible \\\\\n",
      "403129 &                                                                   Evo Morales dejó la Argentina con destino a Venezuela https://t.co/Yg22ZGUxKY https://t.co/LSeBbeuQg1 &                                                                                                                       @usuario El aire está mas respirable desde que se fue el sucio este \\\\\n",
      "407561 &                                              Alberto Fernández: \"Es imperdonable que haya indocumentados en Argentina \" https://t.co/DDrigPlNxZ https://t.co/r6BquV2RBu &  @usuario Vergonzoso es lo que dice este sr. Los planeros paraguayos, bolivianos, peruanos como cobran el IFE, cobran jubilaciones,  votan en Argentina ??? No me diga que NO sabe...👎🤦💩🤡 \\\\\n",
      "334804 &                        Estela de Carlotto, sobre la pandemia del coronavirus: “Si hubiera estado el Gobierno anterior no se cuántos moriríamos” https://t.co/u9PAIDPAx9 &                                                                                                                                        @usuario Vieja chiflada.  Virus ya sabes que hacer \\\\\n",
      "391064 &                                                    El llanto de Nancy Pazos al recordar la muerte de su madre por coronavirus: “La contagié yo” https://t.co/8kVMzRgmQu &                                                                                                                          @usuario Si será hija de puta la gorda kirchnerista esta...🤦🏽‍♂️ \\\\\n",
      "351215 &                                               Ricky Martin: “Soy un hombre latino y homosexual viviendo en los Estados Unidos, soy una amenaza” https://t.co/ftsBUV6mCM &                                     @usuario Ridículo perdiste tú rumbo das náuseas 🤮🙄🙄🙄 famosos eternos (víctimas) 🙄🤦‍♀️ ándate a Puerto Rico entonces ahí no serás una amenaza....🤮🤮🤮🤮🤮 \\\\\n",
      "348096 &                                                                  Milagro Sala: \"Si no hay reforma judicial nunca vamos a recuperar la libertad\" https://t.co/tnB2el1mTz &                                                                                                                                                        @usuario Adentroooo vieja ladrona! \\\\\n",
      "341788 &                                    Coronavirus en Argentina: el Gobierno otorga un bono de 5 mil pesos para todos los profesionales de la salud https://t.co/k8LMG83H8g &                                                                @usuario Muy mal se merecen más y a los planeros q se la gastan en drogas y cerveza le dan 10.000 este es el país al revés \\\\\n",
      "329396 &                                       Coronavirus en la Argentina: un video pone en evidencia la violación de la cuarentena en la Villa 1-11-14 https://t.co/T6Q9a54IlP &                                                                                                 @usuario Cierren esa nido de negros y napalm. Hasta reducís el crimen y el gasto público. \\\\\n",
      "333488 &    Nancy Dupláa habló de las consecuencias de hacer pública su postura política: “Cuando vamos a lugares medio cajetillas siento la hostilidad” https://t.co/l2nE5EZPSG &                           @usuario Y esta gorda arrependita con olor a cajeta mal enjuagada que se hace la top si es más grasa... “Cajetilla” como si viviese en la matanza la infeliz! 🤮 \\\\\n",
      "\\bottomrule\n",
      "\\end{tabular}\n",
      "\n"
     ]
    }
   ],
   "source": [
    "pd.options.display.max_colwidth = 240\n",
    "pd.options.display.max_rows = 240\n",
    "print(df[df[\"num_chars\"] >= 3][[\"context\", \"text\"] + characteristics].sample(10, random_state=10)[[\"context\", \"text\"]].to_latex())"
   ]
  },
  {
   "cell_type": "markdown",
   "metadata": {},
   "source": [
    "## Heatmap"
   ]
  },
  {
   "cell_type": "code",
   "execution_count": 21,
   "metadata": {},
   "outputs": [],
   "source": [
    "multiple = df[df[\"num_chars\"] > 1]\n",
    "\n",
    "multiple[characteristics]\n",
    "\n",
    "heatmap = pd.DataFrame(index=characteristics, columns=characteristics).fillna(0)\n",
    "\n",
    "\n",
    "\n",
    "\n",
    "for idx, row in multiple[characteristics].iterrows():\n",
    "\n",
    "    offended_chars = row.index[row > 0]\n",
    "    # Perdón Guido\n",
    "    for i in range(len(offended_chars)):\n",
    "        first_char = offended_chars[i]\n",
    "        for j in range(i+1, len(offended_chars)):\n",
    "            second_char = offended_chars[j]\n",
    "            \n",
    "            heatmap.loc[first_char, second_char] += 1\n",
    "            heatmap.loc[second_char, first_char] += 1"
   ]
  },
  {
   "cell_type": "code",
   "execution_count": 22,
   "metadata": {},
   "outputs": [
    {
     "data": {
      "text/html": [
       "<div>\n",
       "<style scoped>\n",
       "    .dataframe tbody tr th:only-of-type {\n",
       "        vertical-align: middle;\n",
       "    }\n",
       "\n",
       "    .dataframe tbody tr th {\n",
       "        vertical-align: top;\n",
       "    }\n",
       "\n",
       "    .dataframe thead th {\n",
       "        text-align: right;\n",
       "    }\n",
       "</style>\n",
       "<table border=\"1\" class=\"dataframe\">\n",
       "  <thead>\n",
       "    <tr style=\"text-align: right;\">\n",
       "      <th></th>\n",
       "      <th>MUJER</th>\n",
       "      <th>LGBTI</th>\n",
       "      <th>RACISMO</th>\n",
       "      <th>CLASE</th>\n",
       "      <th>POLITICA</th>\n",
       "      <th>DISCAPAC</th>\n",
       "      <th>APARIENCIA</th>\n",
       "      <th>CRIMINAL</th>\n",
       "    </tr>\n",
       "  </thead>\n",
       "  <tbody>\n",
       "    <tr>\n",
       "      <th>MUJER</th>\n",
       "      <td>0</td>\n",
       "      <td>75</td>\n",
       "      <td>86</td>\n",
       "      <td>48</td>\n",
       "      <td>96</td>\n",
       "      <td>47</td>\n",
       "      <td>365</td>\n",
       "      <td>30</td>\n",
       "    </tr>\n",
       "    <tr>\n",
       "      <th>LGBTI</th>\n",
       "      <td>75</td>\n",
       "      <td>0</td>\n",
       "      <td>42</td>\n",
       "      <td>5</td>\n",
       "      <td>38</td>\n",
       "      <td>35</td>\n",
       "      <td>87</td>\n",
       "      <td>5</td>\n",
       "    </tr>\n",
       "    <tr>\n",
       "      <th>RACISMO</th>\n",
       "      <td>86</td>\n",
       "      <td>42</td>\n",
       "      <td>0</td>\n",
       "      <td>234</td>\n",
       "      <td>179</td>\n",
       "      <td>17</td>\n",
       "      <td>104</td>\n",
       "      <td>130</td>\n",
       "    </tr>\n",
       "    <tr>\n",
       "      <th>CLASE</th>\n",
       "      <td>48</td>\n",
       "      <td>5</td>\n",
       "      <td>234</td>\n",
       "      <td>0</td>\n",
       "      <td>218</td>\n",
       "      <td>14</td>\n",
       "      <td>47</td>\n",
       "      <td>91</td>\n",
       "    </tr>\n",
       "    <tr>\n",
       "      <th>POLITICA</th>\n",
       "      <td>96</td>\n",
       "      <td>38</td>\n",
       "      <td>179</td>\n",
       "      <td>218</td>\n",
       "      <td>0</td>\n",
       "      <td>42</td>\n",
       "      <td>133</td>\n",
       "      <td>80</td>\n",
       "    </tr>\n",
       "    <tr>\n",
       "      <th>DISCAPAC</th>\n",
       "      <td>47</td>\n",
       "      <td>35</td>\n",
       "      <td>17</td>\n",
       "      <td>14</td>\n",
       "      <td>42</td>\n",
       "      <td>0</td>\n",
       "      <td>147</td>\n",
       "      <td>12</td>\n",
       "    </tr>\n",
       "    <tr>\n",
       "      <th>APARIENCIA</th>\n",
       "      <td>365</td>\n",
       "      <td>87</td>\n",
       "      <td>104</td>\n",
       "      <td>47</td>\n",
       "      <td>133</td>\n",
       "      <td>147</td>\n",
       "      <td>0</td>\n",
       "      <td>38</td>\n",
       "    </tr>\n",
       "    <tr>\n",
       "      <th>CRIMINAL</th>\n",
       "      <td>30</td>\n",
       "      <td>5</td>\n",
       "      <td>130</td>\n",
       "      <td>91</td>\n",
       "      <td>80</td>\n",
       "      <td>12</td>\n",
       "      <td>38</td>\n",
       "      <td>0</td>\n",
       "    </tr>\n",
       "  </tbody>\n",
       "</table>\n",
       "</div>"
      ],
      "text/plain": [
       "            MUJER  LGBTI  RACISMO  CLASE  POLITICA  DISCAPAC  APARIENCIA  \\\n",
       "MUJER           0     75       86     48        96        47         365   \n",
       "LGBTI          75      0       42      5        38        35          87   \n",
       "RACISMO        86     42        0    234       179        17         104   \n",
       "CLASE          48      5      234      0       218        14          47   \n",
       "POLITICA       96     38      179    218         0        42         133   \n",
       "DISCAPAC       47     35       17     14        42         0         147   \n",
       "APARIENCIA    365     87      104     47       133       147           0   \n",
       "CRIMINAL       30      5      130     91        80        12          38   \n",
       "\n",
       "            CRIMINAL  \n",
       "MUJER             30  \n",
       "LGBTI              5  \n",
       "RACISMO          130  \n",
       "CLASE             91  \n",
       "POLITICA          80  \n",
       "DISCAPAC          12  \n",
       "APARIENCIA        38  \n",
       "CRIMINAL           0  "
      ]
     },
     "execution_count": 22,
     "metadata": {},
     "output_type": "execute_result"
    }
   ],
   "source": [
    "heatmap.rename(translation, axis=\"index\", inplace=True)\n",
    "heatmap.rename(translation, axis=1, inplace=True)\n",
    "\n",
    "heatmap"
   ]
  },
  {
   "cell_type": "code",
   "execution_count": 31,
   "metadata": {},
   "outputs": [
    {
     "data": {
      "image/png": "[encoded data removed]",
      "text/plain": [
       "<Figure size 432x288 with 1 Axes>"
      ]
     },
     "metadata": {
      "needs_background": "light"
     },
     "output_type": "display_data"
    }
   ],
   "source": [
    "\n",
    "import seaborn as sns\n",
    "\n",
    "sns.heatmap(heatmap, \n",
    "    #annot=True, fmt=\"d\",\n",
    "    cmap=\"viridis\", cbar=False)\n",
    "plt.tight_layout()\n",
    "plt.savefig(\"../figures/heatmap_characteristics.pdf\")"
   ]
  },
  {
   "cell_type": "markdown",
   "metadata": {},
   "source": [
    "## Heatmap artículos\n",
    "\n",
    "Queremos ver cómo da el heatmap pero por artículos: es decir, como es la co-ocurrencia de discurso de odio por artículo y característica\n"
   ]
  },
  {
   "cell_type": "code",
   "execution_count": 32,
   "metadata": {},
   "outputs": [
    {
     "data": {
      "image/png": "[encoded data removed]",
      "text/plain": [
       "<Figure size 432x288 with 1 Axes>"
      ]
     },
     "metadata": {
      "needs_background": "light"
     },
     "output_type": "display_data"
    }
   ],
   "source": [
    "co_ocurrence = df.groupby(\"article_id\").sum()[characteristics]\n",
    "\n",
    "heatmap = pd.DataFrame(index=characteristics, columns=characteristics).fillna(0)\n",
    "\n",
    "\n",
    "for idx, row in co_ocurrence[characteristics].iterrows():\n",
    "    offended_chars = row.index[row > 0]\n",
    "    # Perdón Guido\n",
    "    for i in range(len(offended_chars)):\n",
    "        first_char = offended_chars[i]\n",
    "        for j in range(i+1, len(offended_chars)):\n",
    "            second_char = offended_chars[j]\n",
    "            first = row[[first_char, second_char]].mean()\n",
    "            second =  first\n",
    "            heatmap.loc[first_char, second_char] += first\n",
    "            heatmap.loc[second_char, first_char] += second\n",
    "\n",
    "heatmap.rename(translation, axis=\"index\", inplace=True)\n",
    "heatmap.rename(translation, axis=1, inplace=True)\n",
    "\n",
    "sns.heatmap(heatmap, cbar=False, cmap=\"viridis\")\n",
    "plt.tight_layout()\n",
    "\n",
    "\n",
    "plt.savefig(\"../figures/heatmap_characteristics_article.pdf\")"
   ]
  },
  {
   "cell_type": "code",
   "execution_count": 21,
   "metadata": {},
   "outputs": [
    {
     "data": {
      "image/png": "[encoded data removed]",
      "text/plain": [
       "<Figure size 432x288 with 2 Axes>"
      ]
     },
     "metadata": {
      "needs_background": "light"
     },
     "output_type": "display_data"
    }
   ],
   "source": [
    "co_ocurrence = df.groupby(\"article_id\").sum()[characteristics]\n",
    "\n",
    "heatmap = pd.DataFrame(index=characteristics, columns=characteristics).fillna(0)\n",
    "\n",
    "\n",
    "for idx, row in co_ocurrence[characteristics].iterrows():\n",
    "    offended_chars = row.index[row > 0]\n",
    "    # Perdón Guido\n",
    "    for i in range(len(offended_chars)):\n",
    "        first_char = offended_chars[i]\n",
    "        for j in range(i+1, len(offended_chars)):\n",
    "            second_char = offended_chars[j]\n",
    "            first = 1\n",
    "            second =  1\n",
    "            heatmap.loc[first_char, second_char] += first\n",
    "            heatmap.loc[second_char, first_char] += second\n",
    "\n",
    "\n",
    "sns.heatmap(heatmap, norm)\n",
    "plt.tight_layout()"
   ]
  },
  {
   "cell_type": "code",
   "execution_count": 28,
   "metadata": {},
   "outputs": [
    {
     "data": {
      "text/plain": [
       "<AxesSubplot:>"
      ]
     },
     "execution_count": 28,
     "metadata": {},
     "output_type": "execute_result"
    },
    {
     "data": {
      "image/png": "[encoded data removed]",
      "text/plain": [
       "<Figure size 432x288 with 2 Axes>"
      ]
     },
     "metadata": {
      "needs_background": "light"
     },
     "output_type": "display_data"
    }
   ],
   "source": [
    "sns.heatmap(heatmap.divide(heatmap.sum()))"
   ]
  },
  {
   "cell_type": "markdown",
   "metadata": {},
   "source": [
    "Se vé más o menos igual que el anterior, pero me gusta más ligeramente el otro (está más normalizado)"
   ]
  },
  {
   "cell_type": "markdown",
   "metadata": {},
   "source": []
  }
 ],
 "metadata": {
  "interpreter": {
   "hash": "fa3936583554662006525228d6cd74ca4e5271cbda5ea2e5925b8658368423d2"
  },
  "kernelspec": {
   "display_name": "Python 3.8.10 64-bit ('news-labelling-8oK1LTa4': pipenv)",
   "name": "python3"
  },
  "language_info": {
   "codemirror_mode": {
    "name": "ipython",
    "version": 3
   },
   "file_extension": ".py",
   "mimetype": "text/x-python",
   "name": "python",
   "nbconvert_exporter": "python",
   "pygments_lexer": "ipython3",
   "version": "3.8.12"
  },
  "orig_nbformat": 4
 },
 "nbformat": 4,
 "nbformat_minor": 2
}
